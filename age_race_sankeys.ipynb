{
 "cells": [
  {
   "cell_type": "code",
   "execution_count": 161,
   "id": "7ff7c5ac-81ed-4a00-b5de-c79420c2cd7c",
   "metadata": {},
   "outputs": [],
   "source": [
    "import pandas as pd\n",
    "import numpy as np\n",
    "import seaborn as sns\n",
    "import matplotlib.pyplot as plt\n",
    "import matplotlib.colors as matcolors\n",
    "plt.style.use('ggplot')\n",
    "%matplotlib inline\n",
    "import seaborn as sns\n",
    "import plotly.graph_objects as go\n",
    "from itertools import chain\n",
    "sns.set(font=\"DejaVu Sans\")\n",
    "color_list = sns.cubehelix_palette(n_colors=40, rot=1.8, start=4)\n",
    "color_list = color_list.as_hex()"
   ]
  },
  {
   "cell_type": "code",
   "execution_count": 4,
   "id": "194b6615-2740-47ad-8023-953d5df64d35",
   "metadata": {},
   "outputs": [],
   "source": [
    "to_drop = ['educ1989', 'educflag', 'ageflag', 'age', 'ager52', \n",
    "           'ager12', 'ager22', 'eanum', 'brace', 'raceimp', 'racer3', \n",
    "           'racer5', 'hispanic', 'hspanicr', 'ucr358', 'ucr130', 'ucr39', 'econdp_1',\n",
    "            'econds_1', 'enicon_1', 'econdp_2', 'econds_2', 'enicon_2', 'econdp_3',\n",
    "            'econds_3', 'enicon_3', 'econdp_4', 'econds_4', 'enicon_4', 'econdp_5',\n",
    "            'econds_5', 'enicon_5', 'econdp_6', 'econds_6', 'enicon_6', 'econdp_7', 'econds_7',\n",
    "            'enicon_7', 'econdp_8', 'econds_8', 'enicon_8', 'econdp_9', 'econds_9',\n",
    "            'enicon_9', 'econdp_10', 'econds_10', 'enicon_10', 'econdp_11', 'econds_11', 'enicon_11',\n",
    "            'econdp_12', 'econds_12', 'enicon_12', 'econdp_13', 'econds_13', 'enicon_13',\n",
    "            'econdp_14', 'econds_14', 'enicon_14', 'econdp_15', 'econds_15', 'enicon_15',\n",
    "            'econdp_16', 'econds_16', 'enicon_16', 'econdp_17', 'econds_17', 'enicon_17',\n",
    "            'econdp_18', 'econds_18', 'enicon_18', 'econdp_19', 'econds_19', 'enicon_19', 'econdp_20',\n",
    "            'econds_20', 'enicon_20']"
   ]
  },
  {
   "cell_type": "code",
   "execution_count": 5,
   "id": "fd7c6b5d-0718-4c56-9cfd-bc26ad7804e4",
   "metadata": {},
   "outputs": [],
   "source": [
    "main_df = pd.DataFrame()"
   ]
  },
  {
   "cell_type": "code",
   "execution_count": 6,
   "id": "6fd8f618-0efc-4c6d-9cdc-684274bf0a6e",
   "metadata": {},
   "outputs": [],
   "source": [
    "def clean_mort_file(file_path): \n",
    "    df = pd.read_csv(file_path)\n",
    "    df.drop(columns=to_drop, inplace=True)\n",
    "    df = df[df['ucod'].str.startswith('O')]\n",
    "    return df"
   ]
  },
  {
   "cell_type": "code",
   "execution_count": 7,
   "id": "2c430822-ed65-419d-8fed-14bcd265b417",
   "metadata": {},
   "outputs": [],
   "source": [
    "files_list = ['data/mort2009.csv', 'data/mort2010.csv', \n",
    "             'data/mort2011.csv', 'data/mort2012.csv', \n",
    "             'data/mort2013.csv', 'data/mort2014.csv', \n",
    "             'data/mort2015.csv', 'data/mort2016.csv', \n",
    "             'data/mort2017.csv', 'data/Mort2018US.PubUse.csv']"
   ]
  },
  {
   "cell_type": "code",
   "execution_count": 8,
   "id": "0de43223-3082-4b11-9d43-adeb82603fca",
   "metadata": {},
   "outputs": [
    {
     "name": "stderr",
     "output_type": "stream",
     "text": [
      "/opt/anaconda3/lib/python3.7/site-packages/ipykernel_launcher.py:2: DtypeWarning: Columns (39,42,45,48,51,54,57,60,63,66,69,72,75,78,81,84,87,91,92,93,94,95,96,97,98,99,100,101,102,103,104,105,106) have mixed types.Specify dtype option on import or set low_memory=False.\n",
      "  \n",
      "/opt/anaconda3/lib/python3.7/site-packages/ipykernel_launcher.py:2: DtypeWarning: Columns (63,66,69,72,75,78,81,84,99,100,101,102,103,104,105,106) have mixed types.Specify dtype option on import or set low_memory=False.\n",
      "  \n",
      "/opt/anaconda3/lib/python3.7/site-packages/ipykernel_launcher.py:2: DtypeWarning: Columns (63,66,69,72,75,78,81,84,99,100,101,102,103,104,105,106,107) have mixed types.Specify dtype option on import or set low_memory=False.\n",
      "  \n",
      "/opt/anaconda3/lib/python3.7/site-packages/ipykernel_launcher.py:2: DtypeWarning: Columns (60,63,66,69,72,99,100,101,102,103,104,105) have mixed types.Specify dtype option on import or set low_memory=False.\n",
      "  \n",
      "/opt/anaconda3/lib/python3.7/site-packages/ipykernel_launcher.py:2: DtypeWarning: Columns (60,63,66,69,72,99,100,101,102) have mixed types.Specify dtype option on import or set low_memory=False.\n",
      "  \n",
      "/opt/anaconda3/lib/python3.7/site-packages/ipykernel_launcher.py:2: DtypeWarning: Columns (63,66,69,72,100,101,102,103) have mixed types.Specify dtype option on import or set low_memory=False.\n",
      "  \n",
      "/opt/anaconda3/lib/python3.7/site-packages/ipykernel_launcher.py:2: DtypeWarning: Columns (63,66,69,72,99,100,101,102,103) have mixed types.Specify dtype option on import or set low_memory=False.\n",
      "  \n",
      "/opt/anaconda3/lib/python3.7/site-packages/ipykernel_launcher.py:2: DtypeWarning: Columns (66,69,72,100,101,102,103) have mixed types.Specify dtype option on import or set low_memory=False.\n",
      "  \n"
     ]
    }
   ],
   "source": [
    "for file in files_list: \n",
    "    df = clean_mort_file(file)\n",
    "    main_df = main_df.append(df)"
   ]
  },
  {
   "cell_type": "code",
   "execution_count": 9,
   "id": "3ede637c-92b6-4e2b-b826-a982feab2c22",
   "metadata": {},
   "outputs": [
    {
     "name": "stdout",
     "output_type": "stream",
     "text": [
      "<class 'pandas.core.frame.DataFrame'>\n",
      "Int64Index: 10561 entries, 2113 to 2844169\n",
      "Data columns (total 39 columns):\n",
      " #   Column     Non-Null Count  Dtype  \n",
      "---  ------     --------------  -----  \n",
      " 0   restatus   10561 non-null  int64  \n",
      " 1   educ2003   9840 non-null   float64\n",
      " 2   monthdth   10561 non-null  int64  \n",
      " 3   sex        10561 non-null  object \n",
      " 4   ager27     10561 non-null  int64  \n",
      " 5   placdth    10561 non-null  int64  \n",
      " 6   marstat    10561 non-null  object \n",
      " 7   weekday    10561 non-null  int64  \n",
      " 8   year       10561 non-null  int64  \n",
      " 9   injwork    10561 non-null  object \n",
      " 10  mandeath   9693 non-null   float64\n",
      " 11  methdisp   10561 non-null  object \n",
      " 12  autopsy    10561 non-null  object \n",
      " 13  activity   10 non-null     float64\n",
      " 14  injury     297 non-null    float64\n",
      " 15  ucod       10561 non-null  object \n",
      " 16  ucr113     10561 non-null  int64  \n",
      " 17  ranum      10561 non-null  int64  \n",
      " 18  record_1   10561 non-null  object \n",
      " 19  record_2   3990 non-null   object \n",
      " 20  record_3   1564 non-null   object \n",
      " 21  record_4   671 non-null    object \n",
      " 22  record_5   286 non-null    object \n",
      " 23  record_6   126 non-null    object \n",
      " 24  record_7   60 non-null     object \n",
      " 25  record_8   27 non-null     object \n",
      " 26  record_9   9 non-null      object \n",
      " 27  record_10  6 non-null      object \n",
      " 28  record_11  3 non-null      object \n",
      " 29  record_12  0 non-null      object \n",
      " 30  record_13  0 non-null      object \n",
      " 31  record_14  0 non-null      object \n",
      " 32  record_15  0 non-null      object \n",
      " 33  record_16  0 non-null      float64\n",
      " 34  record_17  0 non-null      float64\n",
      " 35  record_18  0 non-null      float64\n",
      " 36  record_19  0 non-null      float64\n",
      " 37  record_20  0 non-null      float64\n",
      " 38  race       10561 non-null  int64  \n",
      "dtypes: float64(9), int64(9), object(21)\n",
      "memory usage: 3.2+ MB\n"
     ]
    }
   ],
   "source": [
    "main_df.info()"
   ]
  },
  {
   "cell_type": "code",
   "execution_count": 10,
   "id": "c6b675fe-76ea-46eb-a335-916b287ae194",
   "metadata": {},
   "outputs": [],
   "source": [
    "percent_missing = main_df.isnull().sum() * 100 / len(main_df)\n",
    "missing_value_df = pd.DataFrame({'column_name': main_df.columns,\n",
    "                                 'percent_missing': percent_missing})"
   ]
  },
  {
   "cell_type": "code",
   "execution_count": 11,
   "id": "1343cdc8-d211-4448-9750-9ccd6b6ec4a5",
   "metadata": {},
   "outputs": [
    {
     "data": {
      "text/html": [
       "<div>\n",
       "<style scoped>\n",
       "    .dataframe tbody tr th:only-of-type {\n",
       "        vertical-align: middle;\n",
       "    }\n",
       "\n",
       "    .dataframe tbody tr th {\n",
       "        vertical-align: top;\n",
       "    }\n",
       "\n",
       "    .dataframe thead th {\n",
       "        text-align: right;\n",
       "    }\n",
       "</style>\n",
       "<table border=\"1\" class=\"dataframe\">\n",
       "  <thead>\n",
       "    <tr style=\"text-align: right;\">\n",
       "      <th></th>\n",
       "      <th>column_name</th>\n",
       "      <th>percent_missing</th>\n",
       "    </tr>\n",
       "  </thead>\n",
       "  <tbody>\n",
       "    <tr>\n",
       "      <th>restatus</th>\n",
       "      <td>restatus</td>\n",
       "      <td>0.000000</td>\n",
       "    </tr>\n",
       "    <tr>\n",
       "      <th>educ2003</th>\n",
       "      <td>educ2003</td>\n",
       "      <td>6.827005</td>\n",
       "    </tr>\n",
       "    <tr>\n",
       "      <th>monthdth</th>\n",
       "      <td>monthdth</td>\n",
       "      <td>0.000000</td>\n",
       "    </tr>\n",
       "    <tr>\n",
       "      <th>sex</th>\n",
       "      <td>sex</td>\n",
       "      <td>0.000000</td>\n",
       "    </tr>\n",
       "    <tr>\n",
       "      <th>ager27</th>\n",
       "      <td>ager27</td>\n",
       "      <td>0.000000</td>\n",
       "    </tr>\n",
       "    <tr>\n",
       "      <th>placdth</th>\n",
       "      <td>placdth</td>\n",
       "      <td>0.000000</td>\n",
       "    </tr>\n",
       "    <tr>\n",
       "      <th>marstat</th>\n",
       "      <td>marstat</td>\n",
       "      <td>0.000000</td>\n",
       "    </tr>\n",
       "    <tr>\n",
       "      <th>weekday</th>\n",
       "      <td>weekday</td>\n",
       "      <td>0.000000</td>\n",
       "    </tr>\n",
       "    <tr>\n",
       "      <th>year</th>\n",
       "      <td>year</td>\n",
       "      <td>0.000000</td>\n",
       "    </tr>\n",
       "    <tr>\n",
       "      <th>injwork</th>\n",
       "      <td>injwork</td>\n",
       "      <td>0.000000</td>\n",
       "    </tr>\n",
       "    <tr>\n",
       "      <th>mandeath</th>\n",
       "      <td>mandeath</td>\n",
       "      <td>8.218919</td>\n",
       "    </tr>\n",
       "    <tr>\n",
       "      <th>methdisp</th>\n",
       "      <td>methdisp</td>\n",
       "      <td>0.000000</td>\n",
       "    </tr>\n",
       "    <tr>\n",
       "      <th>autopsy</th>\n",
       "      <td>autopsy</td>\n",
       "      <td>0.000000</td>\n",
       "    </tr>\n",
       "    <tr>\n",
       "      <th>activity</th>\n",
       "      <td>activity</td>\n",
       "      <td>99.905312</td>\n",
       "    </tr>\n",
       "    <tr>\n",
       "      <th>injury</th>\n",
       "      <td>injury</td>\n",
       "      <td>97.187766</td>\n",
       "    </tr>\n",
       "    <tr>\n",
       "      <th>ucod</th>\n",
       "      <td>ucod</td>\n",
       "      <td>0.000000</td>\n",
       "    </tr>\n",
       "    <tr>\n",
       "      <th>ucr113</th>\n",
       "      <td>ucr113</td>\n",
       "      <td>0.000000</td>\n",
       "    </tr>\n",
       "    <tr>\n",
       "      <th>ranum</th>\n",
       "      <td>ranum</td>\n",
       "      <td>0.000000</td>\n",
       "    </tr>\n",
       "    <tr>\n",
       "      <th>record_1</th>\n",
       "      <td>record_1</td>\n",
       "      <td>0.000000</td>\n",
       "    </tr>\n",
       "    <tr>\n",
       "      <th>record_2</th>\n",
       "      <td>record_2</td>\n",
       "      <td>62.219487</td>\n",
       "    </tr>\n",
       "    <tr>\n",
       "      <th>record_3</th>\n",
       "      <td>record_3</td>\n",
       "      <td>85.190796</td>\n",
       "    </tr>\n",
       "    <tr>\n",
       "      <th>record_4</th>\n",
       "      <td>record_4</td>\n",
       "      <td>93.646435</td>\n",
       "    </tr>\n",
       "    <tr>\n",
       "      <th>record_5</th>\n",
       "      <td>record_5</td>\n",
       "      <td>97.291923</td>\n",
       "    </tr>\n",
       "    <tr>\n",
       "      <th>record_6</th>\n",
       "      <td>record_6</td>\n",
       "      <td>98.806931</td>\n",
       "    </tr>\n",
       "    <tr>\n",
       "      <th>record_7</th>\n",
       "      <td>record_7</td>\n",
       "      <td>99.431872</td>\n",
       "    </tr>\n",
       "    <tr>\n",
       "      <th>record_8</th>\n",
       "      <td>record_8</td>\n",
       "      <td>99.744342</td>\n",
       "    </tr>\n",
       "    <tr>\n",
       "      <th>record_9</th>\n",
       "      <td>record_9</td>\n",
       "      <td>99.914781</td>\n",
       "    </tr>\n",
       "    <tr>\n",
       "      <th>record_10</th>\n",
       "      <td>record_10</td>\n",
       "      <td>99.943187</td>\n",
       "    </tr>\n",
       "    <tr>\n",
       "      <th>record_11</th>\n",
       "      <td>record_11</td>\n",
       "      <td>99.971594</td>\n",
       "    </tr>\n",
       "    <tr>\n",
       "      <th>record_12</th>\n",
       "      <td>record_12</td>\n",
       "      <td>100.000000</td>\n",
       "    </tr>\n",
       "    <tr>\n",
       "      <th>record_13</th>\n",
       "      <td>record_13</td>\n",
       "      <td>100.000000</td>\n",
       "    </tr>\n",
       "    <tr>\n",
       "      <th>record_14</th>\n",
       "      <td>record_14</td>\n",
       "      <td>100.000000</td>\n",
       "    </tr>\n",
       "    <tr>\n",
       "      <th>record_15</th>\n",
       "      <td>record_15</td>\n",
       "      <td>100.000000</td>\n",
       "    </tr>\n",
       "    <tr>\n",
       "      <th>record_16</th>\n",
       "      <td>record_16</td>\n",
       "      <td>100.000000</td>\n",
       "    </tr>\n",
       "    <tr>\n",
       "      <th>record_17</th>\n",
       "      <td>record_17</td>\n",
       "      <td>100.000000</td>\n",
       "    </tr>\n",
       "    <tr>\n",
       "      <th>record_18</th>\n",
       "      <td>record_18</td>\n",
       "      <td>100.000000</td>\n",
       "    </tr>\n",
       "    <tr>\n",
       "      <th>record_19</th>\n",
       "      <td>record_19</td>\n",
       "      <td>100.000000</td>\n",
       "    </tr>\n",
       "    <tr>\n",
       "      <th>record_20</th>\n",
       "      <td>record_20</td>\n",
       "      <td>100.000000</td>\n",
       "    </tr>\n",
       "    <tr>\n",
       "      <th>race</th>\n",
       "      <td>race</td>\n",
       "      <td>0.000000</td>\n",
       "    </tr>\n",
       "  </tbody>\n",
       "</table>\n",
       "</div>"
      ],
      "text/plain": [
       "          column_name  percent_missing\n",
       "restatus     restatus         0.000000\n",
       "educ2003     educ2003         6.827005\n",
       "monthdth     monthdth         0.000000\n",
       "sex               sex         0.000000\n",
       "ager27         ager27         0.000000\n",
       "placdth       placdth         0.000000\n",
       "marstat       marstat         0.000000\n",
       "weekday       weekday         0.000000\n",
       "year             year         0.000000\n",
       "injwork       injwork         0.000000\n",
       "mandeath     mandeath         8.218919\n",
       "methdisp     methdisp         0.000000\n",
       "autopsy       autopsy         0.000000\n",
       "activity     activity        99.905312\n",
       "injury         injury        97.187766\n",
       "ucod             ucod         0.000000\n",
       "ucr113         ucr113         0.000000\n",
       "ranum           ranum         0.000000\n",
       "record_1     record_1         0.000000\n",
       "record_2     record_2        62.219487\n",
       "record_3     record_3        85.190796\n",
       "record_4     record_4        93.646435\n",
       "record_5     record_5        97.291923\n",
       "record_6     record_6        98.806931\n",
       "record_7     record_7        99.431872\n",
       "record_8     record_8        99.744342\n",
       "record_9     record_9        99.914781\n",
       "record_10   record_10        99.943187\n",
       "record_11   record_11        99.971594\n",
       "record_12   record_12       100.000000\n",
       "record_13   record_13       100.000000\n",
       "record_14   record_14       100.000000\n",
       "record_15   record_15       100.000000\n",
       "record_16   record_16       100.000000\n",
       "record_17   record_17       100.000000\n",
       "record_18   record_18       100.000000\n",
       "record_19   record_19       100.000000\n",
       "record_20   record_20       100.000000\n",
       "race             race         0.000000"
      ]
     },
     "execution_count": 11,
     "metadata": {},
     "output_type": "execute_result"
    }
   ],
   "source": [
    "missing_value_df"
   ]
  },
  {
   "cell_type": "code",
   "execution_count": 12,
   "id": "0f747154-e357-45e0-a8b1-b066d7f6ae76",
   "metadata": {},
   "outputs": [],
   "source": [
    "to_drop = ['record_6', 'record_7', 'record_8', 'record_9', 'record_10', 'record_11', 'record_12', \n",
    "          'record_13', 'record_14', 'record_15', 'record_16', 'record_17', 'record_18', \n",
    "          'record_19', 'record_20', 'activity', 'injury']"
   ]
  },
  {
   "cell_type": "code",
   "execution_count": 13,
   "id": "d3d77a08-c441-4b07-ae79-89d5b8eaf783",
   "metadata": {},
   "outputs": [],
   "source": [
    "main_df.drop(to_drop, inplace=True, axis=1)"
   ]
  },
  {
   "cell_type": "code",
   "execution_count": 14,
   "id": "edcac4ed-9f47-46c9-953c-38b6b3589121",
   "metadata": {},
   "outputs": [
    {
     "name": "stdout",
     "output_type": "stream",
     "text": [
      "<class 'pandas.core.frame.DataFrame'>\n",
      "Int64Index: 10561 entries, 2113 to 2844169\n",
      "Data columns (total 22 columns):\n",
      " #   Column    Non-Null Count  Dtype  \n",
      "---  ------    --------------  -----  \n",
      " 0   restatus  10561 non-null  int64  \n",
      " 1   educ2003  9840 non-null   float64\n",
      " 2   monthdth  10561 non-null  int64  \n",
      " 3   sex       10561 non-null  object \n",
      " 4   ager27    10561 non-null  int64  \n",
      " 5   placdth   10561 non-null  int64  \n",
      " 6   marstat   10561 non-null  object \n",
      " 7   weekday   10561 non-null  int64  \n",
      " 8   year      10561 non-null  int64  \n",
      " 9   injwork   10561 non-null  object \n",
      " 10  mandeath  9693 non-null   float64\n",
      " 11  methdisp  10561 non-null  object \n",
      " 12  autopsy   10561 non-null  object \n",
      " 13  ucod      10561 non-null  object \n",
      " 14  ucr113    10561 non-null  int64  \n",
      " 15  ranum     10561 non-null  int64  \n",
      " 16  record_1  10561 non-null  object \n",
      " 17  record_2  3990 non-null   object \n",
      " 18  record_3  1564 non-null   object \n",
      " 19  record_4  671 non-null    object \n",
      " 20  record_5  286 non-null    object \n",
      " 21  race      10561 non-null  int64  \n",
      "dtypes: float64(2), int64(9), object(11)\n",
      "memory usage: 1.9+ MB\n"
     ]
    }
   ],
   "source": [
    "main_df.info()"
   ]
  },
  {
   "cell_type": "code",
   "execution_count": 15,
   "id": "533e1339-9708-4452-96a6-c451662d65c6",
   "metadata": {},
   "outputs": [],
   "source": [
    "main_df.reset_index(inplace=True)"
   ]
  },
  {
   "cell_type": "code",
   "execution_count": null,
   "id": "70aa3e94",
   "metadata": {},
   "outputs": [],
   "source": []
  },
  {
   "cell_type": "code",
   "execution_count": null,
   "id": "321baf55",
   "metadata": {},
   "outputs": [],
   "source": []
  },
  {
   "cell_type": "code",
   "execution_count": 31,
   "id": "ebdb5da6-fe3b-404b-bf7b-115e3d4bdd18",
   "metadata": {},
   "outputs": [],
   "source": [
    "df = main_df.copy()"
   ]
  },
  {
   "cell_type": "code",
   "execution_count": 32,
   "id": "acb7b788",
   "metadata": {},
   "outputs": [],
   "source": [
    "df.dropna(subset=['educ2003', 'mandeath'], inplace=True)"
   ]
  },
  {
   "cell_type": "code",
   "execution_count": 33,
   "id": "f5e7a313-21a7-4c9a-b5d2-bd0b3f62f01d",
   "metadata": {},
   "outputs": [
    {
     "name": "stdout",
     "output_type": "stream",
     "text": [
      "<class 'pandas.core.frame.DataFrame'>\n",
      "Int64Index: 9113 entries, 6 to 10560\n",
      "Data columns (total 23 columns):\n",
      " #   Column    Non-Null Count  Dtype  \n",
      "---  ------    --------------  -----  \n",
      " 0   index     9113 non-null   int64  \n",
      " 1   restatus  9113 non-null   int64  \n",
      " 2   educ2003  9113 non-null   float64\n",
      " 3   monthdth  9113 non-null   int64  \n",
      " 4   sex       9113 non-null   object \n",
      " 5   ager27    9113 non-null   int64  \n",
      " 6   placdth   9113 non-null   int64  \n",
      " 7   marstat   9113 non-null   object \n",
      " 8   weekday   9113 non-null   int64  \n",
      " 9   year      9113 non-null   int64  \n",
      " 10  injwork   9113 non-null   object \n",
      " 11  mandeath  9113 non-null   float64\n",
      " 12  methdisp  9113 non-null   object \n",
      " 13  autopsy   9113 non-null   object \n",
      " 14  ucod      9113 non-null   object \n",
      " 15  ucr113    9113 non-null   int64  \n",
      " 16  ranum     9113 non-null   int64  \n",
      " 17  record_1  9113 non-null   object \n",
      " 18  record_2  3439 non-null   object \n",
      " 19  record_3  1361 non-null   object \n",
      " 20  record_4  587 non-null    object \n",
      " 21  record_5  259 non-null    object \n",
      " 22  race      9113 non-null   int64  \n",
      "dtypes: float64(2), int64(10), object(11)\n",
      "memory usage: 1.7+ MB\n"
     ]
    }
   ],
   "source": [
    "df.info()"
   ]
  },
  {
   "cell_type": "code",
   "execution_count": 34,
   "id": "0ad91f8d-b944-4aa8-9dbb-6dad62fd97a4",
   "metadata": {},
   "outputs": [],
   "source": [
    "#  fill NA as None string for records without additional information \n",
    "\n",
    "df.record_2.fillna(value='None', inplace=True)\n",
    "df.record_3.fillna(value='None', inplace=True)\n",
    "df.record_4.fillna(value='None', inplace=True)\n",
    "df.record_5.fillna(value='None', inplace=True)"
   ]
  },
  {
   "cell_type": "code",
   "execution_count": 121,
   "id": "d8963db0",
   "metadata": {},
   "outputs": [],
   "source": [
    "# create a dictionary for the causes involved in this chart\n",
    "causes_dict = {'O268s': 'O268: Other Specified Pregnancy-Related Conditions(s)',\n",
    "               'O998s': 'O998: Other Specified Diseases Complicating Pregnancy(s)',\n",
    "               'O961s': 'O961: Indirect Obstetric Cause, 42d-365d post-delivery(s)',\n",
    "               'O960s': 'O960: Direct Obstetric Cause, 42d-365d post-delivery(s)',\n",
    "               'O994s': 'O994: Diseases of the Circulatory System(s)', \n",
    "               'O903s': 'O903: Cardiomyopathy in the puerperium',\n",
    "               \n",
    "               'A419': 'A419: Sepsis, unspecified',\n",
    "               'O881': 'O881: Amniotic Fluid Embolism',\n",
    "                   'C509': 'C509: Breast Neoplasm, Unspecified',\n",
    "               'C910': 'C910: Acute lymphoblastic leukaemia', \n",
    "                   'None': 'No Secondary Cause Reported',\n",
    "                    'O960': 'O960: Direct Obstetric Cause, 42d-365d post-delivery',\n",
    "                   'O268': 'O268: Other Specified Pregnancy-Related Conditions',\n",
    "                   'R99': 'R99: Illness or Undefined Cause of Mortality',\n",
    "                 'O961': 'O961: Indirect Obstetric Cause, 42d-365d post-delivery(s)',\n",
    "               'F179': 'F179: Unspecified disorder due to use of tobacco',\n",
    "               'F191': 'F191: Mental and behavioural disorders due to harmful use of other psychoactive substances', \n",
    "               'O998': 'O998: Other Specified Diseases Complicating Pregnancy', \n",
    "                   'O995': 'O995: Diseases of the Respiratory System',\n",
    "                   'I499': 'I499: Cardiac Arrhythmia, Unspecified', \n",
    "                   'O998': 'O998: Other Specified Diseases Complicating Pregnancy',\n",
    "                   'O961': 'O961: Indirect Obstetric Cause, 42d-365d post-delivery',\n",
    "                   'O266': 'O266: Liver Disorder',\n",
    "               'O721': 'O721: Other immediate postpartum haemorrhage', \n",
    "               'G931': 'G931: Anoxic brain damage, not elsewhere classified',\n",
    "               'G932': 'G932: Benign intracranial hypertension',\n",
    "               'G122': 'G122: Motor neuron disease', \n",
    "               'B24': 'B24: Unspecified HIV Disease', \n",
    "               'O985': 'O985: Other viral diseases complicating pregnancy, childbirth and the puerperium', \n",
    "               'O987': 'O987: HIV disease complicating pregnancy, childbirth and the puerperium', \n",
    "               'O903': 'O903: Cardiomyopathy in the puerperium',\n",
    "               'O994': 'O994: Diseases of the Circulatory System',\n",
    "               'I119': 'I119: Hypertensive heart disease without (congestive) heart failure',     \n",
    "               'I219': 'I219: Acute myocardial infarction, unspecified',\n",
    "                   'I269': 'I269: Pulmonary Embolism',\n",
    "               'I330': 'I330: Acute and subacute infective endocarditis', \n",
    "               'I420': 'I420: Dilated cardiomyopathy',\n",
    "               'I428': 'I428: Other cardiomyopathies', \n",
    "               'I429': 'I429: Cardiomyopathy, unspecified', \n",
    "               'J159': 'J159: Bacterial pneumonia, unspecified', \n",
    "               'J189': 'J189: Pneumonia, unspecified',\n",
    "               'J459': 'J459: Asthma, unspecified', \n",
    "               'O100': 'O100: Pre-existing Hypertension',\n",
    "                   'O882': 'O882: Obstetric blood-clot embolism',\n",
    "               'S930': 'S930: Dislocation of ankle joint', \n",
    "            'T509': 'T509: Unspecified Drugs',\n",
    "               'T436': 'T436: Psychostimulants with abuse potential',\n",
    "               'T71': 'T71: Asphyxiation', \n",
    "               'T862': 'T862: Heart transplant failure and rejection',\n",
    "               'O149': 'O149: Pre-eclampsia, unspecified', \n",
    "               'O249': 'O249: Diabetes mellitus in pregnancy, unspecified',\n",
    "                   'O993': 'O993: Diseases of the Nervous System / Mental Disorders',\n",
    "                   'O988': 'O988: Infection / Parasitic Disease, Other', \n",
    "              'O908': 'O908: Other complications of the puerperium, not elsewhere classified'}"
   ]
  },
  {
   "cell_type": "code",
   "execution_count": 36,
   "id": "da2ee6c4-c825-41ba-b93b-597b9293f03b",
   "metadata": {},
   "outputs": [],
   "source": [
    "# Records for women ages 10 to 54\n",
    "ten_fiftyfive = df[df['ager27']<=16]"
   ]
  },
  {
   "cell_type": "code",
   "execution_count": 37,
   "id": "67ff0151-39ec-4e3b-9e57-d7c44b2abaef",
   "metadata": {},
   "outputs": [
    {
     "name": "stdout",
     "output_type": "stream",
     "text": [
      "<class 'pandas.core.frame.DataFrame'>\n",
      "Int64Index: 9070 entries, 6 to 10560\n",
      "Data columns (total 23 columns):\n",
      " #   Column    Non-Null Count  Dtype  \n",
      "---  ------    --------------  -----  \n",
      " 0   index     9070 non-null   int64  \n",
      " 1   restatus  9070 non-null   int64  \n",
      " 2   educ2003  9070 non-null   float64\n",
      " 3   monthdth  9070 non-null   int64  \n",
      " 4   sex       9070 non-null   object \n",
      " 5   ager27    9070 non-null   int64  \n",
      " 6   placdth   9070 non-null   int64  \n",
      " 7   marstat   9070 non-null   object \n",
      " 8   weekday   9070 non-null   int64  \n",
      " 9   year      9070 non-null   int64  \n",
      " 10  injwork   9070 non-null   object \n",
      " 11  mandeath  9070 non-null   float64\n",
      " 12  methdisp  9070 non-null   object \n",
      " 13  autopsy   9070 non-null   object \n",
      " 14  ucod      9070 non-null   object \n",
      " 15  ucr113    9070 non-null   int64  \n",
      " 16  ranum     9070 non-null   int64  \n",
      " 17  record_1  9070 non-null   object \n",
      " 18  record_2  9070 non-null   object \n",
      " 19  record_3  9070 non-null   object \n",
      " 20  record_4  9070 non-null   object \n",
      " 21  record_5  9070 non-null   object \n",
      " 22  race      9070 non-null   int64  \n",
      "dtypes: float64(2), int64(10), object(11)\n",
      "memory usage: 1.7+ MB\n"
     ]
    }
   ],
   "source": [
    "ten_fiftyfive.info()"
   ]
  },
  {
   "cell_type": "code",
   "execution_count": 38,
   "id": "ddd0ec71",
   "metadata": {},
   "outputs": [],
   "source": [
    "race_dict = {1: 'White', 2: 'Black', 3: 'AmIndian/AlaskaNative', 6: 'NatHaw/OtherPacIsl', 4: 'Asian', \n",
    "            5: 'Asian', 7: 'Asian', 18: 'Asian', 28: 'Asian', 38: 'Asian', \n",
    "            48: 'Asian', 58: 'NatHaw/OtherPacIsl', 68: 'NatHaw/OtherPacIsl', \n",
    "            78: 'NatHaw/OtherPacIsl'}"
   ]
  },
  {
   "cell_type": "code",
   "execution_count": 39,
   "id": "b1e98586-eb1f-4158-87b5-72d81977c632",
   "metadata": {},
   "outputs": [
    {
     "name": "stderr",
     "output_type": "stream",
     "text": [
      "/opt/anaconda3/lib/python3.7/site-packages/pandas/core/generic.py:5507: SettingWithCopyWarning: \n",
      "A value is trying to be set on a copy of a slice from a DataFrame.\n",
      "Try using .loc[row_indexer,col_indexer] = value instead\n",
      "\n",
      "See the caveats in the documentation: https://pandas.pydata.org/pandas-docs/stable/user_guide/indexing.html#returning-a-view-versus-a-copy\n",
      "  self[name] = value\n"
     ]
    }
   ],
   "source": [
    "ten_fiftyfive.race = ten_fiftyfive.race.replace(to_replace=race_dict)"
   ]
  },
  {
   "cell_type": "code",
   "execution_count": 40,
   "id": "ff02d678-3d39-4f2b-9e0e-63d305ded1e4",
   "metadata": {},
   "outputs": [
    {
     "data": {
      "text/plain": [
       "array(['White', 'Black', 'Asian', 'NatHaw/OtherPacIsl',\n",
       "       'AmIndian/AlaskaNative'], dtype=object)"
      ]
     },
     "execution_count": 40,
     "metadata": {},
     "output_type": "execute_result"
    }
   ],
   "source": [
    "ten_fiftyfive.race.unique()"
   ]
  },
  {
   "cell_type": "code",
   "execution_count": 41,
   "id": "d6233258-301b-4415-a1f1-10103cd25c8c",
   "metadata": {},
   "outputs": [
    {
     "name": "stdout",
     "output_type": "stream",
     "text": [
      "<class 'pandas.core.frame.DataFrame'>\n",
      "Int64Index: 5821 entries, 6 to 10559\n",
      "Data columns (total 23 columns):\n",
      " #   Column    Non-Null Count  Dtype  \n",
      "---  ------    --------------  -----  \n",
      " 0   index     5821 non-null   int64  \n",
      " 1   restatus  5821 non-null   int64  \n",
      " 2   educ2003  5821 non-null   float64\n",
      " 3   monthdth  5821 non-null   int64  \n",
      " 4   sex       5821 non-null   object \n",
      " 5   ager27    5821 non-null   int64  \n",
      " 6   placdth   5821 non-null   int64  \n",
      " 7   marstat   5821 non-null   object \n",
      " 8   weekday   5821 non-null   int64  \n",
      " 9   year      5821 non-null   int64  \n",
      " 10  injwork   5821 non-null   object \n",
      " 11  mandeath  5821 non-null   float64\n",
      " 12  methdisp  5821 non-null   object \n",
      " 13  autopsy   5821 non-null   object \n",
      " 14  ucod      5821 non-null   object \n",
      " 15  ucr113    5821 non-null   int64  \n",
      " 16  ranum     5821 non-null   int64  \n",
      " 17  record_1  5821 non-null   object \n",
      " 18  record_2  5821 non-null   object \n",
      " 19  record_3  5821 non-null   object \n",
      " 20  record_4  5821 non-null   object \n",
      " 21  record_5  5821 non-null   object \n",
      " 22  race      5821 non-null   object \n",
      "dtypes: float64(2), int64(9), object(12)\n",
      "memory usage: 1.1+ MB\n"
     ]
    }
   ],
   "source": [
    "over30 = ten_fiftyfive[ten_fiftyfive['ager27']>=12]\n",
    "over30.info()"
   ]
  },
  {
   "cell_type": "code",
   "execution_count": 43,
   "id": "64b88dfa-265b-4d66-91f2-0bea8c0bb636",
   "metadata": {},
   "outputs": [],
   "source": [
    "over30_white = over30[over30['race']=='White']"
   ]
  },
  {
   "cell_type": "code",
   "execution_count": 44,
   "id": "3b44deba-ab69-4e66-a975-da9cc0909dcd",
   "metadata": {},
   "outputs": [],
   "source": [
    "over30_black = over30[over30['race']=='Black']"
   ]
  },
  {
   "cell_type": "code",
   "execution_count": 45,
   "id": "aa38d84b-57b4-4d4b-adb0-69a253f6e375",
   "metadata": {},
   "outputs": [],
   "source": [
    "under30 = ten_fiftyfive[ten_fiftyfive['ager27']<=11]"
   ]
  },
  {
   "cell_type": "code",
   "execution_count": 46,
   "id": "dd9b0441-7d3c-4da7-bf41-dbebda25283f",
   "metadata": {},
   "outputs": [],
   "source": [
    "under30_white = under30[under30['race']=='White']"
   ]
  },
  {
   "cell_type": "code",
   "execution_count": 47,
   "id": "fd78875f-0060-411b-8074-8f76ffcdca1e",
   "metadata": {},
   "outputs": [],
   "source": [
    "under30_black = under30[under30['race']=='Black']"
   ]
  },
  {
   "cell_type": "code",
   "execution_count": 224,
   "id": "6286a2fe",
   "metadata": {},
   "outputs": [
    {
     "name": "stdout",
     "output_type": "stream",
     "text": [
      "Under 30 Black with Record 2:  0.3609625668449198\n",
      "Under 30 White with Record 2:  0.3602015113350126\n",
      "Over 30 Black with Record 2:  0.38238573021181715\n",
      "Over 30 White with Record 2:  0.3814067611777535\n"
     ]
    }
   ],
   "source": [
    "print('Under 30 Black with Record 2: ', len(under30_black[under30_black['record_2']!='None'])/len(under30_black))\n",
    "print('Under 30 White with Record 2: ', len(under30_white[under30_white['record_2']!='None'])/len(under30_white))\n",
    "print('Over 30 Black with Record 2: ', len(over30_black[over30_black['record_2']!='None'])/len(over30_black))\n",
    "print('Over 30 White with Record 2: ', len(over30_white[over30_white['record_2']!='None'])/len(over30_white))\n"
   ]
  },
  {
   "cell_type": "code",
   "execution_count": 225,
   "id": "53591350",
   "metadata": {},
   "outputs": [
    {
     "name": "stdout",
     "output_type": "stream",
     "text": [
      "Under 30 Black with Record 3:  0.13458110516934046\n",
      "Under 30 White with Record 3:  0.15768261964735517\n",
      "Over 30 Black with Record 3:  0.13768115942028986\n",
      "Over 30 White with Record 3:  0.15212649945474374\n"
     ]
    }
   ],
   "source": [
    "print('Under 30 Black with Record 3: ', len(under30_black[under30_black['record_3']!='None'])/len(under30_black))\n",
    "print('Under 30 White with Record 3: ', len(under30_white[under30_white['record_3']!='None'])/len(under30_white))\n",
    "print('Over 30 Black with Record 3: ', len(over30_black[over30_black['record_3']!='None'])/len(over30_black))\n",
    "print('Over 30 White with Record 3: ', len(over30_white[over30_white['record_3']!='None'])/len(over30_white))\n"
   ]
  },
  {
   "cell_type": "code",
   "execution_count": 226,
   "id": "d2cf2a6c",
   "metadata": {},
   "outputs": [
    {
     "name": "stdout",
     "output_type": "stream",
     "text": [
      "Under 30 Black with Record 4:  0.05525846702317291\n",
      "Under 30 White with Record 4:  0.06700251889168765\n",
      "Over 30 Black with Record 4:  0.06020066889632107\n",
      "Over 30 White with Record 4:  0.0673391494002181\n"
     ]
    }
   ],
   "source": [
    "print('Under 30 Black with Record 4: ', len(under30_black[under30_black['record_4']!='None'])/len(under30_black))\n",
    "print('Under 30 White with Record 4: ', len(under30_white[under30_white['record_4']!='None'])/len(under30_white))\n",
    "print('Over 30 Black with Record 4: ', len(over30_black[over30_black['record_4']!='None'])/len(over30_black))\n",
    "print('Over 30 White with Record 4: ', len(over30_white[over30_white['record_4']!='None'])/len(over30_white))\n"
   ]
  },
  {
   "cell_type": "code",
   "execution_count": 162,
   "id": "0308638f",
   "metadata": {},
   "outputs": [],
   "source": [
    "def create_sankey_df(df): \n",
    "    san = pd.DataFrame(columns=['source', 'target', 'value'])\n",
    "    top_5 = df.record_1.value_counts(normalize=True)[:5]\n",
    "    df1 = df[df['record_1']==top_5.index[0]]\n",
    "    df2 = df[df['record_1']==top_5.index[1]]\n",
    "    df3 = df[df['record_1']==top_5.index[2]]\n",
    "    df4 = df[df['record_1']==top_5.index[3]]\n",
    "    df5 = df[df['record_1']==top_5.index[4]]\n",
    "    list_of_dfs = [df1, df2, df3, df4, df5]\n",
    "    list_of_top_5 = top_5.index\n",
    "    list_of_causes = []\n",
    "    list_of_causes.append(list_of_top_5.tolist())\n",
    "    for i in range(5): \n",
    "        san = san.append({'source': 'Top 5 Causes', 'target': top_5.index[i]+'s', 'value': top_5[i]*100}, ignore_index=True)\n",
    "    for idx, df in enumerate(list_of_dfs): \n",
    "        top = df.record_2.value_counts(normalize=True)[:5]\n",
    "        list_of_causes.append(top.index.tolist())\n",
    "        for i in range(5): \n",
    "            san = san.append({'source': list_of_top_5[idx]+'s', 'target': top.index[i], 'value': top[i]*100}, ignore_index=True)\n",
    "    list_of_causes = list(set(list(chain.from_iterable(list_of_causes))))\n",
    "    return san, list_of_causes"
   ]
  },
  {
   "cell_type": "code",
   "execution_count": null,
   "id": "7f114590",
   "metadata": {},
   "outputs": [],
   "source": []
  },
  {
   "cell_type": "code",
   "execution_count": 163,
   "id": "79a871de",
   "metadata": {},
   "outputs": [],
   "source": [
    "otw_san, list_otw_causes = create_sankey_df(over30_white)"
   ]
  },
  {
   "cell_type": "code",
   "execution_count": 164,
   "id": "73fb5888",
   "metadata": {},
   "outputs": [
    {
     "data": {
      "text/plain": [
       "['O998',\n",
       " 'O994',\n",
       " 'O961',\n",
       " 'O993',\n",
       " 'I269',\n",
       " 'None',\n",
       " 'O882',\n",
       " 'T509',\n",
       " 'R99',\n",
       " 'O266',\n",
       " 'O995',\n",
       " 'F179',\n",
       " 'O249',\n",
       " 'O960',\n",
       " 'O268',\n",
       " 'O100',\n",
       " 'T436',\n",
       " 'O988',\n",
       " 'I499']"
      ]
     },
     "execution_count": 164,
     "metadata": {},
     "output_type": "execute_result"
    }
   ],
   "source": [
    "list_otw_causes"
   ]
  },
  {
   "cell_type": "code",
   "execution_count": 165,
   "id": "eb358559",
   "metadata": {},
   "outputs": [],
   "source": [
    "def set_sources_targets_nodes(san): \n",
    "    #   set source list from created 'san' df\n",
    "    source_set = set([x for x in san.source])\n",
    "    source_list = list(source_set)\n",
    "    source_map = dict(zip(source_list,range(len(source_list))))\n",
    "    source_map = {v: k for k, v in source_map.items()}\n",
    "    #   set target list from created 'san' df\n",
    "    target_set = set([x for x in san.target[5:]])\n",
    "    target_list = list(target_set)\n",
    "    target_map = dict(zip(target_list,range(6, 6+len(target_list))))\n",
    "    target_map = {v: k for k, v in target_map.items()}\n",
    "    #   set source list from created 'san' df\n",
    "\n",
    "    source_nodes_list = source_list + target_list\n",
    "    #   set nodes map from source & target maps \n",
    "    nodes_map = {**source_map, **target_map}\n",
    "    return source_map, target_map, nodes_map\n"
   ]
  },
  {
   "cell_type": "code",
   "execution_count": 166,
   "id": "d040177e",
   "metadata": {},
   "outputs": [],
   "source": [
    "otw_source_map, otw_target_map, otw_nodes_map = set_sources_targets_nodes(otw_san)"
   ]
  },
  {
   "cell_type": "code",
   "execution_count": 167,
   "id": "f18e5aa9",
   "metadata": {},
   "outputs": [],
   "source": [
    "# Sankeys only take numbers; make copy to create coded dataframe for sankey input\n",
    "otw_san_coded = otw_san.copy()"
   ]
  },
  {
   "cell_type": "code",
   "execution_count": 168,
   "id": "c8c20a19-b186-4bd0-a284-86b980d6422a",
   "metadata": {},
   "outputs": [],
   "source": [
    "# replace sources with their numbers \n",
    "otw_san_coded.source = otw_san_coded.source.replace(to_replace={v: k for k, v in otw_source_map.items()})"
   ]
  },
  {
   "cell_type": "code",
   "execution_count": 169,
   "id": "f0c9b7d5",
   "metadata": {},
   "outputs": [],
   "source": [
    "# replace targets with their numbers (first targets then targets that are also sources, e.g. first 5)\n",
    "\n",
    "otw_san_coded.target = otw_san_coded.target.replace(to_replace={v: k for k, v in otw_target_map.items()})\n",
    "otw_san_coded.target = otw_san_coded.target.replace(to_replace={v: k for k, v in otw_source_map.items()})"
   ]
  },
  {
   "cell_type": "code",
   "execution_count": 170,
   "id": "98f65a5b",
   "metadata": {},
   "outputs": [],
   "source": [
    "# create nodes dataframe for sankey \n",
    "nodes = pd.DataFrame(columns=['ID', 'Label', 'Color'])"
   ]
  },
  {
   "cell_type": "code",
   "execution_count": 171,
   "id": "1330f2fe",
   "metadata": {},
   "outputs": [],
   "source": [
    "# fill in nodes dataframe with Id, label, and color\n",
    "nodes['ID'] = [k for k, v in otw_nodes_map.items()]\n",
    "nodes['Label'] = [v for k, v in otw_nodes_map.items()]\n",
    "# replace values with causes dict to put more information about cause of death on the diagram \n",
    "nodes.Label.replace(to_replace=causes_dict, inplace=True)\n",
    "nodes['Color'] = color_list[:23]"
   ]
  },
  {
   "cell_type": "code",
   "execution_count": 173,
   "id": "21a8a72c-d022-4008-b76e-b7739a0f8e5b",
   "metadata": {},
   "outputs": [
    {
     "data": {
      "application/vnd.plotly.v1+json": {
       "config": {
        "plotlyServerURL": "https://plot.ly"
       },
       "data": [
        {
         "link": {
          "source": [
           0,
           0,
           0,
           0,
           0,
           2,
           2,
           2,
           2,
           2,
           4,
           4,
           4,
           4,
           4,
           3,
           3,
           3,
           3,
           3,
           5,
           5,
           5,
           5,
           5,
           1,
           1,
           1,
           1,
           1
          ],
          "target": [
           2,
           4,
           3,
           5,
           1,
           19,
           21,
           14,
           22,
           6,
           19,
           9,
           16,
           18,
           17,
           19,
           8,
           11,
           20,
           13,
           19,
           10,
           12,
           15,
           11,
           19,
           7,
           11,
           18,
           22
          ],
          "value": [
           20.09269356597601,
           14.612868047982552,
           10.659760087241004,
           7.088331515812432,
           6.13413304252999,
           66.35006784260516,
           2.3066485753052914,
           2.3066485753052914,
           2.03527815468114,
           1.7639077340569878,
           58.95522388059702,
           9.888059701492537,
           8.208955223880597,
           5.7835820895522385,
           3.731343283582089,
           78.00511508951406,
           1.5345268542199488,
           1.0230179028132993,
           0.7672634271099744,
           0.7672634271099744,
           65.38461538461539,
           13.461538461538462,
           1.5384615384615385,
           1.153846153846154,
           1.153846153846154,
           82.22222222222221,
           2.2222222222222223,
           2.2222222222222223,
           1.7777777777777777,
           0.8888888888888888
          ]
         },
         "node": {
          "color": [
           "#c6dfea",
           "#bfdee3",
           "#b5dcda",
           "#add9ce",
           "#a8d7c4",
           "#a3d4b7",
           "#a1d0ad",
           "#9fcb9f",
           "#a0c593",
           "#a1bf8a",
           "#a4b780",
           "#a7af7a",
           "#aca674",
           "#b09c71",
           "#b39470",
           "#b58a71",
           "#b68273",
           "#b67977",
           "#b3717d",
           "#af6b82",
           "#a96588",
           "#a1618c",
           "#975d91"
          ],
          "label": [
           "Top 5 Causes",
           "O994: Diseases of the Circulatory System(s)",
           "O268: Other Specified Pregnancy-Related Conditions(s)",
           "O961: Indirect Obstetric Cause, 42d-365d post-delivery(s)",
           "O998: Other Specified Diseases Complicating Pregnancy(s)",
           "O960: Direct Obstetric Cause, 42d-365d post-delivery(s)",
           "O100: Pre-existing Hypertension",
           "O998: Other Specified Diseases Complicating Pregnancy",
           "T509: Unspecified Drugs",
           "O994: Diseases of the Circulatory System",
           "O961: Indirect Obstetric Cause, 42d-365d post-delivery",
           "R99: Illness or Undefined Cause of Mortality",
           "I269: Pulmonary Embolism",
           "I499: Cardiac Arrhythmia, Unspecified",
           "O266: Liver Disorder",
           "T436: Psychostimulants with abuse potential",
           "O993: Diseases of the Nervous System / Mental Disorders",
           "O995: Diseases of the Respiratory System",
           "O988: Infection / Parasitic Disease, Other",
           "No Secondary Cause Reported",
           "F179: Unspecified disorder due to use of tobacco",
           "O249: Diabetes mellitus in pregnancy, unspecified",
           "O882: Obstetric blood-clot embolism"
          ],
          "line": {
           "color": "black",
           "width": 0.5
          },
          "pad": 15,
          "thickness": 50
         },
         "type": "sankey",
         "valueformat": ".0f",
         "valuesuffix": "%"
        }
       ],
       "layout": {
        "font": {
         "size": 10
        },
        "height": 750,
        "template": {
         "data": {
          "bar": [
           {
            "error_x": {
             "color": "#2a3f5f"
            },
            "error_y": {
             "color": "#2a3f5f"
            },
            "marker": {
             "line": {
              "color": "#E5ECF6",
              "width": 0.5
             }
            },
            "type": "bar"
           }
          ],
          "barpolar": [
           {
            "marker": {
             "line": {
              "color": "#E5ECF6",
              "width": 0.5
             }
            },
            "type": "barpolar"
           }
          ],
          "carpet": [
           {
            "aaxis": {
             "endlinecolor": "#2a3f5f",
             "gridcolor": "white",
             "linecolor": "white",
             "minorgridcolor": "white",
             "startlinecolor": "#2a3f5f"
            },
            "baxis": {
             "endlinecolor": "#2a3f5f",
             "gridcolor": "white",
             "linecolor": "white",
             "minorgridcolor": "white",
             "startlinecolor": "#2a3f5f"
            },
            "type": "carpet"
           }
          ],
          "choropleth": [
           {
            "colorbar": {
             "outlinewidth": 0,
             "ticks": ""
            },
            "type": "choropleth"
           }
          ],
          "contour": [
           {
            "colorbar": {
             "outlinewidth": 0,
             "ticks": ""
            },
            "colorscale": [
             [
              0,
              "#0d0887"
             ],
             [
              0.1111111111111111,
              "#46039f"
             ],
             [
              0.2222222222222222,
              "#7201a8"
             ],
             [
              0.3333333333333333,
              "#9c179e"
             ],
             [
              0.4444444444444444,
              "#bd3786"
             ],
             [
              0.5555555555555556,
              "#d8576b"
             ],
             [
              0.6666666666666666,
              "#ed7953"
             ],
             [
              0.7777777777777778,
              "#fb9f3a"
             ],
             [
              0.8888888888888888,
              "#fdca26"
             ],
             [
              1,
              "#f0f921"
             ]
            ],
            "type": "contour"
           }
          ],
          "contourcarpet": [
           {
            "colorbar": {
             "outlinewidth": 0,
             "ticks": ""
            },
            "type": "contourcarpet"
           }
          ],
          "heatmap": [
           {
            "colorbar": {
             "outlinewidth": 0,
             "ticks": ""
            },
            "colorscale": [
             [
              0,
              "#0d0887"
             ],
             [
              0.1111111111111111,
              "#46039f"
             ],
             [
              0.2222222222222222,
              "#7201a8"
             ],
             [
              0.3333333333333333,
              "#9c179e"
             ],
             [
              0.4444444444444444,
              "#bd3786"
             ],
             [
              0.5555555555555556,
              "#d8576b"
             ],
             [
              0.6666666666666666,
              "#ed7953"
             ],
             [
              0.7777777777777778,
              "#fb9f3a"
             ],
             [
              0.8888888888888888,
              "#fdca26"
             ],
             [
              1,
              "#f0f921"
             ]
            ],
            "type": "heatmap"
           }
          ],
          "heatmapgl": [
           {
            "colorbar": {
             "outlinewidth": 0,
             "ticks": ""
            },
            "colorscale": [
             [
              0,
              "#0d0887"
             ],
             [
              0.1111111111111111,
              "#46039f"
             ],
             [
              0.2222222222222222,
              "#7201a8"
             ],
             [
              0.3333333333333333,
              "#9c179e"
             ],
             [
              0.4444444444444444,
              "#bd3786"
             ],
             [
              0.5555555555555556,
              "#d8576b"
             ],
             [
              0.6666666666666666,
              "#ed7953"
             ],
             [
              0.7777777777777778,
              "#fb9f3a"
             ],
             [
              0.8888888888888888,
              "#fdca26"
             ],
             [
              1,
              "#f0f921"
             ]
            ],
            "type": "heatmapgl"
           }
          ],
          "histogram": [
           {
            "marker": {
             "colorbar": {
              "outlinewidth": 0,
              "ticks": ""
             }
            },
            "type": "histogram"
           }
          ],
          "histogram2d": [
           {
            "colorbar": {
             "outlinewidth": 0,
             "ticks": ""
            },
            "colorscale": [
             [
              0,
              "#0d0887"
             ],
             [
              0.1111111111111111,
              "#46039f"
             ],
             [
              0.2222222222222222,
              "#7201a8"
             ],
             [
              0.3333333333333333,
              "#9c179e"
             ],
             [
              0.4444444444444444,
              "#bd3786"
             ],
             [
              0.5555555555555556,
              "#d8576b"
             ],
             [
              0.6666666666666666,
              "#ed7953"
             ],
             [
              0.7777777777777778,
              "#fb9f3a"
             ],
             [
              0.8888888888888888,
              "#fdca26"
             ],
             [
              1,
              "#f0f921"
             ]
            ],
            "type": "histogram2d"
           }
          ],
          "histogram2dcontour": [
           {
            "colorbar": {
             "outlinewidth": 0,
             "ticks": ""
            },
            "colorscale": [
             [
              0,
              "#0d0887"
             ],
             [
              0.1111111111111111,
              "#46039f"
             ],
             [
              0.2222222222222222,
              "#7201a8"
             ],
             [
              0.3333333333333333,
              "#9c179e"
             ],
             [
              0.4444444444444444,
              "#bd3786"
             ],
             [
              0.5555555555555556,
              "#d8576b"
             ],
             [
              0.6666666666666666,
              "#ed7953"
             ],
             [
              0.7777777777777778,
              "#fb9f3a"
             ],
             [
              0.8888888888888888,
              "#fdca26"
             ],
             [
              1,
              "#f0f921"
             ]
            ],
            "type": "histogram2dcontour"
           }
          ],
          "mesh3d": [
           {
            "colorbar": {
             "outlinewidth": 0,
             "ticks": ""
            },
            "type": "mesh3d"
           }
          ],
          "parcoords": [
           {
            "line": {
             "colorbar": {
              "outlinewidth": 0,
              "ticks": ""
             }
            },
            "type": "parcoords"
           }
          ],
          "pie": [
           {
            "automargin": true,
            "type": "pie"
           }
          ],
          "scatter": [
           {
            "marker": {
             "colorbar": {
              "outlinewidth": 0,
              "ticks": ""
             }
            },
            "type": "scatter"
           }
          ],
          "scatter3d": [
           {
            "line": {
             "colorbar": {
              "outlinewidth": 0,
              "ticks": ""
             }
            },
            "marker": {
             "colorbar": {
              "outlinewidth": 0,
              "ticks": ""
             }
            },
            "type": "scatter3d"
           }
          ],
          "scattercarpet": [
           {
            "marker": {
             "colorbar": {
              "outlinewidth": 0,
              "ticks": ""
             }
            },
            "type": "scattercarpet"
           }
          ],
          "scattergeo": [
           {
            "marker": {
             "colorbar": {
              "outlinewidth": 0,
              "ticks": ""
             }
            },
            "type": "scattergeo"
           }
          ],
          "scattergl": [
           {
            "marker": {
             "colorbar": {
              "outlinewidth": 0,
              "ticks": ""
             }
            },
            "type": "scattergl"
           }
          ],
          "scattermapbox": [
           {
            "marker": {
             "colorbar": {
              "outlinewidth": 0,
              "ticks": ""
             }
            },
            "type": "scattermapbox"
           }
          ],
          "scatterpolar": [
           {
            "marker": {
             "colorbar": {
              "outlinewidth": 0,
              "ticks": ""
             }
            },
            "type": "scatterpolar"
           }
          ],
          "scatterpolargl": [
           {
            "marker": {
             "colorbar": {
              "outlinewidth": 0,
              "ticks": ""
             }
            },
            "type": "scatterpolargl"
           }
          ],
          "scatterternary": [
           {
            "marker": {
             "colorbar": {
              "outlinewidth": 0,
              "ticks": ""
             }
            },
            "type": "scatterternary"
           }
          ],
          "surface": [
           {
            "colorbar": {
             "outlinewidth": 0,
             "ticks": ""
            },
            "colorscale": [
             [
              0,
              "#0d0887"
             ],
             [
              0.1111111111111111,
              "#46039f"
             ],
             [
              0.2222222222222222,
              "#7201a8"
             ],
             [
              0.3333333333333333,
              "#9c179e"
             ],
             [
              0.4444444444444444,
              "#bd3786"
             ],
             [
              0.5555555555555556,
              "#d8576b"
             ],
             [
              0.6666666666666666,
              "#ed7953"
             ],
             [
              0.7777777777777778,
              "#fb9f3a"
             ],
             [
              0.8888888888888888,
              "#fdca26"
             ],
             [
              1,
              "#f0f921"
             ]
            ],
            "type": "surface"
           }
          ],
          "table": [
           {
            "cells": {
             "fill": {
              "color": "#EBF0F8"
             },
             "line": {
              "color": "white"
             }
            },
            "header": {
             "fill": {
              "color": "#C8D4E3"
             },
             "line": {
              "color": "white"
             }
            },
            "type": "table"
           }
          ]
         },
         "layout": {
          "annotationdefaults": {
           "arrowcolor": "#2a3f5f",
           "arrowhead": 0,
           "arrowwidth": 1
          },
          "autotypenumbers": "strict",
          "coloraxis": {
           "colorbar": {
            "outlinewidth": 0,
            "ticks": ""
           }
          },
          "colorscale": {
           "diverging": [
            [
             0,
             "#8e0152"
            ],
            [
             0.1,
             "#c51b7d"
            ],
            [
             0.2,
             "#de77ae"
            ],
            [
             0.3,
             "#f1b6da"
            ],
            [
             0.4,
             "#fde0ef"
            ],
            [
             0.5,
             "#f7f7f7"
            ],
            [
             0.6,
             "#e6f5d0"
            ],
            [
             0.7,
             "#b8e186"
            ],
            [
             0.8,
             "#7fbc41"
            ],
            [
             0.9,
             "#4d9221"
            ],
            [
             1,
             "#276419"
            ]
           ],
           "sequential": [
            [
             0,
             "#0d0887"
            ],
            [
             0.1111111111111111,
             "#46039f"
            ],
            [
             0.2222222222222222,
             "#7201a8"
            ],
            [
             0.3333333333333333,
             "#9c179e"
            ],
            [
             0.4444444444444444,
             "#bd3786"
            ],
            [
             0.5555555555555556,
             "#d8576b"
            ],
            [
             0.6666666666666666,
             "#ed7953"
            ],
            [
             0.7777777777777778,
             "#fb9f3a"
            ],
            [
             0.8888888888888888,
             "#fdca26"
            ],
            [
             1,
             "#f0f921"
            ]
           ],
           "sequentialminus": [
            [
             0,
             "#0d0887"
            ],
            [
             0.1111111111111111,
             "#46039f"
            ],
            [
             0.2222222222222222,
             "#7201a8"
            ],
            [
             0.3333333333333333,
             "#9c179e"
            ],
            [
             0.4444444444444444,
             "#bd3786"
            ],
            [
             0.5555555555555556,
             "#d8576b"
            ],
            [
             0.6666666666666666,
             "#ed7953"
            ],
            [
             0.7777777777777778,
             "#fb9f3a"
            ],
            [
             0.8888888888888888,
             "#fdca26"
            ],
            [
             1,
             "#f0f921"
            ]
           ]
          },
          "colorway": [
           "#636efa",
           "#EF553B",
           "#00cc96",
           "#ab63fa",
           "#FFA15A",
           "#19d3f3",
           "#FF6692",
           "#B6E880",
           "#FF97FF",
           "#FECB52"
          ],
          "font": {
           "color": "#2a3f5f"
          },
          "geo": {
           "bgcolor": "white",
           "lakecolor": "white",
           "landcolor": "#E5ECF6",
           "showlakes": true,
           "showland": true,
           "subunitcolor": "white"
          },
          "hoverlabel": {
           "align": "left"
          },
          "hovermode": "closest",
          "mapbox": {
           "style": "light"
          },
          "paper_bgcolor": "white",
          "plot_bgcolor": "#E5ECF6",
          "polar": {
           "angularaxis": {
            "gridcolor": "white",
            "linecolor": "white",
            "ticks": ""
           },
           "bgcolor": "#E5ECF6",
           "radialaxis": {
            "gridcolor": "white",
            "linecolor": "white",
            "ticks": ""
           }
          },
          "scene": {
           "xaxis": {
            "backgroundcolor": "#E5ECF6",
            "gridcolor": "white",
            "gridwidth": 2,
            "linecolor": "white",
            "showbackground": true,
            "ticks": "",
            "zerolinecolor": "white"
           },
           "yaxis": {
            "backgroundcolor": "#E5ECF6",
            "gridcolor": "white",
            "gridwidth": 2,
            "linecolor": "white",
            "showbackground": true,
            "ticks": "",
            "zerolinecolor": "white"
           },
           "zaxis": {
            "backgroundcolor": "#E5ECF6",
            "gridcolor": "white",
            "gridwidth": 2,
            "linecolor": "white",
            "showbackground": true,
            "ticks": "",
            "zerolinecolor": "white"
           }
          },
          "shapedefaults": {
           "line": {
            "color": "#2a3f5f"
           }
          },
          "ternary": {
           "aaxis": {
            "gridcolor": "white",
            "linecolor": "white",
            "ticks": ""
           },
           "baxis": {
            "gridcolor": "white",
            "linecolor": "white",
            "ticks": ""
           },
           "bgcolor": "#E5ECF6",
           "caxis": {
            "gridcolor": "white",
            "linecolor": "white",
            "ticks": ""
           }
          },
          "title": {
           "x": 0.05
          },
          "xaxis": {
           "automargin": true,
           "gridcolor": "white",
           "linecolor": "white",
           "ticks": "",
           "title": {
            "standoff": 15
           },
           "zerolinecolor": "white",
           "zerolinewidth": 2
          },
          "yaxis": {
           "automargin": true,
           "gridcolor": "white",
           "linecolor": "white",
           "ticks": "",
           "title": {
            "standoff": 15
           },
           "zerolinecolor": "white",
           "zerolinewidth": 2
          }
         }
        },
        "title": {
         "text": "Sankey Diagram for Top 5 Causes of Maternal Death, Over 30, White, 2008-2019"
        },
        "width": 1000
       }
      },
      "text/html": [
       "<div>                            <div id=\"bbd34712-df4d-441b-9ad1-541504ee2ee1\" class=\"plotly-graph-div\" style=\"height:750px; width:1000px;\"></div>            <script type=\"text/javascript\">                require([\"plotly\"], function(Plotly) {                    window.PLOTLYENV=window.PLOTLYENV || {};                                    if (document.getElementById(\"bbd34712-df4d-441b-9ad1-541504ee2ee1\")) {                    Plotly.newPlot(                        \"bbd34712-df4d-441b-9ad1-541504ee2ee1\",                        [{\"link\": {\"source\": [0, 0, 0, 0, 0, 2, 2, 2, 2, 2, 4, 4, 4, 4, 4, 3, 3, 3, 3, 3, 5, 5, 5, 5, 5, 1, 1, 1, 1, 1], \"target\": [2, 4, 3, 5, 1, 19, 21, 14, 22, 6, 19, 9, 16, 18, 17, 19, 8, 11, 20, 13, 19, 10, 12, 15, 11, 19, 7, 11, 18, 22], \"value\": [20.09269356597601, 14.612868047982552, 10.659760087241004, 7.088331515812432, 6.13413304252999, 66.35006784260516, 2.3066485753052914, 2.3066485753052914, 2.03527815468114, 1.7639077340569878, 58.95522388059702, 9.888059701492537, 8.208955223880597, 5.7835820895522385, 3.731343283582089, 78.00511508951406, 1.5345268542199488, 1.0230179028132993, 0.7672634271099744, 0.7672634271099744, 65.38461538461539, 13.461538461538462, 1.5384615384615385, 1.153846153846154, 1.153846153846154, 82.22222222222221, 2.2222222222222223, 2.2222222222222223, 1.7777777777777777, 0.8888888888888888]}, \"node\": {\"color\": [\"#c6dfea\", \"#bfdee3\", \"#b5dcda\", \"#add9ce\", \"#a8d7c4\", \"#a3d4b7\", \"#a1d0ad\", \"#9fcb9f\", \"#a0c593\", \"#a1bf8a\", \"#a4b780\", \"#a7af7a\", \"#aca674\", \"#b09c71\", \"#b39470\", \"#b58a71\", \"#b68273\", \"#b67977\", \"#b3717d\", \"#af6b82\", \"#a96588\", \"#a1618c\", \"#975d91\"], \"label\": [\"Top 5 Causes\", \"O994: Diseases of the Circulatory System(s)\", \"O268: Other Specified Pregnancy-Related Conditions(s)\", \"O961: Indirect Obstetric Cause, 42d-365d post-delivery(s)\", \"O998: Other Specified Diseases Complicating Pregnancy(s)\", \"O960: Direct Obstetric Cause, 42d-365d post-delivery(s)\", \"O100: Pre-existing Hypertension\", \"O998: Other Specified Diseases Complicating Pregnancy\", \"T509: Unspecified Drugs\", \"O994: Diseases of the Circulatory System\", \"O961: Indirect Obstetric Cause, 42d-365d post-delivery\", \"R99: Illness or Undefined Cause of Mortality\", \"I269: Pulmonary Embolism\", \"I499: Cardiac Arrhythmia, Unspecified\", \"O266: Liver Disorder\", \"T436: Psychostimulants with abuse potential\", \"O993: Diseases of the Nervous System / Mental Disorders\", \"O995: Diseases of the Respiratory System\", \"O988: Infection / Parasitic Disease, Other\", \"No Secondary Cause Reported\", \"F179: Unspecified disorder due to use of tobacco\", \"O249: Diabetes mellitus in pregnancy, unspecified\", \"O882: Obstetric blood-clot embolism\"], \"line\": {\"color\": \"black\", \"width\": 0.5}, \"pad\": 15, \"thickness\": 50}, \"type\": \"sankey\", \"valueformat\": \".0f\", \"valuesuffix\": \"%\"}],                        {\"font\": {\"size\": 10}, \"height\": 750, \"template\": {\"data\": {\"bar\": [{\"error_x\": {\"color\": \"#2a3f5f\"}, \"error_y\": {\"color\": \"#2a3f5f\"}, \"marker\": {\"line\": {\"color\": \"#E5ECF6\", \"width\": 0.5}}, \"type\": \"bar\"}], \"barpolar\": [{\"marker\": {\"line\": {\"color\": \"#E5ECF6\", \"width\": 0.5}}, \"type\": \"barpolar\"}], \"carpet\": [{\"aaxis\": {\"endlinecolor\": \"#2a3f5f\", \"gridcolor\": \"white\", \"linecolor\": \"white\", \"minorgridcolor\": \"white\", \"startlinecolor\": \"#2a3f5f\"}, \"baxis\": {\"endlinecolor\": \"#2a3f5f\", \"gridcolor\": \"white\", \"linecolor\": \"white\", \"minorgridcolor\": \"white\", \"startlinecolor\": \"#2a3f5f\"}, \"type\": \"carpet\"}], \"choropleth\": [{\"colorbar\": {\"outlinewidth\": 0, \"ticks\": \"\"}, \"type\": \"choropleth\"}], \"contour\": [{\"colorbar\": {\"outlinewidth\": 0, \"ticks\": \"\"}, \"colorscale\": [[0.0, \"#0d0887\"], [0.1111111111111111, \"#46039f\"], [0.2222222222222222, \"#7201a8\"], [0.3333333333333333, \"#9c179e\"], [0.4444444444444444, \"#bd3786\"], [0.5555555555555556, \"#d8576b\"], [0.6666666666666666, \"#ed7953\"], [0.7777777777777778, \"#fb9f3a\"], [0.8888888888888888, \"#fdca26\"], [1.0, \"#f0f921\"]], \"type\": \"contour\"}], \"contourcarpet\": [{\"colorbar\": {\"outlinewidth\": 0, \"ticks\": \"\"}, \"type\": \"contourcarpet\"}], \"heatmap\": [{\"colorbar\": {\"outlinewidth\": 0, \"ticks\": \"\"}, \"colorscale\": [[0.0, \"#0d0887\"], [0.1111111111111111, \"#46039f\"], [0.2222222222222222, \"#7201a8\"], [0.3333333333333333, \"#9c179e\"], [0.4444444444444444, \"#bd3786\"], [0.5555555555555556, \"#d8576b\"], [0.6666666666666666, \"#ed7953\"], [0.7777777777777778, \"#fb9f3a\"], [0.8888888888888888, \"#fdca26\"], [1.0, \"#f0f921\"]], \"type\": \"heatmap\"}], \"heatmapgl\": [{\"colorbar\": {\"outlinewidth\": 0, \"ticks\": \"\"}, \"colorscale\": [[0.0, \"#0d0887\"], [0.1111111111111111, \"#46039f\"], [0.2222222222222222, \"#7201a8\"], [0.3333333333333333, \"#9c179e\"], [0.4444444444444444, \"#bd3786\"], [0.5555555555555556, \"#d8576b\"], [0.6666666666666666, \"#ed7953\"], [0.7777777777777778, \"#fb9f3a\"], [0.8888888888888888, \"#fdca26\"], [1.0, \"#f0f921\"]], \"type\": \"heatmapgl\"}], \"histogram\": [{\"marker\": {\"colorbar\": {\"outlinewidth\": 0, \"ticks\": \"\"}}, \"type\": \"histogram\"}], \"histogram2d\": [{\"colorbar\": {\"outlinewidth\": 0, \"ticks\": \"\"}, \"colorscale\": [[0.0, \"#0d0887\"], [0.1111111111111111, \"#46039f\"], [0.2222222222222222, \"#7201a8\"], [0.3333333333333333, \"#9c179e\"], [0.4444444444444444, \"#bd3786\"], [0.5555555555555556, \"#d8576b\"], [0.6666666666666666, \"#ed7953\"], [0.7777777777777778, \"#fb9f3a\"], [0.8888888888888888, \"#fdca26\"], [1.0, \"#f0f921\"]], \"type\": \"histogram2d\"}], \"histogram2dcontour\": [{\"colorbar\": {\"outlinewidth\": 0, \"ticks\": \"\"}, \"colorscale\": [[0.0, \"#0d0887\"], [0.1111111111111111, \"#46039f\"], [0.2222222222222222, \"#7201a8\"], [0.3333333333333333, \"#9c179e\"], [0.4444444444444444, \"#bd3786\"], [0.5555555555555556, \"#d8576b\"], [0.6666666666666666, \"#ed7953\"], [0.7777777777777778, \"#fb9f3a\"], [0.8888888888888888, \"#fdca26\"], [1.0, \"#f0f921\"]], \"type\": \"histogram2dcontour\"}], \"mesh3d\": [{\"colorbar\": {\"outlinewidth\": 0, \"ticks\": \"\"}, \"type\": \"mesh3d\"}], \"parcoords\": [{\"line\": {\"colorbar\": {\"outlinewidth\": 0, \"ticks\": \"\"}}, \"type\": \"parcoords\"}], \"pie\": [{\"automargin\": true, \"type\": \"pie\"}], \"scatter\": [{\"marker\": {\"colorbar\": {\"outlinewidth\": 0, \"ticks\": \"\"}}, \"type\": \"scatter\"}], \"scatter3d\": [{\"line\": {\"colorbar\": {\"outlinewidth\": 0, \"ticks\": \"\"}}, \"marker\": {\"colorbar\": {\"outlinewidth\": 0, \"ticks\": \"\"}}, \"type\": \"scatter3d\"}], \"scattercarpet\": [{\"marker\": {\"colorbar\": {\"outlinewidth\": 0, \"ticks\": \"\"}}, \"type\": \"scattercarpet\"}], \"scattergeo\": [{\"marker\": {\"colorbar\": {\"outlinewidth\": 0, \"ticks\": \"\"}}, \"type\": \"scattergeo\"}], \"scattergl\": [{\"marker\": {\"colorbar\": {\"outlinewidth\": 0, \"ticks\": \"\"}}, \"type\": \"scattergl\"}], \"scattermapbox\": [{\"marker\": {\"colorbar\": {\"outlinewidth\": 0, \"ticks\": \"\"}}, \"type\": \"scattermapbox\"}], \"scatterpolar\": [{\"marker\": {\"colorbar\": {\"outlinewidth\": 0, \"ticks\": \"\"}}, \"type\": \"scatterpolar\"}], \"scatterpolargl\": [{\"marker\": {\"colorbar\": {\"outlinewidth\": 0, \"ticks\": \"\"}}, \"type\": \"scatterpolargl\"}], \"scatterternary\": [{\"marker\": {\"colorbar\": {\"outlinewidth\": 0, \"ticks\": \"\"}}, \"type\": \"scatterternary\"}], \"surface\": [{\"colorbar\": {\"outlinewidth\": 0, \"ticks\": \"\"}, \"colorscale\": [[0.0, \"#0d0887\"], [0.1111111111111111, \"#46039f\"], [0.2222222222222222, \"#7201a8\"], [0.3333333333333333, \"#9c179e\"], [0.4444444444444444, \"#bd3786\"], [0.5555555555555556, \"#d8576b\"], [0.6666666666666666, \"#ed7953\"], [0.7777777777777778, \"#fb9f3a\"], [0.8888888888888888, \"#fdca26\"], [1.0, \"#f0f921\"]], \"type\": \"surface\"}], \"table\": [{\"cells\": {\"fill\": {\"color\": \"#EBF0F8\"}, \"line\": {\"color\": \"white\"}}, \"header\": {\"fill\": {\"color\": \"#C8D4E3\"}, \"line\": {\"color\": \"white\"}}, \"type\": \"table\"}]}, \"layout\": {\"annotationdefaults\": {\"arrowcolor\": \"#2a3f5f\", \"arrowhead\": 0, \"arrowwidth\": 1}, \"autotypenumbers\": \"strict\", \"coloraxis\": {\"colorbar\": {\"outlinewidth\": 0, \"ticks\": \"\"}}, \"colorscale\": {\"diverging\": [[0, \"#8e0152\"], [0.1, \"#c51b7d\"], [0.2, \"#de77ae\"], [0.3, \"#f1b6da\"], [0.4, \"#fde0ef\"], [0.5, \"#f7f7f7\"], [0.6, \"#e6f5d0\"], [0.7, \"#b8e186\"], [0.8, \"#7fbc41\"], [0.9, \"#4d9221\"], [1, \"#276419\"]], \"sequential\": [[0.0, \"#0d0887\"], [0.1111111111111111, \"#46039f\"], [0.2222222222222222, \"#7201a8\"], [0.3333333333333333, \"#9c179e\"], [0.4444444444444444, \"#bd3786\"], [0.5555555555555556, \"#d8576b\"], [0.6666666666666666, \"#ed7953\"], [0.7777777777777778, \"#fb9f3a\"], [0.8888888888888888, \"#fdca26\"], [1.0, \"#f0f921\"]], \"sequentialminus\": [[0.0, \"#0d0887\"], [0.1111111111111111, \"#46039f\"], [0.2222222222222222, \"#7201a8\"], [0.3333333333333333, \"#9c179e\"], [0.4444444444444444, \"#bd3786\"], [0.5555555555555556, \"#d8576b\"], [0.6666666666666666, \"#ed7953\"], [0.7777777777777778, \"#fb9f3a\"], [0.8888888888888888, \"#fdca26\"], [1.0, \"#f0f921\"]]}, \"colorway\": [\"#636efa\", \"#EF553B\", \"#00cc96\", \"#ab63fa\", \"#FFA15A\", \"#19d3f3\", \"#FF6692\", \"#B6E880\", \"#FF97FF\", \"#FECB52\"], \"font\": {\"color\": \"#2a3f5f\"}, \"geo\": {\"bgcolor\": \"white\", \"lakecolor\": \"white\", \"landcolor\": \"#E5ECF6\", \"showlakes\": true, \"showland\": true, \"subunitcolor\": \"white\"}, \"hoverlabel\": {\"align\": \"left\"}, \"hovermode\": \"closest\", \"mapbox\": {\"style\": \"light\"}, \"paper_bgcolor\": \"white\", \"plot_bgcolor\": \"#E5ECF6\", \"polar\": {\"angularaxis\": {\"gridcolor\": \"white\", \"linecolor\": \"white\", \"ticks\": \"\"}, \"bgcolor\": \"#E5ECF6\", \"radialaxis\": {\"gridcolor\": \"white\", \"linecolor\": \"white\", \"ticks\": \"\"}}, \"scene\": {\"xaxis\": {\"backgroundcolor\": \"#E5ECF6\", \"gridcolor\": \"white\", \"gridwidth\": 2, \"linecolor\": \"white\", \"showbackground\": true, \"ticks\": \"\", \"zerolinecolor\": \"white\"}, \"yaxis\": {\"backgroundcolor\": \"#E5ECF6\", \"gridcolor\": \"white\", \"gridwidth\": 2, \"linecolor\": \"white\", \"showbackground\": true, \"ticks\": \"\", \"zerolinecolor\": \"white\"}, \"zaxis\": {\"backgroundcolor\": \"#E5ECF6\", \"gridcolor\": \"white\", \"gridwidth\": 2, \"linecolor\": \"white\", \"showbackground\": true, \"ticks\": \"\", \"zerolinecolor\": \"white\"}}, \"shapedefaults\": {\"line\": {\"color\": \"#2a3f5f\"}}, \"ternary\": {\"aaxis\": {\"gridcolor\": \"white\", \"linecolor\": \"white\", \"ticks\": \"\"}, \"baxis\": {\"gridcolor\": \"white\", \"linecolor\": \"white\", \"ticks\": \"\"}, \"bgcolor\": \"#E5ECF6\", \"caxis\": {\"gridcolor\": \"white\", \"linecolor\": \"white\", \"ticks\": \"\"}}, \"title\": {\"x\": 0.05}, \"xaxis\": {\"automargin\": true, \"gridcolor\": \"white\", \"linecolor\": \"white\", \"ticks\": \"\", \"title\": {\"standoff\": 15}, \"zerolinecolor\": \"white\", \"zerolinewidth\": 2}, \"yaxis\": {\"automargin\": true, \"gridcolor\": \"white\", \"linecolor\": \"white\", \"ticks\": \"\", \"title\": {\"standoff\": 15}, \"zerolinecolor\": \"white\", \"zerolinewidth\": 2}}}, \"title\": {\"text\": \"Sankey Diagram for Top 5 Causes of Maternal Death, Over 30, White, 2008-2019\"}, \"width\": 1000},                        {\"responsive\": true}                    ).then(function(){\n",
       "                            \n",
       "var gd = document.getElementById('bbd34712-df4d-441b-9ad1-541504ee2ee1');\n",
       "var x = new MutationObserver(function (mutations, observer) {{\n",
       "        var display = window.getComputedStyle(gd).display;\n",
       "        if (!display || display === 'none') {{\n",
       "            console.log([gd, 'removed!']);\n",
       "            Plotly.purge(gd);\n",
       "            observer.disconnect();\n",
       "        }}\n",
       "}});\n",
       "\n",
       "// Listen for the removal of the full notebook cells\n",
       "var notebookContainer = gd.closest('#notebook-container');\n",
       "if (notebookContainer) {{\n",
       "    x.observe(notebookContainer, {childList: true});\n",
       "}}\n",
       "\n",
       "// Listen for the clearing of the current output cell\n",
       "var outputEl = gd.closest('.output');\n",
       "if (outputEl) {{\n",
       "    x.observe(outputEl, {childList: true});\n",
       "}}\n",
       "\n",
       "                        })                };                });            </script>        </div>"
      ]
     },
     "metadata": {},
     "output_type": "display_data"
    }
   ],
   "source": [
    "# create the sankey diagram \n",
    "fig = go.Figure(data=[go.Sankey(\n",
    "    valueformat = '.0f', \n",
    "    valuesuffix = \"%\",\n",
    "    node=dict(\n",
    "        pad = 15, \n",
    "        thickness = 50, \n",
    "        line = dict(color= 'black', width = 0.5), \n",
    "        label = nodes['Label'], \n",
    "        color = nodes['Color']\n",
    "    ), \n",
    "    link = dict(source = otw_san_coded['source'], \n",
    "            target = otw_san_coded['target'], \n",
    "            value = otw_san_coded['value'], \n",
    "               ))]\n",
    ")\n",
    "\n",
    "fig.update_layout(title_text=\"Sankey Diagram for Top 5 Causes of Maternal Death, Over 30, White, 2008-2019\", \n",
    "                  height = 750, width=1000, font_size=10)\n",
    "fig.show()"
   ]
  },
  {
   "cell_type": "code",
   "execution_count": 45,
   "id": "8ac85ffb-642e-4f48-8ee0-4167dda98c58",
   "metadata": {},
   "outputs": [],
   "source": []
  },
  {
   "cell_type": "code",
   "execution_count": 174,
   "id": "3565afb0-8876-4eb2-a78c-6d888746b239",
   "metadata": {},
   "outputs": [],
   "source": [
    "otb_san, list_of_causes_otb = create_sankey_df(over30_black)"
   ]
  },
  {
   "cell_type": "code",
   "execution_count": 175,
   "id": "bcb8f52b",
   "metadata": {},
   "outputs": [
    {
     "data": {
      "text/html": [
       "<div>\n",
       "<style scoped>\n",
       "    .dataframe tbody tr th:only-of-type {\n",
       "        vertical-align: middle;\n",
       "    }\n",
       "\n",
       "    .dataframe tbody tr th {\n",
       "        vertical-align: top;\n",
       "    }\n",
       "\n",
       "    .dataframe thead th {\n",
       "        text-align: right;\n",
       "    }\n",
       "</style>\n",
       "<table border=\"1\" class=\"dataframe\">\n",
       "  <thead>\n",
       "    <tr style=\"text-align: right;\">\n",
       "      <th></th>\n",
       "      <th>source</th>\n",
       "      <th>target</th>\n",
       "      <th>value</th>\n",
       "    </tr>\n",
       "  </thead>\n",
       "  <tbody>\n",
       "    <tr>\n",
       "      <th>0</th>\n",
       "      <td>Top 5 Causes</td>\n",
       "      <td>O268s</td>\n",
       "      <td>20.178372</td>\n",
       "    </tr>\n",
       "    <tr>\n",
       "      <th>1</th>\n",
       "      <td>Top 5 Causes</td>\n",
       "      <td>O998s</td>\n",
       "      <td>9.866221</td>\n",
       "    </tr>\n",
       "    <tr>\n",
       "      <th>2</th>\n",
       "      <td>Top 5 Causes</td>\n",
       "      <td>O961s</td>\n",
       "      <td>8.416945</td>\n",
       "    </tr>\n",
       "    <tr>\n",
       "      <th>3</th>\n",
       "      <td>Top 5 Causes</td>\n",
       "      <td>O960s</td>\n",
       "      <td>8.361204</td>\n",
       "    </tr>\n",
       "    <tr>\n",
       "      <th>4</th>\n",
       "      <td>Top 5 Causes</td>\n",
       "      <td>O994s</td>\n",
       "      <td>5.797101</td>\n",
       "    </tr>\n",
       "    <tr>\n",
       "      <th>5</th>\n",
       "      <td>O268s</td>\n",
       "      <td>None</td>\n",
       "      <td>68.784530</td>\n",
       "    </tr>\n",
       "    <tr>\n",
       "      <th>6</th>\n",
       "      <td>O268s</td>\n",
       "      <td>O100</td>\n",
       "      <td>2.762431</td>\n",
       "    </tr>\n",
       "    <tr>\n",
       "      <th>7</th>\n",
       "      <td>O268s</td>\n",
       "      <td>O987</td>\n",
       "      <td>1.933702</td>\n",
       "    </tr>\n",
       "    <tr>\n",
       "      <th>8</th>\n",
       "      <td>O268s</td>\n",
       "      <td>O903</td>\n",
       "      <td>1.657459</td>\n",
       "    </tr>\n",
       "    <tr>\n",
       "      <th>9</th>\n",
       "      <td>O268s</td>\n",
       "      <td>O881</td>\n",
       "      <td>1.657459</td>\n",
       "    </tr>\n",
       "    <tr>\n",
       "      <th>10</th>\n",
       "      <td>O998s</td>\n",
       "      <td>None</td>\n",
       "      <td>57.627119</td>\n",
       "    </tr>\n",
       "    <tr>\n",
       "      <th>11</th>\n",
       "      <td>O998s</td>\n",
       "      <td>O994</td>\n",
       "      <td>16.384181</td>\n",
       "    </tr>\n",
       "    <tr>\n",
       "      <th>12</th>\n",
       "      <td>O998s</td>\n",
       "      <td>O993</td>\n",
       "      <td>6.214689</td>\n",
       "    </tr>\n",
       "    <tr>\n",
       "      <th>13</th>\n",
       "      <td>O998s</td>\n",
       "      <td>O988</td>\n",
       "      <td>5.649718</td>\n",
       "    </tr>\n",
       "    <tr>\n",
       "      <th>14</th>\n",
       "      <td>O998s</td>\n",
       "      <td>O995</td>\n",
       "      <td>1.694915</td>\n",
       "    </tr>\n",
       "    <tr>\n",
       "      <th>15</th>\n",
       "      <td>O961s</td>\n",
       "      <td>None</td>\n",
       "      <td>80.794702</td>\n",
       "    </tr>\n",
       "    <tr>\n",
       "      <th>16</th>\n",
       "      <td>O961s</td>\n",
       "      <td>O268</td>\n",
       "      <td>2.649007</td>\n",
       "    </tr>\n",
       "    <tr>\n",
       "      <th>17</th>\n",
       "      <td>O961s</td>\n",
       "      <td>O903</td>\n",
       "      <td>1.324503</td>\n",
       "    </tr>\n",
       "    <tr>\n",
       "      <th>18</th>\n",
       "      <td>O961s</td>\n",
       "      <td>I219</td>\n",
       "      <td>1.324503</td>\n",
       "    </tr>\n",
       "    <tr>\n",
       "      <th>19</th>\n",
       "      <td>O961s</td>\n",
       "      <td>G122</td>\n",
       "      <td>0.662252</td>\n",
       "    </tr>\n",
       "    <tr>\n",
       "      <th>20</th>\n",
       "      <td>O960s</td>\n",
       "      <td>None</td>\n",
       "      <td>72.666667</td>\n",
       "    </tr>\n",
       "    <tr>\n",
       "      <th>21</th>\n",
       "      <td>O960s</td>\n",
       "      <td>O961</td>\n",
       "      <td>14.000000</td>\n",
       "    </tr>\n",
       "    <tr>\n",
       "      <th>22</th>\n",
       "      <td>O960s</td>\n",
       "      <td>R99</td>\n",
       "      <td>2.000000</td>\n",
       "    </tr>\n",
       "    <tr>\n",
       "      <th>23</th>\n",
       "      <td>O960s</td>\n",
       "      <td>B24</td>\n",
       "      <td>1.333333</td>\n",
       "    </tr>\n",
       "    <tr>\n",
       "      <th>24</th>\n",
       "      <td>O960s</td>\n",
       "      <td>I420</td>\n",
       "      <td>0.666667</td>\n",
       "    </tr>\n",
       "    <tr>\n",
       "      <th>25</th>\n",
       "      <td>O994s</td>\n",
       "      <td>None</td>\n",
       "      <td>87.500000</td>\n",
       "    </tr>\n",
       "    <tr>\n",
       "      <th>26</th>\n",
       "      <td>O994s</td>\n",
       "      <td>I219</td>\n",
       "      <td>1.923077</td>\n",
       "    </tr>\n",
       "    <tr>\n",
       "      <th>27</th>\n",
       "      <td>O994s</td>\n",
       "      <td>O993</td>\n",
       "      <td>0.961538</td>\n",
       "    </tr>\n",
       "    <tr>\n",
       "      <th>28</th>\n",
       "      <td>O994s</td>\n",
       "      <td>G932</td>\n",
       "      <td>0.961538</td>\n",
       "    </tr>\n",
       "    <tr>\n",
       "      <th>29</th>\n",
       "      <td>O994s</td>\n",
       "      <td>C910</td>\n",
       "      <td>0.961538</td>\n",
       "    </tr>\n",
       "  </tbody>\n",
       "</table>\n",
       "</div>"
      ],
      "text/plain": [
       "          source target      value\n",
       "0   Top 5 Causes  O268s  20.178372\n",
       "1   Top 5 Causes  O998s   9.866221\n",
       "2   Top 5 Causes  O961s   8.416945\n",
       "3   Top 5 Causes  O960s   8.361204\n",
       "4   Top 5 Causes  O994s   5.797101\n",
       "5          O268s   None  68.784530\n",
       "6          O268s   O100   2.762431\n",
       "7          O268s   O987   1.933702\n",
       "8          O268s   O903   1.657459\n",
       "9          O268s   O881   1.657459\n",
       "10         O998s   None  57.627119\n",
       "11         O998s   O994  16.384181\n",
       "12         O998s   O993   6.214689\n",
       "13         O998s   O988   5.649718\n",
       "14         O998s   O995   1.694915\n",
       "15         O961s   None  80.794702\n",
       "16         O961s   O268   2.649007\n",
       "17         O961s   O903   1.324503\n",
       "18         O961s   I219   1.324503\n",
       "19         O961s   G122   0.662252\n",
       "20         O960s   None  72.666667\n",
       "21         O960s   O961  14.000000\n",
       "22         O960s    R99   2.000000\n",
       "23         O960s    B24   1.333333\n",
       "24         O960s   I420   0.666667\n",
       "25         O994s   None  87.500000\n",
       "26         O994s   I219   1.923077\n",
       "27         O994s   O993   0.961538\n",
       "28         O994s   G932   0.961538\n",
       "29         O994s   C910   0.961538"
      ]
     },
     "execution_count": 175,
     "metadata": {},
     "output_type": "execute_result"
    }
   ],
   "source": [
    "otb_san"
   ]
  },
  {
   "cell_type": "code",
   "execution_count": 176,
   "id": "cec46ddb",
   "metadata": {},
   "outputs": [],
   "source": [
    "otb_source_map, otb_target_map, otb_nodes_map = set_sources_targets_nodes(otb_san)"
   ]
  },
  {
   "cell_type": "code",
   "execution_count": 177,
   "id": "1b8129c2",
   "metadata": {},
   "outputs": [],
   "source": [
    "otb_san_coded = otb_san.copy()"
   ]
  },
  {
   "cell_type": "code",
   "execution_count": 178,
   "id": "d1efe292-fccf-46e8-bc93-692b9316df79",
   "metadata": {},
   "outputs": [],
   "source": [
    "otb_san_coded.source = otb_san_coded.source.replace(to_replace={v: k for k, v in otb_source_map.items()})"
   ]
  },
  {
   "cell_type": "code",
   "execution_count": 179,
   "id": "925b28b7",
   "metadata": {},
   "outputs": [],
   "source": [
    "\n",
    "otb_san_coded.target = otb_san_coded.target.replace(to_replace={v: k for k, v in otb_target_map.items()})\n",
    "otb_san_coded.target = otb_san_coded.target.replace(to_replace={v: k for k, v in otb_source_map.items()})"
   ]
  },
  {
   "cell_type": "code",
   "execution_count": 180,
   "id": "656771f0",
   "metadata": {},
   "outputs": [],
   "source": [
    "nodes = pd.DataFrame(columns=['ID', 'Label', 'Color'])"
   ]
  },
  {
   "cell_type": "code",
   "execution_count": 181,
   "id": "30590274",
   "metadata": {},
   "outputs": [],
   "source": [
    "# fill in nodes dataframe with Id, label, and color\n",
    "nodes['ID'] = [k for k, v in otb_nodes_map.items()]\n",
    "nodes['Label'] = [v for k, v in otb_nodes_map.items()]\n",
    "# replace values with causes dict to put more information about cause of death on the diagram \n",
    "nodes.Label.replace(to_replace=causes_dict, inplace=True)\n",
    "nodes['Color'] = color_list[:24]"
   ]
  },
  {
   "cell_type": "code",
   "execution_count": 182,
   "id": "921203c4",
   "metadata": {},
   "outputs": [
    {
     "data": {
      "application/vnd.plotly.v1+json": {
       "config": {
        "plotlyServerURL": "https://plot.ly"
       },
       "data": [
        {
         "link": {
          "source": [
           0,
           0,
           0,
           0,
           0,
           2,
           2,
           2,
           2,
           2,
           4,
           4,
           4,
           4,
           4,
           3,
           3,
           3,
           3,
           3,
           5,
           5,
           5,
           5,
           5,
           1,
           1,
           1,
           1,
           1
          ],
          "target": [
           2,
           4,
           3,
           5,
           1,
           21,
           6,
           13,
           9,
           8,
           21,
           10,
           14,
           20,
           19,
           21,
           7,
           9,
           18,
           16,
           21,
           11,
           12,
           17,
           22,
           21,
           18,
           14,
           15,
           23
          ],
          "value": [
           20.178372352285397,
           9.866220735785953,
           8.416945373467112,
           8.361204013377927,
           5.797101449275362,
           68.78453038674033,
           2.7624309392265194,
           1.9337016574585635,
           1.6574585635359116,
           1.6574585635359116,
           57.6271186440678,
           16.38418079096045,
           6.214689265536723,
           5.649717514124294,
           1.694915254237288,
           80.79470198675497,
           2.6490066225165565,
           1.3245033112582782,
           1.3245033112582782,
           0.6622516556291391,
           72.66666666666667,
           14.000000000000002,
           2,
           1.3333333333333335,
           0.6666666666666667,
           87.5,
           1.9230769230769231,
           0.9615384615384616,
           0.9615384615384616,
           0.9615384615384616
          ]
         },
         "node": {
          "color": [
           "#c6dfea",
           "#bfdee3",
           "#b5dcda",
           "#add9ce",
           "#a8d7c4",
           "#a3d4b7",
           "#a1d0ad",
           "#9fcb9f",
           "#a0c593",
           "#a1bf8a",
           "#a4b780",
           "#a7af7a",
           "#aca674",
           "#b09c71",
           "#b39470",
           "#b58a71",
           "#b68273",
           "#b67977",
           "#b3717d",
           "#af6b82",
           "#a96588",
           "#a1618c",
           "#975d91",
           "#8a5a94"
          ],
          "label": [
           "Top 5 Causes",
           "O994: Diseases of the Circulatory System(s)",
           "O268: Other Specified Pregnancy-Related Conditions(s)",
           "O961: Indirect Obstetric Cause, 42d-365d post-delivery(s)",
           "O998: Other Specified Diseases Complicating Pregnancy(s)",
           "O960: Direct Obstetric Cause, 42d-365d post-delivery(s)",
           "O100: Pre-existing Hypertension",
           "O268: Other Specified Pregnancy-Related Conditions",
           "O881: Amniotic Fluid Embolism",
           "O903: Cardiomyopathy in the puerperium",
           "O994: Diseases of the Circulatory System",
           "O961: Indirect Obstetric Cause, 42d-365d post-delivery",
           "R99: Illness or Undefined Cause of Mortality",
           "O987: HIV disease complicating pregnancy, childbirth and the puerperium",
           "O993: Diseases of the Nervous System / Mental Disorders",
           "G932: Benign intracranial hypertension",
           "G122: Motor neuron disease",
           "B24: Unspecified HIV Disease",
           "I219: Acute myocardial infarction, unspecified",
           "O995: Diseases of the Respiratory System",
           "O988: Infection / Parasitic Disease, Other",
           "No Secondary Cause Reported",
           "I420: Dilated cardiomyopathy",
           "C910: Acute lymphoblastic leukaemia"
          ],
          "line": {
           "color": "black",
           "width": 0.5
          },
          "pad": 15,
          "thickness": 50
         },
         "type": "sankey",
         "valueformat": ".0f",
         "valuesuffix": "%"
        }
       ],
       "layout": {
        "font": {
         "size": 10
        },
        "height": 750,
        "template": {
         "data": {
          "bar": [
           {
            "error_x": {
             "color": "#2a3f5f"
            },
            "error_y": {
             "color": "#2a3f5f"
            },
            "marker": {
             "line": {
              "color": "#E5ECF6",
              "width": 0.5
             }
            },
            "type": "bar"
           }
          ],
          "barpolar": [
           {
            "marker": {
             "line": {
              "color": "#E5ECF6",
              "width": 0.5
             }
            },
            "type": "barpolar"
           }
          ],
          "carpet": [
           {
            "aaxis": {
             "endlinecolor": "#2a3f5f",
             "gridcolor": "white",
             "linecolor": "white",
             "minorgridcolor": "white",
             "startlinecolor": "#2a3f5f"
            },
            "baxis": {
             "endlinecolor": "#2a3f5f",
             "gridcolor": "white",
             "linecolor": "white",
             "minorgridcolor": "white",
             "startlinecolor": "#2a3f5f"
            },
            "type": "carpet"
           }
          ],
          "choropleth": [
           {
            "colorbar": {
             "outlinewidth": 0,
             "ticks": ""
            },
            "type": "choropleth"
           }
          ],
          "contour": [
           {
            "colorbar": {
             "outlinewidth": 0,
             "ticks": ""
            },
            "colorscale": [
             [
              0,
              "#0d0887"
             ],
             [
              0.1111111111111111,
              "#46039f"
             ],
             [
              0.2222222222222222,
              "#7201a8"
             ],
             [
              0.3333333333333333,
              "#9c179e"
             ],
             [
              0.4444444444444444,
              "#bd3786"
             ],
             [
              0.5555555555555556,
              "#d8576b"
             ],
             [
              0.6666666666666666,
              "#ed7953"
             ],
             [
              0.7777777777777778,
              "#fb9f3a"
             ],
             [
              0.8888888888888888,
              "#fdca26"
             ],
             [
              1,
              "#f0f921"
             ]
            ],
            "type": "contour"
           }
          ],
          "contourcarpet": [
           {
            "colorbar": {
             "outlinewidth": 0,
             "ticks": ""
            },
            "type": "contourcarpet"
           }
          ],
          "heatmap": [
           {
            "colorbar": {
             "outlinewidth": 0,
             "ticks": ""
            },
            "colorscale": [
             [
              0,
              "#0d0887"
             ],
             [
              0.1111111111111111,
              "#46039f"
             ],
             [
              0.2222222222222222,
              "#7201a8"
             ],
             [
              0.3333333333333333,
              "#9c179e"
             ],
             [
              0.4444444444444444,
              "#bd3786"
             ],
             [
              0.5555555555555556,
              "#d8576b"
             ],
             [
              0.6666666666666666,
              "#ed7953"
             ],
             [
              0.7777777777777778,
              "#fb9f3a"
             ],
             [
              0.8888888888888888,
              "#fdca26"
             ],
             [
              1,
              "#f0f921"
             ]
            ],
            "type": "heatmap"
           }
          ],
          "heatmapgl": [
           {
            "colorbar": {
             "outlinewidth": 0,
             "ticks": ""
            },
            "colorscale": [
             [
              0,
              "#0d0887"
             ],
             [
              0.1111111111111111,
              "#46039f"
             ],
             [
              0.2222222222222222,
              "#7201a8"
             ],
             [
              0.3333333333333333,
              "#9c179e"
             ],
             [
              0.4444444444444444,
              "#bd3786"
             ],
             [
              0.5555555555555556,
              "#d8576b"
             ],
             [
              0.6666666666666666,
              "#ed7953"
             ],
             [
              0.7777777777777778,
              "#fb9f3a"
             ],
             [
              0.8888888888888888,
              "#fdca26"
             ],
             [
              1,
              "#f0f921"
             ]
            ],
            "type": "heatmapgl"
           }
          ],
          "histogram": [
           {
            "marker": {
             "colorbar": {
              "outlinewidth": 0,
              "ticks": ""
             }
            },
            "type": "histogram"
           }
          ],
          "histogram2d": [
           {
            "colorbar": {
             "outlinewidth": 0,
             "ticks": ""
            },
            "colorscale": [
             [
              0,
              "#0d0887"
             ],
             [
              0.1111111111111111,
              "#46039f"
             ],
             [
              0.2222222222222222,
              "#7201a8"
             ],
             [
              0.3333333333333333,
              "#9c179e"
             ],
             [
              0.4444444444444444,
              "#bd3786"
             ],
             [
              0.5555555555555556,
              "#d8576b"
             ],
             [
              0.6666666666666666,
              "#ed7953"
             ],
             [
              0.7777777777777778,
              "#fb9f3a"
             ],
             [
              0.8888888888888888,
              "#fdca26"
             ],
             [
              1,
              "#f0f921"
             ]
            ],
            "type": "histogram2d"
           }
          ],
          "histogram2dcontour": [
           {
            "colorbar": {
             "outlinewidth": 0,
             "ticks": ""
            },
            "colorscale": [
             [
              0,
              "#0d0887"
             ],
             [
              0.1111111111111111,
              "#46039f"
             ],
             [
              0.2222222222222222,
              "#7201a8"
             ],
             [
              0.3333333333333333,
              "#9c179e"
             ],
             [
              0.4444444444444444,
              "#bd3786"
             ],
             [
              0.5555555555555556,
              "#d8576b"
             ],
             [
              0.6666666666666666,
              "#ed7953"
             ],
             [
              0.7777777777777778,
              "#fb9f3a"
             ],
             [
              0.8888888888888888,
              "#fdca26"
             ],
             [
              1,
              "#f0f921"
             ]
            ],
            "type": "histogram2dcontour"
           }
          ],
          "mesh3d": [
           {
            "colorbar": {
             "outlinewidth": 0,
             "ticks": ""
            },
            "type": "mesh3d"
           }
          ],
          "parcoords": [
           {
            "line": {
             "colorbar": {
              "outlinewidth": 0,
              "ticks": ""
             }
            },
            "type": "parcoords"
           }
          ],
          "pie": [
           {
            "automargin": true,
            "type": "pie"
           }
          ],
          "scatter": [
           {
            "marker": {
             "colorbar": {
              "outlinewidth": 0,
              "ticks": ""
             }
            },
            "type": "scatter"
           }
          ],
          "scatter3d": [
           {
            "line": {
             "colorbar": {
              "outlinewidth": 0,
              "ticks": ""
             }
            },
            "marker": {
             "colorbar": {
              "outlinewidth": 0,
              "ticks": ""
             }
            },
            "type": "scatter3d"
           }
          ],
          "scattercarpet": [
           {
            "marker": {
             "colorbar": {
              "outlinewidth": 0,
              "ticks": ""
             }
            },
            "type": "scattercarpet"
           }
          ],
          "scattergeo": [
           {
            "marker": {
             "colorbar": {
              "outlinewidth": 0,
              "ticks": ""
             }
            },
            "type": "scattergeo"
           }
          ],
          "scattergl": [
           {
            "marker": {
             "colorbar": {
              "outlinewidth": 0,
              "ticks": ""
             }
            },
            "type": "scattergl"
           }
          ],
          "scattermapbox": [
           {
            "marker": {
             "colorbar": {
              "outlinewidth": 0,
              "ticks": ""
             }
            },
            "type": "scattermapbox"
           }
          ],
          "scatterpolar": [
           {
            "marker": {
             "colorbar": {
              "outlinewidth": 0,
              "ticks": ""
             }
            },
            "type": "scatterpolar"
           }
          ],
          "scatterpolargl": [
           {
            "marker": {
             "colorbar": {
              "outlinewidth": 0,
              "ticks": ""
             }
            },
            "type": "scatterpolargl"
           }
          ],
          "scatterternary": [
           {
            "marker": {
             "colorbar": {
              "outlinewidth": 0,
              "ticks": ""
             }
            },
            "type": "scatterternary"
           }
          ],
          "surface": [
           {
            "colorbar": {
             "outlinewidth": 0,
             "ticks": ""
            },
            "colorscale": [
             [
              0,
              "#0d0887"
             ],
             [
              0.1111111111111111,
              "#46039f"
             ],
             [
              0.2222222222222222,
              "#7201a8"
             ],
             [
              0.3333333333333333,
              "#9c179e"
             ],
             [
              0.4444444444444444,
              "#bd3786"
             ],
             [
              0.5555555555555556,
              "#d8576b"
             ],
             [
              0.6666666666666666,
              "#ed7953"
             ],
             [
              0.7777777777777778,
              "#fb9f3a"
             ],
             [
              0.8888888888888888,
              "#fdca26"
             ],
             [
              1,
              "#f0f921"
             ]
            ],
            "type": "surface"
           }
          ],
          "table": [
           {
            "cells": {
             "fill": {
              "color": "#EBF0F8"
             },
             "line": {
              "color": "white"
             }
            },
            "header": {
             "fill": {
              "color": "#C8D4E3"
             },
             "line": {
              "color": "white"
             }
            },
            "type": "table"
           }
          ]
         },
         "layout": {
          "annotationdefaults": {
           "arrowcolor": "#2a3f5f",
           "arrowhead": 0,
           "arrowwidth": 1
          },
          "autotypenumbers": "strict",
          "coloraxis": {
           "colorbar": {
            "outlinewidth": 0,
            "ticks": ""
           }
          },
          "colorscale": {
           "diverging": [
            [
             0,
             "#8e0152"
            ],
            [
             0.1,
             "#c51b7d"
            ],
            [
             0.2,
             "#de77ae"
            ],
            [
             0.3,
             "#f1b6da"
            ],
            [
             0.4,
             "#fde0ef"
            ],
            [
             0.5,
             "#f7f7f7"
            ],
            [
             0.6,
             "#e6f5d0"
            ],
            [
             0.7,
             "#b8e186"
            ],
            [
             0.8,
             "#7fbc41"
            ],
            [
             0.9,
             "#4d9221"
            ],
            [
             1,
             "#276419"
            ]
           ],
           "sequential": [
            [
             0,
             "#0d0887"
            ],
            [
             0.1111111111111111,
             "#46039f"
            ],
            [
             0.2222222222222222,
             "#7201a8"
            ],
            [
             0.3333333333333333,
             "#9c179e"
            ],
            [
             0.4444444444444444,
             "#bd3786"
            ],
            [
             0.5555555555555556,
             "#d8576b"
            ],
            [
             0.6666666666666666,
             "#ed7953"
            ],
            [
             0.7777777777777778,
             "#fb9f3a"
            ],
            [
             0.8888888888888888,
             "#fdca26"
            ],
            [
             1,
             "#f0f921"
            ]
           ],
           "sequentialminus": [
            [
             0,
             "#0d0887"
            ],
            [
             0.1111111111111111,
             "#46039f"
            ],
            [
             0.2222222222222222,
             "#7201a8"
            ],
            [
             0.3333333333333333,
             "#9c179e"
            ],
            [
             0.4444444444444444,
             "#bd3786"
            ],
            [
             0.5555555555555556,
             "#d8576b"
            ],
            [
             0.6666666666666666,
             "#ed7953"
            ],
            [
             0.7777777777777778,
             "#fb9f3a"
            ],
            [
             0.8888888888888888,
             "#fdca26"
            ],
            [
             1,
             "#f0f921"
            ]
           ]
          },
          "colorway": [
           "#636efa",
           "#EF553B",
           "#00cc96",
           "#ab63fa",
           "#FFA15A",
           "#19d3f3",
           "#FF6692",
           "#B6E880",
           "#FF97FF",
           "#FECB52"
          ],
          "font": {
           "color": "#2a3f5f"
          },
          "geo": {
           "bgcolor": "white",
           "lakecolor": "white",
           "landcolor": "#E5ECF6",
           "showlakes": true,
           "showland": true,
           "subunitcolor": "white"
          },
          "hoverlabel": {
           "align": "left"
          },
          "hovermode": "closest",
          "mapbox": {
           "style": "light"
          },
          "paper_bgcolor": "white",
          "plot_bgcolor": "#E5ECF6",
          "polar": {
           "angularaxis": {
            "gridcolor": "white",
            "linecolor": "white",
            "ticks": ""
           },
           "bgcolor": "#E5ECF6",
           "radialaxis": {
            "gridcolor": "white",
            "linecolor": "white",
            "ticks": ""
           }
          },
          "scene": {
           "xaxis": {
            "backgroundcolor": "#E5ECF6",
            "gridcolor": "white",
            "gridwidth": 2,
            "linecolor": "white",
            "showbackground": true,
            "ticks": "",
            "zerolinecolor": "white"
           },
           "yaxis": {
            "backgroundcolor": "#E5ECF6",
            "gridcolor": "white",
            "gridwidth": 2,
            "linecolor": "white",
            "showbackground": true,
            "ticks": "",
            "zerolinecolor": "white"
           },
           "zaxis": {
            "backgroundcolor": "#E5ECF6",
            "gridcolor": "white",
            "gridwidth": 2,
            "linecolor": "white",
            "showbackground": true,
            "ticks": "",
            "zerolinecolor": "white"
           }
          },
          "shapedefaults": {
           "line": {
            "color": "#2a3f5f"
           }
          },
          "ternary": {
           "aaxis": {
            "gridcolor": "white",
            "linecolor": "white",
            "ticks": ""
           },
           "baxis": {
            "gridcolor": "white",
            "linecolor": "white",
            "ticks": ""
           },
           "bgcolor": "#E5ECF6",
           "caxis": {
            "gridcolor": "white",
            "linecolor": "white",
            "ticks": ""
           }
          },
          "title": {
           "x": 0.05
          },
          "xaxis": {
           "automargin": true,
           "gridcolor": "white",
           "linecolor": "white",
           "ticks": "",
           "title": {
            "standoff": 15
           },
           "zerolinecolor": "white",
           "zerolinewidth": 2
          },
          "yaxis": {
           "automargin": true,
           "gridcolor": "white",
           "linecolor": "white",
           "ticks": "",
           "title": {
            "standoff": 15
           },
           "zerolinecolor": "white",
           "zerolinewidth": 2
          }
         }
        },
        "title": {
         "text": "Sankey Diagram for Top 5 Causes of Maternal Death, Over 30, Black Deaths, 2008-2019"
        },
        "width": 1000
       }
      },
      "text/html": [
       "<div>                            <div id=\"4c948e3b-9c95-4c11-b0ed-67e0a1f827bd\" class=\"plotly-graph-div\" style=\"height:750px; width:1000px;\"></div>            <script type=\"text/javascript\">                require([\"plotly\"], function(Plotly) {                    window.PLOTLYENV=window.PLOTLYENV || {};                                    if (document.getElementById(\"4c948e3b-9c95-4c11-b0ed-67e0a1f827bd\")) {                    Plotly.newPlot(                        \"4c948e3b-9c95-4c11-b0ed-67e0a1f827bd\",                        [{\"link\": {\"source\": [0, 0, 0, 0, 0, 2, 2, 2, 2, 2, 4, 4, 4, 4, 4, 3, 3, 3, 3, 3, 5, 5, 5, 5, 5, 1, 1, 1, 1, 1], \"target\": [2, 4, 3, 5, 1, 21, 6, 13, 9, 8, 21, 10, 14, 20, 19, 21, 7, 9, 18, 16, 21, 11, 12, 17, 22, 21, 18, 14, 15, 23], \"value\": [20.178372352285397, 9.866220735785953, 8.416945373467112, 8.361204013377927, 5.797101449275362, 68.78453038674033, 2.7624309392265194, 1.9337016574585635, 1.6574585635359116, 1.6574585635359116, 57.6271186440678, 16.38418079096045, 6.214689265536723, 5.649717514124294, 1.694915254237288, 80.79470198675497, 2.6490066225165565, 1.3245033112582782, 1.3245033112582782, 0.6622516556291391, 72.66666666666667, 14.000000000000002, 2.0, 1.3333333333333335, 0.6666666666666667, 87.5, 1.9230769230769231, 0.9615384615384616, 0.9615384615384616, 0.9615384615384616]}, \"node\": {\"color\": [\"#c6dfea\", \"#bfdee3\", \"#b5dcda\", \"#add9ce\", \"#a8d7c4\", \"#a3d4b7\", \"#a1d0ad\", \"#9fcb9f\", \"#a0c593\", \"#a1bf8a\", \"#a4b780\", \"#a7af7a\", \"#aca674\", \"#b09c71\", \"#b39470\", \"#b58a71\", \"#b68273\", \"#b67977\", \"#b3717d\", \"#af6b82\", \"#a96588\", \"#a1618c\", \"#975d91\", \"#8a5a94\"], \"label\": [\"Top 5 Causes\", \"O994: Diseases of the Circulatory System(s)\", \"O268: Other Specified Pregnancy-Related Conditions(s)\", \"O961: Indirect Obstetric Cause, 42d-365d post-delivery(s)\", \"O998: Other Specified Diseases Complicating Pregnancy(s)\", \"O960: Direct Obstetric Cause, 42d-365d post-delivery(s)\", \"O100: Pre-existing Hypertension\", \"O268: Other Specified Pregnancy-Related Conditions\", \"O881: Amniotic Fluid Embolism\", \"O903: Cardiomyopathy in the puerperium\", \"O994: Diseases of the Circulatory System\", \"O961: Indirect Obstetric Cause, 42d-365d post-delivery\", \"R99: Illness or Undefined Cause of Mortality\", \"O987: HIV disease complicating pregnancy, childbirth and the puerperium\", \"O993: Diseases of the Nervous System / Mental Disorders\", \"G932: Benign intracranial hypertension\", \"G122: Motor neuron disease\", \"B24: Unspecified HIV Disease\", \"I219: Acute myocardial infarction, unspecified\", \"O995: Diseases of the Respiratory System\", \"O988: Infection / Parasitic Disease, Other\", \"No Secondary Cause Reported\", \"I420: Dilated cardiomyopathy\", \"C910: Acute lymphoblastic leukaemia\"], \"line\": {\"color\": \"black\", \"width\": 0.5}, \"pad\": 15, \"thickness\": 50}, \"type\": \"sankey\", \"valueformat\": \".0f\", \"valuesuffix\": \"%\"}],                        {\"font\": {\"size\": 10}, \"height\": 750, \"template\": {\"data\": {\"bar\": [{\"error_x\": {\"color\": \"#2a3f5f\"}, \"error_y\": {\"color\": \"#2a3f5f\"}, \"marker\": {\"line\": {\"color\": \"#E5ECF6\", \"width\": 0.5}}, \"type\": \"bar\"}], \"barpolar\": [{\"marker\": {\"line\": {\"color\": \"#E5ECF6\", \"width\": 0.5}}, \"type\": \"barpolar\"}], \"carpet\": [{\"aaxis\": {\"endlinecolor\": \"#2a3f5f\", \"gridcolor\": \"white\", \"linecolor\": \"white\", \"minorgridcolor\": \"white\", \"startlinecolor\": \"#2a3f5f\"}, \"baxis\": {\"endlinecolor\": \"#2a3f5f\", \"gridcolor\": \"white\", \"linecolor\": \"white\", \"minorgridcolor\": \"white\", \"startlinecolor\": \"#2a3f5f\"}, \"type\": \"carpet\"}], \"choropleth\": [{\"colorbar\": {\"outlinewidth\": 0, \"ticks\": \"\"}, \"type\": \"choropleth\"}], \"contour\": [{\"colorbar\": {\"outlinewidth\": 0, \"ticks\": \"\"}, \"colorscale\": [[0.0, \"#0d0887\"], [0.1111111111111111, \"#46039f\"], [0.2222222222222222, \"#7201a8\"], [0.3333333333333333, \"#9c179e\"], [0.4444444444444444, \"#bd3786\"], [0.5555555555555556, \"#d8576b\"], [0.6666666666666666, \"#ed7953\"], [0.7777777777777778, \"#fb9f3a\"], [0.8888888888888888, \"#fdca26\"], [1.0, \"#f0f921\"]], \"type\": \"contour\"}], \"contourcarpet\": [{\"colorbar\": {\"outlinewidth\": 0, \"ticks\": \"\"}, \"type\": \"contourcarpet\"}], \"heatmap\": [{\"colorbar\": {\"outlinewidth\": 0, \"ticks\": \"\"}, \"colorscale\": [[0.0, \"#0d0887\"], [0.1111111111111111, \"#46039f\"], [0.2222222222222222, \"#7201a8\"], [0.3333333333333333, \"#9c179e\"], [0.4444444444444444, \"#bd3786\"], [0.5555555555555556, \"#d8576b\"], [0.6666666666666666, \"#ed7953\"], [0.7777777777777778, \"#fb9f3a\"], [0.8888888888888888, \"#fdca26\"], [1.0, \"#f0f921\"]], \"type\": \"heatmap\"}], \"heatmapgl\": [{\"colorbar\": {\"outlinewidth\": 0, \"ticks\": \"\"}, \"colorscale\": [[0.0, \"#0d0887\"], [0.1111111111111111, \"#46039f\"], [0.2222222222222222, \"#7201a8\"], [0.3333333333333333, \"#9c179e\"], [0.4444444444444444, \"#bd3786\"], [0.5555555555555556, \"#d8576b\"], [0.6666666666666666, \"#ed7953\"], [0.7777777777777778, \"#fb9f3a\"], [0.8888888888888888, \"#fdca26\"], [1.0, \"#f0f921\"]], \"type\": \"heatmapgl\"}], \"histogram\": [{\"marker\": {\"colorbar\": {\"outlinewidth\": 0, \"ticks\": \"\"}}, \"type\": \"histogram\"}], \"histogram2d\": [{\"colorbar\": {\"outlinewidth\": 0, \"ticks\": \"\"}, \"colorscale\": [[0.0, \"#0d0887\"], [0.1111111111111111, \"#46039f\"], [0.2222222222222222, \"#7201a8\"], [0.3333333333333333, \"#9c179e\"], [0.4444444444444444, \"#bd3786\"], [0.5555555555555556, \"#d8576b\"], [0.6666666666666666, \"#ed7953\"], [0.7777777777777778, \"#fb9f3a\"], [0.8888888888888888, \"#fdca26\"], [1.0, \"#f0f921\"]], \"type\": \"histogram2d\"}], \"histogram2dcontour\": [{\"colorbar\": {\"outlinewidth\": 0, \"ticks\": \"\"}, \"colorscale\": [[0.0, \"#0d0887\"], [0.1111111111111111, \"#46039f\"], [0.2222222222222222, \"#7201a8\"], [0.3333333333333333, \"#9c179e\"], [0.4444444444444444, \"#bd3786\"], [0.5555555555555556, \"#d8576b\"], [0.6666666666666666, \"#ed7953\"], [0.7777777777777778, \"#fb9f3a\"], [0.8888888888888888, \"#fdca26\"], [1.0, \"#f0f921\"]], \"type\": \"histogram2dcontour\"}], \"mesh3d\": [{\"colorbar\": {\"outlinewidth\": 0, \"ticks\": \"\"}, \"type\": \"mesh3d\"}], \"parcoords\": [{\"line\": {\"colorbar\": {\"outlinewidth\": 0, \"ticks\": \"\"}}, \"type\": \"parcoords\"}], \"pie\": [{\"automargin\": true, \"type\": \"pie\"}], \"scatter\": [{\"marker\": {\"colorbar\": {\"outlinewidth\": 0, \"ticks\": \"\"}}, \"type\": \"scatter\"}], \"scatter3d\": [{\"line\": {\"colorbar\": {\"outlinewidth\": 0, \"ticks\": \"\"}}, \"marker\": {\"colorbar\": {\"outlinewidth\": 0, \"ticks\": \"\"}}, \"type\": \"scatter3d\"}], \"scattercarpet\": [{\"marker\": {\"colorbar\": {\"outlinewidth\": 0, \"ticks\": \"\"}}, \"type\": \"scattercarpet\"}], \"scattergeo\": [{\"marker\": {\"colorbar\": {\"outlinewidth\": 0, \"ticks\": \"\"}}, \"type\": \"scattergeo\"}], \"scattergl\": [{\"marker\": {\"colorbar\": {\"outlinewidth\": 0, \"ticks\": \"\"}}, \"type\": \"scattergl\"}], \"scattermapbox\": [{\"marker\": {\"colorbar\": {\"outlinewidth\": 0, \"ticks\": \"\"}}, \"type\": \"scattermapbox\"}], \"scatterpolar\": [{\"marker\": {\"colorbar\": {\"outlinewidth\": 0, \"ticks\": \"\"}}, \"type\": \"scatterpolar\"}], \"scatterpolargl\": [{\"marker\": {\"colorbar\": {\"outlinewidth\": 0, \"ticks\": \"\"}}, \"type\": \"scatterpolargl\"}], \"scatterternary\": [{\"marker\": {\"colorbar\": {\"outlinewidth\": 0, \"ticks\": \"\"}}, \"type\": \"scatterternary\"}], \"surface\": [{\"colorbar\": {\"outlinewidth\": 0, \"ticks\": \"\"}, \"colorscale\": [[0.0, \"#0d0887\"], [0.1111111111111111, \"#46039f\"], [0.2222222222222222, \"#7201a8\"], [0.3333333333333333, \"#9c179e\"], [0.4444444444444444, \"#bd3786\"], [0.5555555555555556, \"#d8576b\"], [0.6666666666666666, \"#ed7953\"], [0.7777777777777778, \"#fb9f3a\"], [0.8888888888888888, \"#fdca26\"], [1.0, \"#f0f921\"]], \"type\": \"surface\"}], \"table\": [{\"cells\": {\"fill\": {\"color\": \"#EBF0F8\"}, \"line\": {\"color\": \"white\"}}, \"header\": {\"fill\": {\"color\": \"#C8D4E3\"}, \"line\": {\"color\": \"white\"}}, \"type\": \"table\"}]}, \"layout\": {\"annotationdefaults\": {\"arrowcolor\": \"#2a3f5f\", \"arrowhead\": 0, \"arrowwidth\": 1}, \"autotypenumbers\": \"strict\", \"coloraxis\": {\"colorbar\": {\"outlinewidth\": 0, \"ticks\": \"\"}}, \"colorscale\": {\"diverging\": [[0, \"#8e0152\"], [0.1, \"#c51b7d\"], [0.2, \"#de77ae\"], [0.3, \"#f1b6da\"], [0.4, \"#fde0ef\"], [0.5, \"#f7f7f7\"], [0.6, \"#e6f5d0\"], [0.7, \"#b8e186\"], [0.8, \"#7fbc41\"], [0.9, \"#4d9221\"], [1, \"#276419\"]], \"sequential\": [[0.0, \"#0d0887\"], [0.1111111111111111, \"#46039f\"], [0.2222222222222222, \"#7201a8\"], [0.3333333333333333, \"#9c179e\"], [0.4444444444444444, \"#bd3786\"], [0.5555555555555556, \"#d8576b\"], [0.6666666666666666, \"#ed7953\"], [0.7777777777777778, \"#fb9f3a\"], [0.8888888888888888, \"#fdca26\"], [1.0, \"#f0f921\"]], \"sequentialminus\": [[0.0, \"#0d0887\"], [0.1111111111111111, \"#46039f\"], [0.2222222222222222, \"#7201a8\"], [0.3333333333333333, \"#9c179e\"], [0.4444444444444444, \"#bd3786\"], [0.5555555555555556, \"#d8576b\"], [0.6666666666666666, \"#ed7953\"], [0.7777777777777778, \"#fb9f3a\"], [0.8888888888888888, \"#fdca26\"], [1.0, \"#f0f921\"]]}, \"colorway\": [\"#636efa\", \"#EF553B\", \"#00cc96\", \"#ab63fa\", \"#FFA15A\", \"#19d3f3\", \"#FF6692\", \"#B6E880\", \"#FF97FF\", \"#FECB52\"], \"font\": {\"color\": \"#2a3f5f\"}, \"geo\": {\"bgcolor\": \"white\", \"lakecolor\": \"white\", \"landcolor\": \"#E5ECF6\", \"showlakes\": true, \"showland\": true, \"subunitcolor\": \"white\"}, \"hoverlabel\": {\"align\": \"left\"}, \"hovermode\": \"closest\", \"mapbox\": {\"style\": \"light\"}, \"paper_bgcolor\": \"white\", \"plot_bgcolor\": \"#E5ECF6\", \"polar\": {\"angularaxis\": {\"gridcolor\": \"white\", \"linecolor\": \"white\", \"ticks\": \"\"}, \"bgcolor\": \"#E5ECF6\", \"radialaxis\": {\"gridcolor\": \"white\", \"linecolor\": \"white\", \"ticks\": \"\"}}, \"scene\": {\"xaxis\": {\"backgroundcolor\": \"#E5ECF6\", \"gridcolor\": \"white\", \"gridwidth\": 2, \"linecolor\": \"white\", \"showbackground\": true, \"ticks\": \"\", \"zerolinecolor\": \"white\"}, \"yaxis\": {\"backgroundcolor\": \"#E5ECF6\", \"gridcolor\": \"white\", \"gridwidth\": 2, \"linecolor\": \"white\", \"showbackground\": true, \"ticks\": \"\", \"zerolinecolor\": \"white\"}, \"zaxis\": {\"backgroundcolor\": \"#E5ECF6\", \"gridcolor\": \"white\", \"gridwidth\": 2, \"linecolor\": \"white\", \"showbackground\": true, \"ticks\": \"\", \"zerolinecolor\": \"white\"}}, \"shapedefaults\": {\"line\": {\"color\": \"#2a3f5f\"}}, \"ternary\": {\"aaxis\": {\"gridcolor\": \"white\", \"linecolor\": \"white\", \"ticks\": \"\"}, \"baxis\": {\"gridcolor\": \"white\", \"linecolor\": \"white\", \"ticks\": \"\"}, \"bgcolor\": \"#E5ECF6\", \"caxis\": {\"gridcolor\": \"white\", \"linecolor\": \"white\", \"ticks\": \"\"}}, \"title\": {\"x\": 0.05}, \"xaxis\": {\"automargin\": true, \"gridcolor\": \"white\", \"linecolor\": \"white\", \"ticks\": \"\", \"title\": {\"standoff\": 15}, \"zerolinecolor\": \"white\", \"zerolinewidth\": 2}, \"yaxis\": {\"automargin\": true, \"gridcolor\": \"white\", \"linecolor\": \"white\", \"ticks\": \"\", \"title\": {\"standoff\": 15}, \"zerolinecolor\": \"white\", \"zerolinewidth\": 2}}}, \"title\": {\"text\": \"Sankey Diagram for Top 5 Causes of Maternal Death, Over 30, Black Deaths, 2008-2019\"}, \"width\": 1000},                        {\"responsive\": true}                    ).then(function(){\n",
       "                            \n",
       "var gd = document.getElementById('4c948e3b-9c95-4c11-b0ed-67e0a1f827bd');\n",
       "var x = new MutationObserver(function (mutations, observer) {{\n",
       "        var display = window.getComputedStyle(gd).display;\n",
       "        if (!display || display === 'none') {{\n",
       "            console.log([gd, 'removed!']);\n",
       "            Plotly.purge(gd);\n",
       "            observer.disconnect();\n",
       "        }}\n",
       "}});\n",
       "\n",
       "// Listen for the removal of the full notebook cells\n",
       "var notebookContainer = gd.closest('#notebook-container');\n",
       "if (notebookContainer) {{\n",
       "    x.observe(notebookContainer, {childList: true});\n",
       "}}\n",
       "\n",
       "// Listen for the clearing of the current output cell\n",
       "var outputEl = gd.closest('.output');\n",
       "if (outputEl) {{\n",
       "    x.observe(outputEl, {childList: true});\n",
       "}}\n",
       "\n",
       "                        })                };                });            </script>        </div>"
      ]
     },
     "metadata": {},
     "output_type": "display_data"
    }
   ],
   "source": [
    "# create the sankey diagram \n",
    "fig = go.Figure(data=[go.Sankey(\n",
    "    valueformat = '.0f', \n",
    "    valuesuffix = \"%\",\n",
    "    node=dict(\n",
    "        pad = 15, \n",
    "        thickness = 50, \n",
    "        line = dict(color= 'black', width = 0.5), \n",
    "        label = nodes['Label'], \n",
    "        color = nodes['Color']\n",
    "    ), \n",
    "    link = dict(source = otb_san_coded['source'], \n",
    "            target = otb_san_coded['target'], \n",
    "            value = otb_san_coded['value'], \n",
    "               ))]\n",
    ")\n",
    "\n",
    "fig.update_layout(title_text=\"Sankey Diagram for Top 5 Causes of Maternal Death, Over 30, Black Deaths, 2008-2019\", \n",
    "                  height = 750, width=1000, font_size=10)\n",
    "fig.show()"
   ]
  },
  {
   "cell_type": "code",
   "execution_count": null,
   "id": "c0a16b7b",
   "metadata": {},
   "outputs": [],
   "source": []
  },
  {
   "cell_type": "code",
   "execution_count": 183,
   "id": "0a915615",
   "metadata": {},
   "outputs": [],
   "source": [
    "utw_san, list_of_causes_utw = create_sankey_df(under30_white)"
   ]
  },
  {
   "cell_type": "code",
   "execution_count": 184,
   "id": "f802df21",
   "metadata": {},
   "outputs": [
    {
     "data": {
      "text/html": [
       "<div>\n",
       "<style scoped>\n",
       "    .dataframe tbody tr th:only-of-type {\n",
       "        vertical-align: middle;\n",
       "    }\n",
       "\n",
       "    .dataframe tbody tr th {\n",
       "        vertical-align: top;\n",
       "    }\n",
       "\n",
       "    .dataframe thead th {\n",
       "        text-align: right;\n",
       "    }\n",
       "</style>\n",
       "<table border=\"1\" class=\"dataframe\">\n",
       "  <thead>\n",
       "    <tr style=\"text-align: right;\">\n",
       "      <th></th>\n",
       "      <th>source</th>\n",
       "      <th>target</th>\n",
       "      <th>value</th>\n",
       "    </tr>\n",
       "  </thead>\n",
       "  <tbody>\n",
       "    <tr>\n",
       "      <th>0</th>\n",
       "      <td>Top 5 Causes</td>\n",
       "      <td>O268s</td>\n",
       "      <td>16.926952</td>\n",
       "    </tr>\n",
       "    <tr>\n",
       "      <th>1</th>\n",
       "      <td>Top 5 Causes</td>\n",
       "      <td>O961s</td>\n",
       "      <td>12.241814</td>\n",
       "    </tr>\n",
       "    <tr>\n",
       "      <th>2</th>\n",
       "      <td>Top 5 Causes</td>\n",
       "      <td>O960s</td>\n",
       "      <td>10.528967</td>\n",
       "    </tr>\n",
       "    <tr>\n",
       "      <th>3</th>\n",
       "      <td>Top 5 Causes</td>\n",
       "      <td>O998s</td>\n",
       "      <td>9.974811</td>\n",
       "    </tr>\n",
       "    <tr>\n",
       "      <th>4</th>\n",
       "      <td>Top 5 Causes</td>\n",
       "      <td>O994s</td>\n",
       "      <td>6.901763</td>\n",
       "    </tr>\n",
       "    <tr>\n",
       "      <th>5</th>\n",
       "      <td>O268s</td>\n",
       "      <td>None</td>\n",
       "      <td>61.904762</td>\n",
       "    </tr>\n",
       "    <tr>\n",
       "      <th>6</th>\n",
       "      <td>O268s</td>\n",
       "      <td>O266</td>\n",
       "      <td>2.083333</td>\n",
       "    </tr>\n",
       "    <tr>\n",
       "      <th>7</th>\n",
       "      <td>O268s</td>\n",
       "      <td>O721</td>\n",
       "      <td>1.785714</td>\n",
       "    </tr>\n",
       "    <tr>\n",
       "      <th>8</th>\n",
       "      <td>O268s</td>\n",
       "      <td>O882</td>\n",
       "      <td>1.488095</td>\n",
       "    </tr>\n",
       "    <tr>\n",
       "      <th>9</th>\n",
       "      <td>O268s</td>\n",
       "      <td>O881</td>\n",
       "      <td>1.488095</td>\n",
       "    </tr>\n",
       "    <tr>\n",
       "      <th>10</th>\n",
       "      <td>O961s</td>\n",
       "      <td>None</td>\n",
       "      <td>74.897119</td>\n",
       "    </tr>\n",
       "    <tr>\n",
       "      <th>11</th>\n",
       "      <td>O961s</td>\n",
       "      <td>R99</td>\n",
       "      <td>1.646091</td>\n",
       "    </tr>\n",
       "    <tr>\n",
       "      <th>12</th>\n",
       "      <td>O961s</td>\n",
       "      <td>T71</td>\n",
       "      <td>1.234568</td>\n",
       "    </tr>\n",
       "    <tr>\n",
       "      <th>13</th>\n",
       "      <td>O961s</td>\n",
       "      <td>O960</td>\n",
       "      <td>0.823045</td>\n",
       "    </tr>\n",
       "    <tr>\n",
       "      <th>14</th>\n",
       "      <td>O961s</td>\n",
       "      <td>J159</td>\n",
       "      <td>0.823045</td>\n",
       "    </tr>\n",
       "    <tr>\n",
       "      <th>15</th>\n",
       "      <td>O960s</td>\n",
       "      <td>None</td>\n",
       "      <td>70.813397</td>\n",
       "    </tr>\n",
       "    <tr>\n",
       "      <th>16</th>\n",
       "      <td>O960s</td>\n",
       "      <td>O961</td>\n",
       "      <td>8.133971</td>\n",
       "    </tr>\n",
       "    <tr>\n",
       "      <th>17</th>\n",
       "      <td>O960s</td>\n",
       "      <td>R99</td>\n",
       "      <td>1.435407</td>\n",
       "    </tr>\n",
       "    <tr>\n",
       "      <th>18</th>\n",
       "      <td>O960s</td>\n",
       "      <td>T509</td>\n",
       "      <td>1.435407</td>\n",
       "    </tr>\n",
       "    <tr>\n",
       "      <th>19</th>\n",
       "      <td>O960s</td>\n",
       "      <td>F191</td>\n",
       "      <td>0.956938</td>\n",
       "    </tr>\n",
       "    <tr>\n",
       "      <th>20</th>\n",
       "      <td>O998s</td>\n",
       "      <td>None</td>\n",
       "      <td>45.959596</td>\n",
       "    </tr>\n",
       "    <tr>\n",
       "      <th>21</th>\n",
       "      <td>O998s</td>\n",
       "      <td>O994</td>\n",
       "      <td>21.717172</td>\n",
       "    </tr>\n",
       "    <tr>\n",
       "      <th>22</th>\n",
       "      <td>O998s</td>\n",
       "      <td>O988</td>\n",
       "      <td>6.060606</td>\n",
       "    </tr>\n",
       "    <tr>\n",
       "      <th>23</th>\n",
       "      <td>O998s</td>\n",
       "      <td>O995</td>\n",
       "      <td>5.050505</td>\n",
       "    </tr>\n",
       "    <tr>\n",
       "      <th>24</th>\n",
       "      <td>O998s</td>\n",
       "      <td>O993</td>\n",
       "      <td>3.535354</td>\n",
       "    </tr>\n",
       "    <tr>\n",
       "      <th>25</th>\n",
       "      <td>O994s</td>\n",
       "      <td>None</td>\n",
       "      <td>84.671533</td>\n",
       "    </tr>\n",
       "    <tr>\n",
       "      <th>26</th>\n",
       "      <td>O994s</td>\n",
       "      <td>R99</td>\n",
       "      <td>2.919708</td>\n",
       "    </tr>\n",
       "    <tr>\n",
       "      <th>27</th>\n",
       "      <td>O994s</td>\n",
       "      <td>I330</td>\n",
       "      <td>1.459854</td>\n",
       "    </tr>\n",
       "    <tr>\n",
       "      <th>28</th>\n",
       "      <td>O994s</td>\n",
       "      <td>I429</td>\n",
       "      <td>1.459854</td>\n",
       "    </tr>\n",
       "    <tr>\n",
       "      <th>29</th>\n",
       "      <td>O994s</td>\n",
       "      <td>I428</td>\n",
       "      <td>0.729927</td>\n",
       "    </tr>\n",
       "  </tbody>\n",
       "</table>\n",
       "</div>"
      ],
      "text/plain": [
       "          source target      value\n",
       "0   Top 5 Causes  O268s  16.926952\n",
       "1   Top 5 Causes  O961s  12.241814\n",
       "2   Top 5 Causes  O960s  10.528967\n",
       "3   Top 5 Causes  O998s   9.974811\n",
       "4   Top 5 Causes  O994s   6.901763\n",
       "5          O268s   None  61.904762\n",
       "6          O268s   O266   2.083333\n",
       "7          O268s   O721   1.785714\n",
       "8          O268s   O882   1.488095\n",
       "9          O268s   O881   1.488095\n",
       "10         O961s   None  74.897119\n",
       "11         O961s    R99   1.646091\n",
       "12         O961s    T71   1.234568\n",
       "13         O961s   O960   0.823045\n",
       "14         O961s   J159   0.823045\n",
       "15         O960s   None  70.813397\n",
       "16         O960s   O961   8.133971\n",
       "17         O960s    R99   1.435407\n",
       "18         O960s   T509   1.435407\n",
       "19         O960s   F191   0.956938\n",
       "20         O998s   None  45.959596\n",
       "21         O998s   O994  21.717172\n",
       "22         O998s   O988   6.060606\n",
       "23         O998s   O995   5.050505\n",
       "24         O998s   O993   3.535354\n",
       "25         O994s   None  84.671533\n",
       "26         O994s    R99   2.919708\n",
       "27         O994s   I330   1.459854\n",
       "28         O994s   I429   1.459854\n",
       "29         O994s   I428   0.729927"
      ]
     },
     "execution_count": 184,
     "metadata": {},
     "output_type": "execute_result"
    }
   ],
   "source": [
    "utw_san"
   ]
  },
  {
   "cell_type": "code",
   "execution_count": 185,
   "id": "c2dd8850",
   "metadata": {},
   "outputs": [],
   "source": [
    "utw_source_map, utw_target_map, utw_nodes_map = set_sources_targets_nodes(utw_san)"
   ]
  },
  {
   "cell_type": "code",
   "execution_count": 186,
   "id": "b579aa58",
   "metadata": {},
   "outputs": [],
   "source": [
    "utw_san_coded = utw_san.copy()"
   ]
  },
  {
   "cell_type": "code",
   "execution_count": 187,
   "id": "6b475128",
   "metadata": {},
   "outputs": [],
   "source": [
    "utw_san_coded.source = utw_san_coded.source.replace(to_replace={v: k for k, v in utw_source_map.items()})"
   ]
  },
  {
   "cell_type": "code",
   "execution_count": 188,
   "id": "2d7524e8",
   "metadata": {},
   "outputs": [],
   "source": [
    "# replace targets with their numbers (first targets then targets that are also sources, e.g. first 5)\n",
    "\n",
    "utw_san_coded.target = utw_san_coded.target.replace(to_replace={v: k for k, v in utw_target_map.items()})\n",
    "utw_san_coded.target = utw_san_coded.target.replace(to_replace={v: k for k, v in utw_source_map.items()})"
   ]
  },
  {
   "cell_type": "code",
   "execution_count": 189,
   "id": "0acb20fa",
   "metadata": {},
   "outputs": [],
   "source": [
    "nodes = pd.DataFrame(columns=['ID', 'Label', 'Color'])"
   ]
  },
  {
   "cell_type": "code",
   "execution_count": 190,
   "id": "1ea92fc6",
   "metadata": {},
   "outputs": [],
   "source": [
    "# fill in nodes dataframe with Id, label, and color\n",
    "nodes['ID'] = [k for k, v in utw_nodes_map.items()]\n",
    "nodes['Label'] = [v for k, v in utw_nodes_map.items()]\n",
    "# replace values with causes dict to put more information about cause of death on the diagram \n",
    "nodes.Label.replace(to_replace=causes_dict, inplace=True)\n",
    "nodes['Color'] = color_list[:25]"
   ]
  },
  {
   "cell_type": "code",
   "execution_count": 191,
   "id": "10d40d35",
   "metadata": {},
   "outputs": [
    {
     "data": {
      "application/vnd.plotly.v1+json": {
       "config": {
        "plotlyServerURL": "https://plot.ly"
       },
       "data": [
        {
         "link": {
          "source": [
           0,
           0,
           0,
           0,
           0,
           2,
           2,
           2,
           2,
           2,
           3,
           3,
           3,
           3,
           3,
           5,
           5,
           5,
           5,
           5,
           4,
           4,
           4,
           4,
           4,
           1,
           1,
           1,
           1,
           1
          ],
          "target": [
           2,
           3,
           5,
           4,
           1,
           13,
           19,
           12,
           14,
           6,
           13,
           17,
           15,
           23,
           8,
           13,
           7,
           17,
           16,
           22,
           13,
           9,
           24,
           21,
           10,
           13,
           17,
           18,
           11,
           20
          ],
          "value": [
           16.926952141057935,
           12.241813602015112,
           10.52896725440806,
           9.974811083123427,
           6.9017632241813605,
           61.904761904761905,
           2.083333333333333,
           1.7857142857142856,
           1.488095238095238,
           1.488095238095238,
           74.8971193415638,
           1.646090534979424,
           1.2345679012345678,
           0.823045267489712,
           0.823045267489712,
           70.81339712918661,
           8.133971291866029,
           1.4354066985645932,
           1.4354066985645932,
           0.9569377990430622,
           45.95959595959596,
           21.71717171717172,
           6.0606060606060606,
           5.05050505050505,
           3.535353535353535,
           84.67153284671532,
           2.9197080291970803,
           1.4598540145985401,
           1.4598540145985401,
           0.7299270072992701
          ]
         },
         "node": {
          "color": [
           "#c6dfea",
           "#bfdee3",
           "#b5dcda",
           "#add9ce",
           "#a8d7c4",
           "#a3d4b7",
           "#a1d0ad",
           "#9fcb9f",
           "#a0c593",
           "#a1bf8a",
           "#a4b780",
           "#a7af7a",
           "#aca674",
           "#b09c71",
           "#b39470",
           "#b58a71",
           "#b68273",
           "#b67977",
           "#b3717d",
           "#af6b82",
           "#a96588",
           "#a1618c",
           "#975d91",
           "#8a5a94",
           "#7f5995"
          ],
          "label": [
           "Top 5 Causes",
           "O994: Diseases of the Circulatory System(s)",
           "O268: Other Specified Pregnancy-Related Conditions(s)",
           "O961: Indirect Obstetric Cause, 42d-365d post-delivery(s)",
           "O998: Other Specified Diseases Complicating Pregnancy(s)",
           "O960: Direct Obstetric Cause, 42d-365d post-delivery(s)",
           "O881: Amniotic Fluid Embolism",
           "O961: Indirect Obstetric Cause, 42d-365d post-delivery",
           "J159: Bacterial pneumonia, unspecified",
           "O994: Diseases of the Circulatory System",
           "O993: Diseases of the Nervous System / Mental Disorders",
           "I429: Cardiomyopathy, unspecified",
           "O721: Other immediate postpartum haemorrhage",
           "No Secondary Cause Reported",
           "O882: Obstetric blood-clot embolism",
           "T71: Asphyxiation",
           "T509: Unspecified Drugs",
           "R99: Illness or Undefined Cause of Mortality",
           "I330: Acute and subacute infective endocarditis",
           "O266: Liver Disorder",
           "I428: Other cardiomyopathies",
           "O995: Diseases of the Respiratory System",
           "F191: Mental and behavioural disorders due to harmful use of other psychoactive substances",
           "O960: Direct Obstetric Cause, 42d-365d post-delivery",
           "O988: Infection / Parasitic Disease, Other"
          ],
          "line": {
           "color": "black",
           "width": 0.5
          },
          "pad": 15,
          "thickness": 50
         },
         "type": "sankey",
         "valueformat": ".0f",
         "valuesuffix": "%"
        }
       ],
       "layout": {
        "font": {
         "size": 10
        },
        "height": 750,
        "template": {
         "data": {
          "bar": [
           {
            "error_x": {
             "color": "#2a3f5f"
            },
            "error_y": {
             "color": "#2a3f5f"
            },
            "marker": {
             "line": {
              "color": "#E5ECF6",
              "width": 0.5
             }
            },
            "type": "bar"
           }
          ],
          "barpolar": [
           {
            "marker": {
             "line": {
              "color": "#E5ECF6",
              "width": 0.5
             }
            },
            "type": "barpolar"
           }
          ],
          "carpet": [
           {
            "aaxis": {
             "endlinecolor": "#2a3f5f",
             "gridcolor": "white",
             "linecolor": "white",
             "minorgridcolor": "white",
             "startlinecolor": "#2a3f5f"
            },
            "baxis": {
             "endlinecolor": "#2a3f5f",
             "gridcolor": "white",
             "linecolor": "white",
             "minorgridcolor": "white",
             "startlinecolor": "#2a3f5f"
            },
            "type": "carpet"
           }
          ],
          "choropleth": [
           {
            "colorbar": {
             "outlinewidth": 0,
             "ticks": ""
            },
            "type": "choropleth"
           }
          ],
          "contour": [
           {
            "colorbar": {
             "outlinewidth": 0,
             "ticks": ""
            },
            "colorscale": [
             [
              0,
              "#0d0887"
             ],
             [
              0.1111111111111111,
              "#46039f"
             ],
             [
              0.2222222222222222,
              "#7201a8"
             ],
             [
              0.3333333333333333,
              "#9c179e"
             ],
             [
              0.4444444444444444,
              "#bd3786"
             ],
             [
              0.5555555555555556,
              "#d8576b"
             ],
             [
              0.6666666666666666,
              "#ed7953"
             ],
             [
              0.7777777777777778,
              "#fb9f3a"
             ],
             [
              0.8888888888888888,
              "#fdca26"
             ],
             [
              1,
              "#f0f921"
             ]
            ],
            "type": "contour"
           }
          ],
          "contourcarpet": [
           {
            "colorbar": {
             "outlinewidth": 0,
             "ticks": ""
            },
            "type": "contourcarpet"
           }
          ],
          "heatmap": [
           {
            "colorbar": {
             "outlinewidth": 0,
             "ticks": ""
            },
            "colorscale": [
             [
              0,
              "#0d0887"
             ],
             [
              0.1111111111111111,
              "#46039f"
             ],
             [
              0.2222222222222222,
              "#7201a8"
             ],
             [
              0.3333333333333333,
              "#9c179e"
             ],
             [
              0.4444444444444444,
              "#bd3786"
             ],
             [
              0.5555555555555556,
              "#d8576b"
             ],
             [
              0.6666666666666666,
              "#ed7953"
             ],
             [
              0.7777777777777778,
              "#fb9f3a"
             ],
             [
              0.8888888888888888,
              "#fdca26"
             ],
             [
              1,
              "#f0f921"
             ]
            ],
            "type": "heatmap"
           }
          ],
          "heatmapgl": [
           {
            "colorbar": {
             "outlinewidth": 0,
             "ticks": ""
            },
            "colorscale": [
             [
              0,
              "#0d0887"
             ],
             [
              0.1111111111111111,
              "#46039f"
             ],
             [
              0.2222222222222222,
              "#7201a8"
             ],
             [
              0.3333333333333333,
              "#9c179e"
             ],
             [
              0.4444444444444444,
              "#bd3786"
             ],
             [
              0.5555555555555556,
              "#d8576b"
             ],
             [
              0.6666666666666666,
              "#ed7953"
             ],
             [
              0.7777777777777778,
              "#fb9f3a"
             ],
             [
              0.8888888888888888,
              "#fdca26"
             ],
             [
              1,
              "#f0f921"
             ]
            ],
            "type": "heatmapgl"
           }
          ],
          "histogram": [
           {
            "marker": {
             "colorbar": {
              "outlinewidth": 0,
              "ticks": ""
             }
            },
            "type": "histogram"
           }
          ],
          "histogram2d": [
           {
            "colorbar": {
             "outlinewidth": 0,
             "ticks": ""
            },
            "colorscale": [
             [
              0,
              "#0d0887"
             ],
             [
              0.1111111111111111,
              "#46039f"
             ],
             [
              0.2222222222222222,
              "#7201a8"
             ],
             [
              0.3333333333333333,
              "#9c179e"
             ],
             [
              0.4444444444444444,
              "#bd3786"
             ],
             [
              0.5555555555555556,
              "#d8576b"
             ],
             [
              0.6666666666666666,
              "#ed7953"
             ],
             [
              0.7777777777777778,
              "#fb9f3a"
             ],
             [
              0.8888888888888888,
              "#fdca26"
             ],
             [
              1,
              "#f0f921"
             ]
            ],
            "type": "histogram2d"
           }
          ],
          "histogram2dcontour": [
           {
            "colorbar": {
             "outlinewidth": 0,
             "ticks": ""
            },
            "colorscale": [
             [
              0,
              "#0d0887"
             ],
             [
              0.1111111111111111,
              "#46039f"
             ],
             [
              0.2222222222222222,
              "#7201a8"
             ],
             [
              0.3333333333333333,
              "#9c179e"
             ],
             [
              0.4444444444444444,
              "#bd3786"
             ],
             [
              0.5555555555555556,
              "#d8576b"
             ],
             [
              0.6666666666666666,
              "#ed7953"
             ],
             [
              0.7777777777777778,
              "#fb9f3a"
             ],
             [
              0.8888888888888888,
              "#fdca26"
             ],
             [
              1,
              "#f0f921"
             ]
            ],
            "type": "histogram2dcontour"
           }
          ],
          "mesh3d": [
           {
            "colorbar": {
             "outlinewidth": 0,
             "ticks": ""
            },
            "type": "mesh3d"
           }
          ],
          "parcoords": [
           {
            "line": {
             "colorbar": {
              "outlinewidth": 0,
              "ticks": ""
             }
            },
            "type": "parcoords"
           }
          ],
          "pie": [
           {
            "automargin": true,
            "type": "pie"
           }
          ],
          "scatter": [
           {
            "marker": {
             "colorbar": {
              "outlinewidth": 0,
              "ticks": ""
             }
            },
            "type": "scatter"
           }
          ],
          "scatter3d": [
           {
            "line": {
             "colorbar": {
              "outlinewidth": 0,
              "ticks": ""
             }
            },
            "marker": {
             "colorbar": {
              "outlinewidth": 0,
              "ticks": ""
             }
            },
            "type": "scatter3d"
           }
          ],
          "scattercarpet": [
           {
            "marker": {
             "colorbar": {
              "outlinewidth": 0,
              "ticks": ""
             }
            },
            "type": "scattercarpet"
           }
          ],
          "scattergeo": [
           {
            "marker": {
             "colorbar": {
              "outlinewidth": 0,
              "ticks": ""
             }
            },
            "type": "scattergeo"
           }
          ],
          "scattergl": [
           {
            "marker": {
             "colorbar": {
              "outlinewidth": 0,
              "ticks": ""
             }
            },
            "type": "scattergl"
           }
          ],
          "scattermapbox": [
           {
            "marker": {
             "colorbar": {
              "outlinewidth": 0,
              "ticks": ""
             }
            },
            "type": "scattermapbox"
           }
          ],
          "scatterpolar": [
           {
            "marker": {
             "colorbar": {
              "outlinewidth": 0,
              "ticks": ""
             }
            },
            "type": "scatterpolar"
           }
          ],
          "scatterpolargl": [
           {
            "marker": {
             "colorbar": {
              "outlinewidth": 0,
              "ticks": ""
             }
            },
            "type": "scatterpolargl"
           }
          ],
          "scatterternary": [
           {
            "marker": {
             "colorbar": {
              "outlinewidth": 0,
              "ticks": ""
             }
            },
            "type": "scatterternary"
           }
          ],
          "surface": [
           {
            "colorbar": {
             "outlinewidth": 0,
             "ticks": ""
            },
            "colorscale": [
             [
              0,
              "#0d0887"
             ],
             [
              0.1111111111111111,
              "#46039f"
             ],
             [
              0.2222222222222222,
              "#7201a8"
             ],
             [
              0.3333333333333333,
              "#9c179e"
             ],
             [
              0.4444444444444444,
              "#bd3786"
             ],
             [
              0.5555555555555556,
              "#d8576b"
             ],
             [
              0.6666666666666666,
              "#ed7953"
             ],
             [
              0.7777777777777778,
              "#fb9f3a"
             ],
             [
              0.8888888888888888,
              "#fdca26"
             ],
             [
              1,
              "#f0f921"
             ]
            ],
            "type": "surface"
           }
          ],
          "table": [
           {
            "cells": {
             "fill": {
              "color": "#EBF0F8"
             },
             "line": {
              "color": "white"
             }
            },
            "header": {
             "fill": {
              "color": "#C8D4E3"
             },
             "line": {
              "color": "white"
             }
            },
            "type": "table"
           }
          ]
         },
         "layout": {
          "annotationdefaults": {
           "arrowcolor": "#2a3f5f",
           "arrowhead": 0,
           "arrowwidth": 1
          },
          "autotypenumbers": "strict",
          "coloraxis": {
           "colorbar": {
            "outlinewidth": 0,
            "ticks": ""
           }
          },
          "colorscale": {
           "diverging": [
            [
             0,
             "#8e0152"
            ],
            [
             0.1,
             "#c51b7d"
            ],
            [
             0.2,
             "#de77ae"
            ],
            [
             0.3,
             "#f1b6da"
            ],
            [
             0.4,
             "#fde0ef"
            ],
            [
             0.5,
             "#f7f7f7"
            ],
            [
             0.6,
             "#e6f5d0"
            ],
            [
             0.7,
             "#b8e186"
            ],
            [
             0.8,
             "#7fbc41"
            ],
            [
             0.9,
             "#4d9221"
            ],
            [
             1,
             "#276419"
            ]
           ],
           "sequential": [
            [
             0,
             "#0d0887"
            ],
            [
             0.1111111111111111,
             "#46039f"
            ],
            [
             0.2222222222222222,
             "#7201a8"
            ],
            [
             0.3333333333333333,
             "#9c179e"
            ],
            [
             0.4444444444444444,
             "#bd3786"
            ],
            [
             0.5555555555555556,
             "#d8576b"
            ],
            [
             0.6666666666666666,
             "#ed7953"
            ],
            [
             0.7777777777777778,
             "#fb9f3a"
            ],
            [
             0.8888888888888888,
             "#fdca26"
            ],
            [
             1,
             "#f0f921"
            ]
           ],
           "sequentialminus": [
            [
             0,
             "#0d0887"
            ],
            [
             0.1111111111111111,
             "#46039f"
            ],
            [
             0.2222222222222222,
             "#7201a8"
            ],
            [
             0.3333333333333333,
             "#9c179e"
            ],
            [
             0.4444444444444444,
             "#bd3786"
            ],
            [
             0.5555555555555556,
             "#d8576b"
            ],
            [
             0.6666666666666666,
             "#ed7953"
            ],
            [
             0.7777777777777778,
             "#fb9f3a"
            ],
            [
             0.8888888888888888,
             "#fdca26"
            ],
            [
             1,
             "#f0f921"
            ]
           ]
          },
          "colorway": [
           "#636efa",
           "#EF553B",
           "#00cc96",
           "#ab63fa",
           "#FFA15A",
           "#19d3f3",
           "#FF6692",
           "#B6E880",
           "#FF97FF",
           "#FECB52"
          ],
          "font": {
           "color": "#2a3f5f"
          },
          "geo": {
           "bgcolor": "white",
           "lakecolor": "white",
           "landcolor": "#E5ECF6",
           "showlakes": true,
           "showland": true,
           "subunitcolor": "white"
          },
          "hoverlabel": {
           "align": "left"
          },
          "hovermode": "closest",
          "mapbox": {
           "style": "light"
          },
          "paper_bgcolor": "white",
          "plot_bgcolor": "#E5ECF6",
          "polar": {
           "angularaxis": {
            "gridcolor": "white",
            "linecolor": "white",
            "ticks": ""
           },
           "bgcolor": "#E5ECF6",
           "radialaxis": {
            "gridcolor": "white",
            "linecolor": "white",
            "ticks": ""
           }
          },
          "scene": {
           "xaxis": {
            "backgroundcolor": "#E5ECF6",
            "gridcolor": "white",
            "gridwidth": 2,
            "linecolor": "white",
            "showbackground": true,
            "ticks": "",
            "zerolinecolor": "white"
           },
           "yaxis": {
            "backgroundcolor": "#E5ECF6",
            "gridcolor": "white",
            "gridwidth": 2,
            "linecolor": "white",
            "showbackground": true,
            "ticks": "",
            "zerolinecolor": "white"
           },
           "zaxis": {
            "backgroundcolor": "#E5ECF6",
            "gridcolor": "white",
            "gridwidth": 2,
            "linecolor": "white",
            "showbackground": true,
            "ticks": "",
            "zerolinecolor": "white"
           }
          },
          "shapedefaults": {
           "line": {
            "color": "#2a3f5f"
           }
          },
          "ternary": {
           "aaxis": {
            "gridcolor": "white",
            "linecolor": "white",
            "ticks": ""
           },
           "baxis": {
            "gridcolor": "white",
            "linecolor": "white",
            "ticks": ""
           },
           "bgcolor": "#E5ECF6",
           "caxis": {
            "gridcolor": "white",
            "linecolor": "white",
            "ticks": ""
           }
          },
          "title": {
           "x": 0.05
          },
          "xaxis": {
           "automargin": true,
           "gridcolor": "white",
           "linecolor": "white",
           "ticks": "",
           "title": {
            "standoff": 15
           },
           "zerolinecolor": "white",
           "zerolinewidth": 2
          },
          "yaxis": {
           "automargin": true,
           "gridcolor": "white",
           "linecolor": "white",
           "ticks": "",
           "title": {
            "standoff": 15
           },
           "zerolinecolor": "white",
           "zerolinewidth": 2
          }
         }
        },
        "title": {
         "text": "Sankey Diagram for Top 5 Causes of Maternal Death, Under 30, White, 2008-2019"
        },
        "width": 1000
       }
      },
      "text/html": [
       "<div>                            <div id=\"99654db1-5ac1-47a8-8428-4199a256227c\" class=\"plotly-graph-div\" style=\"height:750px; width:1000px;\"></div>            <script type=\"text/javascript\">                require([\"plotly\"], function(Plotly) {                    window.PLOTLYENV=window.PLOTLYENV || {};                                    if (document.getElementById(\"99654db1-5ac1-47a8-8428-4199a256227c\")) {                    Plotly.newPlot(                        \"99654db1-5ac1-47a8-8428-4199a256227c\",                        [{\"link\": {\"source\": [0, 0, 0, 0, 0, 2, 2, 2, 2, 2, 3, 3, 3, 3, 3, 5, 5, 5, 5, 5, 4, 4, 4, 4, 4, 1, 1, 1, 1, 1], \"target\": [2, 3, 5, 4, 1, 13, 19, 12, 14, 6, 13, 17, 15, 23, 8, 13, 7, 17, 16, 22, 13, 9, 24, 21, 10, 13, 17, 18, 11, 20], \"value\": [16.926952141057935, 12.241813602015112, 10.52896725440806, 9.974811083123427, 6.9017632241813605, 61.904761904761905, 2.083333333333333, 1.7857142857142856, 1.488095238095238, 1.488095238095238, 74.8971193415638, 1.646090534979424, 1.2345679012345678, 0.823045267489712, 0.823045267489712, 70.81339712918661, 8.133971291866029, 1.4354066985645932, 1.4354066985645932, 0.9569377990430622, 45.95959595959596, 21.71717171717172, 6.0606060606060606, 5.05050505050505, 3.535353535353535, 84.67153284671532, 2.9197080291970803, 1.4598540145985401, 1.4598540145985401, 0.7299270072992701]}, \"node\": {\"color\": [\"#c6dfea\", \"#bfdee3\", \"#b5dcda\", \"#add9ce\", \"#a8d7c4\", \"#a3d4b7\", \"#a1d0ad\", \"#9fcb9f\", \"#a0c593\", \"#a1bf8a\", \"#a4b780\", \"#a7af7a\", \"#aca674\", \"#b09c71\", \"#b39470\", \"#b58a71\", \"#b68273\", \"#b67977\", \"#b3717d\", \"#af6b82\", \"#a96588\", \"#a1618c\", \"#975d91\", \"#8a5a94\", \"#7f5995\"], \"label\": [\"Top 5 Causes\", \"O994: Diseases of the Circulatory System(s)\", \"O268: Other Specified Pregnancy-Related Conditions(s)\", \"O961: Indirect Obstetric Cause, 42d-365d post-delivery(s)\", \"O998: Other Specified Diseases Complicating Pregnancy(s)\", \"O960: Direct Obstetric Cause, 42d-365d post-delivery(s)\", \"O881: Amniotic Fluid Embolism\", \"O961: Indirect Obstetric Cause, 42d-365d post-delivery\", \"J159: Bacterial pneumonia, unspecified\", \"O994: Diseases of the Circulatory System\", \"O993: Diseases of the Nervous System / Mental Disorders\", \"I429: Cardiomyopathy, unspecified\", \"O721: Other immediate postpartum haemorrhage\", \"No Secondary Cause Reported\", \"O882: Obstetric blood-clot embolism\", \"T71: Asphyxiation\", \"T509: Unspecified Drugs\", \"R99: Illness or Undefined Cause of Mortality\", \"I330: Acute and subacute infective endocarditis\", \"O266: Liver Disorder\", \"I428: Other cardiomyopathies\", \"O995: Diseases of the Respiratory System\", \"F191: Mental and behavioural disorders due to harmful use of other psychoactive substances\", \"O960: Direct Obstetric Cause, 42d-365d post-delivery\", \"O988: Infection / Parasitic Disease, Other\"], \"line\": {\"color\": \"black\", \"width\": 0.5}, \"pad\": 15, \"thickness\": 50}, \"type\": \"sankey\", \"valueformat\": \".0f\", \"valuesuffix\": \"%\"}],                        {\"font\": {\"size\": 10}, \"height\": 750, \"template\": {\"data\": {\"bar\": [{\"error_x\": {\"color\": \"#2a3f5f\"}, \"error_y\": {\"color\": \"#2a3f5f\"}, \"marker\": {\"line\": {\"color\": \"#E5ECF6\", \"width\": 0.5}}, \"type\": \"bar\"}], \"barpolar\": [{\"marker\": {\"line\": {\"color\": \"#E5ECF6\", \"width\": 0.5}}, \"type\": \"barpolar\"}], \"carpet\": [{\"aaxis\": {\"endlinecolor\": \"#2a3f5f\", \"gridcolor\": \"white\", \"linecolor\": \"white\", \"minorgridcolor\": \"white\", \"startlinecolor\": \"#2a3f5f\"}, \"baxis\": {\"endlinecolor\": \"#2a3f5f\", \"gridcolor\": \"white\", \"linecolor\": \"white\", \"minorgridcolor\": \"white\", \"startlinecolor\": \"#2a3f5f\"}, \"type\": \"carpet\"}], \"choropleth\": [{\"colorbar\": {\"outlinewidth\": 0, \"ticks\": \"\"}, \"type\": \"choropleth\"}], \"contour\": [{\"colorbar\": {\"outlinewidth\": 0, \"ticks\": \"\"}, \"colorscale\": [[0.0, \"#0d0887\"], [0.1111111111111111, \"#46039f\"], [0.2222222222222222, \"#7201a8\"], [0.3333333333333333, \"#9c179e\"], [0.4444444444444444, \"#bd3786\"], [0.5555555555555556, \"#d8576b\"], [0.6666666666666666, \"#ed7953\"], [0.7777777777777778, \"#fb9f3a\"], [0.8888888888888888, \"#fdca26\"], [1.0, \"#f0f921\"]], \"type\": \"contour\"}], \"contourcarpet\": [{\"colorbar\": {\"outlinewidth\": 0, \"ticks\": \"\"}, \"type\": \"contourcarpet\"}], \"heatmap\": [{\"colorbar\": {\"outlinewidth\": 0, \"ticks\": \"\"}, \"colorscale\": [[0.0, \"#0d0887\"], [0.1111111111111111, \"#46039f\"], [0.2222222222222222, \"#7201a8\"], [0.3333333333333333, \"#9c179e\"], [0.4444444444444444, \"#bd3786\"], [0.5555555555555556, \"#d8576b\"], [0.6666666666666666, \"#ed7953\"], [0.7777777777777778, \"#fb9f3a\"], [0.8888888888888888, \"#fdca26\"], [1.0, \"#f0f921\"]], \"type\": \"heatmap\"}], \"heatmapgl\": [{\"colorbar\": {\"outlinewidth\": 0, \"ticks\": \"\"}, \"colorscale\": [[0.0, \"#0d0887\"], [0.1111111111111111, \"#46039f\"], [0.2222222222222222, \"#7201a8\"], [0.3333333333333333, \"#9c179e\"], [0.4444444444444444, \"#bd3786\"], [0.5555555555555556, \"#d8576b\"], [0.6666666666666666, \"#ed7953\"], [0.7777777777777778, \"#fb9f3a\"], [0.8888888888888888, \"#fdca26\"], [1.0, \"#f0f921\"]], \"type\": \"heatmapgl\"}], \"histogram\": [{\"marker\": {\"colorbar\": {\"outlinewidth\": 0, \"ticks\": \"\"}}, \"type\": \"histogram\"}], \"histogram2d\": [{\"colorbar\": {\"outlinewidth\": 0, \"ticks\": \"\"}, \"colorscale\": [[0.0, \"#0d0887\"], [0.1111111111111111, \"#46039f\"], [0.2222222222222222, \"#7201a8\"], [0.3333333333333333, \"#9c179e\"], [0.4444444444444444, \"#bd3786\"], [0.5555555555555556, \"#d8576b\"], [0.6666666666666666, \"#ed7953\"], [0.7777777777777778, \"#fb9f3a\"], [0.8888888888888888, \"#fdca26\"], [1.0, \"#f0f921\"]], \"type\": \"histogram2d\"}], \"histogram2dcontour\": [{\"colorbar\": {\"outlinewidth\": 0, \"ticks\": \"\"}, \"colorscale\": [[0.0, \"#0d0887\"], [0.1111111111111111, \"#46039f\"], [0.2222222222222222, \"#7201a8\"], [0.3333333333333333, \"#9c179e\"], [0.4444444444444444, \"#bd3786\"], [0.5555555555555556, \"#d8576b\"], [0.6666666666666666, \"#ed7953\"], [0.7777777777777778, \"#fb9f3a\"], [0.8888888888888888, \"#fdca26\"], [1.0, \"#f0f921\"]], \"type\": \"histogram2dcontour\"}], \"mesh3d\": [{\"colorbar\": {\"outlinewidth\": 0, \"ticks\": \"\"}, \"type\": \"mesh3d\"}], \"parcoords\": [{\"line\": {\"colorbar\": {\"outlinewidth\": 0, \"ticks\": \"\"}}, \"type\": \"parcoords\"}], \"pie\": [{\"automargin\": true, \"type\": \"pie\"}], \"scatter\": [{\"marker\": {\"colorbar\": {\"outlinewidth\": 0, \"ticks\": \"\"}}, \"type\": \"scatter\"}], \"scatter3d\": [{\"line\": {\"colorbar\": {\"outlinewidth\": 0, \"ticks\": \"\"}}, \"marker\": {\"colorbar\": {\"outlinewidth\": 0, \"ticks\": \"\"}}, \"type\": \"scatter3d\"}], \"scattercarpet\": [{\"marker\": {\"colorbar\": {\"outlinewidth\": 0, \"ticks\": \"\"}}, \"type\": \"scattercarpet\"}], \"scattergeo\": [{\"marker\": {\"colorbar\": {\"outlinewidth\": 0, \"ticks\": \"\"}}, \"type\": \"scattergeo\"}], \"scattergl\": [{\"marker\": {\"colorbar\": {\"outlinewidth\": 0, \"ticks\": \"\"}}, \"type\": \"scattergl\"}], \"scattermapbox\": [{\"marker\": {\"colorbar\": {\"outlinewidth\": 0, \"ticks\": \"\"}}, \"type\": \"scattermapbox\"}], \"scatterpolar\": [{\"marker\": {\"colorbar\": {\"outlinewidth\": 0, \"ticks\": \"\"}}, \"type\": \"scatterpolar\"}], \"scatterpolargl\": [{\"marker\": {\"colorbar\": {\"outlinewidth\": 0, \"ticks\": \"\"}}, \"type\": \"scatterpolargl\"}], \"scatterternary\": [{\"marker\": {\"colorbar\": {\"outlinewidth\": 0, \"ticks\": \"\"}}, \"type\": \"scatterternary\"}], \"surface\": [{\"colorbar\": {\"outlinewidth\": 0, \"ticks\": \"\"}, \"colorscale\": [[0.0, \"#0d0887\"], [0.1111111111111111, \"#46039f\"], [0.2222222222222222, \"#7201a8\"], [0.3333333333333333, \"#9c179e\"], [0.4444444444444444, \"#bd3786\"], [0.5555555555555556, \"#d8576b\"], [0.6666666666666666, \"#ed7953\"], [0.7777777777777778, \"#fb9f3a\"], [0.8888888888888888, \"#fdca26\"], [1.0, \"#f0f921\"]], \"type\": \"surface\"}], \"table\": [{\"cells\": {\"fill\": {\"color\": \"#EBF0F8\"}, \"line\": {\"color\": \"white\"}}, \"header\": {\"fill\": {\"color\": \"#C8D4E3\"}, \"line\": {\"color\": \"white\"}}, \"type\": \"table\"}]}, \"layout\": {\"annotationdefaults\": {\"arrowcolor\": \"#2a3f5f\", \"arrowhead\": 0, \"arrowwidth\": 1}, \"autotypenumbers\": \"strict\", \"coloraxis\": {\"colorbar\": {\"outlinewidth\": 0, \"ticks\": \"\"}}, \"colorscale\": {\"diverging\": [[0, \"#8e0152\"], [0.1, \"#c51b7d\"], [0.2, \"#de77ae\"], [0.3, \"#f1b6da\"], [0.4, \"#fde0ef\"], [0.5, \"#f7f7f7\"], [0.6, \"#e6f5d0\"], [0.7, \"#b8e186\"], [0.8, \"#7fbc41\"], [0.9, \"#4d9221\"], [1, \"#276419\"]], \"sequential\": [[0.0, \"#0d0887\"], [0.1111111111111111, \"#46039f\"], [0.2222222222222222, \"#7201a8\"], [0.3333333333333333, \"#9c179e\"], [0.4444444444444444, \"#bd3786\"], [0.5555555555555556, \"#d8576b\"], [0.6666666666666666, \"#ed7953\"], [0.7777777777777778, \"#fb9f3a\"], [0.8888888888888888, \"#fdca26\"], [1.0, \"#f0f921\"]], \"sequentialminus\": [[0.0, \"#0d0887\"], [0.1111111111111111, \"#46039f\"], [0.2222222222222222, \"#7201a8\"], [0.3333333333333333, \"#9c179e\"], [0.4444444444444444, \"#bd3786\"], [0.5555555555555556, \"#d8576b\"], [0.6666666666666666, \"#ed7953\"], [0.7777777777777778, \"#fb9f3a\"], [0.8888888888888888, \"#fdca26\"], [1.0, \"#f0f921\"]]}, \"colorway\": [\"#636efa\", \"#EF553B\", \"#00cc96\", \"#ab63fa\", \"#FFA15A\", \"#19d3f3\", \"#FF6692\", \"#B6E880\", \"#FF97FF\", \"#FECB52\"], \"font\": {\"color\": \"#2a3f5f\"}, \"geo\": {\"bgcolor\": \"white\", \"lakecolor\": \"white\", \"landcolor\": \"#E5ECF6\", \"showlakes\": true, \"showland\": true, \"subunitcolor\": \"white\"}, \"hoverlabel\": {\"align\": \"left\"}, \"hovermode\": \"closest\", \"mapbox\": {\"style\": \"light\"}, \"paper_bgcolor\": \"white\", \"plot_bgcolor\": \"#E5ECF6\", \"polar\": {\"angularaxis\": {\"gridcolor\": \"white\", \"linecolor\": \"white\", \"ticks\": \"\"}, \"bgcolor\": \"#E5ECF6\", \"radialaxis\": {\"gridcolor\": \"white\", \"linecolor\": \"white\", \"ticks\": \"\"}}, \"scene\": {\"xaxis\": {\"backgroundcolor\": \"#E5ECF6\", \"gridcolor\": \"white\", \"gridwidth\": 2, \"linecolor\": \"white\", \"showbackground\": true, \"ticks\": \"\", \"zerolinecolor\": \"white\"}, \"yaxis\": {\"backgroundcolor\": \"#E5ECF6\", \"gridcolor\": \"white\", \"gridwidth\": 2, \"linecolor\": \"white\", \"showbackground\": true, \"ticks\": \"\", \"zerolinecolor\": \"white\"}, \"zaxis\": {\"backgroundcolor\": \"#E5ECF6\", \"gridcolor\": \"white\", \"gridwidth\": 2, \"linecolor\": \"white\", \"showbackground\": true, \"ticks\": \"\", \"zerolinecolor\": \"white\"}}, \"shapedefaults\": {\"line\": {\"color\": \"#2a3f5f\"}}, \"ternary\": {\"aaxis\": {\"gridcolor\": \"white\", \"linecolor\": \"white\", \"ticks\": \"\"}, \"baxis\": {\"gridcolor\": \"white\", \"linecolor\": \"white\", \"ticks\": \"\"}, \"bgcolor\": \"#E5ECF6\", \"caxis\": {\"gridcolor\": \"white\", \"linecolor\": \"white\", \"ticks\": \"\"}}, \"title\": {\"x\": 0.05}, \"xaxis\": {\"automargin\": true, \"gridcolor\": \"white\", \"linecolor\": \"white\", \"ticks\": \"\", \"title\": {\"standoff\": 15}, \"zerolinecolor\": \"white\", \"zerolinewidth\": 2}, \"yaxis\": {\"automargin\": true, \"gridcolor\": \"white\", \"linecolor\": \"white\", \"ticks\": \"\", \"title\": {\"standoff\": 15}, \"zerolinecolor\": \"white\", \"zerolinewidth\": 2}}}, \"title\": {\"text\": \"Sankey Diagram for Top 5 Causes of Maternal Death, Under 30, White, 2008-2019\"}, \"width\": 1000},                        {\"responsive\": true}                    ).then(function(){\n",
       "                            \n",
       "var gd = document.getElementById('99654db1-5ac1-47a8-8428-4199a256227c');\n",
       "var x = new MutationObserver(function (mutations, observer) {{\n",
       "        var display = window.getComputedStyle(gd).display;\n",
       "        if (!display || display === 'none') {{\n",
       "            console.log([gd, 'removed!']);\n",
       "            Plotly.purge(gd);\n",
       "            observer.disconnect();\n",
       "        }}\n",
       "}});\n",
       "\n",
       "// Listen for the removal of the full notebook cells\n",
       "var notebookContainer = gd.closest('#notebook-container');\n",
       "if (notebookContainer) {{\n",
       "    x.observe(notebookContainer, {childList: true});\n",
       "}}\n",
       "\n",
       "// Listen for the clearing of the current output cell\n",
       "var outputEl = gd.closest('.output');\n",
       "if (outputEl) {{\n",
       "    x.observe(outputEl, {childList: true});\n",
       "}}\n",
       "\n",
       "                        })                };                });            </script>        </div>"
      ]
     },
     "metadata": {},
     "output_type": "display_data"
    }
   ],
   "source": [
    "# create the sankey diagram \n",
    "fig = go.Figure(data=[go.Sankey(\n",
    "    valueformat = '.0f', \n",
    "    valuesuffix = \"%\",\n",
    "    node=dict(\n",
    "        pad = 15, \n",
    "        thickness = 50, \n",
    "        line = dict(color= 'black', width = 0.5), \n",
    "        label = nodes['Label'], \n",
    "        color = nodes['Color']\n",
    "    ), \n",
    "    link = dict(source = utw_san_coded['source'], \n",
    "            target = utw_san_coded['target'], \n",
    "            value = utw_san_coded['value'], \n",
    "               ))]\n",
    ")\n",
    "\n",
    "fig.update_layout(title_text=\"Sankey Diagram for Top 5 Causes of Maternal Death, Under 30, White, 2008-2019\", \n",
    "                  height = 750, width=1000, font_size=10)\n",
    "fig.show()"
   ]
  },
  {
   "cell_type": "code",
   "execution_count": null,
   "id": "66007c71",
   "metadata": {},
   "outputs": [],
   "source": []
  },
  {
   "cell_type": "code",
   "execution_count": 192,
   "id": "06f06130",
   "metadata": {},
   "outputs": [],
   "source": [
    "utb_san, list_of_causes_utb = create_sankey_df(under30_black)"
   ]
  },
  {
   "cell_type": "code",
   "execution_count": 193,
   "id": "42989eb7",
   "metadata": {},
   "outputs": [
    {
     "data": {
      "text/plain": [
       "['O881',\n",
       " 'O903',\n",
       " 'O961',\n",
       " 'O994',\n",
       " 'J459',\n",
       " 'O908',\n",
       " 'S930',\n",
       " 'I119',\n",
       " 'O149',\n",
       " 'None',\n",
       " 'T862',\n",
       " 'A419',\n",
       " 'R99',\n",
       " 'O266',\n",
       " 'J189',\n",
       " 'G931',\n",
       " 'O249',\n",
       " 'O960',\n",
       " 'O268',\n",
       " 'O985',\n",
       " 'O988']"
      ]
     },
     "execution_count": 193,
     "metadata": {},
     "output_type": "execute_result"
    }
   ],
   "source": [
    "list_of_causes_utb"
   ]
  },
  {
   "cell_type": "code",
   "execution_count": 194,
   "id": "a05e2c06",
   "metadata": {},
   "outputs": [],
   "source": [
    "utb_source_map, utb_target_map, utb_nodes_map = set_sources_targets_nodes(utb_san)"
   ]
  },
  {
   "cell_type": "code",
   "execution_count": 195,
   "id": "f170af38",
   "metadata": {},
   "outputs": [],
   "source": [
    "utb_san_coded = utb_san.copy()"
   ]
  },
  {
   "cell_type": "code",
   "execution_count": 196,
   "id": "47eff76c",
   "metadata": {},
   "outputs": [],
   "source": [
    "utb_san_coded.source = utb_san_coded.source.replace(to_replace={v: k for k, v in utb_source_map.items()})"
   ]
  },
  {
   "cell_type": "code",
   "execution_count": 197,
   "id": "17f7c2ae",
   "metadata": {},
   "outputs": [],
   "source": [
    "# replace targets with their numbers (first targets then targets that are also sources, e.g. first 5)\n",
    "\n",
    "utb_san_coded.target = utb_san_coded.target.replace(to_replace={v: k for k, v in utb_target_map.items()})\n",
    "utb_san_coded.target = utb_san_coded.target.replace(to_replace={v: k for k, v in utb_source_map.items()})"
   ]
  },
  {
   "cell_type": "code",
   "execution_count": 198,
   "id": "93356ee0",
   "metadata": {},
   "outputs": [],
   "source": [
    "nodes = pd.DataFrame(columns=['ID', 'Label', 'Color'])"
   ]
  },
  {
   "cell_type": "code",
   "execution_count": 199,
   "id": "4ab29f79",
   "metadata": {},
   "outputs": [],
   "source": [
    "# fill in nodes dataframe with Id, label, and color\n",
    "nodes['ID'] = [k for k, v in utb_nodes_map.items()]\n",
    "nodes['Label'] = [v for k, v in utb_nodes_map.items()]\n",
    "# replace values with causes dict to put more information about cause of death on the diagram \n",
    "nodes.Label.replace(to_replace=causes_dict, inplace=True)\n",
    "nodes['Color'] = color_list[:25]"
   ]
  },
  {
   "cell_type": "code",
   "execution_count": 200,
   "id": "9ac0ade0",
   "metadata": {},
   "outputs": [
    {
     "data": {
      "application/vnd.plotly.v1+json": {
       "config": {
        "plotlyServerURL": "https://plot.ly"
       },
       "data": [
        {
         "link": {
          "source": [
           0,
           0,
           0,
           0,
           0,
           2,
           2,
           2,
           2,
           2,
           5,
           5,
           5,
           5,
           5,
           3,
           3,
           3,
           3,
           3,
           1,
           1,
           1,
           1,
           1,
           4,
           4,
           4,
           4,
           4
          ],
          "target": [
           2,
           5,
           3,
           1,
           4,
           14,
           7,
           6,
           21,
           18,
           14,
           8,
           17,
           12,
           20,
           14,
           16,
           9,
           17,
           19,
           14,
           17,
           24,
           11,
           23,
           14,
           22,
           10,
           15,
           13
          ],
          "value": [
           16.666666666666664,
           9.714795008912656,
           8.823529411764707,
           8.110516934046345,
           7.219251336898395,
           59.35828877005348,
           5.347593582887701,
           2.13903743315508,
           1.6042780748663104,
           1.6042780748663104,
           69.72477064220183,
           10.091743119266056,
           2.7522935779816518,
           1.834862385321101,
           0.9174311926605505,
           74.74747474747475,
           3.0303030303030303,
           2.0202020202020203,
           2.0202020202020203,
           2.0202020202020203,
           82.41758241758241,
           4.395604395604396,
           2.197802197802198,
           1.098901098901099,
           1.098901098901099,
           62.96296296296296,
           7.4074074074074066,
           3.7037037037037033,
           2.4691358024691357,
           2.4691358024691357
          ]
         },
         "node": {
          "color": [
           "#c6dfea",
           "#bfdee3",
           "#b5dcda",
           "#add9ce",
           "#a8d7c4",
           "#a3d4b7",
           "#a1d0ad",
           "#9fcb9f",
           "#a0c593",
           "#a1bf8a",
           "#a4b780",
           "#a7af7a",
           "#aca674",
           "#b09c71",
           "#b39470",
           "#b58a71",
           "#b68273",
           "#b67977",
           "#b3717d",
           "#af6b82",
           "#a96588",
           "#a1618c",
           "#975d91",
           "#8a5a94",
           "#7f5995"
          ],
          "label": [
           "Top 5 Causes",
           "O994: Diseases of the Circulatory System(s)",
           "O268: Other Specified Pregnancy-Related Conditions(s)",
           "O961: Indirect Obstetric Cause, 42d-365d post-delivery(s)",
           "O903: Cardiomyopathy in the puerperium",
           "O960: Direct Obstetric Cause, 42d-365d post-delivery(s)",
           "O881: Amniotic Fluid Embolism",
           "O903: Cardiomyopathy in the puerperium",
           "O961: Indirect Obstetric Cause, 42d-365d post-delivery",
           "J459: Asthma, unspecified",
           "O908: Other complications of the puerperium, not elsewhere classified",
           "S930: Dislocation of ankle joint",
           "I119: Hypertensive heart disease without (congestive) heart failure",
           "O149: Pre-eclampsia, unspecified",
           "No Secondary Cause Reported",
           "T862: Heart transplant failure and rejection",
           "A419: Sepsis, unspecified",
           "R99: Illness or Undefined Cause of Mortality",
           "O266: Liver Disorder",
           "J189: Pneumonia, unspecified",
           "G931: Anoxic brain damage, not elsewhere classified",
           "O249: Diabetes mellitus in pregnancy, unspecified",
           "O268: Other Specified Pregnancy-Related Conditions",
           "O985: Other viral diseases complicating pregnancy, childbirth and the puerperium",
           "O988: Infection / Parasitic Disease, Other"
          ],
          "line": {
           "color": "black",
           "width": 0.5
          },
          "pad": 15,
          "thickness": 50
         },
         "type": "sankey",
         "valueformat": ".0f",
         "valuesuffix": "%"
        }
       ],
       "layout": {
        "font": {
         "size": 10
        },
        "height": 750,
        "template": {
         "data": {
          "bar": [
           {
            "error_x": {
             "color": "#2a3f5f"
            },
            "error_y": {
             "color": "#2a3f5f"
            },
            "marker": {
             "line": {
              "color": "#E5ECF6",
              "width": 0.5
             }
            },
            "type": "bar"
           }
          ],
          "barpolar": [
           {
            "marker": {
             "line": {
              "color": "#E5ECF6",
              "width": 0.5
             }
            },
            "type": "barpolar"
           }
          ],
          "carpet": [
           {
            "aaxis": {
             "endlinecolor": "#2a3f5f",
             "gridcolor": "white",
             "linecolor": "white",
             "minorgridcolor": "white",
             "startlinecolor": "#2a3f5f"
            },
            "baxis": {
             "endlinecolor": "#2a3f5f",
             "gridcolor": "white",
             "linecolor": "white",
             "minorgridcolor": "white",
             "startlinecolor": "#2a3f5f"
            },
            "type": "carpet"
           }
          ],
          "choropleth": [
           {
            "colorbar": {
             "outlinewidth": 0,
             "ticks": ""
            },
            "type": "choropleth"
           }
          ],
          "contour": [
           {
            "colorbar": {
             "outlinewidth": 0,
             "ticks": ""
            },
            "colorscale": [
             [
              0,
              "#0d0887"
             ],
             [
              0.1111111111111111,
              "#46039f"
             ],
             [
              0.2222222222222222,
              "#7201a8"
             ],
             [
              0.3333333333333333,
              "#9c179e"
             ],
             [
              0.4444444444444444,
              "#bd3786"
             ],
             [
              0.5555555555555556,
              "#d8576b"
             ],
             [
              0.6666666666666666,
              "#ed7953"
             ],
             [
              0.7777777777777778,
              "#fb9f3a"
             ],
             [
              0.8888888888888888,
              "#fdca26"
             ],
             [
              1,
              "#f0f921"
             ]
            ],
            "type": "contour"
           }
          ],
          "contourcarpet": [
           {
            "colorbar": {
             "outlinewidth": 0,
             "ticks": ""
            },
            "type": "contourcarpet"
           }
          ],
          "heatmap": [
           {
            "colorbar": {
             "outlinewidth": 0,
             "ticks": ""
            },
            "colorscale": [
             [
              0,
              "#0d0887"
             ],
             [
              0.1111111111111111,
              "#46039f"
             ],
             [
              0.2222222222222222,
              "#7201a8"
             ],
             [
              0.3333333333333333,
              "#9c179e"
             ],
             [
              0.4444444444444444,
              "#bd3786"
             ],
             [
              0.5555555555555556,
              "#d8576b"
             ],
             [
              0.6666666666666666,
              "#ed7953"
             ],
             [
              0.7777777777777778,
              "#fb9f3a"
             ],
             [
              0.8888888888888888,
              "#fdca26"
             ],
             [
              1,
              "#f0f921"
             ]
            ],
            "type": "heatmap"
           }
          ],
          "heatmapgl": [
           {
            "colorbar": {
             "outlinewidth": 0,
             "ticks": ""
            },
            "colorscale": [
             [
              0,
              "#0d0887"
             ],
             [
              0.1111111111111111,
              "#46039f"
             ],
             [
              0.2222222222222222,
              "#7201a8"
             ],
             [
              0.3333333333333333,
              "#9c179e"
             ],
             [
              0.4444444444444444,
              "#bd3786"
             ],
             [
              0.5555555555555556,
              "#d8576b"
             ],
             [
              0.6666666666666666,
              "#ed7953"
             ],
             [
              0.7777777777777778,
              "#fb9f3a"
             ],
             [
              0.8888888888888888,
              "#fdca26"
             ],
             [
              1,
              "#f0f921"
             ]
            ],
            "type": "heatmapgl"
           }
          ],
          "histogram": [
           {
            "marker": {
             "colorbar": {
              "outlinewidth": 0,
              "ticks": ""
             }
            },
            "type": "histogram"
           }
          ],
          "histogram2d": [
           {
            "colorbar": {
             "outlinewidth": 0,
             "ticks": ""
            },
            "colorscale": [
             [
              0,
              "#0d0887"
             ],
             [
              0.1111111111111111,
              "#46039f"
             ],
             [
              0.2222222222222222,
              "#7201a8"
             ],
             [
              0.3333333333333333,
              "#9c179e"
             ],
             [
              0.4444444444444444,
              "#bd3786"
             ],
             [
              0.5555555555555556,
              "#d8576b"
             ],
             [
              0.6666666666666666,
              "#ed7953"
             ],
             [
              0.7777777777777778,
              "#fb9f3a"
             ],
             [
              0.8888888888888888,
              "#fdca26"
             ],
             [
              1,
              "#f0f921"
             ]
            ],
            "type": "histogram2d"
           }
          ],
          "histogram2dcontour": [
           {
            "colorbar": {
             "outlinewidth": 0,
             "ticks": ""
            },
            "colorscale": [
             [
              0,
              "#0d0887"
             ],
             [
              0.1111111111111111,
              "#46039f"
             ],
             [
              0.2222222222222222,
              "#7201a8"
             ],
             [
              0.3333333333333333,
              "#9c179e"
             ],
             [
              0.4444444444444444,
              "#bd3786"
             ],
             [
              0.5555555555555556,
              "#d8576b"
             ],
             [
              0.6666666666666666,
              "#ed7953"
             ],
             [
              0.7777777777777778,
              "#fb9f3a"
             ],
             [
              0.8888888888888888,
              "#fdca26"
             ],
             [
              1,
              "#f0f921"
             ]
            ],
            "type": "histogram2dcontour"
           }
          ],
          "mesh3d": [
           {
            "colorbar": {
             "outlinewidth": 0,
             "ticks": ""
            },
            "type": "mesh3d"
           }
          ],
          "parcoords": [
           {
            "line": {
             "colorbar": {
              "outlinewidth": 0,
              "ticks": ""
             }
            },
            "type": "parcoords"
           }
          ],
          "pie": [
           {
            "automargin": true,
            "type": "pie"
           }
          ],
          "scatter": [
           {
            "marker": {
             "colorbar": {
              "outlinewidth": 0,
              "ticks": ""
             }
            },
            "type": "scatter"
           }
          ],
          "scatter3d": [
           {
            "line": {
             "colorbar": {
              "outlinewidth": 0,
              "ticks": ""
             }
            },
            "marker": {
             "colorbar": {
              "outlinewidth": 0,
              "ticks": ""
             }
            },
            "type": "scatter3d"
           }
          ],
          "scattercarpet": [
           {
            "marker": {
             "colorbar": {
              "outlinewidth": 0,
              "ticks": ""
             }
            },
            "type": "scattercarpet"
           }
          ],
          "scattergeo": [
           {
            "marker": {
             "colorbar": {
              "outlinewidth": 0,
              "ticks": ""
             }
            },
            "type": "scattergeo"
           }
          ],
          "scattergl": [
           {
            "marker": {
             "colorbar": {
              "outlinewidth": 0,
              "ticks": ""
             }
            },
            "type": "scattergl"
           }
          ],
          "scattermapbox": [
           {
            "marker": {
             "colorbar": {
              "outlinewidth": 0,
              "ticks": ""
             }
            },
            "type": "scattermapbox"
           }
          ],
          "scatterpolar": [
           {
            "marker": {
             "colorbar": {
              "outlinewidth": 0,
              "ticks": ""
             }
            },
            "type": "scatterpolar"
           }
          ],
          "scatterpolargl": [
           {
            "marker": {
             "colorbar": {
              "outlinewidth": 0,
              "ticks": ""
             }
            },
            "type": "scatterpolargl"
           }
          ],
          "scatterternary": [
           {
            "marker": {
             "colorbar": {
              "outlinewidth": 0,
              "ticks": ""
             }
            },
            "type": "scatterternary"
           }
          ],
          "surface": [
           {
            "colorbar": {
             "outlinewidth": 0,
             "ticks": ""
            },
            "colorscale": [
             [
              0,
              "#0d0887"
             ],
             [
              0.1111111111111111,
              "#46039f"
             ],
             [
              0.2222222222222222,
              "#7201a8"
             ],
             [
              0.3333333333333333,
              "#9c179e"
             ],
             [
              0.4444444444444444,
              "#bd3786"
             ],
             [
              0.5555555555555556,
              "#d8576b"
             ],
             [
              0.6666666666666666,
              "#ed7953"
             ],
             [
              0.7777777777777778,
              "#fb9f3a"
             ],
             [
              0.8888888888888888,
              "#fdca26"
             ],
             [
              1,
              "#f0f921"
             ]
            ],
            "type": "surface"
           }
          ],
          "table": [
           {
            "cells": {
             "fill": {
              "color": "#EBF0F8"
             },
             "line": {
              "color": "white"
             }
            },
            "header": {
             "fill": {
              "color": "#C8D4E3"
             },
             "line": {
              "color": "white"
             }
            },
            "type": "table"
           }
          ]
         },
         "layout": {
          "annotationdefaults": {
           "arrowcolor": "#2a3f5f",
           "arrowhead": 0,
           "arrowwidth": 1
          },
          "autotypenumbers": "strict",
          "coloraxis": {
           "colorbar": {
            "outlinewidth": 0,
            "ticks": ""
           }
          },
          "colorscale": {
           "diverging": [
            [
             0,
             "#8e0152"
            ],
            [
             0.1,
             "#c51b7d"
            ],
            [
             0.2,
             "#de77ae"
            ],
            [
             0.3,
             "#f1b6da"
            ],
            [
             0.4,
             "#fde0ef"
            ],
            [
             0.5,
             "#f7f7f7"
            ],
            [
             0.6,
             "#e6f5d0"
            ],
            [
             0.7,
             "#b8e186"
            ],
            [
             0.8,
             "#7fbc41"
            ],
            [
             0.9,
             "#4d9221"
            ],
            [
             1,
             "#276419"
            ]
           ],
           "sequential": [
            [
             0,
             "#0d0887"
            ],
            [
             0.1111111111111111,
             "#46039f"
            ],
            [
             0.2222222222222222,
             "#7201a8"
            ],
            [
             0.3333333333333333,
             "#9c179e"
            ],
            [
             0.4444444444444444,
             "#bd3786"
            ],
            [
             0.5555555555555556,
             "#d8576b"
            ],
            [
             0.6666666666666666,
             "#ed7953"
            ],
            [
             0.7777777777777778,
             "#fb9f3a"
            ],
            [
             0.8888888888888888,
             "#fdca26"
            ],
            [
             1,
             "#f0f921"
            ]
           ],
           "sequentialminus": [
            [
             0,
             "#0d0887"
            ],
            [
             0.1111111111111111,
             "#46039f"
            ],
            [
             0.2222222222222222,
             "#7201a8"
            ],
            [
             0.3333333333333333,
             "#9c179e"
            ],
            [
             0.4444444444444444,
             "#bd3786"
            ],
            [
             0.5555555555555556,
             "#d8576b"
            ],
            [
             0.6666666666666666,
             "#ed7953"
            ],
            [
             0.7777777777777778,
             "#fb9f3a"
            ],
            [
             0.8888888888888888,
             "#fdca26"
            ],
            [
             1,
             "#f0f921"
            ]
           ]
          },
          "colorway": [
           "#636efa",
           "#EF553B",
           "#00cc96",
           "#ab63fa",
           "#FFA15A",
           "#19d3f3",
           "#FF6692",
           "#B6E880",
           "#FF97FF",
           "#FECB52"
          ],
          "font": {
           "color": "#2a3f5f"
          },
          "geo": {
           "bgcolor": "white",
           "lakecolor": "white",
           "landcolor": "#E5ECF6",
           "showlakes": true,
           "showland": true,
           "subunitcolor": "white"
          },
          "hoverlabel": {
           "align": "left"
          },
          "hovermode": "closest",
          "mapbox": {
           "style": "light"
          },
          "paper_bgcolor": "white",
          "plot_bgcolor": "#E5ECF6",
          "polar": {
           "angularaxis": {
            "gridcolor": "white",
            "linecolor": "white",
            "ticks": ""
           },
           "bgcolor": "#E5ECF6",
           "radialaxis": {
            "gridcolor": "white",
            "linecolor": "white",
            "ticks": ""
           }
          },
          "scene": {
           "xaxis": {
            "backgroundcolor": "#E5ECF6",
            "gridcolor": "white",
            "gridwidth": 2,
            "linecolor": "white",
            "showbackground": true,
            "ticks": "",
            "zerolinecolor": "white"
           },
           "yaxis": {
            "backgroundcolor": "#E5ECF6",
            "gridcolor": "white",
            "gridwidth": 2,
            "linecolor": "white",
            "showbackground": true,
            "ticks": "",
            "zerolinecolor": "white"
           },
           "zaxis": {
            "backgroundcolor": "#E5ECF6",
            "gridcolor": "white",
            "gridwidth": 2,
            "linecolor": "white",
            "showbackground": true,
            "ticks": "",
            "zerolinecolor": "white"
           }
          },
          "shapedefaults": {
           "line": {
            "color": "#2a3f5f"
           }
          },
          "ternary": {
           "aaxis": {
            "gridcolor": "white",
            "linecolor": "white",
            "ticks": ""
           },
           "baxis": {
            "gridcolor": "white",
            "linecolor": "white",
            "ticks": ""
           },
           "bgcolor": "#E5ECF6",
           "caxis": {
            "gridcolor": "white",
            "linecolor": "white",
            "ticks": ""
           }
          },
          "title": {
           "x": 0.05
          },
          "xaxis": {
           "automargin": true,
           "gridcolor": "white",
           "linecolor": "white",
           "ticks": "",
           "title": {
            "standoff": 15
           },
           "zerolinecolor": "white",
           "zerolinewidth": 2
          },
          "yaxis": {
           "automargin": true,
           "gridcolor": "white",
           "linecolor": "white",
           "ticks": "",
           "title": {
            "standoff": 15
           },
           "zerolinecolor": "white",
           "zerolinewidth": 2
          }
         }
        },
        "title": {
         "text": "Sankey Diagram for Top 5 Causes of Maternal Death, Under 30, Black, 2008-2019"
        },
        "width": 1000
       }
      },
      "text/html": [
       "<div>                            <div id=\"e9f3ac58-3c63-4fda-a0c4-b6e1175fd411\" class=\"plotly-graph-div\" style=\"height:750px; width:1000px;\"></div>            <script type=\"text/javascript\">                require([\"plotly\"], function(Plotly) {                    window.PLOTLYENV=window.PLOTLYENV || {};                                    if (document.getElementById(\"e9f3ac58-3c63-4fda-a0c4-b6e1175fd411\")) {                    Plotly.newPlot(                        \"e9f3ac58-3c63-4fda-a0c4-b6e1175fd411\",                        [{\"link\": {\"source\": [0, 0, 0, 0, 0, 2, 2, 2, 2, 2, 5, 5, 5, 5, 5, 3, 3, 3, 3, 3, 1, 1, 1, 1, 1, 4, 4, 4, 4, 4], \"target\": [2, 5, 3, 1, 4, 14, 7, 6, 21, 18, 14, 8, 17, 12, 20, 14, 16, 9, 17, 19, 14, 17, 24, 11, 23, 14, 22, 10, 15, 13], \"value\": [16.666666666666664, 9.714795008912656, 8.823529411764707, 8.110516934046345, 7.219251336898395, 59.35828877005348, 5.347593582887701, 2.13903743315508, 1.6042780748663104, 1.6042780748663104, 69.72477064220183, 10.091743119266056, 2.7522935779816518, 1.834862385321101, 0.9174311926605505, 74.74747474747475, 3.0303030303030303, 2.0202020202020203, 2.0202020202020203, 2.0202020202020203, 82.41758241758241, 4.395604395604396, 2.197802197802198, 1.098901098901099, 1.098901098901099, 62.96296296296296, 7.4074074074074066, 3.7037037037037033, 2.4691358024691357, 2.4691358024691357]}, \"node\": {\"color\": [\"#c6dfea\", \"#bfdee3\", \"#b5dcda\", \"#add9ce\", \"#a8d7c4\", \"#a3d4b7\", \"#a1d0ad\", \"#9fcb9f\", \"#a0c593\", \"#a1bf8a\", \"#a4b780\", \"#a7af7a\", \"#aca674\", \"#b09c71\", \"#b39470\", \"#b58a71\", \"#b68273\", \"#b67977\", \"#b3717d\", \"#af6b82\", \"#a96588\", \"#a1618c\", \"#975d91\", \"#8a5a94\", \"#7f5995\"], \"label\": [\"Top 5 Causes\", \"O994: Diseases of the Circulatory System(s)\", \"O268: Other Specified Pregnancy-Related Conditions(s)\", \"O961: Indirect Obstetric Cause, 42d-365d post-delivery(s)\", \"O903: Cardiomyopathy in the puerperium\", \"O960: Direct Obstetric Cause, 42d-365d post-delivery(s)\", \"O881: Amniotic Fluid Embolism\", \"O903: Cardiomyopathy in the puerperium\", \"O961: Indirect Obstetric Cause, 42d-365d post-delivery\", \"J459: Asthma, unspecified\", \"O908: Other complications of the puerperium, not elsewhere classified\", \"S930: Dislocation of ankle joint\", \"I119: Hypertensive heart disease without (congestive) heart failure\", \"O149: Pre-eclampsia, unspecified\", \"No Secondary Cause Reported\", \"T862: Heart transplant failure and rejection\", \"A419: Sepsis, unspecified\", \"R99: Illness or Undefined Cause of Mortality\", \"O266: Liver Disorder\", \"J189: Pneumonia, unspecified\", \"G931: Anoxic brain damage, not elsewhere classified\", \"O249: Diabetes mellitus in pregnancy, unspecified\", \"O268: Other Specified Pregnancy-Related Conditions\", \"O985: Other viral diseases complicating pregnancy, childbirth and the puerperium\", \"O988: Infection / Parasitic Disease, Other\"], \"line\": {\"color\": \"black\", \"width\": 0.5}, \"pad\": 15, \"thickness\": 50}, \"type\": \"sankey\", \"valueformat\": \".0f\", \"valuesuffix\": \"%\"}],                        {\"font\": {\"size\": 10}, \"height\": 750, \"template\": {\"data\": {\"bar\": [{\"error_x\": {\"color\": \"#2a3f5f\"}, \"error_y\": {\"color\": \"#2a3f5f\"}, \"marker\": {\"line\": {\"color\": \"#E5ECF6\", \"width\": 0.5}}, \"type\": \"bar\"}], \"barpolar\": [{\"marker\": {\"line\": {\"color\": \"#E5ECF6\", \"width\": 0.5}}, \"type\": \"barpolar\"}], \"carpet\": [{\"aaxis\": {\"endlinecolor\": \"#2a3f5f\", \"gridcolor\": \"white\", \"linecolor\": \"white\", \"minorgridcolor\": \"white\", \"startlinecolor\": \"#2a3f5f\"}, \"baxis\": {\"endlinecolor\": \"#2a3f5f\", \"gridcolor\": \"white\", \"linecolor\": \"white\", \"minorgridcolor\": \"white\", \"startlinecolor\": \"#2a3f5f\"}, \"type\": \"carpet\"}], \"choropleth\": [{\"colorbar\": {\"outlinewidth\": 0, \"ticks\": \"\"}, \"type\": \"choropleth\"}], \"contour\": [{\"colorbar\": {\"outlinewidth\": 0, \"ticks\": \"\"}, \"colorscale\": [[0.0, \"#0d0887\"], [0.1111111111111111, \"#46039f\"], [0.2222222222222222, \"#7201a8\"], [0.3333333333333333, \"#9c179e\"], [0.4444444444444444, \"#bd3786\"], [0.5555555555555556, \"#d8576b\"], [0.6666666666666666, \"#ed7953\"], [0.7777777777777778, \"#fb9f3a\"], [0.8888888888888888, \"#fdca26\"], [1.0, \"#f0f921\"]], \"type\": \"contour\"}], \"contourcarpet\": [{\"colorbar\": {\"outlinewidth\": 0, \"ticks\": \"\"}, \"type\": \"contourcarpet\"}], \"heatmap\": [{\"colorbar\": {\"outlinewidth\": 0, \"ticks\": \"\"}, \"colorscale\": [[0.0, \"#0d0887\"], [0.1111111111111111, \"#46039f\"], [0.2222222222222222, \"#7201a8\"], [0.3333333333333333, \"#9c179e\"], [0.4444444444444444, \"#bd3786\"], [0.5555555555555556, \"#d8576b\"], [0.6666666666666666, \"#ed7953\"], [0.7777777777777778, \"#fb9f3a\"], [0.8888888888888888, \"#fdca26\"], [1.0, \"#f0f921\"]], \"type\": \"heatmap\"}], \"heatmapgl\": [{\"colorbar\": {\"outlinewidth\": 0, \"ticks\": \"\"}, \"colorscale\": [[0.0, \"#0d0887\"], [0.1111111111111111, \"#46039f\"], [0.2222222222222222, \"#7201a8\"], [0.3333333333333333, \"#9c179e\"], [0.4444444444444444, \"#bd3786\"], [0.5555555555555556, \"#d8576b\"], [0.6666666666666666, \"#ed7953\"], [0.7777777777777778, \"#fb9f3a\"], [0.8888888888888888, \"#fdca26\"], [1.0, \"#f0f921\"]], \"type\": \"heatmapgl\"}], \"histogram\": [{\"marker\": {\"colorbar\": {\"outlinewidth\": 0, \"ticks\": \"\"}}, \"type\": \"histogram\"}], \"histogram2d\": [{\"colorbar\": {\"outlinewidth\": 0, \"ticks\": \"\"}, \"colorscale\": [[0.0, \"#0d0887\"], [0.1111111111111111, \"#46039f\"], [0.2222222222222222, \"#7201a8\"], [0.3333333333333333, \"#9c179e\"], [0.4444444444444444, \"#bd3786\"], [0.5555555555555556, \"#d8576b\"], [0.6666666666666666, \"#ed7953\"], [0.7777777777777778, \"#fb9f3a\"], [0.8888888888888888, \"#fdca26\"], [1.0, \"#f0f921\"]], \"type\": \"histogram2d\"}], \"histogram2dcontour\": [{\"colorbar\": {\"outlinewidth\": 0, \"ticks\": \"\"}, \"colorscale\": [[0.0, \"#0d0887\"], [0.1111111111111111, \"#46039f\"], [0.2222222222222222, \"#7201a8\"], [0.3333333333333333, \"#9c179e\"], [0.4444444444444444, \"#bd3786\"], [0.5555555555555556, \"#d8576b\"], [0.6666666666666666, \"#ed7953\"], [0.7777777777777778, \"#fb9f3a\"], [0.8888888888888888, \"#fdca26\"], [1.0, \"#f0f921\"]], \"type\": \"histogram2dcontour\"}], \"mesh3d\": [{\"colorbar\": {\"outlinewidth\": 0, \"ticks\": \"\"}, \"type\": \"mesh3d\"}], \"parcoords\": [{\"line\": {\"colorbar\": {\"outlinewidth\": 0, \"ticks\": \"\"}}, \"type\": \"parcoords\"}], \"pie\": [{\"automargin\": true, \"type\": \"pie\"}], \"scatter\": [{\"marker\": {\"colorbar\": {\"outlinewidth\": 0, \"ticks\": \"\"}}, \"type\": \"scatter\"}], \"scatter3d\": [{\"line\": {\"colorbar\": {\"outlinewidth\": 0, \"ticks\": \"\"}}, \"marker\": {\"colorbar\": {\"outlinewidth\": 0, \"ticks\": \"\"}}, \"type\": \"scatter3d\"}], \"scattercarpet\": [{\"marker\": {\"colorbar\": {\"outlinewidth\": 0, \"ticks\": \"\"}}, \"type\": \"scattercarpet\"}], \"scattergeo\": [{\"marker\": {\"colorbar\": {\"outlinewidth\": 0, \"ticks\": \"\"}}, \"type\": \"scattergeo\"}], \"scattergl\": [{\"marker\": {\"colorbar\": {\"outlinewidth\": 0, \"ticks\": \"\"}}, \"type\": \"scattergl\"}], \"scattermapbox\": [{\"marker\": {\"colorbar\": {\"outlinewidth\": 0, \"ticks\": \"\"}}, \"type\": \"scattermapbox\"}], \"scatterpolar\": [{\"marker\": {\"colorbar\": {\"outlinewidth\": 0, \"ticks\": \"\"}}, \"type\": \"scatterpolar\"}], \"scatterpolargl\": [{\"marker\": {\"colorbar\": {\"outlinewidth\": 0, \"ticks\": \"\"}}, \"type\": \"scatterpolargl\"}], \"scatterternary\": [{\"marker\": {\"colorbar\": {\"outlinewidth\": 0, \"ticks\": \"\"}}, \"type\": \"scatterternary\"}], \"surface\": [{\"colorbar\": {\"outlinewidth\": 0, \"ticks\": \"\"}, \"colorscale\": [[0.0, \"#0d0887\"], [0.1111111111111111, \"#46039f\"], [0.2222222222222222, \"#7201a8\"], [0.3333333333333333, \"#9c179e\"], [0.4444444444444444, \"#bd3786\"], [0.5555555555555556, \"#d8576b\"], [0.6666666666666666, \"#ed7953\"], [0.7777777777777778, \"#fb9f3a\"], [0.8888888888888888, \"#fdca26\"], [1.0, \"#f0f921\"]], \"type\": \"surface\"}], \"table\": [{\"cells\": {\"fill\": {\"color\": \"#EBF0F8\"}, \"line\": {\"color\": \"white\"}}, \"header\": {\"fill\": {\"color\": \"#C8D4E3\"}, \"line\": {\"color\": \"white\"}}, \"type\": \"table\"}]}, \"layout\": {\"annotationdefaults\": {\"arrowcolor\": \"#2a3f5f\", \"arrowhead\": 0, \"arrowwidth\": 1}, \"autotypenumbers\": \"strict\", \"coloraxis\": {\"colorbar\": {\"outlinewidth\": 0, \"ticks\": \"\"}}, \"colorscale\": {\"diverging\": [[0, \"#8e0152\"], [0.1, \"#c51b7d\"], [0.2, \"#de77ae\"], [0.3, \"#f1b6da\"], [0.4, \"#fde0ef\"], [0.5, \"#f7f7f7\"], [0.6, \"#e6f5d0\"], [0.7, \"#b8e186\"], [0.8, \"#7fbc41\"], [0.9, \"#4d9221\"], [1, \"#276419\"]], \"sequential\": [[0.0, \"#0d0887\"], [0.1111111111111111, \"#46039f\"], [0.2222222222222222, \"#7201a8\"], [0.3333333333333333, \"#9c179e\"], [0.4444444444444444, \"#bd3786\"], [0.5555555555555556, \"#d8576b\"], [0.6666666666666666, \"#ed7953\"], [0.7777777777777778, \"#fb9f3a\"], [0.8888888888888888, \"#fdca26\"], [1.0, \"#f0f921\"]], \"sequentialminus\": [[0.0, \"#0d0887\"], [0.1111111111111111, \"#46039f\"], [0.2222222222222222, \"#7201a8\"], [0.3333333333333333, \"#9c179e\"], [0.4444444444444444, \"#bd3786\"], [0.5555555555555556, \"#d8576b\"], [0.6666666666666666, \"#ed7953\"], [0.7777777777777778, \"#fb9f3a\"], [0.8888888888888888, \"#fdca26\"], [1.0, \"#f0f921\"]]}, \"colorway\": [\"#636efa\", \"#EF553B\", \"#00cc96\", \"#ab63fa\", \"#FFA15A\", \"#19d3f3\", \"#FF6692\", \"#B6E880\", \"#FF97FF\", \"#FECB52\"], \"font\": {\"color\": \"#2a3f5f\"}, \"geo\": {\"bgcolor\": \"white\", \"lakecolor\": \"white\", \"landcolor\": \"#E5ECF6\", \"showlakes\": true, \"showland\": true, \"subunitcolor\": \"white\"}, \"hoverlabel\": {\"align\": \"left\"}, \"hovermode\": \"closest\", \"mapbox\": {\"style\": \"light\"}, \"paper_bgcolor\": \"white\", \"plot_bgcolor\": \"#E5ECF6\", \"polar\": {\"angularaxis\": {\"gridcolor\": \"white\", \"linecolor\": \"white\", \"ticks\": \"\"}, \"bgcolor\": \"#E5ECF6\", \"radialaxis\": {\"gridcolor\": \"white\", \"linecolor\": \"white\", \"ticks\": \"\"}}, \"scene\": {\"xaxis\": {\"backgroundcolor\": \"#E5ECF6\", \"gridcolor\": \"white\", \"gridwidth\": 2, \"linecolor\": \"white\", \"showbackground\": true, \"ticks\": \"\", \"zerolinecolor\": \"white\"}, \"yaxis\": {\"backgroundcolor\": \"#E5ECF6\", \"gridcolor\": \"white\", \"gridwidth\": 2, \"linecolor\": \"white\", \"showbackground\": true, \"ticks\": \"\", \"zerolinecolor\": \"white\"}, \"zaxis\": {\"backgroundcolor\": \"#E5ECF6\", \"gridcolor\": \"white\", \"gridwidth\": 2, \"linecolor\": \"white\", \"showbackground\": true, \"ticks\": \"\", \"zerolinecolor\": \"white\"}}, \"shapedefaults\": {\"line\": {\"color\": \"#2a3f5f\"}}, \"ternary\": {\"aaxis\": {\"gridcolor\": \"white\", \"linecolor\": \"white\", \"ticks\": \"\"}, \"baxis\": {\"gridcolor\": \"white\", \"linecolor\": \"white\", \"ticks\": \"\"}, \"bgcolor\": \"#E5ECF6\", \"caxis\": {\"gridcolor\": \"white\", \"linecolor\": \"white\", \"ticks\": \"\"}}, \"title\": {\"x\": 0.05}, \"xaxis\": {\"automargin\": true, \"gridcolor\": \"white\", \"linecolor\": \"white\", \"ticks\": \"\", \"title\": {\"standoff\": 15}, \"zerolinecolor\": \"white\", \"zerolinewidth\": 2}, \"yaxis\": {\"automargin\": true, \"gridcolor\": \"white\", \"linecolor\": \"white\", \"ticks\": \"\", \"title\": {\"standoff\": 15}, \"zerolinecolor\": \"white\", \"zerolinewidth\": 2}}}, \"title\": {\"text\": \"Sankey Diagram for Top 5 Causes of Maternal Death, Under 30, Black, 2008-2019\"}, \"width\": 1000},                        {\"responsive\": true}                    ).then(function(){\n",
       "                            \n",
       "var gd = document.getElementById('e9f3ac58-3c63-4fda-a0c4-b6e1175fd411');\n",
       "var x = new MutationObserver(function (mutations, observer) {{\n",
       "        var display = window.getComputedStyle(gd).display;\n",
       "        if (!display || display === 'none') {{\n",
       "            console.log([gd, 'removed!']);\n",
       "            Plotly.purge(gd);\n",
       "            observer.disconnect();\n",
       "        }}\n",
       "}});\n",
       "\n",
       "// Listen for the removal of the full notebook cells\n",
       "var notebookContainer = gd.closest('#notebook-container');\n",
       "if (notebookContainer) {{\n",
       "    x.observe(notebookContainer, {childList: true});\n",
       "}}\n",
       "\n",
       "// Listen for the clearing of the current output cell\n",
       "var outputEl = gd.closest('.output');\n",
       "if (outputEl) {{\n",
       "    x.observe(outputEl, {childList: true});\n",
       "}}\n",
       "\n",
       "                        })                };                });            </script>        </div>"
      ]
     },
     "metadata": {},
     "output_type": "display_data"
    }
   ],
   "source": [
    "# create the sankey diagram \n",
    "fig = go.Figure(data=[go.Sankey(\n",
    "    valueformat = '.0f', \n",
    "    valuesuffix = \"%\",\n",
    "    node=dict(\n",
    "        pad = 15, \n",
    "        thickness = 50, \n",
    "        line = dict(color= 'black', width = 0.5), \n",
    "        label = nodes['Label'], \n",
    "        color = nodes['Color']\n",
    "    ), \n",
    "    link = dict(source = utb_san_coded['source'], \n",
    "            target = utb_san_coded['target'], \n",
    "            value = utb_san_coded['value'], \n",
    "               ))]\n",
    ")\n",
    "\n",
    "fig.update_layout(title_text=\"Sankey Diagram for Top 5 Causes of Maternal Death, Under 30, Black, 2008-2019\", \n",
    "                  height = 750, width=1000, font_size=10)\n",
    "fig.show()"
   ]
  },
  {
   "cell_type": "code",
   "execution_count": 207,
   "id": "7a246dfa",
   "metadata": {},
   "outputs": [],
   "source": [
    "only_one_utw = under30_white[under30_white['record_2']=='None']\n",
    "only_one_utb = under30_black[under30_black['record_2']=='None']\n",
    "only_one_otw = over30_white[over30_white['record_2']=='None']\n",
    "only_one_otb = over30_black[over30_black['record_2']=='None']\n"
   ]
  },
  {
   "cell_type": "code",
   "execution_count": 208,
   "id": "04e184db",
   "metadata": {},
   "outputs": [
    {
     "name": "stdout",
     "output_type": "stream",
     "text": [
      "Under Thirty White, 1 record for Cause of Death:  63.98\n",
      "Under Thirty Black, 1 record for Cause of Death:  63.9\n",
      "Over Thirty White, 1 record for Cause of Death:  61.86\n",
      "Over Thirty Black, 1 record for Cause of Death:  61.76\n"
     ]
    }
   ],
   "source": [
    "print('Under Thirty White, 1 record for Cause of Death: ', round(len(only_one_utw) / len(under30_white) * 100, 2))\n",
    "print('Under Thirty Black, 1 record for Cause of Death: ', round(len(only_one_utb) / len(under30_black) * 100, 2))\n",
    "print('Over Thirty White, 1 record for Cause of Death: ', round(len(only_one_otw) / len(over30_white) * 100, 2))\n",
    "print('Over Thirty Black, 1 record for Cause of Death: ', round(len(only_one_otb) / len(over30_black) * 100, 2))"
   ]
  },
  {
   "cell_type": "code",
   "execution_count": 209,
   "id": "97fcf191",
   "metadata": {},
   "outputs": [
    {
     "data": {
      "text/html": [
       "<div>\n",
       "<style scoped>\n",
       "    .dataframe tbody tr th:only-of-type {\n",
       "        vertical-align: middle;\n",
       "    }\n",
       "\n",
       "    .dataframe tbody tr th {\n",
       "        vertical-align: top;\n",
       "    }\n",
       "\n",
       "    .dataframe thead th {\n",
       "        text-align: right;\n",
       "    }\n",
       "</style>\n",
       "<table border=\"1\" class=\"dataframe\">\n",
       "  <thead>\n",
       "    <tr style=\"text-align: right;\">\n",
       "      <th></th>\n",
       "      <th>Demographic</th>\n",
       "      <th>One Cause of Death Reported</th>\n",
       "    </tr>\n",
       "  </thead>\n",
       "  <tbody>\n",
       "  </tbody>\n",
       "</table>\n",
       "</div>"
      ],
      "text/plain": [
       "Empty DataFrame\n",
       "Columns: [Demographic, One Cause of Death Reported]\n",
       "Index: []"
      ]
     },
     "execution_count": 209,
     "metadata": {},
     "output_type": "execute_result"
    }
   ],
   "source": [
    "one_record_only = pd.DataFrame(columns=['Demographic', 'One Cause of Death Reported'])\n",
    "one_record_only"
   ]
  },
  {
   "cell_type": "code",
   "execution_count": 213,
   "id": "da4a3b33",
   "metadata": {},
   "outputs": [],
   "source": [
    "one_record_only.loc[1] = ['Black, Under 30', '63.9%']\n",
    "one_record_only.loc[2] = ['White, Under 30', '63.9%']\n",
    "one_record_only.loc[3] = ['Black, Over 30', '61.8%']\n",
    "one_record_only.loc[4] = ['White, Over 30', '61.9%'] \n",
    "\n"
   ]
  },
  {
   "cell_type": "code",
   "execution_count": 214,
   "id": "505c9b02",
   "metadata": {},
   "outputs": [
    {
     "data": {
      "text/html": [
       "<div>\n",
       "<style scoped>\n",
       "    .dataframe tbody tr th:only-of-type {\n",
       "        vertical-align: middle;\n",
       "    }\n",
       "\n",
       "    .dataframe tbody tr th {\n",
       "        vertical-align: top;\n",
       "    }\n",
       "\n",
       "    .dataframe thead th {\n",
       "        text-align: right;\n",
       "    }\n",
       "</style>\n",
       "<table border=\"1\" class=\"dataframe\">\n",
       "  <thead>\n",
       "    <tr style=\"text-align: right;\">\n",
       "      <th></th>\n",
       "      <th>Demographic</th>\n",
       "      <th>One Cause of Death Reported</th>\n",
       "    </tr>\n",
       "  </thead>\n",
       "  <tbody>\n",
       "    <tr>\n",
       "      <th>1</th>\n",
       "      <td>Black, Under 30</td>\n",
       "      <td>63.9%</td>\n",
       "    </tr>\n",
       "    <tr>\n",
       "      <th>2</th>\n",
       "      <td>White, Under 30</td>\n",
       "      <td>63.9%</td>\n",
       "    </tr>\n",
       "    <tr>\n",
       "      <th>3</th>\n",
       "      <td>Black, Over 30</td>\n",
       "      <td>61.8%</td>\n",
       "    </tr>\n",
       "    <tr>\n",
       "      <th>4</th>\n",
       "      <td>White, Over 30</td>\n",
       "      <td>61.9%</td>\n",
       "    </tr>\n",
       "  </tbody>\n",
       "</table>\n",
       "</div>"
      ],
      "text/plain": [
       "       Demographic One Cause of Death Reported\n",
       "1  Black, Under 30                       63.9%\n",
       "2  White, Under 30                       63.9%\n",
       "3   Black, Over 30                       61.8%\n",
       "4   White, Over 30                       61.9%"
      ]
     },
     "execution_count": 214,
     "metadata": {},
     "output_type": "execute_result"
    }
   ],
   "source": [
    "one_record_only"
   ]
  },
  {
   "cell_type": "code",
   "execution_count": null,
   "id": "27573e1e",
   "metadata": {},
   "outputs": [],
   "source": []
  }
 ],
 "metadata": {
  "kernelspec": {
   "display_name": "Python 3",
   "language": "python",
   "name": "python3"
  },
  "language_info": {
   "codemirror_mode": {
    "name": "ipython",
    "version": 3
   },
   "file_extension": ".py",
   "mimetype": "text/x-python",
   "name": "python",
   "nbconvert_exporter": "python",
   "pygments_lexer": "ipython3",
   "version": "3.7.7"
  }
 },
 "nbformat": 4,
 "nbformat_minor": 5
}
