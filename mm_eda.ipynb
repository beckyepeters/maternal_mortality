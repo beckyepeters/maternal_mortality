{
 "cells": [
  {
   "cell_type": "code",
   "execution_count": 387,
   "id": "7ff7c5ac-81ed-4a00-b5de-c79420c2cd7c",
   "metadata": {},
   "outputs": [],
   "source": [
    "import pandas as pd\n",
    "import numpy as np\n",
    "import seaborn as sns\n",
    "import matplotlib.pyplot as plt\n",
    "import matplotlib.colors as matcolors\n",
    "plt.style.use('ggplot')\n",
    "%matplotlib inline\n",
    "import seaborn as sns\n",
    "import plotly.graph_objects as go\n"
   ]
  },
  {
   "cell_type": "code",
   "execution_count": 2,
   "id": "194b6615-2740-47ad-8023-953d5df64d35",
   "metadata": {},
   "outputs": [],
   "source": [
    "to_drop = ['educ1989', 'educflag', 'ageflag', 'age', 'ager52', \n",
    "           'ager12', 'ager22', 'eanum', 'brace', 'raceimp', 'racer3', \n",
    "           'racer5', 'hispanic', 'hspanicr', 'ucr358', 'ucr130', 'ucr39', 'econdp_1',\n",
    "            'econds_1', 'enicon_1', 'econdp_2', 'econds_2', 'enicon_2', 'econdp_3',\n",
    "            'econds_3', 'enicon_3', 'econdp_4', 'econds_4', 'enicon_4', 'econdp_5',\n",
    "            'econds_5', 'enicon_5', 'econdp_6', 'econds_6', 'enicon_6', 'econdp_7', 'econds_7',\n",
    "            'enicon_7', 'econdp_8', 'econds_8', 'enicon_8', 'econdp_9', 'econds_9',\n",
    "            'enicon_9', 'econdp_10', 'econds_10', 'enicon_10', 'econdp_11', 'econds_11', 'enicon_11',\n",
    "            'econdp_12', 'econds_12', 'enicon_12', 'econdp_13', 'econds_13', 'enicon_13',\n",
    "            'econdp_14', 'econds_14', 'enicon_14', 'econdp_15', 'econds_15', 'enicon_15',\n",
    "            'econdp_16', 'econds_16', 'enicon_16', 'econdp_17', 'econds_17', 'enicon_17',\n",
    "            'econdp_18', 'econds_18', 'enicon_18', 'econdp_19', 'econds_19', 'enicon_19', 'econdp_20',\n",
    "            'econds_20', 'enicon_20']"
   ]
  },
  {
   "cell_type": "code",
   "execution_count": 3,
   "id": "fd7c6b5d-0718-4c56-9cfd-bc26ad7804e4",
   "metadata": {},
   "outputs": [],
   "source": [
    "main_df = pd.DataFrame()"
   ]
  },
  {
   "cell_type": "code",
   "execution_count": 4,
   "id": "6fd8f618-0efc-4c6d-9cdc-684274bf0a6e",
   "metadata": {},
   "outputs": [],
   "source": [
    "def clean_mort_file(file_path): \n",
    "    df = pd.read_csv(file_path)\n",
    "    df.drop(columns=to_drop, inplace=True)\n",
    "    df = df[df['ucod'].str.startswith('O')]\n",
    "    return df"
   ]
  },
  {
   "cell_type": "code",
   "execution_count": 5,
   "id": "2c430822-ed65-419d-8fed-14bcd265b417",
   "metadata": {},
   "outputs": [],
   "source": [
    "files_list = ['data/mort2009.csv', 'data/mort2010.csv', \n",
    "             'data/mort2011.csv', 'data/mort2012.csv', \n",
    "             'data/mort2013.csv', 'data/mort2014.csv', \n",
    "             'data/mort2015.csv', 'data/mort2016.csv', \n",
    "             'data/mort2017.csv', 'data/Mort2018US.PubUse.csv']"
   ]
  },
  {
   "cell_type": "code",
   "execution_count": 6,
   "id": "0de43223-3082-4b11-9d43-adeb82603fca",
   "metadata": {},
   "outputs": [
    {
     "name": "stderr",
     "output_type": "stream",
     "text": [
      "/opt/anaconda3/lib/python3.7/site-packages/ipykernel_launcher.py:2: DtypeWarning: Columns (39,42,45,48,51,54,57,60,63,66,69,72,75,78,81,84,87,91,92,93,94,95,96,97,98,99,100,101,102,103,104,105,106) have mixed types.Specify dtype option on import or set low_memory=False.\n",
      "  \n",
      "/opt/anaconda3/lib/python3.7/site-packages/ipykernel_launcher.py:2: DtypeWarning: Columns (63,66,69,72,75,78,81,84,99,100,101,102,103,104,105,106) have mixed types.Specify dtype option on import or set low_memory=False.\n",
      "  \n",
      "/opt/anaconda3/lib/python3.7/site-packages/ipykernel_launcher.py:2: DtypeWarning: Columns (63,66,69,72,75,78,81,84,99,100,101,102,103,104,105,106,107) have mixed types.Specify dtype option on import or set low_memory=False.\n",
      "  \n",
      "/opt/anaconda3/lib/python3.7/site-packages/ipykernel_launcher.py:2: DtypeWarning: Columns (60,63,66,69,72,99,100,101,102,103,104,105) have mixed types.Specify dtype option on import or set low_memory=False.\n",
      "  \n",
      "/opt/anaconda3/lib/python3.7/site-packages/ipykernel_launcher.py:2: DtypeWarning: Columns (60,63,66,69,72,99,100,101,102) have mixed types.Specify dtype option on import or set low_memory=False.\n",
      "  \n",
      "/opt/anaconda3/lib/python3.7/site-packages/ipykernel_launcher.py:2: DtypeWarning: Columns (63,66,69,72,100,101,102,103) have mixed types.Specify dtype option on import or set low_memory=False.\n",
      "  \n",
      "/opt/anaconda3/lib/python3.7/site-packages/ipykernel_launcher.py:2: DtypeWarning: Columns (63,66,69,72,99,100,101,102,103) have mixed types.Specify dtype option on import or set low_memory=False.\n",
      "  \n",
      "/opt/anaconda3/lib/python3.7/site-packages/ipykernel_launcher.py:2: DtypeWarning: Columns (66,69,72,100,101,102,103) have mixed types.Specify dtype option on import or set low_memory=False.\n",
      "  \n"
     ]
    }
   ],
   "source": [
    "for file in files_list: \n",
    "    df = clean_mort_file(file)\n",
    "    main_df = main_df.append(df)"
   ]
  },
  {
   "cell_type": "code",
   "execution_count": 7,
   "id": "3ede637c-92b6-4e2b-b826-a982feab2c22",
   "metadata": {},
   "outputs": [
    {
     "name": "stdout",
     "output_type": "stream",
     "text": [
      "<class 'pandas.core.frame.DataFrame'>\n",
      "Int64Index: 10561 entries, 2113 to 2844169\n",
      "Data columns (total 39 columns):\n",
      " #   Column     Non-Null Count  Dtype  \n",
      "---  ------     --------------  -----  \n",
      " 0   restatus   10561 non-null  int64  \n",
      " 1   educ2003   9840 non-null   float64\n",
      " 2   monthdth   10561 non-null  int64  \n",
      " 3   sex        10561 non-null  object \n",
      " 4   ager27     10561 non-null  int64  \n",
      " 5   placdth    10561 non-null  int64  \n",
      " 6   marstat    10561 non-null  object \n",
      " 7   weekday    10561 non-null  int64  \n",
      " 8   year       10561 non-null  int64  \n",
      " 9   injwork    10561 non-null  object \n",
      " 10  mandeath   9693 non-null   float64\n",
      " 11  methdisp   10561 non-null  object \n",
      " 12  autopsy    10561 non-null  object \n",
      " 13  activity   10 non-null     float64\n",
      " 14  injury     297 non-null    float64\n",
      " 15  ucod       10561 non-null  object \n",
      " 16  ucr113     10561 non-null  int64  \n",
      " 17  ranum      10561 non-null  int64  \n",
      " 18  record_1   10561 non-null  object \n",
      " 19  record_2   3990 non-null   object \n",
      " 20  record_3   1564 non-null   object \n",
      " 21  record_4   671 non-null    object \n",
      " 22  record_5   286 non-null    object \n",
      " 23  record_6   126 non-null    object \n",
      " 24  record_7   60 non-null     object \n",
      " 25  record_8   27 non-null     object \n",
      " 26  record_9   9 non-null      object \n",
      " 27  record_10  6 non-null      object \n",
      " 28  record_11  3 non-null      object \n",
      " 29  record_12  0 non-null      object \n",
      " 30  record_13  0 non-null      object \n",
      " 31  record_14  0 non-null      object \n",
      " 32  record_15  0 non-null      object \n",
      " 33  record_16  0 non-null      float64\n",
      " 34  record_17  0 non-null      float64\n",
      " 35  record_18  0 non-null      float64\n",
      " 36  record_19  0 non-null      float64\n",
      " 37  record_20  0 non-null      float64\n",
      " 38  race       10561 non-null  int64  \n",
      "dtypes: float64(9), int64(9), object(21)\n",
      "memory usage: 3.2+ MB\n"
     ]
    }
   ],
   "source": [
    "main_df.info()"
   ]
  },
  {
   "cell_type": "code",
   "execution_count": 8,
   "id": "c6b675fe-76ea-46eb-a335-916b287ae194",
   "metadata": {},
   "outputs": [],
   "source": [
    "percent_missing = main_df.isnull().sum() * 100 / len(main_df)\n",
    "missing_value_df = pd.DataFrame({'column_name': main_df.columns,\n",
    "                                 'percent_missing': percent_missing})"
   ]
  },
  {
   "cell_type": "code",
   "execution_count": 9,
   "id": "1343cdc8-d211-4448-9750-9ccd6b6ec4a5",
   "metadata": {},
   "outputs": [
    {
     "data": {
      "text/html": [
       "<div>\n",
       "<style scoped>\n",
       "    .dataframe tbody tr th:only-of-type {\n",
       "        vertical-align: middle;\n",
       "    }\n",
       "\n",
       "    .dataframe tbody tr th {\n",
       "        vertical-align: top;\n",
       "    }\n",
       "\n",
       "    .dataframe thead th {\n",
       "        text-align: right;\n",
       "    }\n",
       "</style>\n",
       "<table border=\"1\" class=\"dataframe\">\n",
       "  <thead>\n",
       "    <tr style=\"text-align: right;\">\n",
       "      <th></th>\n",
       "      <th>column_name</th>\n",
       "      <th>percent_missing</th>\n",
       "    </tr>\n",
       "  </thead>\n",
       "  <tbody>\n",
       "    <tr>\n",
       "      <th>restatus</th>\n",
       "      <td>restatus</td>\n",
       "      <td>0.000000</td>\n",
       "    </tr>\n",
       "    <tr>\n",
       "      <th>educ2003</th>\n",
       "      <td>educ2003</td>\n",
       "      <td>6.827005</td>\n",
       "    </tr>\n",
       "    <tr>\n",
       "      <th>monthdth</th>\n",
       "      <td>monthdth</td>\n",
       "      <td>0.000000</td>\n",
       "    </tr>\n",
       "    <tr>\n",
       "      <th>sex</th>\n",
       "      <td>sex</td>\n",
       "      <td>0.000000</td>\n",
       "    </tr>\n",
       "    <tr>\n",
       "      <th>ager27</th>\n",
       "      <td>ager27</td>\n",
       "      <td>0.000000</td>\n",
       "    </tr>\n",
       "    <tr>\n",
       "      <th>placdth</th>\n",
       "      <td>placdth</td>\n",
       "      <td>0.000000</td>\n",
       "    </tr>\n",
       "    <tr>\n",
       "      <th>marstat</th>\n",
       "      <td>marstat</td>\n",
       "      <td>0.000000</td>\n",
       "    </tr>\n",
       "    <tr>\n",
       "      <th>weekday</th>\n",
       "      <td>weekday</td>\n",
       "      <td>0.000000</td>\n",
       "    </tr>\n",
       "    <tr>\n",
       "      <th>year</th>\n",
       "      <td>year</td>\n",
       "      <td>0.000000</td>\n",
       "    </tr>\n",
       "    <tr>\n",
       "      <th>injwork</th>\n",
       "      <td>injwork</td>\n",
       "      <td>0.000000</td>\n",
       "    </tr>\n",
       "    <tr>\n",
       "      <th>mandeath</th>\n",
       "      <td>mandeath</td>\n",
       "      <td>8.218919</td>\n",
       "    </tr>\n",
       "    <tr>\n",
       "      <th>methdisp</th>\n",
       "      <td>methdisp</td>\n",
       "      <td>0.000000</td>\n",
       "    </tr>\n",
       "    <tr>\n",
       "      <th>autopsy</th>\n",
       "      <td>autopsy</td>\n",
       "      <td>0.000000</td>\n",
       "    </tr>\n",
       "    <tr>\n",
       "      <th>activity</th>\n",
       "      <td>activity</td>\n",
       "      <td>99.905312</td>\n",
       "    </tr>\n",
       "    <tr>\n",
       "      <th>injury</th>\n",
       "      <td>injury</td>\n",
       "      <td>97.187766</td>\n",
       "    </tr>\n",
       "    <tr>\n",
       "      <th>ucod</th>\n",
       "      <td>ucod</td>\n",
       "      <td>0.000000</td>\n",
       "    </tr>\n",
       "    <tr>\n",
       "      <th>ucr113</th>\n",
       "      <td>ucr113</td>\n",
       "      <td>0.000000</td>\n",
       "    </tr>\n",
       "    <tr>\n",
       "      <th>ranum</th>\n",
       "      <td>ranum</td>\n",
       "      <td>0.000000</td>\n",
       "    </tr>\n",
       "    <tr>\n",
       "      <th>record_1</th>\n",
       "      <td>record_1</td>\n",
       "      <td>0.000000</td>\n",
       "    </tr>\n",
       "    <tr>\n",
       "      <th>record_2</th>\n",
       "      <td>record_2</td>\n",
       "      <td>62.219487</td>\n",
       "    </tr>\n",
       "    <tr>\n",
       "      <th>record_3</th>\n",
       "      <td>record_3</td>\n",
       "      <td>85.190796</td>\n",
       "    </tr>\n",
       "    <tr>\n",
       "      <th>record_4</th>\n",
       "      <td>record_4</td>\n",
       "      <td>93.646435</td>\n",
       "    </tr>\n",
       "    <tr>\n",
       "      <th>record_5</th>\n",
       "      <td>record_5</td>\n",
       "      <td>97.291923</td>\n",
       "    </tr>\n",
       "    <tr>\n",
       "      <th>record_6</th>\n",
       "      <td>record_6</td>\n",
       "      <td>98.806931</td>\n",
       "    </tr>\n",
       "    <tr>\n",
       "      <th>record_7</th>\n",
       "      <td>record_7</td>\n",
       "      <td>99.431872</td>\n",
       "    </tr>\n",
       "    <tr>\n",
       "      <th>record_8</th>\n",
       "      <td>record_8</td>\n",
       "      <td>99.744342</td>\n",
       "    </tr>\n",
       "    <tr>\n",
       "      <th>record_9</th>\n",
       "      <td>record_9</td>\n",
       "      <td>99.914781</td>\n",
       "    </tr>\n",
       "    <tr>\n",
       "      <th>record_10</th>\n",
       "      <td>record_10</td>\n",
       "      <td>99.943187</td>\n",
       "    </tr>\n",
       "    <tr>\n",
       "      <th>record_11</th>\n",
       "      <td>record_11</td>\n",
       "      <td>99.971594</td>\n",
       "    </tr>\n",
       "    <tr>\n",
       "      <th>record_12</th>\n",
       "      <td>record_12</td>\n",
       "      <td>100.000000</td>\n",
       "    </tr>\n",
       "    <tr>\n",
       "      <th>record_13</th>\n",
       "      <td>record_13</td>\n",
       "      <td>100.000000</td>\n",
       "    </tr>\n",
       "    <tr>\n",
       "      <th>record_14</th>\n",
       "      <td>record_14</td>\n",
       "      <td>100.000000</td>\n",
       "    </tr>\n",
       "    <tr>\n",
       "      <th>record_15</th>\n",
       "      <td>record_15</td>\n",
       "      <td>100.000000</td>\n",
       "    </tr>\n",
       "    <tr>\n",
       "      <th>record_16</th>\n",
       "      <td>record_16</td>\n",
       "      <td>100.000000</td>\n",
       "    </tr>\n",
       "    <tr>\n",
       "      <th>record_17</th>\n",
       "      <td>record_17</td>\n",
       "      <td>100.000000</td>\n",
       "    </tr>\n",
       "    <tr>\n",
       "      <th>record_18</th>\n",
       "      <td>record_18</td>\n",
       "      <td>100.000000</td>\n",
       "    </tr>\n",
       "    <tr>\n",
       "      <th>record_19</th>\n",
       "      <td>record_19</td>\n",
       "      <td>100.000000</td>\n",
       "    </tr>\n",
       "    <tr>\n",
       "      <th>record_20</th>\n",
       "      <td>record_20</td>\n",
       "      <td>100.000000</td>\n",
       "    </tr>\n",
       "    <tr>\n",
       "      <th>race</th>\n",
       "      <td>race</td>\n",
       "      <td>0.000000</td>\n",
       "    </tr>\n",
       "  </tbody>\n",
       "</table>\n",
       "</div>"
      ],
      "text/plain": [
       "          column_name  percent_missing\n",
       "restatus     restatus         0.000000\n",
       "educ2003     educ2003         6.827005\n",
       "monthdth     monthdth         0.000000\n",
       "sex               sex         0.000000\n",
       "ager27         ager27         0.000000\n",
       "placdth       placdth         0.000000\n",
       "marstat       marstat         0.000000\n",
       "weekday       weekday         0.000000\n",
       "year             year         0.000000\n",
       "injwork       injwork         0.000000\n",
       "mandeath     mandeath         8.218919\n",
       "methdisp     methdisp         0.000000\n",
       "autopsy       autopsy         0.000000\n",
       "activity     activity        99.905312\n",
       "injury         injury        97.187766\n",
       "ucod             ucod         0.000000\n",
       "ucr113         ucr113         0.000000\n",
       "ranum           ranum         0.000000\n",
       "record_1     record_1         0.000000\n",
       "record_2     record_2        62.219487\n",
       "record_3     record_3        85.190796\n",
       "record_4     record_4        93.646435\n",
       "record_5     record_5        97.291923\n",
       "record_6     record_6        98.806931\n",
       "record_7     record_7        99.431872\n",
       "record_8     record_8        99.744342\n",
       "record_9     record_9        99.914781\n",
       "record_10   record_10        99.943187\n",
       "record_11   record_11        99.971594\n",
       "record_12   record_12       100.000000\n",
       "record_13   record_13       100.000000\n",
       "record_14   record_14       100.000000\n",
       "record_15   record_15       100.000000\n",
       "record_16   record_16       100.000000\n",
       "record_17   record_17       100.000000\n",
       "record_18   record_18       100.000000\n",
       "record_19   record_19       100.000000\n",
       "record_20   record_20       100.000000\n",
       "race             race         0.000000"
      ]
     },
     "execution_count": 9,
     "metadata": {},
     "output_type": "execute_result"
    }
   ],
   "source": [
    "missing_value_df"
   ]
  },
  {
   "cell_type": "code",
   "execution_count": 10,
   "id": "0f747154-e357-45e0-a8b1-b066d7f6ae76",
   "metadata": {},
   "outputs": [],
   "source": [
    "to_drop = ['record_6', 'record_7', 'record_8', 'record_9', 'record_10', 'record_11', 'record_12', \n",
    "          'record_13', 'record_14', 'record_15', 'record_16', 'record_17', 'record_18', \n",
    "          'record_19', 'record_20', 'activity', 'injury']"
   ]
  },
  {
   "cell_type": "code",
   "execution_count": 11,
   "id": "d3d77a08-c441-4b07-ae79-89d5b8eaf783",
   "metadata": {},
   "outputs": [],
   "source": [
    "main_df.drop(to_drop, inplace=True, axis=1)"
   ]
  },
  {
   "cell_type": "code",
   "execution_count": 12,
   "id": "edcac4ed-9f47-46c9-953c-38b6b3589121",
   "metadata": {},
   "outputs": [
    {
     "name": "stdout",
     "output_type": "stream",
     "text": [
      "<class 'pandas.core.frame.DataFrame'>\n",
      "Int64Index: 10561 entries, 2113 to 2844169\n",
      "Data columns (total 22 columns):\n",
      " #   Column    Non-Null Count  Dtype  \n",
      "---  ------    --------------  -----  \n",
      " 0   restatus  10561 non-null  int64  \n",
      " 1   educ2003  9840 non-null   float64\n",
      " 2   monthdth  10561 non-null  int64  \n",
      " 3   sex       10561 non-null  object \n",
      " 4   ager27    10561 non-null  int64  \n",
      " 5   placdth   10561 non-null  int64  \n",
      " 6   marstat   10561 non-null  object \n",
      " 7   weekday   10561 non-null  int64  \n",
      " 8   year      10561 non-null  int64  \n",
      " 9   injwork   10561 non-null  object \n",
      " 10  mandeath  9693 non-null   float64\n",
      " 11  methdisp  10561 non-null  object \n",
      " 12  autopsy   10561 non-null  object \n",
      " 13  ucod      10561 non-null  object \n",
      " 14  ucr113    10561 non-null  int64  \n",
      " 15  ranum     10561 non-null  int64  \n",
      " 16  record_1  10561 non-null  object \n",
      " 17  record_2  3990 non-null   object \n",
      " 18  record_3  1564 non-null   object \n",
      " 19  record_4  671 non-null    object \n",
      " 20  record_5  286 non-null    object \n",
      " 21  race      10561 non-null  int64  \n",
      "dtypes: float64(2), int64(9), object(11)\n",
      "memory usage: 1.9+ MB\n"
     ]
    }
   ],
   "source": [
    "main_df.info()"
   ]
  },
  {
   "cell_type": "code",
   "execution_count": 13,
   "id": "533e1339-9708-4452-96a6-c451662d65c6",
   "metadata": {},
   "outputs": [],
   "source": [
    "main_df.reset_index(inplace=True)"
   ]
  },
  {
   "cell_type": "code",
   "execution_count": 14,
   "id": "ebdb5da6-fe3b-404b-bf7b-115e3d4bdd18",
   "metadata": {},
   "outputs": [],
   "source": [
    "df = main_df.copy()"
   ]
  },
  {
   "cell_type": "code",
   "execution_count": 259,
   "id": "f5e7a313-21a7-4c9a-b5d2-bd0b3f62f01d",
   "metadata": {},
   "outputs": [
    {
     "name": "stdout",
     "output_type": "stream",
     "text": [
      "<class 'pandas.core.frame.DataFrame'>\n",
      "Int64Index: 9113 entries, 6 to 10560\n",
      "Data columns (total 23 columns):\n",
      " #   Column    Non-Null Count  Dtype  \n",
      "---  ------    --------------  -----  \n",
      " 0   index     9113 non-null   int64  \n",
      " 1   restatus  9113 non-null   int64  \n",
      " 2   educ2003  9113 non-null   float64\n",
      " 3   monthdth  9113 non-null   int64  \n",
      " 4   sex       9113 non-null   object \n",
      " 5   ager27    9113 non-null   int64  \n",
      " 6   placdth   9113 non-null   int64  \n",
      " 7   marstat   9113 non-null   object \n",
      " 8   weekday   9113 non-null   int64  \n",
      " 9   year      9113 non-null   int64  \n",
      " 10  injwork   9113 non-null   object \n",
      " 11  mandeath  9113 non-null   float64\n",
      " 12  methdisp  9113 non-null   object \n",
      " 13  autopsy   9113 non-null   object \n",
      " 14  ucod      9113 non-null   object \n",
      " 15  ucr113    9113 non-null   int64  \n",
      " 16  ranum     9113 non-null   int64  \n",
      " 17  record_1  9113 non-null   object \n",
      " 18  record_2  9113 non-null   object \n",
      " 19  record_3  9113 non-null   object \n",
      " 20  record_4  9113 non-null   object \n",
      " 21  record_5  9113 non-null   object \n",
      " 22  race      9113 non-null   int64  \n",
      "dtypes: float64(2), int64(10), object(11)\n",
      "memory usage: 1.7+ MB\n"
     ]
    }
   ],
   "source": [
    "df.info()"
   ]
  },
  {
   "cell_type": "code",
   "execution_count": 16,
   "id": "0ad91f8d-b944-4aa8-9dbb-6dad62fd97a4",
   "metadata": {},
   "outputs": [],
   "source": [
    "df.record_2.fillna(value='None', inplace=True)"
   ]
  },
  {
   "cell_type": "code",
   "execution_count": 17,
   "id": "db02ead9-29f2-4009-b926-761f2275413c",
   "metadata": {},
   "outputs": [],
   "source": [
    "df.record_3.fillna(value='None', inplace=True)"
   ]
  },
  {
   "cell_type": "code",
   "execution_count": 18,
   "id": "eeb5421b-e7db-4a3f-8102-d711c12a6b31",
   "metadata": {},
   "outputs": [],
   "source": [
    "df.record_4.fillna(value='None', inplace=True)"
   ]
  },
  {
   "cell_type": "code",
   "execution_count": 19,
   "id": "60ead438-33f7-49b6-911a-0ea13fa553e1",
   "metadata": {},
   "outputs": [],
   "source": [
    "df.record_5.fillna(value='None', inplace=True)"
   ]
  },
  {
   "cell_type": "code",
   "execution_count": 244,
   "id": "1c5ef976",
   "metadata": {},
   "outputs": [],
   "source": [
    "df_list = [df1, df2, df3, df4, df5]"
   ]
  },
  {
   "cell_type": "code",
   "execution_count": 516,
   "id": "8d694df0",
   "metadata": {},
   "outputs": [],
   "source": [
    "from itertools import chain\n"
   ]
  },
  {
   "cell_type": "code",
   "execution_count": 524,
   "id": "3fa6ef49",
   "metadata": {},
   "outputs": [],
   "source": [
    "def create_sankey_df(df): \n",
    "    san = pd.DataFrame(columns=['source', 'target', 'value'])\n",
    "    top_5 = df.record_1.value_counts(normalize=True)[:5]\n",
    "    df1 = df[df['record_1']==top_5_all.index[0]]\n",
    "    df2 = df[df['record_1']==top_5_all.index[1]]\n",
    "    df3 = df[df['record_1']==top_5_all.index[2]]\n",
    "    df4 = df[df['record_1']==top_5_all.index[3]]\n",
    "    df5 = df[df['record_1']==top_5_all.index[4]]\n",
    "    list_of_dfs = [df1, df2, df3, df4, df5]\n",
    "    list_of_top_5 = top_5.index\n",
    "    list_of_causes = []\n",
    "    list_of_causes.append(list_of_top_5.tolist())\n",
    "    for idx, df in enumerate(list_of_dfs): \n",
    "        top = df.record_2.value_counts(normalize=True)[:5]\n",
    "        list_of_causes.append(top.index.tolist())\n",
    "        for i in range(5): \n",
    "            san = san.append({'source': list_of_top_5[idx], 'target': top.index[i], 'value': top[i]}, ignore_index=True)\n",
    "    list_of_causes = list(set(list(chain.from_iterable(list_of_causes))))\n",
    "    return san, list_of_causes"
   ]
  },
  {
   "cell_type": "code",
   "execution_count": 525,
   "id": "9e0cf2f8",
   "metadata": {},
   "outputs": [],
   "source": [
    "san, list_of_causes_all = create_sankey_df(df)"
   ]
  },
  {
   "cell_type": "code",
   "execution_count": 527,
   "id": "4ab68633",
   "metadata": {},
   "outputs": [
    {
     "data": {
      "text/plain": [
       "(   source target     value\n",
       " 0    O268   None  0.648949\n",
       " 1    O268   O266  0.019860\n",
       " 2    O268   O100  0.017523\n",
       " 3    O268   O882  0.016355\n",
       " 4    O268   O881  0.016355\n",
       " 5    O998   None  0.556938\n",
       " 6    O998   O994  0.140670\n",
       " 7    O998   O993  0.064115\n",
       " 8    O998   O988  0.056459\n",
       " 9    O998   O995  0.037321\n",
       " 10   O961   None  0.769397\n",
       " 11   O961    R99  0.010776\n",
       " 12   O961   O268  0.009698\n",
       " 13   O961   T509  0.006466\n",
       " 14   O961   I219  0.005388\n",
       " 15   O960   None  0.694408\n",
       " 16   O960   O961  0.115735\n",
       " 17   O960    R99  0.016905\n",
       " 18   O960   C509  0.007802\n",
       " 19   O960   I269  0.006502\n",
       " 20   O994   None  0.840604\n",
       " 21   O994    R99  0.023490\n",
       " 22   O994   O998  0.013423\n",
       " 23   O994   O988  0.010067\n",
       " 24   O994   I499  0.006711,\n",
       " ['O881',\n",
       "  'C509',\n",
       "  'None',\n",
       "  'O268',\n",
       "  'R99',\n",
       "  'O960',\n",
       "  'O995',\n",
       "  'I499',\n",
       "  'O998',\n",
       "  'O961',\n",
       "  'O266',\n",
       "  'O994',\n",
       "  'I219',\n",
       "  'I269',\n",
       "  'O100',\n",
       "  'O882',\n",
       "  'T509',\n",
       "  'O993',\n",
       "  'O988'])"
      ]
     },
     "execution_count": 527,
     "metadata": {},
     "output_type": "execute_result"
    }
   ],
   "source": [
    "san, list_of_causes_all"
   ]
  },
  {
   "cell_type": "code",
   "execution_count": 530,
   "id": "8d025d00",
   "metadata": {},
   "outputs": [],
   "source": [
    "# create a dictionary for the causes involved in this chart\n",
    "\n",
    "causes_all_dict = {'O881': 'O881: Amniotic Fluid Embolism',\n",
    "                   'C509': 'C509: Breast Neoplasm, Unspecified',\n",
    "                   'None': 'No Secondary Cause Reported',\n",
    "                   'O268': 'O268: Other Specified Pregnancy-Related Conditions',\n",
    "                   'R99': 'R99: Illness or Undefined Cause of Mortality',\n",
    "                   'O960': 'O960: Direct Obstetric Cause, 42d-365d post-delivery',\n",
    "                   'O995': 'O995: Diseases of the Respiratory System',\n",
    "                   'I499': 'I499: Cardiac Arrhythmia, Unspecified', \n",
    "                   'O998': 'O998: Other Specified Diseases Complicating Pregnancy',\n",
    "                   'O961': 'O961: Indirect Obstetric Cause, 42d-365d post-delivery',\n",
    "                   'O266': 'O266: Liver Disorder',\n",
    "                   'O994': 'O994: Diseases of the Circulatory System',\n",
    "                   'I219': 'I219: Acute myocardial infarction, unspecified',\n",
    "                   'I269': 'I269: Pulmonary Embolism',\n",
    "                   'O100': 'O100: Pre-existing Hypertension',\n",
    "                   'O882': 'O882: Obstetric blood-clot embolism',\n",
    "                   'T509': 'T509: Unspecified Drugs',\n",
    "                   'O993': 'O993: Diseases of the Nervous System / Mental Disorders',\n",
    "                   'O988': 'O988: Infection / Parasitic Disease, Other'}"
   ]
  },
  {
   "cell_type": "code",
   "execution_count": 535,
   "id": "a80e0a04",
   "metadata": {},
   "outputs": [],
   "source": [
    "san.replace(to_replace=causes_all_dict, inplace=True)"
   ]
  },
  {
   "cell_type": "code",
   "execution_count": 536,
   "id": "58d6eefe",
   "metadata": {},
   "outputs": [
    {
     "data": {
      "text/html": [
       "<div>\n",
       "<style scoped>\n",
       "    .dataframe tbody tr th:only-of-type {\n",
       "        vertical-align: middle;\n",
       "    }\n",
       "\n",
       "    .dataframe tbody tr th {\n",
       "        vertical-align: top;\n",
       "    }\n",
       "\n",
       "    .dataframe thead th {\n",
       "        text-align: right;\n",
       "    }\n",
       "</style>\n",
       "<table border=\"1\" class=\"dataframe\">\n",
       "  <thead>\n",
       "    <tr style=\"text-align: right;\">\n",
       "      <th></th>\n",
       "      <th>source</th>\n",
       "      <th>target</th>\n",
       "      <th>value</th>\n",
       "    </tr>\n",
       "  </thead>\n",
       "  <tbody>\n",
       "    <tr>\n",
       "      <th>0</th>\n",
       "      <td>O268: Other Specified Pregnancy-Related Condit...</td>\n",
       "      <td>No Secondary Cause Reported</td>\n",
       "      <td>0.648949</td>\n",
       "    </tr>\n",
       "    <tr>\n",
       "      <th>1</th>\n",
       "      <td>O268: Other Specified Pregnancy-Related Condit...</td>\n",
       "      <td>O266: Liver Disorder</td>\n",
       "      <td>0.019860</td>\n",
       "    </tr>\n",
       "    <tr>\n",
       "      <th>2</th>\n",
       "      <td>O268: Other Specified Pregnancy-Related Condit...</td>\n",
       "      <td>O100: Pre-existing Hypertension</td>\n",
       "      <td>0.017523</td>\n",
       "    </tr>\n",
       "    <tr>\n",
       "      <th>3</th>\n",
       "      <td>O268: Other Specified Pregnancy-Related Condit...</td>\n",
       "      <td>O882: Obstetric blood-clot embolism</td>\n",
       "      <td>0.016355</td>\n",
       "    </tr>\n",
       "    <tr>\n",
       "      <th>4</th>\n",
       "      <td>O268: Other Specified Pregnancy-Related Condit...</td>\n",
       "      <td>O881: Amniotic Fluid Embolism</td>\n",
       "      <td>0.016355</td>\n",
       "    </tr>\n",
       "    <tr>\n",
       "      <th>5</th>\n",
       "      <td>O998: Other Specified Diseases Complicating Pr...</td>\n",
       "      <td>No Secondary Cause Reported</td>\n",
       "      <td>0.556938</td>\n",
       "    </tr>\n",
       "    <tr>\n",
       "      <th>6</th>\n",
       "      <td>O998: Other Specified Diseases Complicating Pr...</td>\n",
       "      <td>O994: Diseases of the Circulatory System</td>\n",
       "      <td>0.140670</td>\n",
       "    </tr>\n",
       "    <tr>\n",
       "      <th>7</th>\n",
       "      <td>O998: Other Specified Diseases Complicating Pr...</td>\n",
       "      <td>O993: Diseases of the Nervous System / Mental ...</td>\n",
       "      <td>0.064115</td>\n",
       "    </tr>\n",
       "    <tr>\n",
       "      <th>8</th>\n",
       "      <td>O998: Other Specified Diseases Complicating Pr...</td>\n",
       "      <td>O988: Infection / Parasitic Disease, Other</td>\n",
       "      <td>0.056459</td>\n",
       "    </tr>\n",
       "    <tr>\n",
       "      <th>9</th>\n",
       "      <td>O998: Other Specified Diseases Complicating Pr...</td>\n",
       "      <td>O995: Diseases of the Respiratory System</td>\n",
       "      <td>0.037321</td>\n",
       "    </tr>\n",
       "    <tr>\n",
       "      <th>10</th>\n",
       "      <td>O961: Indirect Obstetric Cause, 42d-365d post-...</td>\n",
       "      <td>No Secondary Cause Reported</td>\n",
       "      <td>0.769397</td>\n",
       "    </tr>\n",
       "    <tr>\n",
       "      <th>11</th>\n",
       "      <td>O961: Indirect Obstetric Cause, 42d-365d post-...</td>\n",
       "      <td>R99: Illness or Undefined Cause of Mortality</td>\n",
       "      <td>0.010776</td>\n",
       "    </tr>\n",
       "    <tr>\n",
       "      <th>12</th>\n",
       "      <td>O961: Indirect Obstetric Cause, 42d-365d post-...</td>\n",
       "      <td>O268: Other Specified Pregnancy-Related Condit...</td>\n",
       "      <td>0.009698</td>\n",
       "    </tr>\n",
       "    <tr>\n",
       "      <th>13</th>\n",
       "      <td>O961: Indirect Obstetric Cause, 42d-365d post-...</td>\n",
       "      <td>T509: Unspecified Drugs</td>\n",
       "      <td>0.006466</td>\n",
       "    </tr>\n",
       "    <tr>\n",
       "      <th>14</th>\n",
       "      <td>O961: Indirect Obstetric Cause, 42d-365d post-...</td>\n",
       "      <td>I219: Acute myocardial infarction, unspecified</td>\n",
       "      <td>0.005388</td>\n",
       "    </tr>\n",
       "    <tr>\n",
       "      <th>15</th>\n",
       "      <td>O960: Direct Obstetric Cause, 42d-365d post-de...</td>\n",
       "      <td>No Secondary Cause Reported</td>\n",
       "      <td>0.694408</td>\n",
       "    </tr>\n",
       "    <tr>\n",
       "      <th>16</th>\n",
       "      <td>O960: Direct Obstetric Cause, 42d-365d post-de...</td>\n",
       "      <td>O961: Indirect Obstetric Cause, 42d-365d post-...</td>\n",
       "      <td>0.115735</td>\n",
       "    </tr>\n",
       "    <tr>\n",
       "      <th>17</th>\n",
       "      <td>O960: Direct Obstetric Cause, 42d-365d post-de...</td>\n",
       "      <td>R99: Illness or Undefined Cause of Mortality</td>\n",
       "      <td>0.016905</td>\n",
       "    </tr>\n",
       "    <tr>\n",
       "      <th>18</th>\n",
       "      <td>O960: Direct Obstetric Cause, 42d-365d post-de...</td>\n",
       "      <td>C509: Breast Neoplasm, Unspecified</td>\n",
       "      <td>0.007802</td>\n",
       "    </tr>\n",
       "    <tr>\n",
       "      <th>19</th>\n",
       "      <td>O960: Direct Obstetric Cause, 42d-365d post-de...</td>\n",
       "      <td>I269: Pulmonary Embolism</td>\n",
       "      <td>0.006502</td>\n",
       "    </tr>\n",
       "    <tr>\n",
       "      <th>20</th>\n",
       "      <td>O994: Diseases of the Circulatory System</td>\n",
       "      <td>No Secondary Cause Reported</td>\n",
       "      <td>0.840604</td>\n",
       "    </tr>\n",
       "    <tr>\n",
       "      <th>21</th>\n",
       "      <td>O994: Diseases of the Circulatory System</td>\n",
       "      <td>R99: Illness or Undefined Cause of Mortality</td>\n",
       "      <td>0.023490</td>\n",
       "    </tr>\n",
       "    <tr>\n",
       "      <th>22</th>\n",
       "      <td>O994: Diseases of the Circulatory System</td>\n",
       "      <td>O998: Other Specified Diseases Complicating Pr...</td>\n",
       "      <td>0.013423</td>\n",
       "    </tr>\n",
       "    <tr>\n",
       "      <th>23</th>\n",
       "      <td>O994: Diseases of the Circulatory System</td>\n",
       "      <td>O988: Infection / Parasitic Disease, Other</td>\n",
       "      <td>0.010067</td>\n",
       "    </tr>\n",
       "    <tr>\n",
       "      <th>24</th>\n",
       "      <td>O994: Diseases of the Circulatory System</td>\n",
       "      <td>I499: Cardiac Arrhythmia, Unspecified</td>\n",
       "      <td>0.006711</td>\n",
       "    </tr>\n",
       "  </tbody>\n",
       "</table>\n",
       "</div>"
      ],
      "text/plain": [
       "                                               source  \\\n",
       "0   O268: Other Specified Pregnancy-Related Condit...   \n",
       "1   O268: Other Specified Pregnancy-Related Condit...   \n",
       "2   O268: Other Specified Pregnancy-Related Condit...   \n",
       "3   O268: Other Specified Pregnancy-Related Condit...   \n",
       "4   O268: Other Specified Pregnancy-Related Condit...   \n",
       "5   O998: Other Specified Diseases Complicating Pr...   \n",
       "6   O998: Other Specified Diseases Complicating Pr...   \n",
       "7   O998: Other Specified Diseases Complicating Pr...   \n",
       "8   O998: Other Specified Diseases Complicating Pr...   \n",
       "9   O998: Other Specified Diseases Complicating Pr...   \n",
       "10  O961: Indirect Obstetric Cause, 42d-365d post-...   \n",
       "11  O961: Indirect Obstetric Cause, 42d-365d post-...   \n",
       "12  O961: Indirect Obstetric Cause, 42d-365d post-...   \n",
       "13  O961: Indirect Obstetric Cause, 42d-365d post-...   \n",
       "14  O961: Indirect Obstetric Cause, 42d-365d post-...   \n",
       "15  O960: Direct Obstetric Cause, 42d-365d post-de...   \n",
       "16  O960: Direct Obstetric Cause, 42d-365d post-de...   \n",
       "17  O960: Direct Obstetric Cause, 42d-365d post-de...   \n",
       "18  O960: Direct Obstetric Cause, 42d-365d post-de...   \n",
       "19  O960: Direct Obstetric Cause, 42d-365d post-de...   \n",
       "20           O994: Diseases of the Circulatory System   \n",
       "21           O994: Diseases of the Circulatory System   \n",
       "22           O994: Diseases of the Circulatory System   \n",
       "23           O994: Diseases of the Circulatory System   \n",
       "24           O994: Diseases of the Circulatory System   \n",
       "\n",
       "                                               target     value  \n",
       "0                         No Secondary Cause Reported  0.648949  \n",
       "1                                O266: Liver Disorder  0.019860  \n",
       "2                     O100: Pre-existing Hypertension  0.017523  \n",
       "3                 O882: Obstetric blood-clot embolism  0.016355  \n",
       "4                       O881: Amniotic Fluid Embolism  0.016355  \n",
       "5                         No Secondary Cause Reported  0.556938  \n",
       "6            O994: Diseases of the Circulatory System  0.140670  \n",
       "7   O993: Diseases of the Nervous System / Mental ...  0.064115  \n",
       "8          O988: Infection / Parasitic Disease, Other  0.056459  \n",
       "9            O995: Diseases of the Respiratory System  0.037321  \n",
       "10                        No Secondary Cause Reported  0.769397  \n",
       "11       R99: Illness or Undefined Cause of Mortality  0.010776  \n",
       "12  O268: Other Specified Pregnancy-Related Condit...  0.009698  \n",
       "13                            T509: Unspecified Drugs  0.006466  \n",
       "14     I219: Acute myocardial infarction, unspecified  0.005388  \n",
       "15                        No Secondary Cause Reported  0.694408  \n",
       "16  O961: Indirect Obstetric Cause, 42d-365d post-...  0.115735  \n",
       "17       R99: Illness or Undefined Cause of Mortality  0.016905  \n",
       "18                 C509: Breast Neoplasm, Unspecified  0.007802  \n",
       "19                           I269: Pulmonary Embolism  0.006502  \n",
       "20                        No Secondary Cause Reported  0.840604  \n",
       "21       R99: Illness or Undefined Cause of Mortality  0.023490  \n",
       "22  O998: Other Specified Diseases Complicating Pr...  0.013423  \n",
       "23         O988: Infection / Parasitic Disease, Other  0.010067  \n",
       "24              I499: Cardiac Arrhythmia, Unspecified  0.006711  "
      ]
     },
     "execution_count": 536,
     "metadata": {},
     "output_type": "execute_result"
    }
   ],
   "source": [
    "san"
   ]
  },
  {
   "cell_type": "code",
   "execution_count": 537,
   "id": "d20bfe93",
   "metadata": {},
   "outputs": [
    {
     "data": {
      "text/plain": [
       "{0: 'O960: Direct Obstetric Cause, 42d-365d post-delivery',\n",
       " 1: 'O994: Diseases of the Circulatory System',\n",
       " 2: 'O961: Indirect Obstetric Cause, 42d-365d post-delivery',\n",
       " 3: 'O998: Other Specified Diseases Complicating Pregnancy',\n",
       " 4: 'O268: Other Specified Pregnancy-Related Conditions'}"
      ]
     },
     "execution_count": 537,
     "metadata": {},
     "output_type": "execute_result"
    }
   ],
   "source": [
    "source_set = set([x for x in san.source])\n",
    "source_list = list(source_set)\n",
    "source_map = dict(zip(source_list,range(len(source_list))))\n",
    "source_map = {v: k for k, v in source_map.items()}\n",
    "source_map"
   ]
  },
  {
   "cell_type": "code",
   "execution_count": 538,
   "id": "2a4d7c98",
   "metadata": {},
   "outputs": [
    {
     "data": {
      "text/plain": [
       "{5: 'O882: Obstetric blood-clot embolism',\n",
       " 6: 'O993: Diseases of the Nervous System / Mental Disorders',\n",
       " 7: 'O100: Pre-existing Hypertension',\n",
       " 8: 'O995: Diseases of the Respiratory System',\n",
       " 9: 'O266: Liver Disorder',\n",
       " 10: 'T509: Unspecified Drugs',\n",
       " 11: 'R99: Illness or Undefined Cause of Mortality',\n",
       " 12: 'O994: Diseases of the Circulatory System',\n",
       " 13: 'No Secondary Cause Reported',\n",
       " 14: 'O961: Indirect Obstetric Cause, 42d-365d post-delivery',\n",
       " 15: 'C509: Breast Neoplasm, Unspecified',\n",
       " 16: 'O998: Other Specified Diseases Complicating Pregnancy',\n",
       " 17: 'O268: Other Specified Pregnancy-Related Conditions',\n",
       " 18: 'I499: Cardiac Arrhythmia, Unspecified',\n",
       " 19: 'I219: Acute myocardial infarction, unspecified',\n",
       " 20: 'O881: Amniotic Fluid Embolism',\n",
       " 21: 'O988: Infection / Parasitic Disease, Other',\n",
       " 22: 'I269: Pulmonary Embolism'}"
      ]
     },
     "execution_count": 538,
     "metadata": {},
     "output_type": "execute_result"
    }
   ],
   "source": [
    "target_set = set([x for x in san.target])\n",
    "target_list = list(target_set)\n",
    "target_map = dict(zip(target_list,range(5, 5+len(target_list))))\n",
    "target_map = {v: k for k, v in target_map.items()}\n",
    "\n",
    "target_map"
   ]
  },
  {
   "cell_type": "code",
   "execution_count": 539,
   "id": "55fbe33c",
   "metadata": {},
   "outputs": [],
   "source": [
    "nodes_list = source_list + target_list\n",
    "nodes_map = {**source_map, **target_map}"
   ]
  },
  {
   "cell_type": "code",
   "execution_count": 540,
   "id": "0108a228",
   "metadata": {},
   "outputs": [
    {
     "data": {
      "text/plain": [
       "{0: 'O960: Direct Obstetric Cause, 42d-365d post-delivery',\n",
       " 1: 'O994: Diseases of the Circulatory System',\n",
       " 2: 'O961: Indirect Obstetric Cause, 42d-365d post-delivery',\n",
       " 3: 'O998: Other Specified Diseases Complicating Pregnancy',\n",
       " 4: 'O268: Other Specified Pregnancy-Related Conditions',\n",
       " 5: 'O882: Obstetric blood-clot embolism',\n",
       " 6: 'O993: Diseases of the Nervous System / Mental Disorders',\n",
       " 7: 'O100: Pre-existing Hypertension',\n",
       " 8: 'O995: Diseases of the Respiratory System',\n",
       " 9: 'O266: Liver Disorder',\n",
       " 10: 'T509: Unspecified Drugs',\n",
       " 11: 'R99: Illness or Undefined Cause of Mortality',\n",
       " 12: 'O994: Diseases of the Circulatory System',\n",
       " 13: 'No Secondary Cause Reported',\n",
       " 14: 'O961: Indirect Obstetric Cause, 42d-365d post-delivery',\n",
       " 15: 'C509: Breast Neoplasm, Unspecified',\n",
       " 16: 'O998: Other Specified Diseases Complicating Pregnancy',\n",
       " 17: 'O268: Other Specified Pregnancy-Related Conditions',\n",
       " 18: 'I499: Cardiac Arrhythmia, Unspecified',\n",
       " 19: 'I219: Acute myocardial infarction, unspecified',\n",
       " 20: 'O881: Amniotic Fluid Embolism',\n",
       " 21: 'O988: Infection / Parasitic Disease, Other',\n",
       " 22: 'I269: Pulmonary Embolism'}"
      ]
     },
     "execution_count": 540,
     "metadata": {},
     "output_type": "execute_result"
    }
   ],
   "source": [
    "nodes_map"
   ]
  },
  {
   "cell_type": "code",
   "execution_count": 541,
   "id": "830b9d0f",
   "metadata": {},
   "outputs": [],
   "source": [
    "san_coded = san.copy()"
   ]
  },
  {
   "cell_type": "code",
   "execution_count": 542,
   "id": "c8c20a19-b186-4bd0-a284-86b980d6422a",
   "metadata": {},
   "outputs": [],
   "source": [
    "san_coded.source = san_coded.source.replace(to_replace={v: k for k, v in source_map.items()})"
   ]
  },
  {
   "cell_type": "code",
   "execution_count": 543,
   "id": "ba86f9ee",
   "metadata": {},
   "outputs": [],
   "source": [
    "san_coded.target = san_coded.target.replace(to_replace={v: k for k, v in target_map.items()})"
   ]
  },
  {
   "cell_type": "code",
   "execution_count": 544,
   "id": "daacfbb5",
   "metadata": {},
   "outputs": [
    {
     "data": {
      "text/html": [
       "<div>\n",
       "<style scoped>\n",
       "    .dataframe tbody tr th:only-of-type {\n",
       "        vertical-align: middle;\n",
       "    }\n",
       "\n",
       "    .dataframe tbody tr th {\n",
       "        vertical-align: top;\n",
       "    }\n",
       "\n",
       "    .dataframe thead th {\n",
       "        text-align: right;\n",
       "    }\n",
       "</style>\n",
       "<table border=\"1\" class=\"dataframe\">\n",
       "  <thead>\n",
       "    <tr style=\"text-align: right;\">\n",
       "      <th></th>\n",
       "      <th>source</th>\n",
       "      <th>target</th>\n",
       "      <th>value</th>\n",
       "    </tr>\n",
       "  </thead>\n",
       "  <tbody>\n",
       "    <tr>\n",
       "      <th>0</th>\n",
       "      <td>4</td>\n",
       "      <td>13</td>\n",
       "      <td>0.648949</td>\n",
       "    </tr>\n",
       "    <tr>\n",
       "      <th>1</th>\n",
       "      <td>4</td>\n",
       "      <td>9</td>\n",
       "      <td>0.019860</td>\n",
       "    </tr>\n",
       "    <tr>\n",
       "      <th>2</th>\n",
       "      <td>4</td>\n",
       "      <td>7</td>\n",
       "      <td>0.017523</td>\n",
       "    </tr>\n",
       "    <tr>\n",
       "      <th>3</th>\n",
       "      <td>4</td>\n",
       "      <td>5</td>\n",
       "      <td>0.016355</td>\n",
       "    </tr>\n",
       "    <tr>\n",
       "      <th>4</th>\n",
       "      <td>4</td>\n",
       "      <td>20</td>\n",
       "      <td>0.016355</td>\n",
       "    </tr>\n",
       "    <tr>\n",
       "      <th>5</th>\n",
       "      <td>3</td>\n",
       "      <td>13</td>\n",
       "      <td>0.556938</td>\n",
       "    </tr>\n",
       "    <tr>\n",
       "      <th>6</th>\n",
       "      <td>3</td>\n",
       "      <td>12</td>\n",
       "      <td>0.140670</td>\n",
       "    </tr>\n",
       "    <tr>\n",
       "      <th>7</th>\n",
       "      <td>3</td>\n",
       "      <td>6</td>\n",
       "      <td>0.064115</td>\n",
       "    </tr>\n",
       "    <tr>\n",
       "      <th>8</th>\n",
       "      <td>3</td>\n",
       "      <td>21</td>\n",
       "      <td>0.056459</td>\n",
       "    </tr>\n",
       "    <tr>\n",
       "      <th>9</th>\n",
       "      <td>3</td>\n",
       "      <td>8</td>\n",
       "      <td>0.037321</td>\n",
       "    </tr>\n",
       "    <tr>\n",
       "      <th>10</th>\n",
       "      <td>2</td>\n",
       "      <td>13</td>\n",
       "      <td>0.769397</td>\n",
       "    </tr>\n",
       "    <tr>\n",
       "      <th>11</th>\n",
       "      <td>2</td>\n",
       "      <td>11</td>\n",
       "      <td>0.010776</td>\n",
       "    </tr>\n",
       "    <tr>\n",
       "      <th>12</th>\n",
       "      <td>2</td>\n",
       "      <td>17</td>\n",
       "      <td>0.009698</td>\n",
       "    </tr>\n",
       "    <tr>\n",
       "      <th>13</th>\n",
       "      <td>2</td>\n",
       "      <td>10</td>\n",
       "      <td>0.006466</td>\n",
       "    </tr>\n",
       "    <tr>\n",
       "      <th>14</th>\n",
       "      <td>2</td>\n",
       "      <td>19</td>\n",
       "      <td>0.005388</td>\n",
       "    </tr>\n",
       "    <tr>\n",
       "      <th>15</th>\n",
       "      <td>0</td>\n",
       "      <td>13</td>\n",
       "      <td>0.694408</td>\n",
       "    </tr>\n",
       "    <tr>\n",
       "      <th>16</th>\n",
       "      <td>0</td>\n",
       "      <td>14</td>\n",
       "      <td>0.115735</td>\n",
       "    </tr>\n",
       "    <tr>\n",
       "      <th>17</th>\n",
       "      <td>0</td>\n",
       "      <td>11</td>\n",
       "      <td>0.016905</td>\n",
       "    </tr>\n",
       "    <tr>\n",
       "      <th>18</th>\n",
       "      <td>0</td>\n",
       "      <td>15</td>\n",
       "      <td>0.007802</td>\n",
       "    </tr>\n",
       "    <tr>\n",
       "      <th>19</th>\n",
       "      <td>0</td>\n",
       "      <td>22</td>\n",
       "      <td>0.006502</td>\n",
       "    </tr>\n",
       "    <tr>\n",
       "      <th>20</th>\n",
       "      <td>1</td>\n",
       "      <td>13</td>\n",
       "      <td>0.840604</td>\n",
       "    </tr>\n",
       "    <tr>\n",
       "      <th>21</th>\n",
       "      <td>1</td>\n",
       "      <td>11</td>\n",
       "      <td>0.023490</td>\n",
       "    </tr>\n",
       "    <tr>\n",
       "      <th>22</th>\n",
       "      <td>1</td>\n",
       "      <td>16</td>\n",
       "      <td>0.013423</td>\n",
       "    </tr>\n",
       "    <tr>\n",
       "      <th>23</th>\n",
       "      <td>1</td>\n",
       "      <td>21</td>\n",
       "      <td>0.010067</td>\n",
       "    </tr>\n",
       "    <tr>\n",
       "      <th>24</th>\n",
       "      <td>1</td>\n",
       "      <td>18</td>\n",
       "      <td>0.006711</td>\n",
       "    </tr>\n",
       "  </tbody>\n",
       "</table>\n",
       "</div>"
      ],
      "text/plain": [
       "    source  target     value\n",
       "0        4      13  0.648949\n",
       "1        4       9  0.019860\n",
       "2        4       7  0.017523\n",
       "3        4       5  0.016355\n",
       "4        4      20  0.016355\n",
       "5        3      13  0.556938\n",
       "6        3      12  0.140670\n",
       "7        3       6  0.064115\n",
       "8        3      21  0.056459\n",
       "9        3       8  0.037321\n",
       "10       2      13  0.769397\n",
       "11       2      11  0.010776\n",
       "12       2      17  0.009698\n",
       "13       2      10  0.006466\n",
       "14       2      19  0.005388\n",
       "15       0      13  0.694408\n",
       "16       0      14  0.115735\n",
       "17       0      11  0.016905\n",
       "18       0      15  0.007802\n",
       "19       0      22  0.006502\n",
       "20       1      13  0.840604\n",
       "21       1      11  0.023490\n",
       "22       1      16  0.013423\n",
       "23       1      21  0.010067\n",
       "24       1      18  0.006711"
      ]
     },
     "execution_count": 544,
     "metadata": {},
     "output_type": "execute_result"
    }
   ],
   "source": [
    "san_coded"
   ]
  },
  {
   "cell_type": "code",
   "execution_count": 545,
   "id": "05ef7b77",
   "metadata": {},
   "outputs": [
    {
     "data": {
      "text/plain": [
       "['#F0F8FF',\n",
       " '#FAEBD7',\n",
       " '#00FFFF',\n",
       " '#7FFFD4',\n",
       " '#F0FFFF',\n",
       " '#F5F5DC',\n",
       " '#FFE4C4',\n",
       " '#000000',\n",
       " '#FFEBCD',\n",
       " '#0000FF',\n",
       " '#8A2BE2',\n",
       " '#A52A2A',\n",
       " '#DEB887',\n",
       " '#5F9EA0',\n",
       " '#7FFF00',\n",
       " '#D2691E',\n",
       " '#FF7F50',\n",
       " '#6495ED',\n",
       " '#FFF8DC',\n",
       " '#DC143C',\n",
       " '#00FFFF',\n",
       " '#00008B',\n",
       " '#008B8B',\n",
       " '#B8860B',\n",
       " '#A9A9A9',\n",
       " '#006400',\n",
       " '#A9A9A9',\n",
       " '#BDB76B',\n",
       " '#8B008B',\n",
       " '#556B2F',\n",
       " '#FF8C00',\n",
       " '#9932CC',\n",
       " '#8B0000',\n",
       " '#E9967A',\n",
       " '#8FBC8F',\n",
       " '#483D8B',\n",
       " '#2F4F4F',\n",
       " '#2F4F4F',\n",
       " '#00CED1',\n",
       " '#9400D3',\n",
       " '#FF1493',\n",
       " '#00BFFF',\n",
       " '#696969',\n",
       " '#696969',\n",
       " '#1E90FF',\n",
       " '#B22222',\n",
       " '#FFFAF0',\n",
       " '#228B22',\n",
       " '#FF00FF',\n",
       " '#DCDCDC',\n",
       " '#F8F8FF',\n",
       " '#FFD700',\n",
       " '#DAA520',\n",
       " '#808080',\n",
       " '#008000',\n",
       " '#ADFF2F',\n",
       " '#808080',\n",
       " '#F0FFF0',\n",
       " '#FF69B4',\n",
       " '#CD5C5C',\n",
       " '#4B0082',\n",
       " '#FFFFF0',\n",
       " '#F0E68C',\n",
       " '#E6E6FA',\n",
       " '#FFF0F5',\n",
       " '#7CFC00',\n",
       " '#FFFACD',\n",
       " '#ADD8E6',\n",
       " '#F08080',\n",
       " '#E0FFFF',\n",
       " '#FAFAD2',\n",
       " '#D3D3D3',\n",
       " '#90EE90',\n",
       " '#D3D3D3',\n",
       " '#FFB6C1',\n",
       " '#FFA07A',\n",
       " '#20B2AA',\n",
       " '#87CEFA',\n",
       " '#778899',\n",
       " '#778899',\n",
       " '#B0C4DE',\n",
       " '#FFFFE0',\n",
       " '#00FF00',\n",
       " '#32CD32',\n",
       " '#FAF0E6',\n",
       " '#FF00FF',\n",
       " '#800000',\n",
       " '#66CDAA',\n",
       " '#0000CD',\n",
       " '#BA55D3',\n",
       " '#9370DB',\n",
       " '#3CB371',\n",
       " '#7B68EE',\n",
       " '#00FA9A',\n",
       " '#48D1CC',\n",
       " '#C71585',\n",
       " '#191970',\n",
       " '#F5FFFA',\n",
       " '#FFE4E1',\n",
       " '#FFE4B5',\n",
       " '#FFDEAD',\n",
       " '#000080',\n",
       " '#FDF5E6',\n",
       " '#808000',\n",
       " '#6B8E23',\n",
       " '#FFA500',\n",
       " '#FF4500',\n",
       " '#DA70D6',\n",
       " '#EEE8AA',\n",
       " '#98FB98',\n",
       " '#AFEEEE',\n",
       " '#DB7093',\n",
       " '#FFEFD5',\n",
       " '#FFDAB9',\n",
       " '#CD853F',\n",
       " '#FFC0CB',\n",
       " '#DDA0DD',\n",
       " '#B0E0E6',\n",
       " '#800080',\n",
       " '#663399',\n",
       " '#FF0000',\n",
       " '#BC8F8F',\n",
       " '#4169E1',\n",
       " '#8B4513',\n",
       " '#FA8072',\n",
       " '#F4A460',\n",
       " '#2E8B57',\n",
       " '#FFF5EE',\n",
       " '#A0522D',\n",
       " '#C0C0C0',\n",
       " '#87CEEB',\n",
       " '#6A5ACD',\n",
       " '#708090',\n",
       " '#708090',\n",
       " '#FFFAFA',\n",
       " '#00FF7F',\n",
       " '#4682B4',\n",
       " '#D2B48C',\n",
       " '#008080',\n",
       " '#D8BFD8',\n",
       " '#FF6347',\n",
       " '#40E0D0',\n",
       " '#EE82EE',\n",
       " '#F5DEB3',\n",
       " '#FFFFFF',\n",
       " '#F5F5F5',\n",
       " '#FFFF00',\n",
       " '#9ACD32']"
      ]
     },
     "execution_count": 545,
     "metadata": {},
     "output_type": "execute_result"
    }
   ],
   "source": [
    "color_list = []\n",
    "for name, hex in matcolors.cnames.items():\n",
    "    color_list.append(hex)\n",
    "color_list"
   ]
  },
  {
   "cell_type": "code",
   "execution_count": 546,
   "id": "9cb36d9d",
   "metadata": {},
   "outputs": [],
   "source": [
    "nodes = pd.DataFrame(columns=['ID', 'Label', 'Color'])"
   ]
  },
  {
   "cell_type": "code",
   "execution_count": 547,
   "id": "7abc918f",
   "metadata": {},
   "outputs": [],
   "source": [
    "nodes['ID'] = [k for k, v in nodes_map.items()]\n",
    "nodes['Label'] = [v for k, v in nodes_map.items()]\n",
    "nodes['Color'] = color_list[:23]"
   ]
  },
  {
   "cell_type": "code",
   "execution_count": 548,
   "id": "5006eb3b",
   "metadata": {},
   "outputs": [
    {
     "data": {
      "text/html": [
       "<div>\n",
       "<style scoped>\n",
       "    .dataframe tbody tr th:only-of-type {\n",
       "        vertical-align: middle;\n",
       "    }\n",
       "\n",
       "    .dataframe tbody tr th {\n",
       "        vertical-align: top;\n",
       "    }\n",
       "\n",
       "    .dataframe thead th {\n",
       "        text-align: right;\n",
       "    }\n",
       "</style>\n",
       "<table border=\"1\" class=\"dataframe\">\n",
       "  <thead>\n",
       "    <tr style=\"text-align: right;\">\n",
       "      <th></th>\n",
       "      <th>ID</th>\n",
       "      <th>Label</th>\n",
       "      <th>Color</th>\n",
       "    </tr>\n",
       "  </thead>\n",
       "  <tbody>\n",
       "    <tr>\n",
       "      <th>0</th>\n",
       "      <td>0</td>\n",
       "      <td>O960: Direct Obstetric Cause, 42d-365d post-de...</td>\n",
       "      <td>#F0F8FF</td>\n",
       "    </tr>\n",
       "    <tr>\n",
       "      <th>1</th>\n",
       "      <td>1</td>\n",
       "      <td>O994: Diseases of the Circulatory System</td>\n",
       "      <td>#FAEBD7</td>\n",
       "    </tr>\n",
       "    <tr>\n",
       "      <th>2</th>\n",
       "      <td>2</td>\n",
       "      <td>O961: Indirect Obstetric Cause, 42d-365d post-...</td>\n",
       "      <td>#00FFFF</td>\n",
       "    </tr>\n",
       "    <tr>\n",
       "      <th>3</th>\n",
       "      <td>3</td>\n",
       "      <td>O998: Other Specified Diseases Complicating Pr...</td>\n",
       "      <td>#7FFFD4</td>\n",
       "    </tr>\n",
       "    <tr>\n",
       "      <th>4</th>\n",
       "      <td>4</td>\n",
       "      <td>O268: Other Specified Pregnancy-Related Condit...</td>\n",
       "      <td>#F0FFFF</td>\n",
       "    </tr>\n",
       "    <tr>\n",
       "      <th>5</th>\n",
       "      <td>5</td>\n",
       "      <td>O882: Obstetric blood-clot embolism</td>\n",
       "      <td>#F5F5DC</td>\n",
       "    </tr>\n",
       "    <tr>\n",
       "      <th>6</th>\n",
       "      <td>6</td>\n",
       "      <td>O993: Diseases of the Nervous System / Mental ...</td>\n",
       "      <td>#FFE4C4</td>\n",
       "    </tr>\n",
       "    <tr>\n",
       "      <th>7</th>\n",
       "      <td>7</td>\n",
       "      <td>O100: Pre-existing Hypertension</td>\n",
       "      <td>#000000</td>\n",
       "    </tr>\n",
       "    <tr>\n",
       "      <th>8</th>\n",
       "      <td>8</td>\n",
       "      <td>O995: Diseases of the Respiratory System</td>\n",
       "      <td>#FFEBCD</td>\n",
       "    </tr>\n",
       "    <tr>\n",
       "      <th>9</th>\n",
       "      <td>9</td>\n",
       "      <td>O266: Liver Disorder</td>\n",
       "      <td>#0000FF</td>\n",
       "    </tr>\n",
       "    <tr>\n",
       "      <th>10</th>\n",
       "      <td>10</td>\n",
       "      <td>T509: Unspecified Drugs</td>\n",
       "      <td>#8A2BE2</td>\n",
       "    </tr>\n",
       "    <tr>\n",
       "      <th>11</th>\n",
       "      <td>11</td>\n",
       "      <td>R99: Illness or Undefined Cause of Mortality</td>\n",
       "      <td>#A52A2A</td>\n",
       "    </tr>\n",
       "    <tr>\n",
       "      <th>12</th>\n",
       "      <td>12</td>\n",
       "      <td>O994: Diseases of the Circulatory System</td>\n",
       "      <td>#DEB887</td>\n",
       "    </tr>\n",
       "    <tr>\n",
       "      <th>13</th>\n",
       "      <td>13</td>\n",
       "      <td>No Secondary Cause Reported</td>\n",
       "      <td>#5F9EA0</td>\n",
       "    </tr>\n",
       "    <tr>\n",
       "      <th>14</th>\n",
       "      <td>14</td>\n",
       "      <td>O961: Indirect Obstetric Cause, 42d-365d post-...</td>\n",
       "      <td>#7FFF00</td>\n",
       "    </tr>\n",
       "    <tr>\n",
       "      <th>15</th>\n",
       "      <td>15</td>\n",
       "      <td>C509: Breast Neoplasm, Unspecified</td>\n",
       "      <td>#D2691E</td>\n",
       "    </tr>\n",
       "    <tr>\n",
       "      <th>16</th>\n",
       "      <td>16</td>\n",
       "      <td>O998: Other Specified Diseases Complicating Pr...</td>\n",
       "      <td>#FF7F50</td>\n",
       "    </tr>\n",
       "    <tr>\n",
       "      <th>17</th>\n",
       "      <td>17</td>\n",
       "      <td>O268: Other Specified Pregnancy-Related Condit...</td>\n",
       "      <td>#6495ED</td>\n",
       "    </tr>\n",
       "    <tr>\n",
       "      <th>18</th>\n",
       "      <td>18</td>\n",
       "      <td>I499: Cardiac Arrhythmia, Unspecified</td>\n",
       "      <td>#FFF8DC</td>\n",
       "    </tr>\n",
       "    <tr>\n",
       "      <th>19</th>\n",
       "      <td>19</td>\n",
       "      <td>I219: Acute myocardial infarction, unspecified</td>\n",
       "      <td>#DC143C</td>\n",
       "    </tr>\n",
       "    <tr>\n",
       "      <th>20</th>\n",
       "      <td>20</td>\n",
       "      <td>O881: Amniotic Fluid Embolism</td>\n",
       "      <td>#00FFFF</td>\n",
       "    </tr>\n",
       "    <tr>\n",
       "      <th>21</th>\n",
       "      <td>21</td>\n",
       "      <td>O988: Infection / Parasitic Disease, Other</td>\n",
       "      <td>#00008B</td>\n",
       "    </tr>\n",
       "    <tr>\n",
       "      <th>22</th>\n",
       "      <td>22</td>\n",
       "      <td>I269: Pulmonary Embolism</td>\n",
       "      <td>#008B8B</td>\n",
       "    </tr>\n",
       "  </tbody>\n",
       "</table>\n",
       "</div>"
      ],
      "text/plain": [
       "    ID                                              Label    Color\n",
       "0    0  O960: Direct Obstetric Cause, 42d-365d post-de...  #F0F8FF\n",
       "1    1           O994: Diseases of the Circulatory System  #FAEBD7\n",
       "2    2  O961: Indirect Obstetric Cause, 42d-365d post-...  #00FFFF\n",
       "3    3  O998: Other Specified Diseases Complicating Pr...  #7FFFD4\n",
       "4    4  O268: Other Specified Pregnancy-Related Condit...  #F0FFFF\n",
       "5    5                O882: Obstetric blood-clot embolism  #F5F5DC\n",
       "6    6  O993: Diseases of the Nervous System / Mental ...  #FFE4C4\n",
       "7    7                    O100: Pre-existing Hypertension  #000000\n",
       "8    8           O995: Diseases of the Respiratory System  #FFEBCD\n",
       "9    9                               O266: Liver Disorder  #0000FF\n",
       "10  10                            T509: Unspecified Drugs  #8A2BE2\n",
       "11  11       R99: Illness or Undefined Cause of Mortality  #A52A2A\n",
       "12  12           O994: Diseases of the Circulatory System  #DEB887\n",
       "13  13                        No Secondary Cause Reported  #5F9EA0\n",
       "14  14  O961: Indirect Obstetric Cause, 42d-365d post-...  #7FFF00\n",
       "15  15                 C509: Breast Neoplasm, Unspecified  #D2691E\n",
       "16  16  O998: Other Specified Diseases Complicating Pr...  #FF7F50\n",
       "17  17  O268: Other Specified Pregnancy-Related Condit...  #6495ED\n",
       "18  18              I499: Cardiac Arrhythmia, Unspecified  #FFF8DC\n",
       "19  19     I219: Acute myocardial infarction, unspecified  #DC143C\n",
       "20  20                      O881: Amniotic Fluid Embolism  #00FFFF\n",
       "21  21         O988: Infection / Parasitic Disease, Other  #00008B\n",
       "22  22                           I269: Pulmonary Embolism  #008B8B"
      ]
     },
     "execution_count": 548,
     "metadata": {},
     "output_type": "execute_result"
    }
   ],
   "source": [
    "nodes"
   ]
  },
  {
   "cell_type": "code",
   "execution_count": 551,
   "id": "21a8a72c-d022-4008-b76e-b7739a0f8e5b",
   "metadata": {},
   "outputs": [
    {
     "data": {
      "application/vnd.plotly.v1+json": {
       "config": {
        "plotlyServerURL": "https://plot.ly"
       },
       "data": [
        {
         "link": {
          "source": [
           4,
           4,
           4,
           4,
           4,
           3,
           3,
           3,
           3,
           3,
           2,
           2,
           2,
           2,
           2,
           0,
           0,
           0,
           0,
           0,
           1,
           1,
           1,
           1,
           1
          ],
          "target": [
           13,
           9,
           7,
           5,
           20,
           13,
           12,
           6,
           21,
           8,
           13,
           11,
           17,
           10,
           19,
           13,
           14,
           11,
           15,
           22,
           13,
           11,
           16,
           21,
           18
          ],
          "value": [
           0.6489485981308412,
           0.01985981308411215,
           0.017523364485981307,
           0.016355140186915886,
           0.016355140186915886,
           0.5569377990430622,
           0.14066985645933014,
           0.06411483253588517,
           0.05645933014354067,
           0.03732057416267943,
           0.7693965517241379,
           0.010775862068965518,
           0.009698275862068966,
           0.00646551724137931,
           0.005387931034482759,
           0.694408322496749,
           0.11573472041612484,
           0.016905071521456438,
           0.007802340702210663,
           0.006501950585175552,
           0.8406040268456376,
           0.02348993288590604,
           0.013422818791946308,
           0.010067114093959731,
           0.006711409395973154
          ]
         },
         "node": {
          "label": [
           "O960: Direct Obstetric Cause, 42d-365d post-delivery",
           "O994: Diseases of the Circulatory System",
           "O961: Indirect Obstetric Cause, 42d-365d post-delivery",
           "O998: Other Specified Diseases Complicating Pregnancy",
           "O268: Other Specified Pregnancy-Related Conditions",
           "O882: Obstetric blood-clot embolism",
           "O993: Diseases of the Nervous System / Mental Disorders",
           "O100: Pre-existing Hypertension",
           "O995: Diseases of the Respiratory System",
           "O266: Liver Disorder",
           "T509: Unspecified Drugs",
           "R99: Illness or Undefined Cause of Mortality",
           "O994: Diseases of the Circulatory System",
           "No Secondary Cause Reported",
           "O961: Indirect Obstetric Cause, 42d-365d post-delivery",
           "C509: Breast Neoplasm, Unspecified",
           "O998: Other Specified Diseases Complicating Pregnancy",
           "O268: Other Specified Pregnancy-Related Conditions",
           "I499: Cardiac Arrhythmia, Unspecified",
           "I219: Acute myocardial infarction, unspecified",
           "O881: Amniotic Fluid Embolism",
           "O988: Infection / Parasitic Disease, Other",
           "I269: Pulmonary Embolism"
          ],
          "line": {
           "color": "black",
           "width": 0.5
          },
          "pad": 15,
          "thickness": 50
         },
         "type": "sankey",
         "valueformat": ".0f",
         "valuesuffix": "%"
        }
       ],
       "layout": {
        "font": {
         "size": 10
        },
        "height": 776,
        "template": {
         "data": {
          "bar": [
           {
            "error_x": {
             "color": "#2a3f5f"
            },
            "error_y": {
             "color": "#2a3f5f"
            },
            "marker": {
             "line": {
              "color": "#E5ECF6",
              "width": 0.5
             }
            },
            "type": "bar"
           }
          ],
          "barpolar": [
           {
            "marker": {
             "line": {
              "color": "#E5ECF6",
              "width": 0.5
             }
            },
            "type": "barpolar"
           }
          ],
          "carpet": [
           {
            "aaxis": {
             "endlinecolor": "#2a3f5f",
             "gridcolor": "white",
             "linecolor": "white",
             "minorgridcolor": "white",
             "startlinecolor": "#2a3f5f"
            },
            "baxis": {
             "endlinecolor": "#2a3f5f",
             "gridcolor": "white",
             "linecolor": "white",
             "minorgridcolor": "white",
             "startlinecolor": "#2a3f5f"
            },
            "type": "carpet"
           }
          ],
          "choropleth": [
           {
            "colorbar": {
             "outlinewidth": 0,
             "ticks": ""
            },
            "type": "choropleth"
           }
          ],
          "contour": [
           {
            "colorbar": {
             "outlinewidth": 0,
             "ticks": ""
            },
            "colorscale": [
             [
              0,
              "#0d0887"
             ],
             [
              0.1111111111111111,
              "#46039f"
             ],
             [
              0.2222222222222222,
              "#7201a8"
             ],
             [
              0.3333333333333333,
              "#9c179e"
             ],
             [
              0.4444444444444444,
              "#bd3786"
             ],
             [
              0.5555555555555556,
              "#d8576b"
             ],
             [
              0.6666666666666666,
              "#ed7953"
             ],
             [
              0.7777777777777778,
              "#fb9f3a"
             ],
             [
              0.8888888888888888,
              "#fdca26"
             ],
             [
              1,
              "#f0f921"
             ]
            ],
            "type": "contour"
           }
          ],
          "contourcarpet": [
           {
            "colorbar": {
             "outlinewidth": 0,
             "ticks": ""
            },
            "type": "contourcarpet"
           }
          ],
          "heatmap": [
           {
            "colorbar": {
             "outlinewidth": 0,
             "ticks": ""
            },
            "colorscale": [
             [
              0,
              "#0d0887"
             ],
             [
              0.1111111111111111,
              "#46039f"
             ],
             [
              0.2222222222222222,
              "#7201a8"
             ],
             [
              0.3333333333333333,
              "#9c179e"
             ],
             [
              0.4444444444444444,
              "#bd3786"
             ],
             [
              0.5555555555555556,
              "#d8576b"
             ],
             [
              0.6666666666666666,
              "#ed7953"
             ],
             [
              0.7777777777777778,
              "#fb9f3a"
             ],
             [
              0.8888888888888888,
              "#fdca26"
             ],
             [
              1,
              "#f0f921"
             ]
            ],
            "type": "heatmap"
           }
          ],
          "heatmapgl": [
           {
            "colorbar": {
             "outlinewidth": 0,
             "ticks": ""
            },
            "colorscale": [
             [
              0,
              "#0d0887"
             ],
             [
              0.1111111111111111,
              "#46039f"
             ],
             [
              0.2222222222222222,
              "#7201a8"
             ],
             [
              0.3333333333333333,
              "#9c179e"
             ],
             [
              0.4444444444444444,
              "#bd3786"
             ],
             [
              0.5555555555555556,
              "#d8576b"
             ],
             [
              0.6666666666666666,
              "#ed7953"
             ],
             [
              0.7777777777777778,
              "#fb9f3a"
             ],
             [
              0.8888888888888888,
              "#fdca26"
             ],
             [
              1,
              "#f0f921"
             ]
            ],
            "type": "heatmapgl"
           }
          ],
          "histogram": [
           {
            "marker": {
             "colorbar": {
              "outlinewidth": 0,
              "ticks": ""
             }
            },
            "type": "histogram"
           }
          ],
          "histogram2d": [
           {
            "colorbar": {
             "outlinewidth": 0,
             "ticks": ""
            },
            "colorscale": [
             [
              0,
              "#0d0887"
             ],
             [
              0.1111111111111111,
              "#46039f"
             ],
             [
              0.2222222222222222,
              "#7201a8"
             ],
             [
              0.3333333333333333,
              "#9c179e"
             ],
             [
              0.4444444444444444,
              "#bd3786"
             ],
             [
              0.5555555555555556,
              "#d8576b"
             ],
             [
              0.6666666666666666,
              "#ed7953"
             ],
             [
              0.7777777777777778,
              "#fb9f3a"
             ],
             [
              0.8888888888888888,
              "#fdca26"
             ],
             [
              1,
              "#f0f921"
             ]
            ],
            "type": "histogram2d"
           }
          ],
          "histogram2dcontour": [
           {
            "colorbar": {
             "outlinewidth": 0,
             "ticks": ""
            },
            "colorscale": [
             [
              0,
              "#0d0887"
             ],
             [
              0.1111111111111111,
              "#46039f"
             ],
             [
              0.2222222222222222,
              "#7201a8"
             ],
             [
              0.3333333333333333,
              "#9c179e"
             ],
             [
              0.4444444444444444,
              "#bd3786"
             ],
             [
              0.5555555555555556,
              "#d8576b"
             ],
             [
              0.6666666666666666,
              "#ed7953"
             ],
             [
              0.7777777777777778,
              "#fb9f3a"
             ],
             [
              0.8888888888888888,
              "#fdca26"
             ],
             [
              1,
              "#f0f921"
             ]
            ],
            "type": "histogram2dcontour"
           }
          ],
          "mesh3d": [
           {
            "colorbar": {
             "outlinewidth": 0,
             "ticks": ""
            },
            "type": "mesh3d"
           }
          ],
          "parcoords": [
           {
            "line": {
             "colorbar": {
              "outlinewidth": 0,
              "ticks": ""
             }
            },
            "type": "parcoords"
           }
          ],
          "pie": [
           {
            "automargin": true,
            "type": "pie"
           }
          ],
          "scatter": [
           {
            "marker": {
             "colorbar": {
              "outlinewidth": 0,
              "ticks": ""
             }
            },
            "type": "scatter"
           }
          ],
          "scatter3d": [
           {
            "line": {
             "colorbar": {
              "outlinewidth": 0,
              "ticks": ""
             }
            },
            "marker": {
             "colorbar": {
              "outlinewidth": 0,
              "ticks": ""
             }
            },
            "type": "scatter3d"
           }
          ],
          "scattercarpet": [
           {
            "marker": {
             "colorbar": {
              "outlinewidth": 0,
              "ticks": ""
             }
            },
            "type": "scattercarpet"
           }
          ],
          "scattergeo": [
           {
            "marker": {
             "colorbar": {
              "outlinewidth": 0,
              "ticks": ""
             }
            },
            "type": "scattergeo"
           }
          ],
          "scattergl": [
           {
            "marker": {
             "colorbar": {
              "outlinewidth": 0,
              "ticks": ""
             }
            },
            "type": "scattergl"
           }
          ],
          "scattermapbox": [
           {
            "marker": {
             "colorbar": {
              "outlinewidth": 0,
              "ticks": ""
             }
            },
            "type": "scattermapbox"
           }
          ],
          "scatterpolar": [
           {
            "marker": {
             "colorbar": {
              "outlinewidth": 0,
              "ticks": ""
             }
            },
            "type": "scatterpolar"
           }
          ],
          "scatterpolargl": [
           {
            "marker": {
             "colorbar": {
              "outlinewidth": 0,
              "ticks": ""
             }
            },
            "type": "scatterpolargl"
           }
          ],
          "scatterternary": [
           {
            "marker": {
             "colorbar": {
              "outlinewidth": 0,
              "ticks": ""
             }
            },
            "type": "scatterternary"
           }
          ],
          "surface": [
           {
            "colorbar": {
             "outlinewidth": 0,
             "ticks": ""
            },
            "colorscale": [
             [
              0,
              "#0d0887"
             ],
             [
              0.1111111111111111,
              "#46039f"
             ],
             [
              0.2222222222222222,
              "#7201a8"
             ],
             [
              0.3333333333333333,
              "#9c179e"
             ],
             [
              0.4444444444444444,
              "#bd3786"
             ],
             [
              0.5555555555555556,
              "#d8576b"
             ],
             [
              0.6666666666666666,
              "#ed7953"
             ],
             [
              0.7777777777777778,
              "#fb9f3a"
             ],
             [
              0.8888888888888888,
              "#fdca26"
             ],
             [
              1,
              "#f0f921"
             ]
            ],
            "type": "surface"
           }
          ],
          "table": [
           {
            "cells": {
             "fill": {
              "color": "#EBF0F8"
             },
             "line": {
              "color": "white"
             }
            },
            "header": {
             "fill": {
              "color": "#C8D4E3"
             },
             "line": {
              "color": "white"
             }
            },
            "type": "table"
           }
          ]
         },
         "layout": {
          "annotationdefaults": {
           "arrowcolor": "#2a3f5f",
           "arrowhead": 0,
           "arrowwidth": 1
          },
          "autotypenumbers": "strict",
          "coloraxis": {
           "colorbar": {
            "outlinewidth": 0,
            "ticks": ""
           }
          },
          "colorscale": {
           "diverging": [
            [
             0,
             "#8e0152"
            ],
            [
             0.1,
             "#c51b7d"
            ],
            [
             0.2,
             "#de77ae"
            ],
            [
             0.3,
             "#f1b6da"
            ],
            [
             0.4,
             "#fde0ef"
            ],
            [
             0.5,
             "#f7f7f7"
            ],
            [
             0.6,
             "#e6f5d0"
            ],
            [
             0.7,
             "#b8e186"
            ],
            [
             0.8,
             "#7fbc41"
            ],
            [
             0.9,
             "#4d9221"
            ],
            [
             1,
             "#276419"
            ]
           ],
           "sequential": [
            [
             0,
             "#0d0887"
            ],
            [
             0.1111111111111111,
             "#46039f"
            ],
            [
             0.2222222222222222,
             "#7201a8"
            ],
            [
             0.3333333333333333,
             "#9c179e"
            ],
            [
             0.4444444444444444,
             "#bd3786"
            ],
            [
             0.5555555555555556,
             "#d8576b"
            ],
            [
             0.6666666666666666,
             "#ed7953"
            ],
            [
             0.7777777777777778,
             "#fb9f3a"
            ],
            [
             0.8888888888888888,
             "#fdca26"
            ],
            [
             1,
             "#f0f921"
            ]
           ],
           "sequentialminus": [
            [
             0,
             "#0d0887"
            ],
            [
             0.1111111111111111,
             "#46039f"
            ],
            [
             0.2222222222222222,
             "#7201a8"
            ],
            [
             0.3333333333333333,
             "#9c179e"
            ],
            [
             0.4444444444444444,
             "#bd3786"
            ],
            [
             0.5555555555555556,
             "#d8576b"
            ],
            [
             0.6666666666666666,
             "#ed7953"
            ],
            [
             0.7777777777777778,
             "#fb9f3a"
            ],
            [
             0.8888888888888888,
             "#fdca26"
            ],
            [
             1,
             "#f0f921"
            ]
           ]
          },
          "colorway": [
           "#636efa",
           "#EF553B",
           "#00cc96",
           "#ab63fa",
           "#FFA15A",
           "#19d3f3",
           "#FF6692",
           "#B6E880",
           "#FF97FF",
           "#FECB52"
          ],
          "font": {
           "color": "#2a3f5f"
          },
          "geo": {
           "bgcolor": "white",
           "lakecolor": "white",
           "landcolor": "#E5ECF6",
           "showlakes": true,
           "showland": true,
           "subunitcolor": "white"
          },
          "hoverlabel": {
           "align": "left"
          },
          "hovermode": "closest",
          "mapbox": {
           "style": "light"
          },
          "paper_bgcolor": "white",
          "plot_bgcolor": "#E5ECF6",
          "polar": {
           "angularaxis": {
            "gridcolor": "white",
            "linecolor": "white",
            "ticks": ""
           },
           "bgcolor": "#E5ECF6",
           "radialaxis": {
            "gridcolor": "white",
            "linecolor": "white",
            "ticks": ""
           }
          },
          "scene": {
           "xaxis": {
            "backgroundcolor": "#E5ECF6",
            "gridcolor": "white",
            "gridwidth": 2,
            "linecolor": "white",
            "showbackground": true,
            "ticks": "",
            "zerolinecolor": "white"
           },
           "yaxis": {
            "backgroundcolor": "#E5ECF6",
            "gridcolor": "white",
            "gridwidth": 2,
            "linecolor": "white",
            "showbackground": true,
            "ticks": "",
            "zerolinecolor": "white"
           },
           "zaxis": {
            "backgroundcolor": "#E5ECF6",
            "gridcolor": "white",
            "gridwidth": 2,
            "linecolor": "white",
            "showbackground": true,
            "ticks": "",
            "zerolinecolor": "white"
           }
          },
          "shapedefaults": {
           "line": {
            "color": "#2a3f5f"
           }
          },
          "ternary": {
           "aaxis": {
            "gridcolor": "white",
            "linecolor": "white",
            "ticks": ""
           },
           "baxis": {
            "gridcolor": "white",
            "linecolor": "white",
            "ticks": ""
           },
           "bgcolor": "#E5ECF6",
           "caxis": {
            "gridcolor": "white",
            "linecolor": "white",
            "ticks": ""
           }
          },
          "title": {
           "x": 0.05
          },
          "xaxis": {
           "automargin": true,
           "gridcolor": "white",
           "linecolor": "white",
           "ticks": "",
           "title": {
            "standoff": 15
           },
           "zerolinecolor": "white",
           "zerolinewidth": 2
          },
          "yaxis": {
           "automargin": true,
           "gridcolor": "white",
           "linecolor": "white",
           "ticks": "",
           "title": {
            "standoff": 15
           },
           "zerolinecolor": "white",
           "zerolinewidth": 2
          }
         }
        },
        "title": {
         "text": "Sankey Diagram for Top 5 Causes of Maternal Death, All Deaths, 2008-2019"
        }
       }
      },
      "text/html": [
       "<div>                            <div id=\"fcd390a3-3470-44c8-a1d0-281c98c6b84e\" class=\"plotly-graph-div\" style=\"height:776px; width:100%;\"></div>            <script type=\"text/javascript\">                require([\"plotly\"], function(Plotly) {                    window.PLOTLYENV=window.PLOTLYENV || {};                                    if (document.getElementById(\"fcd390a3-3470-44c8-a1d0-281c98c6b84e\")) {                    Plotly.newPlot(                        \"fcd390a3-3470-44c8-a1d0-281c98c6b84e\",                        [{\"link\": {\"source\": [4, 4, 4, 4, 4, 3, 3, 3, 3, 3, 2, 2, 2, 2, 2, 0, 0, 0, 0, 0, 1, 1, 1, 1, 1], \"target\": [13, 9, 7, 5, 20, 13, 12, 6, 21, 8, 13, 11, 17, 10, 19, 13, 14, 11, 15, 22, 13, 11, 16, 21, 18], \"value\": [0.6489485981308412, 0.01985981308411215, 0.017523364485981307, 0.016355140186915886, 0.016355140186915886, 0.5569377990430622, 0.14066985645933014, 0.06411483253588517, 0.05645933014354067, 0.03732057416267943, 0.7693965517241379, 0.010775862068965518, 0.009698275862068966, 0.00646551724137931, 0.005387931034482759, 0.694408322496749, 0.11573472041612484, 0.016905071521456438, 0.007802340702210663, 0.006501950585175552, 0.8406040268456376, 0.02348993288590604, 0.013422818791946308, 0.010067114093959731, 0.006711409395973154]}, \"node\": {\"label\": [\"O960: Direct Obstetric Cause, 42d-365d post-delivery\", \"O994: Diseases of the Circulatory System\", \"O961: Indirect Obstetric Cause, 42d-365d post-delivery\", \"O998: Other Specified Diseases Complicating Pregnancy\", \"O268: Other Specified Pregnancy-Related Conditions\", \"O882: Obstetric blood-clot embolism\", \"O993: Diseases of the Nervous System / Mental Disorders\", \"O100: Pre-existing Hypertension\", \"O995: Diseases of the Respiratory System\", \"O266: Liver Disorder\", \"T509: Unspecified Drugs\", \"R99: Illness or Undefined Cause of Mortality\", \"O994: Diseases of the Circulatory System\", \"No Secondary Cause Reported\", \"O961: Indirect Obstetric Cause, 42d-365d post-delivery\", \"C509: Breast Neoplasm, Unspecified\", \"O998: Other Specified Diseases Complicating Pregnancy\", \"O268: Other Specified Pregnancy-Related Conditions\", \"I499: Cardiac Arrhythmia, Unspecified\", \"I219: Acute myocardial infarction, unspecified\", \"O881: Amniotic Fluid Embolism\", \"O988: Infection / Parasitic Disease, Other\", \"I269: Pulmonary Embolism\"], \"line\": {\"color\": \"black\", \"width\": 0.5}, \"pad\": 15, \"thickness\": 50}, \"type\": \"sankey\", \"valueformat\": \".0f\", \"valuesuffix\": \"%\"}],                        {\"font\": {\"size\": 10}, \"height\": 776, \"template\": {\"data\": {\"bar\": [{\"error_x\": {\"color\": \"#2a3f5f\"}, \"error_y\": {\"color\": \"#2a3f5f\"}, \"marker\": {\"line\": {\"color\": \"#E5ECF6\", \"width\": 0.5}}, \"type\": \"bar\"}], \"barpolar\": [{\"marker\": {\"line\": {\"color\": \"#E5ECF6\", \"width\": 0.5}}, \"type\": \"barpolar\"}], \"carpet\": [{\"aaxis\": {\"endlinecolor\": \"#2a3f5f\", \"gridcolor\": \"white\", \"linecolor\": \"white\", \"minorgridcolor\": \"white\", \"startlinecolor\": \"#2a3f5f\"}, \"baxis\": {\"endlinecolor\": \"#2a3f5f\", \"gridcolor\": \"white\", \"linecolor\": \"white\", \"minorgridcolor\": \"white\", \"startlinecolor\": \"#2a3f5f\"}, \"type\": \"carpet\"}], \"choropleth\": [{\"colorbar\": {\"outlinewidth\": 0, \"ticks\": \"\"}, \"type\": \"choropleth\"}], \"contour\": [{\"colorbar\": {\"outlinewidth\": 0, \"ticks\": \"\"}, \"colorscale\": [[0.0, \"#0d0887\"], [0.1111111111111111, \"#46039f\"], [0.2222222222222222, \"#7201a8\"], [0.3333333333333333, \"#9c179e\"], [0.4444444444444444, \"#bd3786\"], [0.5555555555555556, \"#d8576b\"], [0.6666666666666666, \"#ed7953\"], [0.7777777777777778, \"#fb9f3a\"], [0.8888888888888888, \"#fdca26\"], [1.0, \"#f0f921\"]], \"type\": \"contour\"}], \"contourcarpet\": [{\"colorbar\": {\"outlinewidth\": 0, \"ticks\": \"\"}, \"type\": \"contourcarpet\"}], \"heatmap\": [{\"colorbar\": {\"outlinewidth\": 0, \"ticks\": \"\"}, \"colorscale\": [[0.0, \"#0d0887\"], [0.1111111111111111, \"#46039f\"], [0.2222222222222222, \"#7201a8\"], [0.3333333333333333, \"#9c179e\"], [0.4444444444444444, \"#bd3786\"], [0.5555555555555556, \"#d8576b\"], [0.6666666666666666, \"#ed7953\"], [0.7777777777777778, \"#fb9f3a\"], [0.8888888888888888, \"#fdca26\"], [1.0, \"#f0f921\"]], \"type\": \"heatmap\"}], \"heatmapgl\": [{\"colorbar\": {\"outlinewidth\": 0, \"ticks\": \"\"}, \"colorscale\": [[0.0, \"#0d0887\"], [0.1111111111111111, \"#46039f\"], [0.2222222222222222, \"#7201a8\"], [0.3333333333333333, \"#9c179e\"], [0.4444444444444444, \"#bd3786\"], [0.5555555555555556, \"#d8576b\"], [0.6666666666666666, \"#ed7953\"], [0.7777777777777778, \"#fb9f3a\"], [0.8888888888888888, \"#fdca26\"], [1.0, \"#f0f921\"]], \"type\": \"heatmapgl\"}], \"histogram\": [{\"marker\": {\"colorbar\": {\"outlinewidth\": 0, \"ticks\": \"\"}}, \"type\": \"histogram\"}], \"histogram2d\": [{\"colorbar\": {\"outlinewidth\": 0, \"ticks\": \"\"}, \"colorscale\": [[0.0, \"#0d0887\"], [0.1111111111111111, \"#46039f\"], [0.2222222222222222, \"#7201a8\"], [0.3333333333333333, \"#9c179e\"], [0.4444444444444444, \"#bd3786\"], [0.5555555555555556, \"#d8576b\"], [0.6666666666666666, \"#ed7953\"], [0.7777777777777778, \"#fb9f3a\"], [0.8888888888888888, \"#fdca26\"], [1.0, \"#f0f921\"]], \"type\": \"histogram2d\"}], \"histogram2dcontour\": [{\"colorbar\": {\"outlinewidth\": 0, \"ticks\": \"\"}, \"colorscale\": [[0.0, \"#0d0887\"], [0.1111111111111111, \"#46039f\"], [0.2222222222222222, \"#7201a8\"], [0.3333333333333333, \"#9c179e\"], [0.4444444444444444, \"#bd3786\"], [0.5555555555555556, \"#d8576b\"], [0.6666666666666666, \"#ed7953\"], [0.7777777777777778, \"#fb9f3a\"], [0.8888888888888888, \"#fdca26\"], [1.0, \"#f0f921\"]], \"type\": \"histogram2dcontour\"}], \"mesh3d\": [{\"colorbar\": {\"outlinewidth\": 0, \"ticks\": \"\"}, \"type\": \"mesh3d\"}], \"parcoords\": [{\"line\": {\"colorbar\": {\"outlinewidth\": 0, \"ticks\": \"\"}}, \"type\": \"parcoords\"}], \"pie\": [{\"automargin\": true, \"type\": \"pie\"}], \"scatter\": [{\"marker\": {\"colorbar\": {\"outlinewidth\": 0, \"ticks\": \"\"}}, \"type\": \"scatter\"}], \"scatter3d\": [{\"line\": {\"colorbar\": {\"outlinewidth\": 0, \"ticks\": \"\"}}, \"marker\": {\"colorbar\": {\"outlinewidth\": 0, \"ticks\": \"\"}}, \"type\": \"scatter3d\"}], \"scattercarpet\": [{\"marker\": {\"colorbar\": {\"outlinewidth\": 0, \"ticks\": \"\"}}, \"type\": \"scattercarpet\"}], \"scattergeo\": [{\"marker\": {\"colorbar\": {\"outlinewidth\": 0, \"ticks\": \"\"}}, \"type\": \"scattergeo\"}], \"scattergl\": [{\"marker\": {\"colorbar\": {\"outlinewidth\": 0, \"ticks\": \"\"}}, \"type\": \"scattergl\"}], \"scattermapbox\": [{\"marker\": {\"colorbar\": {\"outlinewidth\": 0, \"ticks\": \"\"}}, \"type\": \"scattermapbox\"}], \"scatterpolar\": [{\"marker\": {\"colorbar\": {\"outlinewidth\": 0, \"ticks\": \"\"}}, \"type\": \"scatterpolar\"}], \"scatterpolargl\": [{\"marker\": {\"colorbar\": {\"outlinewidth\": 0, \"ticks\": \"\"}}, \"type\": \"scatterpolargl\"}], \"scatterternary\": [{\"marker\": {\"colorbar\": {\"outlinewidth\": 0, \"ticks\": \"\"}}, \"type\": \"scatterternary\"}], \"surface\": [{\"colorbar\": {\"outlinewidth\": 0, \"ticks\": \"\"}, \"colorscale\": [[0.0, \"#0d0887\"], [0.1111111111111111, \"#46039f\"], [0.2222222222222222, \"#7201a8\"], [0.3333333333333333, \"#9c179e\"], [0.4444444444444444, \"#bd3786\"], [0.5555555555555556, \"#d8576b\"], [0.6666666666666666, \"#ed7953\"], [0.7777777777777778, \"#fb9f3a\"], [0.8888888888888888, \"#fdca26\"], [1.0, \"#f0f921\"]], \"type\": \"surface\"}], \"table\": [{\"cells\": {\"fill\": {\"color\": \"#EBF0F8\"}, \"line\": {\"color\": \"white\"}}, \"header\": {\"fill\": {\"color\": \"#C8D4E3\"}, \"line\": {\"color\": \"white\"}}, \"type\": \"table\"}]}, \"layout\": {\"annotationdefaults\": {\"arrowcolor\": \"#2a3f5f\", \"arrowhead\": 0, \"arrowwidth\": 1}, \"autotypenumbers\": \"strict\", \"coloraxis\": {\"colorbar\": {\"outlinewidth\": 0, \"ticks\": \"\"}}, \"colorscale\": {\"diverging\": [[0, \"#8e0152\"], [0.1, \"#c51b7d\"], [0.2, \"#de77ae\"], [0.3, \"#f1b6da\"], [0.4, \"#fde0ef\"], [0.5, \"#f7f7f7\"], [0.6, \"#e6f5d0\"], [0.7, \"#b8e186\"], [0.8, \"#7fbc41\"], [0.9, \"#4d9221\"], [1, \"#276419\"]], \"sequential\": [[0.0, \"#0d0887\"], [0.1111111111111111, \"#46039f\"], [0.2222222222222222, \"#7201a8\"], [0.3333333333333333, \"#9c179e\"], [0.4444444444444444, \"#bd3786\"], [0.5555555555555556, \"#d8576b\"], [0.6666666666666666, \"#ed7953\"], [0.7777777777777778, \"#fb9f3a\"], [0.8888888888888888, \"#fdca26\"], [1.0, \"#f0f921\"]], \"sequentialminus\": [[0.0, \"#0d0887\"], [0.1111111111111111, \"#46039f\"], [0.2222222222222222, \"#7201a8\"], [0.3333333333333333, \"#9c179e\"], [0.4444444444444444, \"#bd3786\"], [0.5555555555555556, \"#d8576b\"], [0.6666666666666666, \"#ed7953\"], [0.7777777777777778, \"#fb9f3a\"], [0.8888888888888888, \"#fdca26\"], [1.0, \"#f0f921\"]]}, \"colorway\": [\"#636efa\", \"#EF553B\", \"#00cc96\", \"#ab63fa\", \"#FFA15A\", \"#19d3f3\", \"#FF6692\", \"#B6E880\", \"#FF97FF\", \"#FECB52\"], \"font\": {\"color\": \"#2a3f5f\"}, \"geo\": {\"bgcolor\": \"white\", \"lakecolor\": \"white\", \"landcolor\": \"#E5ECF6\", \"showlakes\": true, \"showland\": true, \"subunitcolor\": \"white\"}, \"hoverlabel\": {\"align\": \"left\"}, \"hovermode\": \"closest\", \"mapbox\": {\"style\": \"light\"}, \"paper_bgcolor\": \"white\", \"plot_bgcolor\": \"#E5ECF6\", \"polar\": {\"angularaxis\": {\"gridcolor\": \"white\", \"linecolor\": \"white\", \"ticks\": \"\"}, \"bgcolor\": \"#E5ECF6\", \"radialaxis\": {\"gridcolor\": \"white\", \"linecolor\": \"white\", \"ticks\": \"\"}}, \"scene\": {\"xaxis\": {\"backgroundcolor\": \"#E5ECF6\", \"gridcolor\": \"white\", \"gridwidth\": 2, \"linecolor\": \"white\", \"showbackground\": true, \"ticks\": \"\", \"zerolinecolor\": \"white\"}, \"yaxis\": {\"backgroundcolor\": \"#E5ECF6\", \"gridcolor\": \"white\", \"gridwidth\": 2, \"linecolor\": \"white\", \"showbackground\": true, \"ticks\": \"\", \"zerolinecolor\": \"white\"}, \"zaxis\": {\"backgroundcolor\": \"#E5ECF6\", \"gridcolor\": \"white\", \"gridwidth\": 2, \"linecolor\": \"white\", \"showbackground\": true, \"ticks\": \"\", \"zerolinecolor\": \"white\"}}, \"shapedefaults\": {\"line\": {\"color\": \"#2a3f5f\"}}, \"ternary\": {\"aaxis\": {\"gridcolor\": \"white\", \"linecolor\": \"white\", \"ticks\": \"\"}, \"baxis\": {\"gridcolor\": \"white\", \"linecolor\": \"white\", \"ticks\": \"\"}, \"bgcolor\": \"#E5ECF6\", \"caxis\": {\"gridcolor\": \"white\", \"linecolor\": \"white\", \"ticks\": \"\"}}, \"title\": {\"x\": 0.05}, \"xaxis\": {\"automargin\": true, \"gridcolor\": \"white\", \"linecolor\": \"white\", \"ticks\": \"\", \"title\": {\"standoff\": 15}, \"zerolinecolor\": \"white\", \"zerolinewidth\": 2}, \"yaxis\": {\"automargin\": true, \"gridcolor\": \"white\", \"linecolor\": \"white\", \"ticks\": \"\", \"title\": {\"standoff\": 15}, \"zerolinecolor\": \"white\", \"zerolinewidth\": 2}}}, \"title\": {\"text\": \"Sankey Diagram for Top 5 Causes of Maternal Death, All Deaths, 2008-2019\"}},                        {\"responsive\": true}                    ).then(function(){\n",
       "                            \n",
       "var gd = document.getElementById('fcd390a3-3470-44c8-a1d0-281c98c6b84e');\n",
       "var x = new MutationObserver(function (mutations, observer) {{\n",
       "        var display = window.getComputedStyle(gd).display;\n",
       "        if (!display || display === 'none') {{\n",
       "            console.log([gd, 'removed!']);\n",
       "            Plotly.purge(gd);\n",
       "            observer.disconnect();\n",
       "        }}\n",
       "}});\n",
       "\n",
       "// Listen for the removal of the full notebook cells\n",
       "var notebookContainer = gd.closest('#notebook-container');\n",
       "if (notebookContainer) {{\n",
       "    x.observe(notebookContainer, {childList: true});\n",
       "}}\n",
       "\n",
       "// Listen for the clearing of the current output cell\n",
       "var outputEl = gd.closest('.output');\n",
       "if (outputEl) {{\n",
       "    x.observe(outputEl, {childList: true});\n",
       "}}\n",
       "\n",
       "                        })                };                });            </script>        </div>"
      ]
     },
     "metadata": {},
     "output_type": "display_data"
    }
   ],
   "source": [
    "import plotly.graph_objects as go\n",
    "\n",
    "fig = go.Figure(data=[go.Sankey(\n",
    "    valueformat = '.0f', \n",
    "    valuesuffix = \"%\",\n",
    "    node=dict(\n",
    "        pad = 15, \n",
    "        thickness = 50, \n",
    "        line = dict(color= 'black', width = 0.5), \n",
    "        label = nodes['Label']\n",
    "    ), \n",
    "    link = dict(source = san_coded['source'], \n",
    "            target = san_coded['target'], \n",
    "            value = san_coded['value']))]\n",
    ")\n",
    "\n",
    "fig.update_layout(title_text=\"Sankey Diagram for Top 5 Causes of Maternal Death, All Deaths, 2008-2019\", \n",
    "                  height = 776, font_size=10)\n",
    "fig.show()"
   ]
  },
  {
   "cell_type": "code",
   "execution_count": 167,
   "id": "12a721a7",
   "metadata": {},
   "outputs": [],
   "source": [
    "data_trace = dict(\n",
    "    type='sankey', \n",
    "    domain = dict(\n",
    "        x = [0, 1], \n",
    "        y = [0, 1]), \n",
    "    orientation = 'h', \n",
    "    valueformat = '.0f', \n",
    "    node = dict(\n",
    "        pad = 5, \n",
    "        thickness = 30, \n",
    "        line = dict(\n",
    "            color = 'black', \n",
    "            width = 0.5\n",
    "        ), \n",
    "    label = nodes_df['Label']),\n",
    "    link = dict(source = links_df['Source'], \n",
    "            target = links_df['Target'], \n",
    "            value = links_df['Value']))\n",
    "\n",
    "layout = dict(\n",
    "    title = 'Top 5, All', \n",
    "    height = 1250, \n",
    "    width = 1000, \n",
    "    font = dict(\n",
    "        size=10)\n",
    "    )"
   ]
  },
  {
   "cell_type": "code",
   "execution_count": 44,
   "id": "72383816-f39d-4814-8fab-d418ede1b29c",
   "metadata": {},
   "outputs": [],
   "source": [
    "source_list = [0, 0, 0, 0, 0, 4, 4, 4, 4, 4, 2, 2, 2, 2, 2, 1, 1, 1, 1, 1, 3, 3, 3, 3, 3]\n",
    "target_list = [4,  6,  5,  9,  8,  4, 13, 12, 11, 14,  4, 16,  7, 17,  1,  4, 10, 16,  0,  2,  4, 16, 15, 11, 3]\n",
    "values_list = [0.6489486 , 0.01985981, 0.01752336, 0.01635514, 0.01635514, 0.5569378 ,\n",
    "                             0.14066986, 0.06411483, 0.05645933, 0.03732057, 0.76939655, 0.01077586,\n",
    "                             0.00969828, 0.00646552, 0.00538793, 0.69440832, 0.11573472, 0.01690507,\n",
    "                             0.00780234, 0.00650195, 0.84060403, 0.02348993, 0.01342282, 0.01006711,\n",
    "                             0.00671141]"
   ]
  },
  {
   "cell_type": "code",
   "execution_count": 45,
   "id": "8ac85ffb-642e-4f48-8ee0-4167dda98c58",
   "metadata": {},
   "outputs": [],
   "source": []
  },
  {
   "cell_type": "code",
   "execution_count": null,
   "id": "6d5fe736-04da-4b2f-b386-b62dd066c2e6",
   "metadata": {},
   "outputs": [],
   "source": []
  },
  {
   "cell_type": "code",
   "execution_count": null,
   "id": "3565afb0-8876-4eb2-a78c-6d888746b239",
   "metadata": {},
   "outputs": [],
   "source": []
  },
  {
   "cell_type": "code",
   "execution_count": 189,
   "id": "73c5d682-1ef7-465f-b8f3-f05c41ea3af9",
   "metadata": {},
   "outputs": [],
   "source": [
    "ager27_dict = {8: '10-14 yo', 9: '15-19 yo', 10: '20-24 yo', 11: '25-29 yo', 12: '30-34 yo', \n",
    "              13: '35-39 yo', 14: '40-44 yo', 15: '45-49 yo', 16: '50-54 yo', 17: '55-59 yo'}"
   ]
  },
  {
   "cell_type": "code",
   "execution_count": 191,
   "id": "f231b6b7-89c0-4650-a62f-71d71d494ac6",
   "metadata": {},
   "outputs": [
    {
     "data": {
      "image/png": "[encoded data removed]",
      "text/plain": [
       "<Figure size 864x360 with 1 Axes>"
      ]
     },
     "metadata": {
      "needs_background": "light"
     },
     "output_type": "display_data"
    }
   ],
   "source": [
    "fig, ax = plt.subplots(figsize=(12, 5))\n",
    "ax = sns.countplot(data=df, x='race', hue='autopsy', palette='ch:.25')\n",
    "ax.bar_label(ax.containers[0], fontsize=15, fmt='%d')\n",
    "ax.bar_label(ax.containers[1], fontsize=15, fmt='%d')\n",
    "ax.bar_label(ax.containers[2], fontsize=15, fmt='%d');"
   ]
  },
  {
   "cell_type": "code",
   "execution_count": 192,
   "id": "a50a95e1-2b50-48b8-834e-36dcd5415105",
   "metadata": {},
   "outputs": [],
   "source": [
    "df.dropna(subset=['educ2003', 'mandeath'], inplace=True)"
   ]
  },
  {
   "cell_type": "code",
   "execution_count": null,
   "id": "c99cc020-8563-4cfa-aae9-b901e6058ec0",
   "metadata": {},
   "outputs": [],
   "source": []
  },
  {
   "cell_type": "code",
   "execution_count": 196,
   "id": "52eb9bba-eba5-448b-8cf6-a7eaf65cbe74",
   "metadata": {},
   "outputs": [
    {
     "data": {
      "image/png": "[encoded data removed]",
      "text/plain": [
       "<Figure size 864x360 with 1 Axes>"
      ]
     },
     "metadata": {
      "needs_background": "light"
     },
     "output_type": "display_data"
    }
   ],
   "source": [
    "fig, ax = plt.subplots(figsize=(12, 5))\n",
    "ax = sns.countplot(data=t_ff, x='year', hue='ager27', palette='ch:.85')\n",
    "ax.legend(labels=[v for k, v in ager27_dict.items()]);"
   ]
  },
  {
   "cell_type": "code",
   "execution_count": 214,
   "id": "da2ee6c4-c825-41ba-b93b-597b9293f03b",
   "metadata": {},
   "outputs": [],
   "source": [
    "# Records for women ages 10 to 54\n",
    "t_ff = df[df['ager27']<=16]"
   ]
  },
  {
   "cell_type": "code",
   "execution_count": 215,
   "id": "67ff0151-39ec-4e3b-9e57-d7c44b2abaef",
   "metadata": {},
   "outputs": [
    {
     "name": "stdout",
     "output_type": "stream",
     "text": [
      "<class 'pandas.core.frame.DataFrame'>\n",
      "Int64Index: 9070 entries, 6 to 10560\n",
      "Data columns (total 23 columns):\n",
      " #   Column    Non-Null Count  Dtype  \n",
      "---  ------    --------------  -----  \n",
      " 0   index     9070 non-null   int64  \n",
      " 1   restatus  9070 non-null   int64  \n",
      " 2   educ2003  9070 non-null   float64\n",
      " 3   monthdth  9070 non-null   int64  \n",
      " 4   sex       9070 non-null   object \n",
      " 5   ager27    9070 non-null   int64  \n",
      " 6   placdth   9070 non-null   int64  \n",
      " 7   marstat   9070 non-null   object \n",
      " 8   weekday   9070 non-null   int64  \n",
      " 9   year      9070 non-null   int64  \n",
      " 10  injwork   9070 non-null   object \n",
      " 11  mandeath  9070 non-null   float64\n",
      " 12  methdisp  9070 non-null   object \n",
      " 13  autopsy   9070 non-null   object \n",
      " 14  ucod      9070 non-null   object \n",
      " 15  ucr113    9070 non-null   int64  \n",
      " 16  ranum     9070 non-null   int64  \n",
      " 17  record_1  9070 non-null   object \n",
      " 18  record_2  9070 non-null   object \n",
      " 19  record_3  9070 non-null   object \n",
      " 20  record_4  9070 non-null   object \n",
      " 21  record_5  9070 non-null   object \n",
      " 22  race      9070 non-null   int64  \n",
      "dtypes: float64(2), int64(10), object(11)\n",
      "memory usage: 1.7+ MB\n"
     ]
    }
   ],
   "source": [
    "t_ff.info()"
   ]
  },
  {
   "cell_type": "code",
   "execution_count": 218,
   "id": "d6233258-301b-4415-a1f1-10103cd25c8c",
   "metadata": {},
   "outputs": [
    {
     "name": "stdout",
     "output_type": "stream",
     "text": [
      "<class 'pandas.core.frame.DataFrame'>\n",
      "Int64Index: 5821 entries, 6 to 10559\n",
      "Data columns (total 23 columns):\n",
      " #   Column    Non-Null Count  Dtype  \n",
      "---  ------    --------------  -----  \n",
      " 0   index     5821 non-null   int64  \n",
      " 1   restatus  5821 non-null   int64  \n",
      " 2   educ2003  5821 non-null   float64\n",
      " 3   monthdth  5821 non-null   int64  \n",
      " 4   sex       5821 non-null   object \n",
      " 5   ager27    5821 non-null   int64  \n",
      " 6   placdth   5821 non-null   int64  \n",
      " 7   marstat   5821 non-null   object \n",
      " 8   weekday   5821 non-null   int64  \n",
      " 9   year      5821 non-null   int64  \n",
      " 10  injwork   5821 non-null   object \n",
      " 11  mandeath  5821 non-null   float64\n",
      " 12  methdisp  5821 non-null   object \n",
      " 13  autopsy   5821 non-null   object \n",
      " 14  ucod      5821 non-null   object \n",
      " 15  ucr113    5821 non-null   int64  \n",
      " 16  ranum     5821 non-null   int64  \n",
      " 17  record_1  5821 non-null   object \n",
      " 18  record_2  5821 non-null   object \n",
      " 19  record_3  5821 non-null   object \n",
      " 20  record_4  5821 non-null   object \n",
      " 21  record_5  5821 non-null   object \n",
      " 22  race      5821 non-null   object \n",
      "dtypes: float64(2), int64(9), object(12)\n",
      "memory usage: 1.1+ MB\n"
     ]
    }
   ],
   "source": [
    "over30 = t_ff[t_ff['ager27']>=12]\n",
    "over30.info()"
   ]
  },
  {
   "cell_type": "code",
   "execution_count": null,
   "id": "be61453d-a4cc-423c-881d-d06e71b6de7e",
   "metadata": {},
   "outputs": [],
   "source": []
  },
  {
   "cell_type": "code",
   "execution_count": 216,
   "id": "b1e98586-eb1f-4158-87b5-72d81977c632",
   "metadata": {},
   "outputs": [],
   "source": [
    "t_ff.race = t_ff.race.replace(to_replace=race_dict)"
   ]
  },
  {
   "cell_type": "code",
   "execution_count": 217,
   "id": "ff02d678-3d39-4f2b-9e0e-63d305ded1e4",
   "metadata": {},
   "outputs": [
    {
     "data": {
      "text/plain": [
       "array(['White', 'Black', 'Asian', 'NatHaw/OtherPacIsl',\n",
       "       'AmIndian/AlaskaNative'], dtype=object)"
      ]
     },
     "execution_count": 217,
     "metadata": {},
     "output_type": "execute_result"
    }
   ],
   "source": [
    "t_ff.race.unique()"
   ]
  },
  {
   "cell_type": "code",
   "execution_count": 219,
   "id": "01535422-469f-407a-984d-44514ac95e67",
   "metadata": {},
   "outputs": [
    {
     "data": {
      "text/plain": [
       "array(['White', 'Black', 'NatHaw/OtherPacIsl', 'AmIndian/AlaskaNative',\n",
       "       'Asian'], dtype=object)"
      ]
     },
     "execution_count": 219,
     "metadata": {},
     "output_type": "execute_result"
    }
   ],
   "source": [
    "over30.race.unique()"
   ]
  },
  {
   "cell_type": "code",
   "execution_count": 220,
   "id": "64b88dfa-265b-4d66-91f2-0bea8c0bb636",
   "metadata": {},
   "outputs": [],
   "source": [
    "over30_white = over30[over30['race']=='White']"
   ]
  },
  {
   "cell_type": "code",
   "execution_count": 239,
   "id": "2955b0c7-2921-4bba-8aa5-7fdb50c18ac9",
   "metadata": {},
   "outputs": [],
   "source": [
    "otw_first5 = over30_white.ucod.value_counts(normalize=True)[:5]"
   ]
  },
  {
   "cell_type": "code",
   "execution_count": null,
   "id": "56e95018",
   "metadata": {},
   "outputs": [],
   "source": []
  },
  {
   "cell_type": "code",
   "execution_count": null,
   "id": "4544397a",
   "metadata": {},
   "outputs": [],
   "source": []
  },
  {
   "cell_type": "code",
   "execution_count": null,
   "id": "fe1d405f",
   "metadata": {},
   "outputs": [],
   "source": []
  },
  {
   "cell_type": "code",
   "execution_count": null,
   "id": "338de64c",
   "metadata": {},
   "outputs": [],
   "source": []
  },
  {
   "cell_type": "code",
   "execution_count": null,
   "id": "cbe9e8a8",
   "metadata": {},
   "outputs": [],
   "source": []
  },
  {
   "cell_type": "code",
   "execution_count": 222,
   "id": "3b44deba-ab69-4e66-a975-da9cc0909dcd",
   "metadata": {},
   "outputs": [
    {
     "data": {
      "text/plain": [
       "O268    0.201784\n",
       "O998    0.098662\n",
       "O961    0.084169\n",
       "O960    0.083612\n",
       "O994    0.057971\n",
       "Name: record_1, dtype: float64"
      ]
     },
     "execution_count": 222,
     "metadata": {},
     "output_type": "execute_result"
    }
   ],
   "source": [
    "over30_black = over30[over30['race']=='Black']\n",
    "# over30_black.ucod.value_counts(normalize=True)[:5]\n",
    "over30_black.record_1.value_counts(normalize=True)[:5]"
   ]
  },
  {
   "cell_type": "code",
   "execution_count": 223,
   "id": "aa38d84b-57b4-4d4b-adb0-69a253f6e375",
   "metadata": {},
   "outputs": [],
   "source": [
    "under30 = t_ff[t_ff['ager27']<=11]"
   ]
  },
  {
   "cell_type": "code",
   "execution_count": 224,
   "id": "dd9b0441-7d3c-4da7-bf41-dbebda25283f",
   "metadata": {},
   "outputs": [
    {
     "data": {
      "text/plain": [
       "O268    0.169270\n",
       "O961    0.122418\n",
       "O960    0.105290\n",
       "O998    0.099748\n",
       "O994    0.069018\n",
       "Name: ucod, dtype: float64"
      ]
     },
     "execution_count": 224,
     "metadata": {},
     "output_type": "execute_result"
    }
   ],
   "source": [
    "under30_white = under30[under30['race']=='White']\n",
    "under30_white.ucod.value_counts(normalize=True)[:5]"
   ]
  },
  {
   "cell_type": "code",
   "execution_count": 225,
   "id": "fd78875f-0060-411b-8074-8f76ffcdca1e",
   "metadata": {},
   "outputs": [
    {
     "data": {
      "text/plain": [
       "O268    0.166667\n",
       "O960    0.097148\n",
       "O961    0.088235\n",
       "O994    0.081105\n",
       "O903    0.072193\n",
       "Name: ucod, dtype: float64"
      ]
     },
     "execution_count": 225,
     "metadata": {},
     "output_type": "execute_result"
    }
   ],
   "source": [
    "under30_black = under30[under30['race']=='Black']\n",
    "under30_black.ucod.value_counts(normalize=True)[:5]"
   ]
  },
  {
   "cell_type": "code",
   "execution_count": 228,
   "id": "3c04489a-368a-4f0b-a6b6-01cd4ce09e5f",
   "metadata": {},
   "outputs": [],
   "source": [
    "otw1 = over30_white[over30_white['record_1']=='O268']\n",
    "otw2 = over30_white[over30_white['record_1']=='O998']\n",
    "otw3 = over30_white[over30_white['record_1']=='O961']\n",
    "otw4 = over30_white[over30_white['record_1']=='O960']\n",
    "otw5 = over30_white[over30_white['record_1']=='O994']"
   ]
  },
  {
   "cell_type": "code",
   "execution_count": 227,
   "id": "3efcd3c4-e342-44f0-9e80-07bdec90ac9f",
   "metadata": {},
   "outputs": [
    {
     "data": {
      "text/html": [
       "<div>\n",
       "<style scoped>\n",
       "    .dataframe tbody tr th:only-of-type {\n",
       "        vertical-align: middle;\n",
       "    }\n",
       "\n",
       "    .dataframe tbody tr th {\n",
       "        vertical-align: top;\n",
       "    }\n",
       "\n",
       "    .dataframe thead th {\n",
       "        text-align: right;\n",
       "    }\n",
       "</style>\n",
       "<table border=\"1\" class=\"dataframe\">\n",
       "  <thead>\n",
       "    <tr style=\"text-align: right;\">\n",
       "      <th></th>\n",
       "      <th>source</th>\n",
       "      <th>target</th>\n",
       "      <th>value</th>\n",
       "    </tr>\n",
       "  </thead>\n",
       "  <tbody>\n",
       "  </tbody>\n",
       "</table>\n",
       "</div>"
      ],
      "text/plain": [
       "Empty DataFrame\n",
       "Columns: [source, target, value]\n",
       "Index: []"
      ]
     },
     "execution_count": 227,
     "metadata": {},
     "output_type": "execute_result"
    }
   ],
   "source": [
    "otw = pd.DataFrame(columns=['source', 'target', 'value'])\n",
    "otw"
   ]
  },
  {
   "cell_type": "code",
   "execution_count": 229,
   "id": "2582de75-1309-459a-bb7c-ebfcb9474000",
   "metadata": {},
   "outputs": [],
   "source": [
    "otw_top1 = otw1.record_2.value_counts(normalize=True)[:5]\n",
    "for i in range(5): \n",
    "    otw = otw.append({'source': 'O268', 'target': otw_top1.index[i], 'value': otw_top1[i]}, ignore_index=True)"
   ]
  },
  {
   "cell_type": "code",
   "execution_count": 231,
   "id": "ad2f2441",
   "metadata": {},
   "outputs": [],
   "source": [
    "otw_top2 = otw2.record_2.value_counts(normalize=True)[:5]\n",
    "for i in range(5): \n",
    "    otw = otw.append({'source': 'O998', 'target': otw_top2.index[i], 'value': otw_top2[i]}, ignore_index=True)"
   ]
  },
  {
   "cell_type": "code",
   "execution_count": 232,
   "id": "adc95916",
   "metadata": {},
   "outputs": [],
   "source": [
    "otw_top3 = otw3.record_2.value_counts(normalize=True)[:5]\n",
    "for i in range(5): \n",
    "    otw = otw.append({'source': 'O961', 'target': otw_top3.index[i], 'value': otw_top3[i]}, ignore_index=True)"
   ]
  },
  {
   "cell_type": "code",
   "execution_count": 233,
   "id": "cc9ad02b",
   "metadata": {},
   "outputs": [],
   "source": [
    "otw_top4 = otw4.record_2.value_counts(normalize=True)[:5]\n",
    "for i in range(5): \n",
    "    otw = otw.append({'source': 'O960', 'target': otw_top4.index[i], 'value': otw_top4[i]}, ignore_index=True)"
   ]
  },
  {
   "cell_type": "code",
   "execution_count": 234,
   "id": "3b07ede3",
   "metadata": {},
   "outputs": [],
   "source": [
    "otw_top5 = otw5.record_2.value_counts(normalize=True)[:5]\n",
    "for i in range(5): \n",
    "    otw = otw.append({'source': 'O994', 'target': otw_top5.index[i], 'value': otw_top5[i]}, ignore_index=True)"
   ]
  },
  {
   "cell_type": "code",
   "execution_count": 235,
   "id": "d0140535",
   "metadata": {},
   "outputs": [
    {
     "data": {
      "text/html": [
       "<div>\n",
       "<style scoped>\n",
       "    .dataframe tbody tr th:only-of-type {\n",
       "        vertical-align: middle;\n",
       "    }\n",
       "\n",
       "    .dataframe tbody tr th {\n",
       "        vertical-align: top;\n",
       "    }\n",
       "\n",
       "    .dataframe thead th {\n",
       "        text-align: right;\n",
       "    }\n",
       "</style>\n",
       "<table border=\"1\" class=\"dataframe\">\n",
       "  <thead>\n",
       "    <tr style=\"text-align: right;\">\n",
       "      <th></th>\n",
       "      <th>source</th>\n",
       "      <th>target</th>\n",
       "      <th>value</th>\n",
       "    </tr>\n",
       "  </thead>\n",
       "  <tbody>\n",
       "    <tr>\n",
       "      <th>0</th>\n",
       "      <td>O268</td>\n",
       "      <td>None</td>\n",
       "      <td>0.663501</td>\n",
       "    </tr>\n",
       "    <tr>\n",
       "      <th>1</th>\n",
       "      <td>O268</td>\n",
       "      <td>O249</td>\n",
       "      <td>0.023066</td>\n",
       "    </tr>\n",
       "    <tr>\n",
       "      <th>2</th>\n",
       "      <td>O268</td>\n",
       "      <td>O266</td>\n",
       "      <td>0.023066</td>\n",
       "    </tr>\n",
       "    <tr>\n",
       "      <th>3</th>\n",
       "      <td>O268</td>\n",
       "      <td>O882</td>\n",
       "      <td>0.020353</td>\n",
       "    </tr>\n",
       "    <tr>\n",
       "      <th>4</th>\n",
       "      <td>O268</td>\n",
       "      <td>O100</td>\n",
       "      <td>0.017639</td>\n",
       "    </tr>\n",
       "    <tr>\n",
       "      <th>5</th>\n",
       "      <td>O998</td>\n",
       "      <td>None</td>\n",
       "      <td>0.589552</td>\n",
       "    </tr>\n",
       "    <tr>\n",
       "      <th>6</th>\n",
       "      <td>O998</td>\n",
       "      <td>O994</td>\n",
       "      <td>0.098881</td>\n",
       "    </tr>\n",
       "    <tr>\n",
       "      <th>7</th>\n",
       "      <td>O998</td>\n",
       "      <td>O993</td>\n",
       "      <td>0.082090</td>\n",
       "    </tr>\n",
       "    <tr>\n",
       "      <th>8</th>\n",
       "      <td>O998</td>\n",
       "      <td>O988</td>\n",
       "      <td>0.057836</td>\n",
       "    </tr>\n",
       "    <tr>\n",
       "      <th>9</th>\n",
       "      <td>O998</td>\n",
       "      <td>O995</td>\n",
       "      <td>0.037313</td>\n",
       "    </tr>\n",
       "    <tr>\n",
       "      <th>10</th>\n",
       "      <td>O961</td>\n",
       "      <td>None</td>\n",
       "      <td>0.780051</td>\n",
       "    </tr>\n",
       "    <tr>\n",
       "      <th>11</th>\n",
       "      <td>O961</td>\n",
       "      <td>T509</td>\n",
       "      <td>0.015345</td>\n",
       "    </tr>\n",
       "    <tr>\n",
       "      <th>12</th>\n",
       "      <td>O961</td>\n",
       "      <td>R99</td>\n",
       "      <td>0.010230</td>\n",
       "    </tr>\n",
       "    <tr>\n",
       "      <th>13</th>\n",
       "      <td>O961</td>\n",
       "      <td>F179</td>\n",
       "      <td>0.007673</td>\n",
       "    </tr>\n",
       "    <tr>\n",
       "      <th>14</th>\n",
       "      <td>O961</td>\n",
       "      <td>I499</td>\n",
       "      <td>0.007673</td>\n",
       "    </tr>\n",
       "    <tr>\n",
       "      <th>15</th>\n",
       "      <td>O960</td>\n",
       "      <td>None</td>\n",
       "      <td>0.653846</td>\n",
       "    </tr>\n",
       "    <tr>\n",
       "      <th>16</th>\n",
       "      <td>O960</td>\n",
       "      <td>O961</td>\n",
       "      <td>0.134615</td>\n",
       "    </tr>\n",
       "    <tr>\n",
       "      <th>17</th>\n",
       "      <td>O960</td>\n",
       "      <td>I269</td>\n",
       "      <td>0.015385</td>\n",
       "    </tr>\n",
       "    <tr>\n",
       "      <th>18</th>\n",
       "      <td>O960</td>\n",
       "      <td>T436</td>\n",
       "      <td>0.011538</td>\n",
       "    </tr>\n",
       "    <tr>\n",
       "      <th>19</th>\n",
       "      <td>O960</td>\n",
       "      <td>R99</td>\n",
       "      <td>0.011538</td>\n",
       "    </tr>\n",
       "    <tr>\n",
       "      <th>20</th>\n",
       "      <td>O994</td>\n",
       "      <td>None</td>\n",
       "      <td>0.822222</td>\n",
       "    </tr>\n",
       "    <tr>\n",
       "      <th>21</th>\n",
       "      <td>O994</td>\n",
       "      <td>O998</td>\n",
       "      <td>0.022222</td>\n",
       "    </tr>\n",
       "    <tr>\n",
       "      <th>22</th>\n",
       "      <td>O994</td>\n",
       "      <td>R99</td>\n",
       "      <td>0.022222</td>\n",
       "    </tr>\n",
       "    <tr>\n",
       "      <th>23</th>\n",
       "      <td>O994</td>\n",
       "      <td>O988</td>\n",
       "      <td>0.017778</td>\n",
       "    </tr>\n",
       "    <tr>\n",
       "      <th>24</th>\n",
       "      <td>O994</td>\n",
       "      <td>O882</td>\n",
       "      <td>0.008889</td>\n",
       "    </tr>\n",
       "  </tbody>\n",
       "</table>\n",
       "</div>"
      ],
      "text/plain": [
       "   source target     value\n",
       "0    O268   None  0.663501\n",
       "1    O268   O249  0.023066\n",
       "2    O268   O266  0.023066\n",
       "3    O268   O882  0.020353\n",
       "4    O268   O100  0.017639\n",
       "5    O998   None  0.589552\n",
       "6    O998   O994  0.098881\n",
       "7    O998   O993  0.082090\n",
       "8    O998   O988  0.057836\n",
       "9    O998   O995  0.037313\n",
       "10   O961   None  0.780051\n",
       "11   O961   T509  0.015345\n",
       "12   O961    R99  0.010230\n",
       "13   O961   F179  0.007673\n",
       "14   O961   I499  0.007673\n",
       "15   O960   None  0.653846\n",
       "16   O960   O961  0.134615\n",
       "17   O960   I269  0.015385\n",
       "18   O960   T436  0.011538\n",
       "19   O960    R99  0.011538\n",
       "20   O994   None  0.822222\n",
       "21   O994   O998  0.022222\n",
       "22   O994    R99  0.022222\n",
       "23   O994   O988  0.017778\n",
       "24   O994   O882  0.008889"
      ]
     },
     "execution_count": 235,
     "metadata": {},
     "output_type": "execute_result"
    }
   ],
   "source": [
    "otw"
   ]
  },
  {
   "cell_type": "code",
   "execution_count": null,
   "id": "488ed85e",
   "metadata": {},
   "outputs": [],
   "source": []
  },
  {
   "cell_type": "code",
   "execution_count": null,
   "id": "748e7295",
   "metadata": {},
   "outputs": [],
   "source": []
  },
  {
   "cell_type": "code",
   "execution_count": null,
   "id": "09ee89ea-e226-4c98-ad7f-2b36a887eb5f",
   "metadata": {},
   "outputs": [],
   "source": [
    "restat_dict = {1: 'State & County Residence & Occurrence same', \n",
    "              2: 'Intrastate Nonresidents; State Same, County Different', \n",
    "              3: 'Interstate Nonresidents; State & County Different, both US', \n",
    "              4: 'Foreign Residents: State of Occurrence in US, Residence outside US'}"
   ]
  },
  {
   "cell_type": "code",
   "execution_count": 199,
   "id": "a9b91063-ba2c-43c6-939a-bb711e6b454b",
   "metadata": {},
   "outputs": [],
   "source": [
    "race_dict = {1: 'White', 2: 'Black', 3: 'AmIndian/AlaskaNative', 6: 'NatHaw/OtherPacIsl', 4: 'Asian', \n",
    "            5: 'Asian', 7: 'Asian', 18: 'Asian', 28: 'Asian', 38: 'Asian', \n",
    "            48: 'Asian', 58: 'NatHaw/OtherPacIsl', 68: 'NatHaw/OtherPacIsl', \n",
    "            78: 'NatHaw/OtherPacIsl'}"
   ]
  },
  {
   "cell_type": "code",
   "execution_count": null,
   "id": "3d9ae300-87c6-4ec7-a620-6011920c9b3f",
   "metadata": {},
   "outputs": [],
   "source": [
    "educ_dict = {1: '8th Gr or less', 2: '9-12 Gr, No Diploma', \n",
    "             3: 'HS Grad or GED Completed', 4: 'Some college credit but no Degree',\n",
    "             5: 'Associate Degree', 6: 'Bachelors Degree', 7: 'Masters Degree', \n",
    "             8: 'Doctoral or Professional Degree', 9: 'Unknown'}"
   ]
  },
  {
   "cell_type": "code",
   "execution_count": null,
   "id": "18b9c16c-af05-4f7b-b059-30193c63206e",
   "metadata": {},
   "outputs": [],
   "source": [
    "df.race = df.race.replace(to_replace=race_dict)"
   ]
  },
  {
   "cell_type": "code",
   "execution_count": null,
   "id": "229b5ebb-a08b-4d81-a808-438d29b0f2ec",
   "metadata": {},
   "outputs": [],
   "source": [
    "fig, ax = plt.subplots(figsize=(20 , 7))\n",
    "ax = sns.countplot(data=df, x='educ2003', hue='race', palette='autumn')\n",
    "ax.set_xticklabels(labels=[v for k, v in educ_dict.items()], rotation=45)\n",
    "ax.set_title('Maternal Mortality by Level of Education, 2009-2018', fontsize=15)"
   ]
  },
  {
   "cell_type": "code",
   "execution_count": null,
   "id": "7e741cd1-49c7-4cdc-82b1-16c1647386f7",
   "metadata": {},
   "outputs": [],
   "source": [
    "rename = {'restatus': 'resident_status', 'educ2003': 'edu_level', 'monthdth': 'month_of_death', \n",
    "         'sex': 'gender_assigned_at_birth', 'ager27': 'age_group', 'placdth': 'place_of_death', \n",
    "          'marstat': 'marital_status', 'weekday': 'weekday_of_death', 'year': 'year_of_death', \n",
    "          'injwork': 'injury_at_work', 'mandeath': 'manner_of_death', 'methdisp': 'method_disposition', \n",
    "          'injury': 'place_of_injury', 'ucod': 'icd10_ucod'}"
   ]
  },
  {
   "cell_type": "code",
   "execution_count": null,
   "id": "9291f9a5-e191-4757-be9e-7bbd94bea306",
   "metadata": {},
   "outputs": [],
   "source": [
    "df.rename(columns=rename, inplace=True)"
   ]
  },
  {
   "cell_type": "code",
   "execution_count": null,
   "id": "aa035aa8-6b44-4fdf-9d67-5a1bcfe172d0",
   "metadata": {},
   "outputs": [],
   "source": [
    "df.info()"
   ]
  },
  {
   "cell_type": "code",
   "execution_count": null,
   "id": "10c46ccc-08cb-4c23-b0e4-e812192a64e3",
   "metadata": {},
   "outputs": [],
   "source": [
    "df.dropna(subset=['edu_level', 'manner_of_death'], inplace=True)"
   ]
  },
  {
   "cell_type": "code",
   "execution_count": null,
   "id": "956d744b-e138-42d6-8c84-94ac7145d2fa",
   "metadata": {},
   "outputs": [],
   "source": [
    "df.info()"
   ]
  },
  {
   "cell_type": "code",
   "execution_count": null,
   "id": "c78e9d77-e3ed-413b-9b94-59ecfd13fc9f",
   "metadata": {},
   "outputs": [],
   "source": [
    "df.record_1 = df.record_1.apply(lambda x: x[:3])"
   ]
  },
  {
   "cell_type": "code",
   "execution_count": null,
   "id": "9fd1fd09-fdeb-4b1c-8478-ae2855dbd277",
   "metadata": {},
   "outputs": [],
   "source": [
    "most = df.copy()"
   ]
  },
  {
   "cell_type": "code",
   "execution_count": null,
   "id": "ca9e9095-aebf-4fde-bebc-df42c5160763",
   "metadata": {},
   "outputs": [],
   "source": [
    "most_1 = most[most['record_1']=='O96']\n",
    "most_2 = most[most['record_1']=='O26']\n",
    "most_3 = most[most['record_1']=='O99']\n",
    "most_4 = most[most['record_1']=='O88']\n",
    "most_5 = most[most['record_1']=='O90']\n"
   ]
  },
  {
   "cell_type": "code",
   "execution_count": null,
   "id": "707f177a-2e05-4a00-ada1-3dfd24a0e8e1",
   "metadata": {},
   "outputs": [],
   "source": [
    "most_2.info()"
   ]
  },
  {
   "cell_type": "code",
   "execution_count": null,
   "id": "62e0bbb6-e508-4797-8b64-98c963ee2613",
   "metadata": {},
   "outputs": [],
   "source": [
    "top_5_most_1 = most_1.record_2.value_counts(normalize=True)[:5]\n",
    "top_5_most_1"
   ]
  },
  {
   "cell_type": "code",
   "execution_count": null,
   "id": "fbacb1bd-4dbc-4e09-8010-3afab35e6320",
   "metadata": {},
   "outputs": [],
   "source": [
    "top_5_most_1_dict = {'O961': 'Indirect Obstetric Cause', 'R99': 'Other ill-defined and unspecified causes of mortality', \n",
    "                    'T509': 'Poisoning by diuretics and other and unspecified drugs, medicaments and biological substances', \n",
    "                    'C509': 'Malignant neoplasm of breast', \n",
    "                    'T436': 'Poisoning by psychotropic drugs'}"
   ]
  },
  {
   "cell_type": "code",
   "execution_count": null,
   "id": "ba62183d-9256-4f15-aaea-de73547ef379",
   "metadata": {},
   "outputs": [],
   "source": [
    "top_5_most_1.rename(index=top_5_most_1_dict, inplace=True)\n",
    "top_5_most_1"
   ]
  },
  {
   "cell_type": "code",
   "execution_count": null,
   "id": "d3ef37cf-a446-44af-bfb9-46d0d41b8e51",
   "metadata": {},
   "outputs": [],
   "source": []
  },
  {
   "cell_type": "code",
   "execution_count": null,
   "id": "1983dc47-ee29-46e7-a409-7b8660c78473",
   "metadata": {},
   "outputs": [],
   "source": [
    "top_5_most_2 = most_2.record_2.value_counts(normalize=True)[:5]\n",
    "top_5_most_2"
   ]
  },
  {
   "cell_type": "code",
   "execution_count": null,
   "id": "e0b3014c-853f-4b6f-8f21-2791382d1cf4",
   "metadata": {},
   "outputs": [],
   "source": [
    "top_5_most_2_dict = {'O268': ''}"
   ]
  },
  {
   "cell_type": "code",
   "execution_count": null,
   "id": "01a02b1a-1a4e-41d0-8c11-c14094f342f9",
   "metadata": {},
   "outputs": [],
   "source": []
  },
  {
   "cell_type": "code",
   "execution_count": null,
   "id": "64702b2d-0e29-47e6-b1ad-666c9e103cf8",
   "metadata": {},
   "outputs": [],
   "source": [
    "top_5 = df.record_1.value_counts(normalize=True)[:5]"
   ]
  },
  {
   "cell_type": "code",
   "execution_count": null,
   "id": "2ed6e7f9-274e-4130-878c-a945631b4e10",
   "metadata": {},
   "outputs": [],
   "source": [
    "top_5"
   ]
  },
  {
   "cell_type": "code",
   "execution_count": null,
   "id": "0131c215-aaaf-42ab-93c6-d6a3d2b633c8",
   "metadata": {},
   "outputs": [],
   "source": [
    "top_5.rename(index=preg_dict, inplace=True)\n",
    "top_5"
   ]
  },
  {
   "cell_type": "code",
   "execution_count": null,
   "id": "d30367f6-625a-4c6f-923b-d5b8af87ba7f",
   "metadata": {},
   "outputs": [],
   "source": [
    "fig, ax = plt.subplots(figsize=(12, 5))\n",
    "sns.countplot(df.record_1)"
   ]
  },
  {
   "cell_type": "code",
   "execution_count": null,
   "id": "11606fd5-ef54-4184-af87-997540a65cdc",
   "metadata": {},
   "outputs": [],
   "source": [
    "fig, ax = plt.subplots(figsize=(20 , 7))\n",
    "ax = sns.countplot(data=df, x='race', palette='autumn')\n",
    "ax.bar_label(ax.containers[0], fontsize=15, fmt='%d')\n",
    "# ax.set_xticklabels(labels=[v for k, v in educ_dict.items()], rotation=45)\n",
    "ax.set_title('Maternal Mortality by Race, 2009-2018', fontsize=15)"
   ]
  },
  {
   "cell_type": "code",
   "execution_count": null,
   "id": "d40f110d-2d31-4edc-bb70-3eaebf234349",
   "metadata": {},
   "outputs": [],
   "source": [
    "df.place_of_death.unique()"
   ]
  },
  {
   "cell_type": "code",
   "execution_count": null,
   "id": "6e3e4e36-1648-4e7a-ad30-6ff77830e3fc",
   "metadata": {},
   "outputs": [],
   "source": [
    "place_dict = {1: 'Hospital, Clinic, Med Ctr: Inpatient', \n",
    "             2: 'Hospital, Clinic, Med Ctr: Outpatient', \n",
    "             3: 'Hospital, Clinic, Med Ctr: DOA', \n",
    "             4: 'Descedent\\'s Home', \n",
    "             5: 'Hospice', \n",
    "             6: 'Nursing Home, Long-Term Care', \n",
    "             7: 'Other', \n",
    "             9: 'Place of Death Unknown'}"
   ]
  },
  {
   "cell_type": "code",
   "execution_count": null,
   "id": "19df0d0a-5e83-411c-83bc-e027ff14ba3f",
   "metadata": {},
   "outputs": [],
   "source": [
    "place_plot = df.groupby(['place_of_death', 'race']).size().reset_index().pivot(columns='race', index='place_of_death', values=0)\n"
   ]
  },
  {
   "cell_type": "code",
   "execution_count": null,
   "id": "974f81b1-2a6e-4340-9b96-4cf2b0f764fe",
   "metadata": {},
   "outputs": [],
   "source": [
    "fig, ax = plt.subplots(figsize=(20, 7))\n",
    "place_plot.plot(kind='bar', stacked=True, ax=ax)\n",
    "ax.set_xticklabels(labels=[v for k, v in place_dict.items()], rotation=30)\n",
    "ax.set_title('Maternal Mortality by Place of Death, 2009-2018', fontsize=15)"
   ]
  },
  {
   "cell_type": "code",
   "execution_count": null,
   "id": "d1efe292-fccf-46e8-bc93-692b9316df79",
   "metadata": {},
   "outputs": [],
   "source": []
  }
 ],
 "metadata": {
  "kernelspec": {
   "display_name": "Python 3",
   "language": "python",
   "name": "python3"
  },
  "language_info": {
   "codemirror_mode": {
    "name": "ipython",
    "version": 3
   },
   "file_extension": ".py",
   "mimetype": "text/x-python",
   "name": "python",
   "nbconvert_exporter": "python",
   "pygments_lexer": "ipython3",
   "version": "3.7.7"
  }
 },
 "nbformat": 4,
 "nbformat_minor": 5
}
