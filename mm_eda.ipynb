{
 "cells": [
  {
   "cell_type": "code",
   "execution_count": 977,
   "id": "7ff7c5ac-81ed-4a00-b5de-c79420c2cd7c",
   "metadata": {},
   "outputs": [],
   "source": [
    "import pandas as pd\n",
    "import numpy as np\n",
    "import seaborn as sns\n",
    "import matplotlib.pyplot as plt\n",
    "import matplotlib.colors as matcolors\n",
    "plt.style.use('ggplot')\n",
    "%matplotlib inline\n",
    "import seaborn as sns\n",
    "import plotly.graph_objects as go\n",
    "from itertools import chain\n",
    "sns.set(font=\"DejaVu Sans\")\n",
    "color_list = sns.cubehelix_palette(n_colors=40, rot=1.8, start=4)\n",
    "color_list = color_list.as_hex()"
   ]
  },
  {
   "cell_type": "code",
   "execution_count": 2,
   "id": "194b6615-2740-47ad-8023-953d5df64d35",
   "metadata": {},
   "outputs": [],
   "source": [
    "to_drop = ['educ1989', 'educflag', 'ageflag', 'age', 'ager52', \n",
    "           'ager12', 'ager22', 'eanum', 'brace', 'raceimp', 'racer3', \n",
    "           'racer5', 'hispanic', 'hspanicr', 'ucr358', 'ucr130', 'ucr39', 'econdp_1',\n",
    "            'econds_1', 'enicon_1', 'econdp_2', 'econds_2', 'enicon_2', 'econdp_3',\n",
    "            'econds_3', 'enicon_3', 'econdp_4', 'econds_4', 'enicon_4', 'econdp_5',\n",
    "            'econds_5', 'enicon_5', 'econdp_6', 'econds_6', 'enicon_6', 'econdp_7', 'econds_7',\n",
    "            'enicon_7', 'econdp_8', 'econds_8', 'enicon_8', 'econdp_9', 'econds_9',\n",
    "            'enicon_9', 'econdp_10', 'econds_10', 'enicon_10', 'econdp_11', 'econds_11', 'enicon_11',\n",
    "            'econdp_12', 'econds_12', 'enicon_12', 'econdp_13', 'econds_13', 'enicon_13',\n",
    "            'econdp_14', 'econds_14', 'enicon_14', 'econdp_15', 'econds_15', 'enicon_15',\n",
    "            'econdp_16', 'econds_16', 'enicon_16', 'econdp_17', 'econds_17', 'enicon_17',\n",
    "            'econdp_18', 'econds_18', 'enicon_18', 'econdp_19', 'econds_19', 'enicon_19', 'econdp_20',\n",
    "            'econds_20', 'enicon_20']"
   ]
  },
  {
   "cell_type": "code",
   "execution_count": 3,
   "id": "fd7c6b5d-0718-4c56-9cfd-bc26ad7804e4",
   "metadata": {},
   "outputs": [],
   "source": [
    "main_df = pd.DataFrame()"
   ]
  },
  {
   "cell_type": "code",
   "execution_count": 4,
   "id": "6fd8f618-0efc-4c6d-9cdc-684274bf0a6e",
   "metadata": {},
   "outputs": [],
   "source": [
    "def clean_mort_file(file_path): \n",
    "    df = pd.read_csv(file_path)\n",
    "    df.drop(columns=to_drop, inplace=True)\n",
    "    df = df[df['ucod'].str.startswith('O')]\n",
    "    return df"
   ]
  },
  {
   "cell_type": "code",
   "execution_count": 5,
   "id": "2c430822-ed65-419d-8fed-14bcd265b417",
   "metadata": {},
   "outputs": [],
   "source": [
    "files_list = ['data/mort2009.csv', 'data/mort2010.csv', \n",
    "             'data/mort2011.csv', 'data/mort2012.csv', \n",
    "             'data/mort2013.csv', 'data/mort2014.csv', \n",
    "             'data/mort2015.csv', 'data/mort2016.csv', \n",
    "             'data/mort2017.csv', 'data/Mort2018US.PubUse.csv']"
   ]
  },
  {
   "cell_type": "code",
   "execution_count": 6,
   "id": "0de43223-3082-4b11-9d43-adeb82603fca",
   "metadata": {},
   "outputs": [
    {
     "name": "stderr",
     "output_type": "stream",
     "text": [
      "/opt/anaconda3/lib/python3.7/site-packages/ipykernel_launcher.py:2: DtypeWarning: Columns (39,42,45,48,51,54,57,60,63,66,69,72,75,78,81,84,87,91,92,93,94,95,96,97,98,99,100,101,102,103,104,105,106) have mixed types.Specify dtype option on import or set low_memory=False.\n",
      "  \n",
      "/opt/anaconda3/lib/python3.7/site-packages/ipykernel_launcher.py:2: DtypeWarning: Columns (63,66,69,72,75,78,81,84,99,100,101,102,103,104,105,106) have mixed types.Specify dtype option on import or set low_memory=False.\n",
      "  \n",
      "/opt/anaconda3/lib/python3.7/site-packages/ipykernel_launcher.py:2: DtypeWarning: Columns (63,66,69,72,75,78,81,84,99,100,101,102,103,104,105,106,107) have mixed types.Specify dtype option on import or set low_memory=False.\n",
      "  \n",
      "/opt/anaconda3/lib/python3.7/site-packages/ipykernel_launcher.py:2: DtypeWarning: Columns (60,63,66,69,72,99,100,101,102,103,104,105) have mixed types.Specify dtype option on import or set low_memory=False.\n",
      "  \n",
      "/opt/anaconda3/lib/python3.7/site-packages/ipykernel_launcher.py:2: DtypeWarning: Columns (60,63,66,69,72,99,100,101,102) have mixed types.Specify dtype option on import or set low_memory=False.\n",
      "  \n",
      "/opt/anaconda3/lib/python3.7/site-packages/ipykernel_launcher.py:2: DtypeWarning: Columns (63,66,69,72,100,101,102,103) have mixed types.Specify dtype option on import or set low_memory=False.\n",
      "  \n",
      "/opt/anaconda3/lib/python3.7/site-packages/ipykernel_launcher.py:2: DtypeWarning: Columns (63,66,69,72,99,100,101,102,103) have mixed types.Specify dtype option on import or set low_memory=False.\n",
      "  \n",
      "/opt/anaconda3/lib/python3.7/site-packages/ipykernel_launcher.py:2: DtypeWarning: Columns (66,69,72,100,101,102,103) have mixed types.Specify dtype option on import or set low_memory=False.\n",
      "  \n"
     ]
    }
   ],
   "source": [
    "for file in files_list: \n",
    "    df = clean_mort_file(file)\n",
    "    main_df = main_df.append(df)"
   ]
  },
  {
   "cell_type": "code",
   "execution_count": 7,
   "id": "3ede637c-92b6-4e2b-b826-a982feab2c22",
   "metadata": {},
   "outputs": [
    {
     "name": "stdout",
     "output_type": "stream",
     "text": [
      "<class 'pandas.core.frame.DataFrame'>\n",
      "Int64Index: 10561 entries, 2113 to 2844169\n",
      "Data columns (total 39 columns):\n",
      " #   Column     Non-Null Count  Dtype  \n",
      "---  ------     --------------  -----  \n",
      " 0   restatus   10561 non-null  int64  \n",
      " 1   educ2003   9840 non-null   float64\n",
      " 2   monthdth   10561 non-null  int64  \n",
      " 3   sex        10561 non-null  object \n",
      " 4   ager27     10561 non-null  int64  \n",
      " 5   placdth    10561 non-null  int64  \n",
      " 6   marstat    10561 non-null  object \n",
      " 7   weekday    10561 non-null  int64  \n",
      " 8   year       10561 non-null  int64  \n",
      " 9   injwork    10561 non-null  object \n",
      " 10  mandeath   9693 non-null   float64\n",
      " 11  methdisp   10561 non-null  object \n",
      " 12  autopsy    10561 non-null  object \n",
      " 13  activity   10 non-null     float64\n",
      " 14  injury     297 non-null    float64\n",
      " 15  ucod       10561 non-null  object \n",
      " 16  ucr113     10561 non-null  int64  \n",
      " 17  ranum      10561 non-null  int64  \n",
      " 18  record_1   10561 non-null  object \n",
      " 19  record_2   3990 non-null   object \n",
      " 20  record_3   1564 non-null   object \n",
      " 21  record_4   671 non-null    object \n",
      " 22  record_5   286 non-null    object \n",
      " 23  record_6   126 non-null    object \n",
      " 24  record_7   60 non-null     object \n",
      " 25  record_8   27 non-null     object \n",
      " 26  record_9   9 non-null      object \n",
      " 27  record_10  6 non-null      object \n",
      " 28  record_11  3 non-null      object \n",
      " 29  record_12  0 non-null      object \n",
      " 30  record_13  0 non-null      object \n",
      " 31  record_14  0 non-null      object \n",
      " 32  record_15  0 non-null      object \n",
      " 33  record_16  0 non-null      float64\n",
      " 34  record_17  0 non-null      float64\n",
      " 35  record_18  0 non-null      float64\n",
      " 36  record_19  0 non-null      float64\n",
      " 37  record_20  0 non-null      float64\n",
      " 38  race       10561 non-null  int64  \n",
      "dtypes: float64(9), int64(9), object(21)\n",
      "memory usage: 3.2+ MB\n"
     ]
    }
   ],
   "source": [
    "main_df.info()"
   ]
  },
  {
   "cell_type": "code",
   "execution_count": 8,
   "id": "c6b675fe-76ea-46eb-a335-916b287ae194",
   "metadata": {},
   "outputs": [],
   "source": [
    "percent_missing = main_df.isnull().sum() * 100 / len(main_df)\n",
    "missing_value_df = pd.DataFrame({'column_name': main_df.columns,\n",
    "                                 'percent_missing': percent_missing})"
   ]
  },
  {
   "cell_type": "code",
   "execution_count": 9,
   "id": "1343cdc8-d211-4448-9750-9ccd6b6ec4a5",
   "metadata": {},
   "outputs": [
    {
     "data": {
      "text/html": [
       "<div>\n",
       "<style scoped>\n",
       "    .dataframe tbody tr th:only-of-type {\n",
       "        vertical-align: middle;\n",
       "    }\n",
       "\n",
       "    .dataframe tbody tr th {\n",
       "        vertical-align: top;\n",
       "    }\n",
       "\n",
       "    .dataframe thead th {\n",
       "        text-align: right;\n",
       "    }\n",
       "</style>\n",
       "<table border=\"1\" class=\"dataframe\">\n",
       "  <thead>\n",
       "    <tr style=\"text-align: right;\">\n",
       "      <th></th>\n",
       "      <th>column_name</th>\n",
       "      <th>percent_missing</th>\n",
       "    </tr>\n",
       "  </thead>\n",
       "  <tbody>\n",
       "    <tr>\n",
       "      <th>restatus</th>\n",
       "      <td>restatus</td>\n",
       "      <td>0.000000</td>\n",
       "    </tr>\n",
       "    <tr>\n",
       "      <th>educ2003</th>\n",
       "      <td>educ2003</td>\n",
       "      <td>6.827005</td>\n",
       "    </tr>\n",
       "    <tr>\n",
       "      <th>monthdth</th>\n",
       "      <td>monthdth</td>\n",
       "      <td>0.000000</td>\n",
       "    </tr>\n",
       "    <tr>\n",
       "      <th>sex</th>\n",
       "      <td>sex</td>\n",
       "      <td>0.000000</td>\n",
       "    </tr>\n",
       "    <tr>\n",
       "      <th>ager27</th>\n",
       "      <td>ager27</td>\n",
       "      <td>0.000000</td>\n",
       "    </tr>\n",
       "    <tr>\n",
       "      <th>placdth</th>\n",
       "      <td>placdth</td>\n",
       "      <td>0.000000</td>\n",
       "    </tr>\n",
       "    <tr>\n",
       "      <th>marstat</th>\n",
       "      <td>marstat</td>\n",
       "      <td>0.000000</td>\n",
       "    </tr>\n",
       "    <tr>\n",
       "      <th>weekday</th>\n",
       "      <td>weekday</td>\n",
       "      <td>0.000000</td>\n",
       "    </tr>\n",
       "    <tr>\n",
       "      <th>year</th>\n",
       "      <td>year</td>\n",
       "      <td>0.000000</td>\n",
       "    </tr>\n",
       "    <tr>\n",
       "      <th>injwork</th>\n",
       "      <td>injwork</td>\n",
       "      <td>0.000000</td>\n",
       "    </tr>\n",
       "    <tr>\n",
       "      <th>mandeath</th>\n",
       "      <td>mandeath</td>\n",
       "      <td>8.218919</td>\n",
       "    </tr>\n",
       "    <tr>\n",
       "      <th>methdisp</th>\n",
       "      <td>methdisp</td>\n",
       "      <td>0.000000</td>\n",
       "    </tr>\n",
       "    <tr>\n",
       "      <th>autopsy</th>\n",
       "      <td>autopsy</td>\n",
       "      <td>0.000000</td>\n",
       "    </tr>\n",
       "    <tr>\n",
       "      <th>activity</th>\n",
       "      <td>activity</td>\n",
       "      <td>99.905312</td>\n",
       "    </tr>\n",
       "    <tr>\n",
       "      <th>injury</th>\n",
       "      <td>injury</td>\n",
       "      <td>97.187766</td>\n",
       "    </tr>\n",
       "    <tr>\n",
       "      <th>ucod</th>\n",
       "      <td>ucod</td>\n",
       "      <td>0.000000</td>\n",
       "    </tr>\n",
       "    <tr>\n",
       "      <th>ucr113</th>\n",
       "      <td>ucr113</td>\n",
       "      <td>0.000000</td>\n",
       "    </tr>\n",
       "    <tr>\n",
       "      <th>ranum</th>\n",
       "      <td>ranum</td>\n",
       "      <td>0.000000</td>\n",
       "    </tr>\n",
       "    <tr>\n",
       "      <th>record_1</th>\n",
       "      <td>record_1</td>\n",
       "      <td>0.000000</td>\n",
       "    </tr>\n",
       "    <tr>\n",
       "      <th>record_2</th>\n",
       "      <td>record_2</td>\n",
       "      <td>62.219487</td>\n",
       "    </tr>\n",
       "    <tr>\n",
       "      <th>record_3</th>\n",
       "      <td>record_3</td>\n",
       "      <td>85.190796</td>\n",
       "    </tr>\n",
       "    <tr>\n",
       "      <th>record_4</th>\n",
       "      <td>record_4</td>\n",
       "      <td>93.646435</td>\n",
       "    </tr>\n",
       "    <tr>\n",
       "      <th>record_5</th>\n",
       "      <td>record_5</td>\n",
       "      <td>97.291923</td>\n",
       "    </tr>\n",
       "    <tr>\n",
       "      <th>record_6</th>\n",
       "      <td>record_6</td>\n",
       "      <td>98.806931</td>\n",
       "    </tr>\n",
       "    <tr>\n",
       "      <th>record_7</th>\n",
       "      <td>record_7</td>\n",
       "      <td>99.431872</td>\n",
       "    </tr>\n",
       "    <tr>\n",
       "      <th>record_8</th>\n",
       "      <td>record_8</td>\n",
       "      <td>99.744342</td>\n",
       "    </tr>\n",
       "    <tr>\n",
       "      <th>record_9</th>\n",
       "      <td>record_9</td>\n",
       "      <td>99.914781</td>\n",
       "    </tr>\n",
       "    <tr>\n",
       "      <th>record_10</th>\n",
       "      <td>record_10</td>\n",
       "      <td>99.943187</td>\n",
       "    </tr>\n",
       "    <tr>\n",
       "      <th>record_11</th>\n",
       "      <td>record_11</td>\n",
       "      <td>99.971594</td>\n",
       "    </tr>\n",
       "    <tr>\n",
       "      <th>record_12</th>\n",
       "      <td>record_12</td>\n",
       "      <td>100.000000</td>\n",
       "    </tr>\n",
       "    <tr>\n",
       "      <th>record_13</th>\n",
       "      <td>record_13</td>\n",
       "      <td>100.000000</td>\n",
       "    </tr>\n",
       "    <tr>\n",
       "      <th>record_14</th>\n",
       "      <td>record_14</td>\n",
       "      <td>100.000000</td>\n",
       "    </tr>\n",
       "    <tr>\n",
       "      <th>record_15</th>\n",
       "      <td>record_15</td>\n",
       "      <td>100.000000</td>\n",
       "    </tr>\n",
       "    <tr>\n",
       "      <th>record_16</th>\n",
       "      <td>record_16</td>\n",
       "      <td>100.000000</td>\n",
       "    </tr>\n",
       "    <tr>\n",
       "      <th>record_17</th>\n",
       "      <td>record_17</td>\n",
       "      <td>100.000000</td>\n",
       "    </tr>\n",
       "    <tr>\n",
       "      <th>record_18</th>\n",
       "      <td>record_18</td>\n",
       "      <td>100.000000</td>\n",
       "    </tr>\n",
       "    <tr>\n",
       "      <th>record_19</th>\n",
       "      <td>record_19</td>\n",
       "      <td>100.000000</td>\n",
       "    </tr>\n",
       "    <tr>\n",
       "      <th>record_20</th>\n",
       "      <td>record_20</td>\n",
       "      <td>100.000000</td>\n",
       "    </tr>\n",
       "    <tr>\n",
       "      <th>race</th>\n",
       "      <td>race</td>\n",
       "      <td>0.000000</td>\n",
       "    </tr>\n",
       "  </tbody>\n",
       "</table>\n",
       "</div>"
      ],
      "text/plain": [
       "          column_name  percent_missing\n",
       "restatus     restatus         0.000000\n",
       "educ2003     educ2003         6.827005\n",
       "monthdth     monthdth         0.000000\n",
       "sex               sex         0.000000\n",
       "ager27         ager27         0.000000\n",
       "placdth       placdth         0.000000\n",
       "marstat       marstat         0.000000\n",
       "weekday       weekday         0.000000\n",
       "year             year         0.000000\n",
       "injwork       injwork         0.000000\n",
       "mandeath     mandeath         8.218919\n",
       "methdisp     methdisp         0.000000\n",
       "autopsy       autopsy         0.000000\n",
       "activity     activity        99.905312\n",
       "injury         injury        97.187766\n",
       "ucod             ucod         0.000000\n",
       "ucr113         ucr113         0.000000\n",
       "ranum           ranum         0.000000\n",
       "record_1     record_1         0.000000\n",
       "record_2     record_2        62.219487\n",
       "record_3     record_3        85.190796\n",
       "record_4     record_4        93.646435\n",
       "record_5     record_5        97.291923\n",
       "record_6     record_6        98.806931\n",
       "record_7     record_7        99.431872\n",
       "record_8     record_8        99.744342\n",
       "record_9     record_9        99.914781\n",
       "record_10   record_10        99.943187\n",
       "record_11   record_11        99.971594\n",
       "record_12   record_12       100.000000\n",
       "record_13   record_13       100.000000\n",
       "record_14   record_14       100.000000\n",
       "record_15   record_15       100.000000\n",
       "record_16   record_16       100.000000\n",
       "record_17   record_17       100.000000\n",
       "record_18   record_18       100.000000\n",
       "record_19   record_19       100.000000\n",
       "record_20   record_20       100.000000\n",
       "race             race         0.000000"
      ]
     },
     "execution_count": 9,
     "metadata": {},
     "output_type": "execute_result"
    }
   ],
   "source": [
    "missing_value_df"
   ]
  },
  {
   "cell_type": "code",
   "execution_count": 10,
   "id": "0f747154-e357-45e0-a8b1-b066d7f6ae76",
   "metadata": {},
   "outputs": [],
   "source": [
    "to_drop = ['record_6', 'record_7', 'record_8', 'record_9', 'record_10', 'record_11', 'record_12', \n",
    "          'record_13', 'record_14', 'record_15', 'record_16', 'record_17', 'record_18', \n",
    "          'record_19', 'record_20', 'activity', 'injury']"
   ]
  },
  {
   "cell_type": "code",
   "execution_count": 11,
   "id": "d3d77a08-c441-4b07-ae79-89d5b8eaf783",
   "metadata": {},
   "outputs": [],
   "source": [
    "main_df.drop(to_drop, inplace=True, axis=1)"
   ]
  },
  {
   "cell_type": "code",
   "execution_count": 12,
   "id": "edcac4ed-9f47-46c9-953c-38b6b3589121",
   "metadata": {},
   "outputs": [
    {
     "name": "stdout",
     "output_type": "stream",
     "text": [
      "<class 'pandas.core.frame.DataFrame'>\n",
      "Int64Index: 10561 entries, 2113 to 2844169\n",
      "Data columns (total 22 columns):\n",
      " #   Column    Non-Null Count  Dtype  \n",
      "---  ------    --------------  -----  \n",
      " 0   restatus  10561 non-null  int64  \n",
      " 1   educ2003  9840 non-null   float64\n",
      " 2   monthdth  10561 non-null  int64  \n",
      " 3   sex       10561 non-null  object \n",
      " 4   ager27    10561 non-null  int64  \n",
      " 5   placdth   10561 non-null  int64  \n",
      " 6   marstat   10561 non-null  object \n",
      " 7   weekday   10561 non-null  int64  \n",
      " 8   year      10561 non-null  int64  \n",
      " 9   injwork   10561 non-null  object \n",
      " 10  mandeath  9693 non-null   float64\n",
      " 11  methdisp  10561 non-null  object \n",
      " 12  autopsy   10561 non-null  object \n",
      " 13  ucod      10561 non-null  object \n",
      " 14  ucr113    10561 non-null  int64  \n",
      " 15  ranum     10561 non-null  int64  \n",
      " 16  record_1  10561 non-null  object \n",
      " 17  record_2  3990 non-null   object \n",
      " 18  record_3  1564 non-null   object \n",
      " 19  record_4  671 non-null    object \n",
      " 20  record_5  286 non-null    object \n",
      " 21  race      10561 non-null  int64  \n",
      "dtypes: float64(2), int64(9), object(11)\n",
      "memory usage: 1.9+ MB\n"
     ]
    }
   ],
   "source": [
    "main_df.info()"
   ]
  },
  {
   "cell_type": "code",
   "execution_count": 13,
   "id": "533e1339-9708-4452-96a6-c451662d65c6",
   "metadata": {},
   "outputs": [],
   "source": [
    "main_df.reset_index(inplace=True)"
   ]
  },
  {
   "cell_type": "code",
   "execution_count": 14,
   "id": "ebdb5da6-fe3b-404b-bf7b-115e3d4bdd18",
   "metadata": {},
   "outputs": [],
   "source": [
    "df = main_df.copy()"
   ]
  },
  {
   "cell_type": "code",
   "execution_count": 259,
   "id": "f5e7a313-21a7-4c9a-b5d2-bd0b3f62f01d",
   "metadata": {},
   "outputs": [
    {
     "name": "stdout",
     "output_type": "stream",
     "text": [
      "<class 'pandas.core.frame.DataFrame'>\n",
      "Int64Index: 9113 entries, 6 to 10560\n",
      "Data columns (total 23 columns):\n",
      " #   Column    Non-Null Count  Dtype  \n",
      "---  ------    --------------  -----  \n",
      " 0   index     9113 non-null   int64  \n",
      " 1   restatus  9113 non-null   int64  \n",
      " 2   educ2003  9113 non-null   float64\n",
      " 3   monthdth  9113 non-null   int64  \n",
      " 4   sex       9113 non-null   object \n",
      " 5   ager27    9113 non-null   int64  \n",
      " 6   placdth   9113 non-null   int64  \n",
      " 7   marstat   9113 non-null   object \n",
      " 8   weekday   9113 non-null   int64  \n",
      " 9   year      9113 non-null   int64  \n",
      " 10  injwork   9113 non-null   object \n",
      " 11  mandeath  9113 non-null   float64\n",
      " 12  methdisp  9113 non-null   object \n",
      " 13  autopsy   9113 non-null   object \n",
      " 14  ucod      9113 non-null   object \n",
      " 15  ucr113    9113 non-null   int64  \n",
      " 16  ranum     9113 non-null   int64  \n",
      " 17  record_1  9113 non-null   object \n",
      " 18  record_2  9113 non-null   object \n",
      " 19  record_3  9113 non-null   object \n",
      " 20  record_4  9113 non-null   object \n",
      " 21  record_5  9113 non-null   object \n",
      " 22  race      9113 non-null   int64  \n",
      "dtypes: float64(2), int64(10), object(11)\n",
      "memory usage: 1.7+ MB\n"
     ]
    }
   ],
   "source": [
    "df.info()"
   ]
  },
  {
   "cell_type": "code",
   "execution_count": 660,
   "id": "0ad91f8d-b944-4aa8-9dbb-6dad62fd97a4",
   "metadata": {},
   "outputs": [],
   "source": [
    "#  fill NA as None string for records without additional information \n",
    "\n"
   ]
  },
  {
   "cell_type": "code",
   "execution_count": 826,
   "id": "107b8f86",
   "metadata": {},
   "outputs": [],
   "source": [
    "# create a dictionary for the causes involved in this chart\n",
    "causes_dict = {'O268s': 'O268: Other Specified Pregnancy-Related Conditions(s)',\n",
    "               'O998s': 'O998: Other Specified Diseases Complicating Pregnancy(s)',\n",
    "               'O961s': 'O961: Indirect Obstetric Cause, 42d-365d post-delivery(s)',\n",
    "               'O960s': 'O960: Direct Obstetric Cause, 42d-365d post-delivery(s)',\n",
    "               'O994s': 'O994: Diseases of the Circulatory System(s)', \n",
    "                 'O903s': 'O903: Cardiomyopathy in the puerperium',\n",
    "               \n",
    "               'A419': 'A419: Sepsis, unspecified',\n",
    "               'O881': 'O881: Amniotic Fluid Embolism',\n",
    "                   'C509': 'C509: Breast Neoplasm, Unspecified',\n",
    "               'C910': 'C910: Acute lymphoblastic leukaemia', \n",
    "                   'None': 'No Secondary Cause Reported',\n",
    "                    'O960': 'O960: Direct Obstetric Cause, 42d-365d post-delivery',\n",
    "                   'O268': 'O268: Other Specified Pregnancy-Related Conditions',\n",
    "                   'R99': 'R99: Illness or Undefined Cause of Mortality',\n",
    "                 'O961': 'O961: Indirect Obstetric Cause, 42d-365d post-delivery(s)',\n",
    "               'F179': 'F179: Unspecified disorder due to use of tobacco',\n",
    "               'F191': 'F191: Mental and behavioural disorders due to harmful use of other psychoactive substances', \n",
    "               'O998': 'O998: Other Specified Diseases Complicating Pregnancy', \n",
    "                   'O995': 'O995: Diseases of the Respiratory System',\n",
    "                   'I499': 'I499: Cardiac Arrhythmia, Unspecified', \n",
    "                   'O998': 'O998: Other Specified Diseases Complicating Pregnancy',\n",
    "                   'O961': 'O961: Indirect Obstetric Cause, 42d-365d post-delivery',\n",
    "                   'O266': 'O266: Liver Disorder',\n",
    "               'O721': 'O721: Other immediate postpartum haemorrhage', \n",
    "               'G931': 'G931: Anoxic brain damage, not elsewhere classified',\n",
    "               'G932': 'G932: Benign intracranial hypertension',\n",
    "               'G122': 'G122: Motor neuron disease', \n",
    "               'B24': 'B24: Unspecified HIV Disease', \n",
    "               'O985': 'O985: Other viral diseases complicating pregnancy, childbirth and the puerperium', \n",
    "               'O987': 'O987: HIV disease complicating pregnancy, childbirth and the puerperium', \n",
    "               'O903': 'O903: Cardiomyopathy in the puerperium',\n",
    "               'O994': 'O994: Diseases of the Circulatory System',\n",
    "               'I119': 'I119: Hypertensive heart disease without (congestive) heart failure',     \n",
    "               'I219': 'I219: Acute myocardial infarction, unspecified',\n",
    "                   'I269': 'I269: Pulmonary Embolism',\n",
    "               'I330': 'I330: Acute and subacute infective endocarditis', \n",
    "               'I420': 'I420: Dilated cardiomyopathy',\n",
    "               'I428': 'I428: Other cardiomyopathies', \n",
    "               'I429': 'I429: Cardiomyopathy, unspecified', \n",
    "               'J159': 'J159: Bacterial pneumonia, unspecified', \n",
    "               'J189': 'J189: Pneumonia, unspecified',\n",
    "               'J459': 'J459: Asthma, unspecified', \n",
    "               'O100': 'O100: Pre-existing Hypertension',\n",
    "                   'O882': 'O882: Obstetric blood-clot embolism',\n",
    "               'S930': 'S930: Dislocation of ankle joint', \n",
    "            'T509': 'T509: Unspecified Drugs',\n",
    "               'T436': 'T436: Psychostimulants with abuse potential',\n",
    "               'T71': 'T71: Asphyxiation', \n",
    "               'T862': 'T862: Heart transplant failure and rejection',\n",
    "               'O149': 'O149: Pre-eclampsia, unspecified', \n",
    "               'O249': 'O249: Diabetes mellitus in pregnancy, unspecified',\n",
    "                   'O993': 'O993: Diseases of the Nervous System / Mental Disorders',\n",
    "                   'O988': 'O988: Infection / Parasitic Disease, Other', \n",
    "              'O908': 'O908: Other complications of the puerperium, not elsewhere classified'}"
   ]
  },
  {
   "cell_type": "code",
   "execution_count": 846,
   "id": "e0f51b6a",
   "metadata": {},
   "outputs": [],
   "source": [
    "df.race = df.race.replace(to_replace=race_dict)"
   ]
  },
  {
   "cell_type": "code",
   "execution_count": 954,
   "id": "4adf28b7",
   "metadata": {},
   "outputs": [
    {
     "data": {
      "text/html": [
       "<div>\n",
       "<style scoped>\n",
       "    .dataframe tbody tr th:only-of-type {\n",
       "        vertical-align: middle;\n",
       "    }\n",
       "\n",
       "    .dataframe tbody tr th {\n",
       "        vertical-align: top;\n",
       "    }\n",
       "\n",
       "    .dataframe thead th {\n",
       "        text-align: right;\n",
       "    }\n",
       "</style>\n",
       "<table border=\"1\" class=\"dataframe\">\n",
       "  <thead>\n",
       "    <tr style=\"text-align: right;\">\n",
       "      <th></th>\n",
       "      <th>Cause</th>\n",
       "      <th>Number of Total Deaths</th>\n",
       "    </tr>\n",
       "  </thead>\n",
       "  <tbody>\n",
       "    <tr>\n",
       "      <th>0</th>\n",
       "      <td>O268: Other Specified Pregnancy-Related Condit...</td>\n",
       "      <td>1712</td>\n",
       "    </tr>\n",
       "    <tr>\n",
       "      <th>1</th>\n",
       "      <td>O998: Other Specified Diseases Complicating Pr...</td>\n",
       "      <td>1045</td>\n",
       "    </tr>\n",
       "    <tr>\n",
       "      <th>2</th>\n",
       "      <td>O961: Indirect Obstetric Cause, 42d-365d post-...</td>\n",
       "      <td>928</td>\n",
       "    </tr>\n",
       "    <tr>\n",
       "      <th>3</th>\n",
       "      <td>O960: Direct Obstetric Cause, 42d-365d post-de...</td>\n",
       "      <td>769</td>\n",
       "    </tr>\n",
       "    <tr>\n",
       "      <th>4</th>\n",
       "      <td>O994: Diseases of the Circulatory System</td>\n",
       "      <td>596</td>\n",
       "    </tr>\n",
       "  </tbody>\n",
       "</table>\n",
       "</div>"
      ],
      "text/plain": [
       "                                               Cause  Number of Total Deaths\n",
       "0  O268: Other Specified Pregnancy-Related Condit...                    1712\n",
       "1  O998: Other Specified Diseases Complicating Pr...                    1045\n",
       "2  O961: Indirect Obstetric Cause, 42d-365d post-...                     928\n",
       "3  O960: Direct Obstetric Cause, 42d-365d post-de...                     769\n",
       "4           O994: Diseases of the Circulatory System                     596"
      ]
     },
     "execution_count": 954,
     "metadata": {},
     "output_type": "execute_result"
    }
   ],
   "source": [
    "frame = df.record_1.value_counts()[:5]\n",
    "indices = frame.index\n",
    "data = frame.values\n",
    "frame = {'Cause': indices, 'Number of Total Deaths': data}\n",
    "frame = pd.DataFrame(frame)\n",
    "frame.replace(to_replace=causes_dict, inplace=True)\n",
    "frame"
   ]
  },
  {
   "cell_type": "code",
   "execution_count": 955,
   "id": "b006d0e3",
   "metadata": {},
   "outputs": [
    {
     "data": {
      "text/plain": [
       "1112.8"
      ]
     },
     "execution_count": 955,
     "metadata": {},
     "output_type": "execute_result"
    }
   ],
   "source": [
    "1712 * .65"
   ]
  },
  {
   "cell_type": "code",
   "execution_count": 861,
   "id": "b0f89223",
   "metadata": {},
   "outputs": [
    {
     "data": {
      "text/html": [
       "<div>\n",
       "<style scoped>\n",
       "    .dataframe tbody tr th:only-of-type {\n",
       "        vertical-align: middle;\n",
       "    }\n",
       "\n",
       "    .dataframe tbody tr th {\n",
       "        vertical-align: top;\n",
       "    }\n",
       "\n",
       "    .dataframe thead th {\n",
       "        text-align: right;\n",
       "    }\n",
       "</style>\n",
       "<table border=\"1\" class=\"dataframe\">\n",
       "  <thead>\n",
       "    <tr style=\"text-align: right;\">\n",
       "      <th></th>\n",
       "      <th>Cause</th>\n",
       "      <th>Percent of Total Deaths</th>\n",
       "    </tr>\n",
       "  </thead>\n",
       "  <tbody>\n",
       "    <tr>\n",
       "      <th>0</th>\n",
       "      <td>O268: Other Specified Pregnancy-Related Condit...</td>\n",
       "      <td>18.79</td>\n",
       "    </tr>\n",
       "    <tr>\n",
       "      <th>1</th>\n",
       "      <td>O998: Other Specified Diseases Complicating Pr...</td>\n",
       "      <td>11.47</td>\n",
       "    </tr>\n",
       "    <tr>\n",
       "      <th>2</th>\n",
       "      <td>O961: Indirect Obstetric Cause, 42d-365d post-...</td>\n",
       "      <td>10.18</td>\n",
       "    </tr>\n",
       "    <tr>\n",
       "      <th>3</th>\n",
       "      <td>O960: Direct Obstetric Cause, 42d-365d post-de...</td>\n",
       "      <td>8.44</td>\n",
       "    </tr>\n",
       "    <tr>\n",
       "      <th>4</th>\n",
       "      <td>O994: Diseases of the Circulatory System</td>\n",
       "      <td>6.54</td>\n",
       "    </tr>\n",
       "  </tbody>\n",
       "</table>\n",
       "</div>"
      ],
      "text/plain": [
       "                                               Cause  Percent of Total Deaths\n",
       "0  O268: Other Specified Pregnancy-Related Condit...                    18.79\n",
       "1  O998: Other Specified Diseases Complicating Pr...                    11.47\n",
       "2  O961: Indirect Obstetric Cause, 42d-365d post-...                    10.18\n",
       "3  O960: Direct Obstetric Cause, 42d-365d post-de...                     8.44\n",
       "4           O994: Diseases of the Circulatory System                     6.54"
      ]
     },
     "execution_count": 861,
     "metadata": {},
     "output_type": "execute_result"
    }
   ],
   "source": [
    "frame = df.record_1.value_counts(normalize=True)[:5]\n",
    "indices = frame.index\n",
    "data = frame.values\n",
    "frame = {'Cause': indices, 'Percent of Total Deaths': data}\n",
    "frame = pd.DataFrame(frame)\n",
    "frame.replace(to_replace=causes_dict, inplace=True)\n",
    "frame['Percent of Total Deaths'] = round(frame['Percent of Total Deaths']*100, 2)\n",
    "frame"
   ]
  },
  {
   "cell_type": "code",
   "execution_count": 953,
   "id": "daca8f1c",
   "metadata": {},
   "outputs": [
    {
     "data": {
      "text/plain": [
       "Text(0, 0.5, 'Cause of Death, Record 1')"
      ]
     },
     "execution_count": 953,
     "metadata": {},
     "output_type": "execute_result"
    },
    {
     "data": {
      "image/png": "[encoded data removed]",
      "text/plain": [
       "<Figure size 864x432 with 1 Axes>"
      ]
     },
     "metadata": {},
     "output_type": "display_data"
    }
   ],
   "source": [
    "fig, ax = plt.subplots(figsize=(12, 6))\n",
    "sns.barplot(data=frame, y='Cause', x='Percent of Total Deaths', ax=ax, palette=color_list[5:20:3])\n",
    "ax.set_title('Percentages of Total Deaths, Top 5 Causes for Record 1', fontdict={'fontsize': 15})\n",
    "ax.set_xlabel('Percent')\n",
    "ax.set_ylabel('Cause of Death, Record 1')"
   ]
  },
  {
   "cell_type": "code",
   "execution_count": 956,
   "id": "a0c27d4f",
   "metadata": {},
   "outputs": [],
   "source": [
    "def create_sankey_df(df): \n",
    "    san = pd.DataFrame(columns=['source', 'target', 'value'])\n",
    "    top_5 = df.record_1.value_counts(normalize=True)[:5]\n",
    "    df1 = df[df['record_1']==top_5_all.index[0]]\n",
    "    df2 = df[df['record_1']==top_5_all.index[1]]\n",
    "    df3 = df[df['record_1']==top_5_all.index[2]]\n",
    "    df4 = df[df['record_1']==top_5_all.index[3]]\n",
    "    df5 = df[df['record_1']==top_5_all.index[4]]\n",
    "    list_of_dfs = [df1, df2, df3, df4, df5]\n",
    "    list_of_top_5 = top_5.index\n",
    "    list_of_causes = []\n",
    "    list_of_causes.append(list_of_top_5.tolist())\n",
    "    for i in range(5): \n",
    "        san = san.append({'source': 'Top 5 Causes', 'target': top_5.index[i]+'s', 'value': top_5[i]*100}, ignore_index=True)\n",
    "    for idx, df in enumerate(list_of_dfs): \n",
    "        top = df.record_2.value_counts(normalize=True)[:5]\n",
    "        list_of_causes.append(top.index.tolist())\n",
    "        for i in range(5): \n",
    "            san = san.append({'source': list_of_top_5[idx]+'s', 'target': top.index[i], 'value': top[i]*100}, ignore_index=True)\n",
    "    list_of_causes = list(set(list(chain.from_iterable(list_of_causes))))\n",
    "    return san, list_of_causes"
   ]
  },
  {
   "cell_type": "code",
   "execution_count": 957,
   "id": "e6c9e887",
   "metadata": {},
   "outputs": [],
   "source": [
    "san, list_of_causes_all = create_sankey_df(df)"
   ]
  },
  {
   "cell_type": "code",
   "execution_count": 958,
   "id": "b3f914c7",
   "metadata": {},
   "outputs": [],
   "source": [
    "def set_sources_targets_nodes(san): \n",
    "    #   set source list from created 'san' df\n",
    "    source_set = set([x for x in san.source])\n",
    "    source_list = list(source_set)\n",
    "    source_map = dict(zip(source_list,range(len(source_list))))\n",
    "    source_map = {v: k for k, v in source_map.items()}\n",
    "    #   set target list from created 'san' df\n",
    "    target_set = set([x for x in san.target[5:]])\n",
    "    target_list = list(target_set)\n",
    "    target_map = dict(zip(target_list,range(6, 6+len(target_list))))\n",
    "    target_map = {v: k for k, v in target_map.items()}\n",
    "    #   set source list from created 'san' df\n",
    "\n",
    "    source_nodes_list = source_list + target_list\n",
    "    #   set nodes map from source & target maps \n",
    "    nodes_map = {**source_map, **target_map}\n",
    "    return source_map, target_map, nodes_map\n"
   ]
  },
  {
   "cell_type": "code",
   "execution_count": 959,
   "id": "e7535dcf",
   "metadata": {},
   "outputs": [],
   "source": [
    "source_map, target_map, nodes_map = set_sources_targets_nodes(san)"
   ]
  },
  {
   "cell_type": "code",
   "execution_count": 960,
   "id": "4c90775b",
   "metadata": {},
   "outputs": [],
   "source": [
    "# Sankeys only take numbers; make copy to create coded dataframe for sankey input\n",
    "san_coded = san.copy()"
   ]
  },
  {
   "cell_type": "code",
   "execution_count": 961,
   "id": "c8c20a19-b186-4bd0-a284-86b980d6422a",
   "metadata": {},
   "outputs": [],
   "source": [
    "# replace sources with their numbers \n",
    "san_coded.source = san_coded.source.replace(to_replace={v: k for k, v in source_map.items()})"
   ]
  },
  {
   "cell_type": "code",
   "execution_count": 962,
   "id": "a709ed41",
   "metadata": {},
   "outputs": [],
   "source": [
    "# replace targets with their numbers (first targets then targets that are also sources, e.g. first 5)\n",
    "\n",
    "san_coded.target = san_coded.target.replace(to_replace={v: k for k, v in target_map.items()})\n",
    "san_coded.target = san_coded.target.replace(to_replace={v: k for k, v in source_map.items()})"
   ]
  },
  {
   "cell_type": "code",
   "execution_count": 963,
   "id": "77557088",
   "metadata": {},
   "outputs": [],
   "source": [
    "# create nodes dataframe for sankey \n",
    "nodes = pd.DataFrame(columns=['ID', 'Label', 'Color'])"
   ]
  },
  {
   "cell_type": "code",
   "execution_count": 979,
   "id": "91636fde",
   "metadata": {},
   "outputs": [],
   "source": [
    "# fill in nodes dataframe with Id, label, and color\n",
    "nodes['ID'] = [k for k, v in nodes_map.items()]\n",
    "nodes['Label'] = [v for k, v in nodes_map.items()]\n",
    "# replace values with causes dict to put more information about cause of death on the diagram \n",
    "nodes.Label.replace(to_replace=causes_dict, inplace=True)\n",
    "nodes['Color'] = color_list[:24]"
   ]
  },
  {
   "cell_type": "code",
   "execution_count": 981,
   "id": "21a8a72c-d022-4008-b76e-b7739a0f8e5b",
   "metadata": {},
   "outputs": [
    {
     "data": {
      "application/vnd.plotly.v1+json": {
       "config": {
        "plotlyServerURL": "https://plot.ly"
       },
       "data": [
        {
         "link": {
          "source": [
           3,
           3,
           3,
           3,
           3,
           5,
           5,
           5,
           5,
           5,
           2,
           2,
           2,
           2,
           2,
           4,
           4,
           4,
           4,
           4,
           0,
           0,
           0,
           0,
           0,
           1,
           1,
           1,
           1,
           1
          ],
          "target": [
           5,
           2,
           4,
           0,
           1,
           14,
           18,
           23,
           11,
           9,
           14,
           15,
           12,
           22,
           16,
           14,
           17,
           20,
           19,
           21,
           14,
           13,
           17,
           10,
           7,
           14,
           17,
           8,
           22,
           6
          ],
          "value": [
           18.786349171513223,
           11.467134862284649,
           10.183254691100625,
           8.438494458465929,
           6.540107538681005,
           64.89485981308411,
           1.9859813084112148,
           1.7523364485981308,
           1.6355140186915886,
           1.6355140186915886,
           55.69377990430622,
           14.066985645933014,
           6.411483253588517,
           5.645933014354067,
           3.732057416267943,
           76.9396551724138,
           1.0775862068965518,
           0.9698275862068966,
           0.646551724137931,
           0.5387931034482759,
           69.4408322496749,
           11.573472041612485,
           1.6905071521456438,
           0.7802340702210664,
           0.6501950585175552,
           84.06040268456377,
           2.348993288590604,
           1.342281879194631,
           1.006711409395973,
           0.6711409395973155
          ]
         },
         "node": {
          "color": [
           "#c6dfea",
           "#bfdee3",
           "#b5dcda",
           "#add9ce",
           "#a8d7c4",
           "#a3d4b7",
           "#a1d0ad",
           "#9fcb9f",
           "#a0c593",
           "#a1bf8a",
           "#a4b780",
           "#a7af7a",
           "#aca674",
           "#b09c71",
           "#b39470",
           "#b58a71",
           "#b68273",
           "#b67977",
           "#b3717d",
           "#af6b82",
           "#a96588",
           "#a1618c",
           "#975d91",
           "#8a5a94"
          ],
          "label": [
           "O960: Direct Obstetric Cause, 42d-365d post-delivery(s)",
           "O994: Diseases of the Circulatory System(s)",
           "O998: Other Specified Diseases Complicating Pregnancy(s)",
           "Top 5 Causes",
           "O961: Indirect Obstetric Cause, 42d-365d post-delivery(s)",
           "O268: Other Specified Pregnancy-Related Conditions(s)",
           "I499: Cardiac Arrhythmia, Unspecified",
           "I269: Pulmonary Embolism",
           "O998: Other Specified Diseases Complicating Pregnancy",
           "O881: Amniotic Fluid Embolism",
           "C509: Breast Neoplasm, Unspecified",
           "O882: Obstetric blood-clot embolism",
           "O993: Diseases of the Nervous System / Mental Disorders",
           "O961: Indirect Obstetric Cause, 42d-365d post-delivery",
           "No Secondary Cause Reported",
           "O994: Diseases of the Circulatory System",
           "O995: Diseases of the Respiratory System",
           "R99: Illness or Undefined Cause of Mortality",
           "O266: Liver Disorder",
           "T509: Unspecified Drugs",
           "O268: Other Specified Pregnancy-Related Conditions",
           "I219: Acute myocardial infarction, unspecified",
           "O988: Infection / Parasitic Disease, Other",
           "O100: Pre-existing Hypertension"
          ],
          "line": {
           "color": "black",
           "width": 0.5
          },
          "pad": 15,
          "thickness": 50
         },
         "type": "sankey",
         "valueformat": ".0f",
         "valuesuffix": "%"
        }
       ],
       "layout": {
        "font": {
         "size": 10
        },
        "height": 750,
        "template": {
         "data": {
          "bar": [
           {
            "error_x": {
             "color": "#2a3f5f"
            },
            "error_y": {
             "color": "#2a3f5f"
            },
            "marker": {
             "line": {
              "color": "#E5ECF6",
              "width": 0.5
             }
            },
            "type": "bar"
           }
          ],
          "barpolar": [
           {
            "marker": {
             "line": {
              "color": "#E5ECF6",
              "width": 0.5
             }
            },
            "type": "barpolar"
           }
          ],
          "carpet": [
           {
            "aaxis": {
             "endlinecolor": "#2a3f5f",
             "gridcolor": "white",
             "linecolor": "white",
             "minorgridcolor": "white",
             "startlinecolor": "#2a3f5f"
            },
            "baxis": {
             "endlinecolor": "#2a3f5f",
             "gridcolor": "white",
             "linecolor": "white",
             "minorgridcolor": "white",
             "startlinecolor": "#2a3f5f"
            },
            "type": "carpet"
           }
          ],
          "choropleth": [
           {
            "colorbar": {
             "outlinewidth": 0,
             "ticks": ""
            },
            "type": "choropleth"
           }
          ],
          "contour": [
           {
            "colorbar": {
             "outlinewidth": 0,
             "ticks": ""
            },
            "colorscale": [
             [
              0,
              "#0d0887"
             ],
             [
              0.1111111111111111,
              "#46039f"
             ],
             [
              0.2222222222222222,
              "#7201a8"
             ],
             [
              0.3333333333333333,
              "#9c179e"
             ],
             [
              0.4444444444444444,
              "#bd3786"
             ],
             [
              0.5555555555555556,
              "#d8576b"
             ],
             [
              0.6666666666666666,
              "#ed7953"
             ],
             [
              0.7777777777777778,
              "#fb9f3a"
             ],
             [
              0.8888888888888888,
              "#fdca26"
             ],
             [
              1,
              "#f0f921"
             ]
            ],
            "type": "contour"
           }
          ],
          "contourcarpet": [
           {
            "colorbar": {
             "outlinewidth": 0,
             "ticks": ""
            },
            "type": "contourcarpet"
           }
          ],
          "heatmap": [
           {
            "colorbar": {
             "outlinewidth": 0,
             "ticks": ""
            },
            "colorscale": [
             [
              0,
              "#0d0887"
             ],
             [
              0.1111111111111111,
              "#46039f"
             ],
             [
              0.2222222222222222,
              "#7201a8"
             ],
             [
              0.3333333333333333,
              "#9c179e"
             ],
             [
              0.4444444444444444,
              "#bd3786"
             ],
             [
              0.5555555555555556,
              "#d8576b"
             ],
             [
              0.6666666666666666,
              "#ed7953"
             ],
             [
              0.7777777777777778,
              "#fb9f3a"
             ],
             [
              0.8888888888888888,
              "#fdca26"
             ],
             [
              1,
              "#f0f921"
             ]
            ],
            "type": "heatmap"
           }
          ],
          "heatmapgl": [
           {
            "colorbar": {
             "outlinewidth": 0,
             "ticks": ""
            },
            "colorscale": [
             [
              0,
              "#0d0887"
             ],
             [
              0.1111111111111111,
              "#46039f"
             ],
             [
              0.2222222222222222,
              "#7201a8"
             ],
             [
              0.3333333333333333,
              "#9c179e"
             ],
             [
              0.4444444444444444,
              "#bd3786"
             ],
             [
              0.5555555555555556,
              "#d8576b"
             ],
             [
              0.6666666666666666,
              "#ed7953"
             ],
             [
              0.7777777777777778,
              "#fb9f3a"
             ],
             [
              0.8888888888888888,
              "#fdca26"
             ],
             [
              1,
              "#f0f921"
             ]
            ],
            "type": "heatmapgl"
           }
          ],
          "histogram": [
           {
            "marker": {
             "colorbar": {
              "outlinewidth": 0,
              "ticks": ""
             }
            },
            "type": "histogram"
           }
          ],
          "histogram2d": [
           {
            "colorbar": {
             "outlinewidth": 0,
             "ticks": ""
            },
            "colorscale": [
             [
              0,
              "#0d0887"
             ],
             [
              0.1111111111111111,
              "#46039f"
             ],
             [
              0.2222222222222222,
              "#7201a8"
             ],
             [
              0.3333333333333333,
              "#9c179e"
             ],
             [
              0.4444444444444444,
              "#bd3786"
             ],
             [
              0.5555555555555556,
              "#d8576b"
             ],
             [
              0.6666666666666666,
              "#ed7953"
             ],
             [
              0.7777777777777778,
              "#fb9f3a"
             ],
             [
              0.8888888888888888,
              "#fdca26"
             ],
             [
              1,
              "#f0f921"
             ]
            ],
            "type": "histogram2d"
           }
          ],
          "histogram2dcontour": [
           {
            "colorbar": {
             "outlinewidth": 0,
             "ticks": ""
            },
            "colorscale": [
             [
              0,
              "#0d0887"
             ],
             [
              0.1111111111111111,
              "#46039f"
             ],
             [
              0.2222222222222222,
              "#7201a8"
             ],
             [
              0.3333333333333333,
              "#9c179e"
             ],
             [
              0.4444444444444444,
              "#bd3786"
             ],
             [
              0.5555555555555556,
              "#d8576b"
             ],
             [
              0.6666666666666666,
              "#ed7953"
             ],
             [
              0.7777777777777778,
              "#fb9f3a"
             ],
             [
              0.8888888888888888,
              "#fdca26"
             ],
             [
              1,
              "#f0f921"
             ]
            ],
            "type": "histogram2dcontour"
           }
          ],
          "mesh3d": [
           {
            "colorbar": {
             "outlinewidth": 0,
             "ticks": ""
            },
            "type": "mesh3d"
           }
          ],
          "parcoords": [
           {
            "line": {
             "colorbar": {
              "outlinewidth": 0,
              "ticks": ""
             }
            },
            "type": "parcoords"
           }
          ],
          "pie": [
           {
            "automargin": true,
            "type": "pie"
           }
          ],
          "scatter": [
           {
            "marker": {
             "colorbar": {
              "outlinewidth": 0,
              "ticks": ""
             }
            },
            "type": "scatter"
           }
          ],
          "scatter3d": [
           {
            "line": {
             "colorbar": {
              "outlinewidth": 0,
              "ticks": ""
             }
            },
            "marker": {
             "colorbar": {
              "outlinewidth": 0,
              "ticks": ""
             }
            },
            "type": "scatter3d"
           }
          ],
          "scattercarpet": [
           {
            "marker": {
             "colorbar": {
              "outlinewidth": 0,
              "ticks": ""
             }
            },
            "type": "scattercarpet"
           }
          ],
          "scattergeo": [
           {
            "marker": {
             "colorbar": {
              "outlinewidth": 0,
              "ticks": ""
             }
            },
            "type": "scattergeo"
           }
          ],
          "scattergl": [
           {
            "marker": {
             "colorbar": {
              "outlinewidth": 0,
              "ticks": ""
             }
            },
            "type": "scattergl"
           }
          ],
          "scattermapbox": [
           {
            "marker": {
             "colorbar": {
              "outlinewidth": 0,
              "ticks": ""
             }
            },
            "type": "scattermapbox"
           }
          ],
          "scatterpolar": [
           {
            "marker": {
             "colorbar": {
              "outlinewidth": 0,
              "ticks": ""
             }
            },
            "type": "scatterpolar"
           }
          ],
          "scatterpolargl": [
           {
            "marker": {
             "colorbar": {
              "outlinewidth": 0,
              "ticks": ""
             }
            },
            "type": "scatterpolargl"
           }
          ],
          "scatterternary": [
           {
            "marker": {
             "colorbar": {
              "outlinewidth": 0,
              "ticks": ""
             }
            },
            "type": "scatterternary"
           }
          ],
          "surface": [
           {
            "colorbar": {
             "outlinewidth": 0,
             "ticks": ""
            },
            "colorscale": [
             [
              0,
              "#0d0887"
             ],
             [
              0.1111111111111111,
              "#46039f"
             ],
             [
              0.2222222222222222,
              "#7201a8"
             ],
             [
              0.3333333333333333,
              "#9c179e"
             ],
             [
              0.4444444444444444,
              "#bd3786"
             ],
             [
              0.5555555555555556,
              "#d8576b"
             ],
             [
              0.6666666666666666,
              "#ed7953"
             ],
             [
              0.7777777777777778,
              "#fb9f3a"
             ],
             [
              0.8888888888888888,
              "#fdca26"
             ],
             [
              1,
              "#f0f921"
             ]
            ],
            "type": "surface"
           }
          ],
          "table": [
           {
            "cells": {
             "fill": {
              "color": "#EBF0F8"
             },
             "line": {
              "color": "white"
             }
            },
            "header": {
             "fill": {
              "color": "#C8D4E3"
             },
             "line": {
              "color": "white"
             }
            },
            "type": "table"
           }
          ]
         },
         "layout": {
          "annotationdefaults": {
           "arrowcolor": "#2a3f5f",
           "arrowhead": 0,
           "arrowwidth": 1
          },
          "autotypenumbers": "strict",
          "coloraxis": {
           "colorbar": {
            "outlinewidth": 0,
            "ticks": ""
           }
          },
          "colorscale": {
           "diverging": [
            [
             0,
             "#8e0152"
            ],
            [
             0.1,
             "#c51b7d"
            ],
            [
             0.2,
             "#de77ae"
            ],
            [
             0.3,
             "#f1b6da"
            ],
            [
             0.4,
             "#fde0ef"
            ],
            [
             0.5,
             "#f7f7f7"
            ],
            [
             0.6,
             "#e6f5d0"
            ],
            [
             0.7,
             "#b8e186"
            ],
            [
             0.8,
             "#7fbc41"
            ],
            [
             0.9,
             "#4d9221"
            ],
            [
             1,
             "#276419"
            ]
           ],
           "sequential": [
            [
             0,
             "#0d0887"
            ],
            [
             0.1111111111111111,
             "#46039f"
            ],
            [
             0.2222222222222222,
             "#7201a8"
            ],
            [
             0.3333333333333333,
             "#9c179e"
            ],
            [
             0.4444444444444444,
             "#bd3786"
            ],
            [
             0.5555555555555556,
             "#d8576b"
            ],
            [
             0.6666666666666666,
             "#ed7953"
            ],
            [
             0.7777777777777778,
             "#fb9f3a"
            ],
            [
             0.8888888888888888,
             "#fdca26"
            ],
            [
             1,
             "#f0f921"
            ]
           ],
           "sequentialminus": [
            [
             0,
             "#0d0887"
            ],
            [
             0.1111111111111111,
             "#46039f"
            ],
            [
             0.2222222222222222,
             "#7201a8"
            ],
            [
             0.3333333333333333,
             "#9c179e"
            ],
            [
             0.4444444444444444,
             "#bd3786"
            ],
            [
             0.5555555555555556,
             "#d8576b"
            ],
            [
             0.6666666666666666,
             "#ed7953"
            ],
            [
             0.7777777777777778,
             "#fb9f3a"
            ],
            [
             0.8888888888888888,
             "#fdca26"
            ],
            [
             1,
             "#f0f921"
            ]
           ]
          },
          "colorway": [
           "#636efa",
           "#EF553B",
           "#00cc96",
           "#ab63fa",
           "#FFA15A",
           "#19d3f3",
           "#FF6692",
           "#B6E880",
           "#FF97FF",
           "#FECB52"
          ],
          "font": {
           "color": "#2a3f5f"
          },
          "geo": {
           "bgcolor": "white",
           "lakecolor": "white",
           "landcolor": "#E5ECF6",
           "showlakes": true,
           "showland": true,
           "subunitcolor": "white"
          },
          "hoverlabel": {
           "align": "left"
          },
          "hovermode": "closest",
          "mapbox": {
           "style": "light"
          },
          "paper_bgcolor": "white",
          "plot_bgcolor": "#E5ECF6",
          "polar": {
           "angularaxis": {
            "gridcolor": "white",
            "linecolor": "white",
            "ticks": ""
           },
           "bgcolor": "#E5ECF6",
           "radialaxis": {
            "gridcolor": "white",
            "linecolor": "white",
            "ticks": ""
           }
          },
          "scene": {
           "xaxis": {
            "backgroundcolor": "#E5ECF6",
            "gridcolor": "white",
            "gridwidth": 2,
            "linecolor": "white",
            "showbackground": true,
            "ticks": "",
            "zerolinecolor": "white"
           },
           "yaxis": {
            "backgroundcolor": "#E5ECF6",
            "gridcolor": "white",
            "gridwidth": 2,
            "linecolor": "white",
            "showbackground": true,
            "ticks": "",
            "zerolinecolor": "white"
           },
           "zaxis": {
            "backgroundcolor": "#E5ECF6",
            "gridcolor": "white",
            "gridwidth": 2,
            "linecolor": "white",
            "showbackground": true,
            "ticks": "",
            "zerolinecolor": "white"
           }
          },
          "shapedefaults": {
           "line": {
            "color": "#2a3f5f"
           }
          },
          "ternary": {
           "aaxis": {
            "gridcolor": "white",
            "linecolor": "white",
            "ticks": ""
           },
           "baxis": {
            "gridcolor": "white",
            "linecolor": "white",
            "ticks": ""
           },
           "bgcolor": "#E5ECF6",
           "caxis": {
            "gridcolor": "white",
            "linecolor": "white",
            "ticks": ""
           }
          },
          "title": {
           "x": 0.05
          },
          "xaxis": {
           "automargin": true,
           "gridcolor": "white",
           "linecolor": "white",
           "ticks": "",
           "title": {
            "standoff": 15
           },
           "zerolinecolor": "white",
           "zerolinewidth": 2
          },
          "yaxis": {
           "automargin": true,
           "gridcolor": "white",
           "linecolor": "white",
           "ticks": "",
           "title": {
            "standoff": 15
           },
           "zerolinecolor": "white",
           "zerolinewidth": 2
          }
         }
        },
        "title": {
         "text": "Sankey Diagram for Top 5 Causes of Maternal Death, All Deaths, 2008-2019"
        },
        "width": 1000
       }
      },
      "text/html": [
       "<div>                            <div id=\"a629c789-6c48-4a0d-81f3-1f551d84b353\" class=\"plotly-graph-div\" style=\"height:750px; width:1000px;\"></div>            <script type=\"text/javascript\">                require([\"plotly\"], function(Plotly) {                    window.PLOTLYENV=window.PLOTLYENV || {};                                    if (document.getElementById(\"a629c789-6c48-4a0d-81f3-1f551d84b353\")) {                    Plotly.newPlot(                        \"a629c789-6c48-4a0d-81f3-1f551d84b353\",                        [{\"link\": {\"source\": [3, 3, 3, 3, 3, 5, 5, 5, 5, 5, 2, 2, 2, 2, 2, 4, 4, 4, 4, 4, 0, 0, 0, 0, 0, 1, 1, 1, 1, 1], \"target\": [5, 2, 4, 0, 1, 14, 18, 23, 11, 9, 14, 15, 12, 22, 16, 14, 17, 20, 19, 21, 14, 13, 17, 10, 7, 14, 17, 8, 22, 6], \"value\": [18.786349171513223, 11.467134862284649, 10.183254691100625, 8.438494458465929, 6.540107538681005, 64.89485981308411, 1.9859813084112148, 1.7523364485981308, 1.6355140186915886, 1.6355140186915886, 55.69377990430622, 14.066985645933014, 6.411483253588517, 5.645933014354067, 3.732057416267943, 76.9396551724138, 1.0775862068965518, 0.9698275862068966, 0.646551724137931, 0.5387931034482759, 69.4408322496749, 11.573472041612485, 1.6905071521456438, 0.7802340702210664, 0.6501950585175552, 84.06040268456377, 2.348993288590604, 1.342281879194631, 1.006711409395973, 0.6711409395973155]}, \"node\": {\"color\": [\"#c6dfea\", \"#bfdee3\", \"#b5dcda\", \"#add9ce\", \"#a8d7c4\", \"#a3d4b7\", \"#a1d0ad\", \"#9fcb9f\", \"#a0c593\", \"#a1bf8a\", \"#a4b780\", \"#a7af7a\", \"#aca674\", \"#b09c71\", \"#b39470\", \"#b58a71\", \"#b68273\", \"#b67977\", \"#b3717d\", \"#af6b82\", \"#a96588\", \"#a1618c\", \"#975d91\", \"#8a5a94\"], \"label\": [\"O960: Direct Obstetric Cause, 42d-365d post-delivery(s)\", \"O994: Diseases of the Circulatory System(s)\", \"O998: Other Specified Diseases Complicating Pregnancy(s)\", \"Top 5 Causes\", \"O961: Indirect Obstetric Cause, 42d-365d post-delivery(s)\", \"O268: Other Specified Pregnancy-Related Conditions(s)\", \"I499: Cardiac Arrhythmia, Unspecified\", \"I269: Pulmonary Embolism\", \"O998: Other Specified Diseases Complicating Pregnancy\", \"O881: Amniotic Fluid Embolism\", \"C509: Breast Neoplasm, Unspecified\", \"O882: Obstetric blood-clot embolism\", \"O993: Diseases of the Nervous System / Mental Disorders\", \"O961: Indirect Obstetric Cause, 42d-365d post-delivery\", \"No Secondary Cause Reported\", \"O994: Diseases of the Circulatory System\", \"O995: Diseases of the Respiratory System\", \"R99: Illness or Undefined Cause of Mortality\", \"O266: Liver Disorder\", \"T509: Unspecified Drugs\", \"O268: Other Specified Pregnancy-Related Conditions\", \"I219: Acute myocardial infarction, unspecified\", \"O988: Infection / Parasitic Disease, Other\", \"O100: Pre-existing Hypertension\"], \"line\": {\"color\": \"black\", \"width\": 0.5}, \"pad\": 15, \"thickness\": 50}, \"type\": \"sankey\", \"valueformat\": \".0f\", \"valuesuffix\": \"%\"}],                        {\"font\": {\"size\": 10}, \"height\": 750, \"template\": {\"data\": {\"bar\": [{\"error_x\": {\"color\": \"#2a3f5f\"}, \"error_y\": {\"color\": \"#2a3f5f\"}, \"marker\": {\"line\": {\"color\": \"#E5ECF6\", \"width\": 0.5}}, \"type\": \"bar\"}], \"barpolar\": [{\"marker\": {\"line\": {\"color\": \"#E5ECF6\", \"width\": 0.5}}, \"type\": \"barpolar\"}], \"carpet\": [{\"aaxis\": {\"endlinecolor\": \"#2a3f5f\", \"gridcolor\": \"white\", \"linecolor\": \"white\", \"minorgridcolor\": \"white\", \"startlinecolor\": \"#2a3f5f\"}, \"baxis\": {\"endlinecolor\": \"#2a3f5f\", \"gridcolor\": \"white\", \"linecolor\": \"white\", \"minorgridcolor\": \"white\", \"startlinecolor\": \"#2a3f5f\"}, \"type\": \"carpet\"}], \"choropleth\": [{\"colorbar\": {\"outlinewidth\": 0, \"ticks\": \"\"}, \"type\": \"choropleth\"}], \"contour\": [{\"colorbar\": {\"outlinewidth\": 0, \"ticks\": \"\"}, \"colorscale\": [[0.0, \"#0d0887\"], [0.1111111111111111, \"#46039f\"], [0.2222222222222222, \"#7201a8\"], [0.3333333333333333, \"#9c179e\"], [0.4444444444444444, \"#bd3786\"], [0.5555555555555556, \"#d8576b\"], [0.6666666666666666, \"#ed7953\"], [0.7777777777777778, \"#fb9f3a\"], [0.8888888888888888, \"#fdca26\"], [1.0, \"#f0f921\"]], \"type\": \"contour\"}], \"contourcarpet\": [{\"colorbar\": {\"outlinewidth\": 0, \"ticks\": \"\"}, \"type\": \"contourcarpet\"}], \"heatmap\": [{\"colorbar\": {\"outlinewidth\": 0, \"ticks\": \"\"}, \"colorscale\": [[0.0, \"#0d0887\"], [0.1111111111111111, \"#46039f\"], [0.2222222222222222, \"#7201a8\"], [0.3333333333333333, \"#9c179e\"], [0.4444444444444444, \"#bd3786\"], [0.5555555555555556, \"#d8576b\"], [0.6666666666666666, \"#ed7953\"], [0.7777777777777778, \"#fb9f3a\"], [0.8888888888888888, \"#fdca26\"], [1.0, \"#f0f921\"]], \"type\": \"heatmap\"}], \"heatmapgl\": [{\"colorbar\": {\"outlinewidth\": 0, \"ticks\": \"\"}, \"colorscale\": [[0.0, \"#0d0887\"], [0.1111111111111111, \"#46039f\"], [0.2222222222222222, \"#7201a8\"], [0.3333333333333333, \"#9c179e\"], [0.4444444444444444, \"#bd3786\"], [0.5555555555555556, \"#d8576b\"], [0.6666666666666666, \"#ed7953\"], [0.7777777777777778, \"#fb9f3a\"], [0.8888888888888888, \"#fdca26\"], [1.0, \"#f0f921\"]], \"type\": \"heatmapgl\"}], \"histogram\": [{\"marker\": {\"colorbar\": {\"outlinewidth\": 0, \"ticks\": \"\"}}, \"type\": \"histogram\"}], \"histogram2d\": [{\"colorbar\": {\"outlinewidth\": 0, \"ticks\": \"\"}, \"colorscale\": [[0.0, \"#0d0887\"], [0.1111111111111111, \"#46039f\"], [0.2222222222222222, \"#7201a8\"], [0.3333333333333333, \"#9c179e\"], [0.4444444444444444, \"#bd3786\"], [0.5555555555555556, \"#d8576b\"], [0.6666666666666666, \"#ed7953\"], [0.7777777777777778, \"#fb9f3a\"], [0.8888888888888888, \"#fdca26\"], [1.0, \"#f0f921\"]], \"type\": \"histogram2d\"}], \"histogram2dcontour\": [{\"colorbar\": {\"outlinewidth\": 0, \"ticks\": \"\"}, \"colorscale\": [[0.0, \"#0d0887\"], [0.1111111111111111, \"#46039f\"], [0.2222222222222222, \"#7201a8\"], [0.3333333333333333, \"#9c179e\"], [0.4444444444444444, \"#bd3786\"], [0.5555555555555556, \"#d8576b\"], [0.6666666666666666, \"#ed7953\"], [0.7777777777777778, \"#fb9f3a\"], [0.8888888888888888, \"#fdca26\"], [1.0, \"#f0f921\"]], \"type\": \"histogram2dcontour\"}], \"mesh3d\": [{\"colorbar\": {\"outlinewidth\": 0, \"ticks\": \"\"}, \"type\": \"mesh3d\"}], \"parcoords\": [{\"line\": {\"colorbar\": {\"outlinewidth\": 0, \"ticks\": \"\"}}, \"type\": \"parcoords\"}], \"pie\": [{\"automargin\": true, \"type\": \"pie\"}], \"scatter\": [{\"marker\": {\"colorbar\": {\"outlinewidth\": 0, \"ticks\": \"\"}}, \"type\": \"scatter\"}], \"scatter3d\": [{\"line\": {\"colorbar\": {\"outlinewidth\": 0, \"ticks\": \"\"}}, \"marker\": {\"colorbar\": {\"outlinewidth\": 0, \"ticks\": \"\"}}, \"type\": \"scatter3d\"}], \"scattercarpet\": [{\"marker\": {\"colorbar\": {\"outlinewidth\": 0, \"ticks\": \"\"}}, \"type\": \"scattercarpet\"}], \"scattergeo\": [{\"marker\": {\"colorbar\": {\"outlinewidth\": 0, \"ticks\": \"\"}}, \"type\": \"scattergeo\"}], \"scattergl\": [{\"marker\": {\"colorbar\": {\"outlinewidth\": 0, \"ticks\": \"\"}}, \"type\": \"scattergl\"}], \"scattermapbox\": [{\"marker\": {\"colorbar\": {\"outlinewidth\": 0, \"ticks\": \"\"}}, \"type\": \"scattermapbox\"}], \"scatterpolar\": [{\"marker\": {\"colorbar\": {\"outlinewidth\": 0, \"ticks\": \"\"}}, \"type\": \"scatterpolar\"}], \"scatterpolargl\": [{\"marker\": {\"colorbar\": {\"outlinewidth\": 0, \"ticks\": \"\"}}, \"type\": \"scatterpolargl\"}], \"scatterternary\": [{\"marker\": {\"colorbar\": {\"outlinewidth\": 0, \"ticks\": \"\"}}, \"type\": \"scatterternary\"}], \"surface\": [{\"colorbar\": {\"outlinewidth\": 0, \"ticks\": \"\"}, \"colorscale\": [[0.0, \"#0d0887\"], [0.1111111111111111, \"#46039f\"], [0.2222222222222222, \"#7201a8\"], [0.3333333333333333, \"#9c179e\"], [0.4444444444444444, \"#bd3786\"], [0.5555555555555556, \"#d8576b\"], [0.6666666666666666, \"#ed7953\"], [0.7777777777777778, \"#fb9f3a\"], [0.8888888888888888, \"#fdca26\"], [1.0, \"#f0f921\"]], \"type\": \"surface\"}], \"table\": [{\"cells\": {\"fill\": {\"color\": \"#EBF0F8\"}, \"line\": {\"color\": \"white\"}}, \"header\": {\"fill\": {\"color\": \"#C8D4E3\"}, \"line\": {\"color\": \"white\"}}, \"type\": \"table\"}]}, \"layout\": {\"annotationdefaults\": {\"arrowcolor\": \"#2a3f5f\", \"arrowhead\": 0, \"arrowwidth\": 1}, \"autotypenumbers\": \"strict\", \"coloraxis\": {\"colorbar\": {\"outlinewidth\": 0, \"ticks\": \"\"}}, \"colorscale\": {\"diverging\": [[0, \"#8e0152\"], [0.1, \"#c51b7d\"], [0.2, \"#de77ae\"], [0.3, \"#f1b6da\"], [0.4, \"#fde0ef\"], [0.5, \"#f7f7f7\"], [0.6, \"#e6f5d0\"], [0.7, \"#b8e186\"], [0.8, \"#7fbc41\"], [0.9, \"#4d9221\"], [1, \"#276419\"]], \"sequential\": [[0.0, \"#0d0887\"], [0.1111111111111111, \"#46039f\"], [0.2222222222222222, \"#7201a8\"], [0.3333333333333333, \"#9c179e\"], [0.4444444444444444, \"#bd3786\"], [0.5555555555555556, \"#d8576b\"], [0.6666666666666666, \"#ed7953\"], [0.7777777777777778, \"#fb9f3a\"], [0.8888888888888888, \"#fdca26\"], [1.0, \"#f0f921\"]], \"sequentialminus\": [[0.0, \"#0d0887\"], [0.1111111111111111, \"#46039f\"], [0.2222222222222222, \"#7201a8\"], [0.3333333333333333, \"#9c179e\"], [0.4444444444444444, \"#bd3786\"], [0.5555555555555556, \"#d8576b\"], [0.6666666666666666, \"#ed7953\"], [0.7777777777777778, \"#fb9f3a\"], [0.8888888888888888, \"#fdca26\"], [1.0, \"#f0f921\"]]}, \"colorway\": [\"#636efa\", \"#EF553B\", \"#00cc96\", \"#ab63fa\", \"#FFA15A\", \"#19d3f3\", \"#FF6692\", \"#B6E880\", \"#FF97FF\", \"#FECB52\"], \"font\": {\"color\": \"#2a3f5f\"}, \"geo\": {\"bgcolor\": \"white\", \"lakecolor\": \"white\", \"landcolor\": \"#E5ECF6\", \"showlakes\": true, \"showland\": true, \"subunitcolor\": \"white\"}, \"hoverlabel\": {\"align\": \"left\"}, \"hovermode\": \"closest\", \"mapbox\": {\"style\": \"light\"}, \"paper_bgcolor\": \"white\", \"plot_bgcolor\": \"#E5ECF6\", \"polar\": {\"angularaxis\": {\"gridcolor\": \"white\", \"linecolor\": \"white\", \"ticks\": \"\"}, \"bgcolor\": \"#E5ECF6\", \"radialaxis\": {\"gridcolor\": \"white\", \"linecolor\": \"white\", \"ticks\": \"\"}}, \"scene\": {\"xaxis\": {\"backgroundcolor\": \"#E5ECF6\", \"gridcolor\": \"white\", \"gridwidth\": 2, \"linecolor\": \"white\", \"showbackground\": true, \"ticks\": \"\", \"zerolinecolor\": \"white\"}, \"yaxis\": {\"backgroundcolor\": \"#E5ECF6\", \"gridcolor\": \"white\", \"gridwidth\": 2, \"linecolor\": \"white\", \"showbackground\": true, \"ticks\": \"\", \"zerolinecolor\": \"white\"}, \"zaxis\": {\"backgroundcolor\": \"#E5ECF6\", \"gridcolor\": \"white\", \"gridwidth\": 2, \"linecolor\": \"white\", \"showbackground\": true, \"ticks\": \"\", \"zerolinecolor\": \"white\"}}, \"shapedefaults\": {\"line\": {\"color\": \"#2a3f5f\"}}, \"ternary\": {\"aaxis\": {\"gridcolor\": \"white\", \"linecolor\": \"white\", \"ticks\": \"\"}, \"baxis\": {\"gridcolor\": \"white\", \"linecolor\": \"white\", \"ticks\": \"\"}, \"bgcolor\": \"#E5ECF6\", \"caxis\": {\"gridcolor\": \"white\", \"linecolor\": \"white\", \"ticks\": \"\"}}, \"title\": {\"x\": 0.05}, \"xaxis\": {\"automargin\": true, \"gridcolor\": \"white\", \"linecolor\": \"white\", \"ticks\": \"\", \"title\": {\"standoff\": 15}, \"zerolinecolor\": \"white\", \"zerolinewidth\": 2}, \"yaxis\": {\"automargin\": true, \"gridcolor\": \"white\", \"linecolor\": \"white\", \"ticks\": \"\", \"title\": {\"standoff\": 15}, \"zerolinecolor\": \"white\", \"zerolinewidth\": 2}}}, \"title\": {\"text\": \"Sankey Diagram for Top 5 Causes of Maternal Death, All Deaths, 2008-2019\"}, \"width\": 1000},                        {\"responsive\": true}                    ).then(function(){\n",
       "                            \n",
       "var gd = document.getElementById('a629c789-6c48-4a0d-81f3-1f551d84b353');\n",
       "var x = new MutationObserver(function (mutations, observer) {{\n",
       "        var display = window.getComputedStyle(gd).display;\n",
       "        if (!display || display === 'none') {{\n",
       "            console.log([gd, 'removed!']);\n",
       "            Plotly.purge(gd);\n",
       "            observer.disconnect();\n",
       "        }}\n",
       "}});\n",
       "\n",
       "// Listen for the removal of the full notebook cells\n",
       "var notebookContainer = gd.closest('#notebook-container');\n",
       "if (notebookContainer) {{\n",
       "    x.observe(notebookContainer, {childList: true});\n",
       "}}\n",
       "\n",
       "// Listen for the clearing of the current output cell\n",
       "var outputEl = gd.closest('.output');\n",
       "if (outputEl) {{\n",
       "    x.observe(outputEl, {childList: true});\n",
       "}}\n",
       "\n",
       "                        })                };                });            </script>        </div>"
      ]
     },
     "metadata": {},
     "output_type": "display_data"
    }
   ],
   "source": [
    "# create the sankey diagram \n",
    "fig = go.Figure(data=[go.Sankey(\n",
    "    valueformat = '.0f', \n",
    "    valuesuffix = \"%\",\n",
    "    node=dict(\n",
    "        pad = 15, \n",
    "        thickness = 50, \n",
    "        line = dict(color= 'black', width = 0.5), \n",
    "        label = nodes['Label'], \n",
    "        color = nodes['Color']\n",
    "    ), \n",
    "    link = dict(source = san_coded['source'], \n",
    "            target = san_coded['target'], \n",
    "            value = san_coded['value']\n",
    "               ))]\n",
    ")\n",
    "\n",
    "fig.update_layout(title_text=\"Sankey Diagram for Top 5 Causes of Maternal Death, All Deaths, 2008-2019\", \n",
    "                  height = 750, width=1000, font_size=10)\n",
    "fig.show()"
   ]
  },
  {
   "cell_type": "code",
   "execution_count": null,
   "id": "8ac85ffb-642e-4f48-8ee0-4167dda98c58",
   "metadata": {},
   "outputs": [],
   "source": []
  },
  {
   "cell_type": "code",
   "execution_count": null,
   "id": "3565afb0-8876-4eb2-a78c-6d888746b239",
   "metadata": {},
   "outputs": [],
   "source": []
  },
  {
   "cell_type": "code",
   "execution_count": 189,
   "id": "73c5d682-1ef7-465f-b8f3-f05c41ea3af9",
   "metadata": {},
   "outputs": [],
   "source": [
    "ager27_dict = {8: '10-14 yo', 9: '15-19 yo', 10: '20-24 yo', 11: '25-29 yo', 12: '30-34 yo', \n",
    "              13: '35-39 yo', 14: '40-44 yo', 15: '45-49 yo', 16: '50-54 yo', 17: '55-59 yo'}"
   ]
  },
  {
   "cell_type": "code",
   "execution_count": 801,
   "id": "09ee89ea-e226-4c98-ad7f-2b36a887eb5f",
   "metadata": {},
   "outputs": [],
   "source": [
    "restat_dict = {1: 'State & County Residence & Occurrence same', \n",
    "              2: 'Intrastate Nonresidents; State Same, County Different', \n",
    "              3: 'Interstate Nonresidents; State & County Different, both US', \n",
    "              4: 'Foreign Residents: State of Occurrence in US, Residence outside US'}"
   ]
  },
  {
   "cell_type": "code",
   "execution_count": 802,
   "id": "a9b91063-ba2c-43c6-939a-bb711e6b454b",
   "metadata": {},
   "outputs": [],
   "source": [
    "race_dict = {1: 'White', 2: 'Black', 3: 'AmIndian/AlaskaNative', 6: 'NatHaw/OtherPacIsl', 4: 'Asian', \n",
    "            5: 'Asian', 7: 'Asian', 18: 'Asian', 28: 'Asian', 38: 'Asian', \n",
    "            48: 'Asian', 58: 'NatHaw/OtherPacIsl', 68: 'NatHaw/OtherPacIsl', \n",
    "            78: 'NatHaw/OtherPacIsl'}"
   ]
  },
  {
   "cell_type": "code",
   "execution_count": 803,
   "id": "3d9ae300-87c6-4ec7-a620-6011920c9b3f",
   "metadata": {},
   "outputs": [],
   "source": [
    "educ_dict = {1: '8th Gr or less', 2: '9-12 Gr, No Diploma', \n",
    "             3: 'HS Grad or GED Completed', 4: 'Some college credit but no Degree',\n",
    "             5: 'Associate Degree', 6: 'Bachelors Degree', 7: 'Masters Degree', \n",
    "             8: 'Doctoral or Professional Degree', 9: 'Unknown'}"
   ]
  },
  {
   "cell_type": "code",
   "execution_count": null,
   "id": "c99cc020-8563-4cfa-aae9-b901e6058ec0",
   "metadata": {},
   "outputs": [],
   "source": []
  },
  {
   "cell_type": "code",
   "execution_count": 196,
   "id": "52eb9bba-eba5-448b-8cf6-a7eaf65cbe74",
   "metadata": {},
   "outputs": [
    {
     "data": {
      "image/png": "[encoded data removed]",
      "text/plain": [
       "<Figure size 864x360 with 1 Axes>"
      ]
     },
     "metadata": {
      "needs_background": "light"
     },
     "output_type": "display_data"
    }
   ],
   "source": [
    "fig, ax = plt.subplots(figsize=(12, 5))\n",
    "ax = sns.countplot(data=t_ff, x='year', hue='ager27', palette='ch:.85')\n",
    "ax.legend(labels=[v for k, v in ager27_dict.items()]);"
   ]
  },
  {
   "cell_type": "code",
   "execution_count": 982,
   "id": "da2ee6c4-c825-41ba-b93b-597b9293f03b",
   "metadata": {},
   "outputs": [],
   "source": [
    "# Records for women ages 10 to 54\n",
    "ten_fiftyfive = df[df['ager27']<=16]"
   ]
  },
  {
   "cell_type": "code",
   "execution_count": 983,
   "id": "67ff0151-39ec-4e3b-9e57-d7c44b2abaef",
   "metadata": {},
   "outputs": [
    {
     "name": "stdout",
     "output_type": "stream",
     "text": [
      "<class 'pandas.core.frame.DataFrame'>\n",
      "Int64Index: 9070 entries, 6 to 10560\n",
      "Data columns (total 23 columns):\n",
      " #   Column    Non-Null Count  Dtype  \n",
      "---  ------    --------------  -----  \n",
      " 0   index     9070 non-null   int64  \n",
      " 1   restatus  9070 non-null   int64  \n",
      " 2   educ2003  9070 non-null   float64\n",
      " 3   monthdth  9070 non-null   int64  \n",
      " 4   sex       9070 non-null   object \n",
      " 5   ager27    9070 non-null   int64  \n",
      " 6   placdth   9070 non-null   int64  \n",
      " 7   marstat   9070 non-null   object \n",
      " 8   weekday   9070 non-null   int64  \n",
      " 9   year      9070 non-null   int64  \n",
      " 10  injwork   9070 non-null   object \n",
      " 11  mandeath  9070 non-null   float64\n",
      " 12  methdisp  9070 non-null   object \n",
      " 13  autopsy   9070 non-null   object \n",
      " 14  ucod      9070 non-null   object \n",
      " 15  ucr113    9070 non-null   int64  \n",
      " 16  ranum     9070 non-null   int64  \n",
      " 17  record_1  9070 non-null   object \n",
      " 18  record_2  9070 non-null   object \n",
      " 19  record_3  9070 non-null   object \n",
      " 20  record_4  9070 non-null   object \n",
      " 21  record_5  9070 non-null   object \n",
      " 22  race      9070 non-null   object \n",
      "dtypes: float64(2), int64(9), object(12)\n",
      "memory usage: 1.7+ MB\n"
     ]
    }
   ],
   "source": [
    "ten_fiftyfive.info()"
   ]
  },
  {
   "cell_type": "code",
   "execution_count": null,
   "id": "be61453d-a4cc-423c-881d-d06e71b6de7e",
   "metadata": {},
   "outputs": [],
   "source": []
  },
  {
   "cell_type": "code",
   "execution_count": 984,
   "id": "b1e98586-eb1f-4158-87b5-72d81977c632",
   "metadata": {},
   "outputs": [
    {
     "name": "stderr",
     "output_type": "stream",
     "text": [
      "/opt/anaconda3/lib/python3.7/site-packages/pandas/core/generic.py:5507: SettingWithCopyWarning:\n",
      "\n",
      "\n",
      "A value is trying to be set on a copy of a slice from a DataFrame.\n",
      "Try using .loc[row_indexer,col_indexer] = value instead\n",
      "\n",
      "See the caveats in the documentation: https://pandas.pydata.org/pandas-docs/stable/user_guide/indexing.html#returning-a-view-versus-a-copy\n",
      "\n"
     ]
    }
   ],
   "source": [
    "ten_fiftyfive.race = ten_fiftyfive.race.replace(to_replace=race_dict)"
   ]
  },
  {
   "cell_type": "code",
   "execution_count": 985,
   "id": "ff02d678-3d39-4f2b-9e0e-63d305ded1e4",
   "metadata": {},
   "outputs": [
    {
     "data": {
      "text/plain": [
       "array(['White', 'Black', 'Asian', 'NatHaw/OtherPacIsl',\n",
       "       'AmIndian/AlaskaNative'], dtype=object)"
      ]
     },
     "execution_count": 985,
     "metadata": {},
     "output_type": "execute_result"
    }
   ],
   "source": [
    "ten_fiftyfive.race.unique()"
   ]
  },
  {
   "cell_type": "code",
   "execution_count": 986,
   "id": "d6233258-301b-4415-a1f1-10103cd25c8c",
   "metadata": {},
   "outputs": [
    {
     "name": "stdout",
     "output_type": "stream",
     "text": [
      "<class 'pandas.core.frame.DataFrame'>\n",
      "Int64Index: 5821 entries, 6 to 10559\n",
      "Data columns (total 23 columns):\n",
      " #   Column    Non-Null Count  Dtype  \n",
      "---  ------    --------------  -----  \n",
      " 0   index     5821 non-null   int64  \n",
      " 1   restatus  5821 non-null   int64  \n",
      " 2   educ2003  5821 non-null   float64\n",
      " 3   monthdth  5821 non-null   int64  \n",
      " 4   sex       5821 non-null   object \n",
      " 5   ager27    5821 non-null   int64  \n",
      " 6   placdth   5821 non-null   int64  \n",
      " 7   marstat   5821 non-null   object \n",
      " 8   weekday   5821 non-null   int64  \n",
      " 9   year      5821 non-null   int64  \n",
      " 10  injwork   5821 non-null   object \n",
      " 11  mandeath  5821 non-null   float64\n",
      " 12  methdisp  5821 non-null   object \n",
      " 13  autopsy   5821 non-null   object \n",
      " 14  ucod      5821 non-null   object \n",
      " 15  ucr113    5821 non-null   int64  \n",
      " 16  ranum     5821 non-null   int64  \n",
      " 17  record_1  5821 non-null   object \n",
      " 18  record_2  5821 non-null   object \n",
      " 19  record_3  5821 non-null   object \n",
      " 20  record_4  5821 non-null   object \n",
      " 21  record_5  5821 non-null   object \n",
      " 22  race      5821 non-null   object \n",
      "dtypes: float64(2), int64(9), object(12)\n",
      "memory usage: 1.1+ MB\n"
     ]
    }
   ],
   "source": [
    "over30 = ten_fiftyfive[ten_fiftyfive['ager27']>=12]\n",
    "over30.info()"
   ]
  },
  {
   "cell_type": "code",
   "execution_count": 987,
   "id": "01535422-469f-407a-984d-44514ac95e67",
   "metadata": {},
   "outputs": [
    {
     "data": {
      "text/plain": [
       "array(['White', 'Black', 'NatHaw/OtherPacIsl', 'AmIndian/AlaskaNative',\n",
       "       'Asian'], dtype=object)"
      ]
     },
     "execution_count": 987,
     "metadata": {},
     "output_type": "execute_result"
    }
   ],
   "source": [
    "over30.race.unique()"
   ]
  },
  {
   "cell_type": "code",
   "execution_count": 988,
   "id": "64b88dfa-265b-4d66-91f2-0bea8c0bb636",
   "metadata": {},
   "outputs": [],
   "source": [
    "over30_white = over30[over30['race']=='White']"
   ]
  },
  {
   "cell_type": "code",
   "execution_count": 989,
   "id": "3b44deba-ab69-4e66-a975-da9cc0909dcd",
   "metadata": {},
   "outputs": [],
   "source": [
    "over30_black = over30[over30['race']=='Black']"
   ]
  },
  {
   "cell_type": "code",
   "execution_count": 990,
   "id": "aa38d84b-57b4-4d4b-adb0-69a253f6e375",
   "metadata": {},
   "outputs": [],
   "source": [
    "under30 = ten_fiftyfive[ten_fiftyfive['ager27']<=11]"
   ]
  },
  {
   "cell_type": "code",
   "execution_count": 991,
   "id": "dd9b0441-7d3c-4da7-bf41-dbebda25283f",
   "metadata": {},
   "outputs": [],
   "source": [
    "under30_white = under30[under30['race']=='White']"
   ]
  },
  {
   "cell_type": "code",
   "execution_count": 992,
   "id": "fd78875f-0060-411b-8074-8f76ffcdca1e",
   "metadata": {},
   "outputs": [],
   "source": [
    "under30_black = under30[under30['race']=='Black']"
   ]
  },
  {
   "cell_type": "code",
   "execution_count": null,
   "id": "99e7d2b9",
   "metadata": {},
   "outputs": [],
   "source": []
  },
  {
   "cell_type": "code",
   "execution_count": null,
   "id": "faf176dd",
   "metadata": {},
   "outputs": [],
   "source": []
  },
  {
   "cell_type": "code",
   "execution_count": null,
   "id": "d1efe292-fccf-46e8-bc93-692b9316df79",
   "metadata": {},
   "outputs": [],
   "source": []
  }
 ],
 "metadata": {
  "kernelspec": {
   "display_name": "Python 3",
   "language": "python",
   "name": "python3"
  },
  "language_info": {
   "codemirror_mode": {
    "name": "ipython",
    "version": 3
   },
   "file_extension": ".py",
   "mimetype": "text/x-python",
   "name": "python",
   "nbconvert_exporter": "python",
   "pygments_lexer": "ipython3",
   "version": "3.7.7"
  }
 },
 "nbformat": 4,
 "nbformat_minor": 5
}
